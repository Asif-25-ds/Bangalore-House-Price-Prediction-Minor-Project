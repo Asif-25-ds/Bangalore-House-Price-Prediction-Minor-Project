{
 "cells": [
  {
   "cell_type": "code",
   "execution_count": 2,
   "metadata": {},
   "outputs": [],
   "source": [
    "from flask import Flask,render_template,request\n",
    "import pandas as pd\n",
    "import seaborn as sb"
   ]
  },
  {
   "cell_type": "code",
   "execution_count": 13,
   "metadata": {},
   "outputs": [],
   "source": [
    "import pandas as pd\n",
    "df=pd.read_csv(r\"C:\\Users\\hp\\Downloads\\Bangalore  house data.csv\")"
   ]
  },
  {
   "cell_type": "code",
   "execution_count": 63,
   "metadata": {},
   "outputs": [
    {
     "data": {
      "text/html": [
       "<div>\n",
       "<style scoped>\n",
       "    .dataframe tbody tr th:only-of-type {\n",
       "        vertical-align: middle;\n",
       "    }\n",
       "\n",
       "    .dataframe tbody tr th {\n",
       "        vertical-align: top;\n",
       "    }\n",
       "\n",
       "    .dataframe thead th {\n",
       "        text-align: right;\n",
       "    }\n",
       "</style>\n",
       "<table border=\"1\" class=\"dataframe\">\n",
       "  <thead>\n",
       "    <tr style=\"text-align: right;\">\n",
       "      <th></th>\n",
       "      <th>location</th>\n",
       "      <th>size</th>\n",
       "      <th>society</th>\n",
       "      <th>total_sqft</th>\n",
       "      <th>bath</th>\n",
       "      <th>balcony</th>\n",
       "      <th>price</th>\n",
       "    </tr>\n",
       "  </thead>\n",
       "  <tbody>\n",
       "    <tr>\n",
       "      <th>0</th>\n",
       "      <td>Electronic City Phase II</td>\n",
       "      <td>2 BHK</td>\n",
       "      <td>Coomee</td>\n",
       "      <td>1056</td>\n",
       "      <td>2.0</td>\n",
       "      <td>1.0</td>\n",
       "      <td>39.07</td>\n",
       "    </tr>\n",
       "    <tr>\n",
       "      <th>1</th>\n",
       "      <td>Chikka Tirupathi</td>\n",
       "      <td>4 Bedroom</td>\n",
       "      <td>Theanmp</td>\n",
       "      <td>2600</td>\n",
       "      <td>5.0</td>\n",
       "      <td>3.0</td>\n",
       "      <td>120.00</td>\n",
       "    </tr>\n",
       "    <tr>\n",
       "      <th>2</th>\n",
       "      <td>Uttarahalli</td>\n",
       "      <td>3 BHK</td>\n",
       "      <td>NaN</td>\n",
       "      <td>1440</td>\n",
       "      <td>2.0</td>\n",
       "      <td>3.0</td>\n",
       "      <td>62.00</td>\n",
       "    </tr>\n",
       "  </tbody>\n",
       "</table>\n",
       "</div>"
      ],
      "text/plain": [
       "                   location       size  society total_sqft  bath  balcony  \\\n",
       "0  Electronic City Phase II      2 BHK  Coomee        1056   2.0      1.0   \n",
       "1          Chikka Tirupathi  4 Bedroom  Theanmp       2600   5.0      3.0   \n",
       "2               Uttarahalli      3 BHK      NaN       1440   2.0      3.0   \n",
       "\n",
       "    price  \n",
       "0   39.07  \n",
       "1  120.00  \n",
       "2   62.00  "
      ]
     },
     "execution_count": 63,
     "metadata": {},
     "output_type": "execute_result"
    }
   ],
   "source": [
    "df.head(3)"
   ]
  },
  {
   "cell_type": "code",
   "execution_count": 14,
   "metadata": {},
   "outputs": [
    {
     "data": {
      "text/plain": [
       "Index(['area_type', 'availability', 'location', 'size', 'society',\n",
       "       'total_sqft', 'bath', 'balcony', 'price'],\n",
       "      dtype='object')"
      ]
     },
     "execution_count": 14,
     "metadata": {},
     "output_type": "execute_result"
    }
   ],
   "source": [
    "df.columns"
   ]
  },
  {
   "cell_type": "code",
   "execution_count": 15,
   "metadata": {},
   "outputs": [
    {
     "data": {
      "text/plain": [
       "area_type        object\n",
       "availability     object\n",
       "location         object\n",
       "size             object\n",
       "society          object\n",
       "total_sqft       object\n",
       "bath            float64\n",
       "balcony         float64\n",
       "price           float64\n",
       "dtype: object"
      ]
     },
     "execution_count": 15,
     "metadata": {},
     "output_type": "execute_result"
    }
   ],
   "source": [
    "df.dtypes"
   ]
  },
  {
   "cell_type": "code",
   "execution_count": 23,
   "metadata": {},
   "outputs": [],
   "source": [
    "df=df[['location','size','society','total_sqft','bath','balcony','price']]"
   ]
  },
  {
   "cell_type": "code",
   "execution_count": 55,
   "metadata": {},
   "outputs": [],
   "source": [
    "# Location ,size are ordinal\n",
    "# Society is nominal\n",
    "count=0"
   ]
  },
  {
   "cell_type": "code",
   "execution_count": 53,
   "metadata": {},
   "outputs": [
    {
     "data": {
      "text/plain": [
       "location\n",
       "Whitefield                        540\n",
       "Sarjapur  Road                    399\n",
       "Electronic City                   302\n",
       "Kanakpura Road                    273\n",
       "Thanisandra                       234\n",
       "                                 ... \n",
       "Bapuji Layout                       1\n",
       "1st Stage Radha Krishna Layout      1\n",
       "BEML Layout 5th stage               1\n",
       "singapura paradise                  1\n",
       "Abshot Layout                       1\n",
       "Name: count, Length: 1305, dtype: int64"
      ]
     },
     "execution_count": 53,
     "metadata": {},
     "output_type": "execute_result"
    }
   ],
   "source": [
    "df['location'].value_counts()"
   ]
  },
  {
   "cell_type": "code",
   "execution_count": 28,
   "metadata": {},
   "outputs": [
    {
     "data": {
      "text/html": [
       "<div>\n",
       "<style scoped>\n",
       "    .dataframe tbody tr th:only-of-type {\n",
       "        vertical-align: middle;\n",
       "    }\n",
       "\n",
       "    .dataframe tbody tr th {\n",
       "        vertical-align: top;\n",
       "    }\n",
       "\n",
       "    .dataframe thead th {\n",
       "        text-align: right;\n",
       "    }\n",
       "</style>\n",
       "<table border=\"1\" class=\"dataframe\">\n",
       "  <thead>\n",
       "    <tr style=\"text-align: right;\">\n",
       "      <th></th>\n",
       "      <th>location</th>\n",
       "      <th>size</th>\n",
       "      <th>society</th>\n",
       "      <th>total_sqft</th>\n",
       "      <th>bath</th>\n",
       "      <th>balcony</th>\n",
       "      <th>price</th>\n",
       "    </tr>\n",
       "  </thead>\n",
       "  <tbody>\n",
       "    <tr>\n",
       "      <th>0</th>\n",
       "      <td>Electronic City Phase II</td>\n",
       "      <td>2 BHK</td>\n",
       "      <td>Coomee</td>\n",
       "      <td>1056</td>\n",
       "      <td>2.0</td>\n",
       "      <td>1.0</td>\n",
       "      <td>39.07</td>\n",
       "    </tr>\n",
       "    <tr>\n",
       "      <th>1</th>\n",
       "      <td>Chikka Tirupathi</td>\n",
       "      <td>4 Bedroom</td>\n",
       "      <td>Theanmp</td>\n",
       "      <td>2600</td>\n",
       "      <td>5.0</td>\n",
       "      <td>3.0</td>\n",
       "      <td>120.00</td>\n",
       "    </tr>\n",
       "  </tbody>\n",
       "</table>\n",
       "</div>"
      ],
      "text/plain": [
       "                   location       size  society total_sqft  bath  balcony  \\\n",
       "0  Electronic City Phase II      2 BHK  Coomee        1056   2.0      1.0   \n",
       "1          Chikka Tirupathi  4 Bedroom  Theanmp       2600   5.0      3.0   \n",
       "\n",
       "    price  \n",
       "0   39.07  \n",
       "1  120.00  "
      ]
     },
     "execution_count": 28,
     "metadata": {},
     "output_type": "execute_result"
    }
   ],
   "source": [
    "df.head(2)"
   ]
  },
  {
   "cell_type": "code",
   "execution_count": 31,
   "metadata": {},
   "outputs": [
    {
     "data": {
      "text/plain": [
       "location\n",
       "Whitefield                        540\n",
       "Sarjapur  Road                    399\n",
       "Electronic City                   302\n",
       "Kanakpura Road                    273\n",
       "Thanisandra                       234\n",
       "                                 ... \n",
       "Bapuji Layout                       1\n",
       "1st Stage Radha Krishna Layout      1\n",
       "BEML Layout 5th stage               1\n",
       "singapura paradise                  1\n",
       "Abshot Layout                       1\n",
       "Name: count, Length: 1305, dtype: int64"
      ]
     },
     "execution_count": 31,
     "metadata": {},
     "output_type": "execute_result"
    }
   ],
   "source": [
    "df['location'].value_counts()"
   ]
  },
  {
   "cell_type": "code",
   "execution_count": 64,
   "metadata": {},
   "outputs": [],
   "source": [
    "import seaborn as sb\n",
    "import matplotlib.pyplot as plt"
   ]
  },
  {
   "cell_type": "code",
   "execution_count": 77,
   "metadata": {},
   "outputs": [
    {
     "data": {
      "text/plain": [
       "<Axes: xlabel='size', ylabel='price'>"
      ]
     },
     "execution_count": 77,
     "metadata": {},
     "output_type": "execute_result"
    },
    {
     "data": {
      "image/png": "[encoded data removed]",
      "text/plain": [
       "<Figure size 640x480 with 1 Axes>"
      ]
     },
     "metadata": {},
     "output_type": "display_data"
    }
   ],
   "source": [
    "sb.scatterplot(x=df['size'],y=df['price'],c='red')"
   ]
  },
  {
   "cell_type": "code",
   "execution_count": 1,
   "metadata": {},
   "outputs": [],
   "source": [
    "import pandas as pd\n",
    "import numpy as np"
   ]
  },
  {
   "cell_type": "code",
   "execution_count": 2,
   "metadata": {},
   "outputs": [],
   "source": [
    "df=pd.read_csv(r\"C:\\Users\\hp\\Downloads\\Bangalore  house data.csv\")"
   ]
  },
  {
   "cell_type": "code",
   "execution_count": 3,
   "metadata": {},
   "outputs": [
    {
     "data": {
      "text/html": [
       "<div>\n",
       "<style scoped>\n",
       "    .dataframe tbody tr th:only-of-type {\n",
       "        vertical-align: middle;\n",
       "    }\n",
       "\n",
       "    .dataframe tbody tr th {\n",
       "        vertical-align: top;\n",
       "    }\n",
       "\n",
       "    .dataframe thead th {\n",
       "        text-align: right;\n",
       "    }\n",
       "</style>\n",
       "<table border=\"1\" class=\"dataframe\">\n",
       "  <thead>\n",
       "    <tr style=\"text-align: right;\">\n",
       "      <th></th>\n",
       "      <th>area_type</th>\n",
       "      <th>availability</th>\n",
       "      <th>location</th>\n",
       "      <th>size</th>\n",
       "      <th>society</th>\n",
       "      <th>total_sqft</th>\n",
       "      <th>bath</th>\n",
       "      <th>balcony</th>\n",
       "      <th>price</th>\n",
       "    </tr>\n",
       "  </thead>\n",
       "  <tbody>\n",
       "    <tr>\n",
       "      <th>0</th>\n",
       "      <td>Super built-up  Area</td>\n",
       "      <td>19-Dec</td>\n",
       "      <td>Electronic City Phase II</td>\n",
       "      <td>2 BHK</td>\n",
       "      <td>Coomee</td>\n",
       "      <td>1056</td>\n",
       "      <td>2.0</td>\n",
       "      <td>1.0</td>\n",
       "      <td>39.07</td>\n",
       "    </tr>\n",
       "    <tr>\n",
       "      <th>1</th>\n",
       "      <td>Plot  Area</td>\n",
       "      <td>Ready To Move</td>\n",
       "      <td>Chikka Tirupathi</td>\n",
       "      <td>4 Bedroom</td>\n",
       "      <td>Theanmp</td>\n",
       "      <td>2600</td>\n",
       "      <td>5.0</td>\n",
       "      <td>3.0</td>\n",
       "      <td>120.00</td>\n",
       "    </tr>\n",
       "    <tr>\n",
       "      <th>2</th>\n",
       "      <td>Built-up  Area</td>\n",
       "      <td>Ready To Move</td>\n",
       "      <td>Uttarahalli</td>\n",
       "      <td>3 BHK</td>\n",
       "      <td>NaN</td>\n",
       "      <td>1440</td>\n",
       "      <td>2.0</td>\n",
       "      <td>3.0</td>\n",
       "      <td>62.00</td>\n",
       "    </tr>\n",
       "  </tbody>\n",
       "</table>\n",
       "</div>"
      ],
      "text/plain": [
       "              area_type   availability                  location       size  \\\n",
       "0  Super built-up  Area         19-Dec  Electronic City Phase II      2 BHK   \n",
       "1            Plot  Area  Ready To Move          Chikka Tirupathi  4 Bedroom   \n",
       "2        Built-up  Area  Ready To Move               Uttarahalli      3 BHK   \n",
       "\n",
       "   society total_sqft  bath  balcony   price  \n",
       "0  Coomee        1056   2.0      1.0   39.07  \n",
       "1  Theanmp       2600   5.0      3.0  120.00  \n",
       "2      NaN       1440   2.0      3.0   62.00  "
      ]
     },
     "execution_count": 3,
     "metadata": {},
     "output_type": "execute_result"
    }
   ],
   "source": [
    "df.head(3)"
   ]
  },
  {
   "cell_type": "code",
   "execution_count": 4,
   "metadata": {},
   "outputs": [
    {
     "data": {
      "text/plain": [
       "area_type        object\n",
       "availability     object\n",
       "location         object\n",
       "size             object\n",
       "society          object\n",
       "total_sqft       object\n",
       "bath            float64\n",
       "balcony         float64\n",
       "price           float64\n",
       "dtype: object"
      ]
     },
     "execution_count": 4,
     "metadata": {},
     "output_type": "execute_result"
    }
   ],
   "source": [
    "df.dtypes"
   ]
  },
  {
   "cell_type": "code",
   "execution_count": 5,
   "metadata": {},
   "outputs": [
    {
     "data": {
      "text/plain": [
       "Index(['area_type', 'availability', 'location', 'size', 'society',\n",
       "       'total_sqft', 'bath', 'balcony', 'price'],\n",
       "      dtype='object')"
      ]
     },
     "execution_count": 5,
     "metadata": {},
     "output_type": "execute_result"
    }
   ],
   "source": [
    "df.columns"
   ]
  },
  {
   "cell_type": "code",
   "execution_count": 6,
   "metadata": {},
   "outputs": [],
   "source": [
    "df=df.drop(['area_type', 'availability'],axis=1)"
   ]
  },
  {
   "cell_type": "code",
   "execution_count": 7,
   "metadata": {},
   "outputs": [
    {
     "data": {
      "text/html": [
       "<div>\n",
       "<style scoped>\n",
       "    .dataframe tbody tr th:only-of-type {\n",
       "        vertical-align: middle;\n",
       "    }\n",
       "\n",
       "    .dataframe tbody tr th {\n",
       "        vertical-align: top;\n",
       "    }\n",
       "\n",
       "    .dataframe thead th {\n",
       "        text-align: right;\n",
       "    }\n",
       "</style>\n",
       "<table border=\"1\" class=\"dataframe\">\n",
       "  <thead>\n",
       "    <tr style=\"text-align: right;\">\n",
       "      <th></th>\n",
       "      <th>location</th>\n",
       "      <th>size</th>\n",
       "      <th>society</th>\n",
       "      <th>total_sqft</th>\n",
       "      <th>bath</th>\n",
       "      <th>balcony</th>\n",
       "      <th>price</th>\n",
       "    </tr>\n",
       "  </thead>\n",
       "  <tbody>\n",
       "    <tr>\n",
       "      <th>0</th>\n",
       "      <td>Electronic City Phase II</td>\n",
       "      <td>2 BHK</td>\n",
       "      <td>Coomee</td>\n",
       "      <td>1056</td>\n",
       "      <td>2.0</td>\n",
       "      <td>1.0</td>\n",
       "      <td>39.07</td>\n",
       "    </tr>\n",
       "    <tr>\n",
       "      <th>1</th>\n",
       "      <td>Chikka Tirupathi</td>\n",
       "      <td>4 Bedroom</td>\n",
       "      <td>Theanmp</td>\n",
       "      <td>2600</td>\n",
       "      <td>5.0</td>\n",
       "      <td>3.0</td>\n",
       "      <td>120.00</td>\n",
       "    </tr>\n",
       "  </tbody>\n",
       "</table>\n",
       "</div>"
      ],
      "text/plain": [
       "                   location       size  society total_sqft  bath  balcony  \\\n",
       "0  Electronic City Phase II      2 BHK  Coomee        1056   2.0      1.0   \n",
       "1          Chikka Tirupathi  4 Bedroom  Theanmp       2600   5.0      3.0   \n",
       "\n",
       "    price  \n",
       "0   39.07  \n",
       "1  120.00  "
      ]
     },
     "execution_count": 7,
     "metadata": {},
     "output_type": "execute_result"
    }
   ],
   "source": [
    "df.head(2)"
   ]
  },
  {
   "cell_type": "code",
   "execution_count": 8,
   "metadata": {},
   "outputs": [
    {
     "data": {
      "text/plain": [
       "0        1056\n",
       "1        2600\n",
       "2        1440\n",
       "3        1521\n",
       "4        1200\n",
       "         ... \n",
       "13315    3453\n",
       "13316    3600\n",
       "13317    1141\n",
       "13318    4689\n",
       "13319     550\n",
       "Name: total_sqft, Length: 13320, dtype: object"
      ]
     },
     "execution_count": 8,
     "metadata": {},
     "output_type": "execute_result"
    }
   ],
   "source": [
    "df['total_sqft']"
   ]
  },
  {
   "cell_type": "code",
   "execution_count": 9,
   "metadata": {},
   "outputs": [
    {
     "data": {
      "text/plain": [
       "0"
      ]
     },
     "execution_count": 9,
     "metadata": {},
     "output_type": "execute_result"
    }
   ],
   "source": [
    "df['total_sqft'].isna().sum()"
   ]
  },
  {
   "cell_type": "code",
   "execution_count": 10,
   "metadata": {},
   "outputs": [
    {
     "name": "stdout",
     "output_type": "stream",
     "text": [
      "could not convert string to float: '2100 - 2850'\n"
     ]
    }
   ],
   "source": [
    "try:    \n",
    "    df['total_sqft']=df['total_sqft'].astype(float)\n",
    "except Exception as e:\n",
    "    print(e)"
   ]
  },
  {
   "cell_type": "code",
   "execution_count": 11,
   "metadata": {},
   "outputs": [
    {
     "data": {
      "text/plain": [
       "30    2100 - 2850\n",
       "Name: total_sqft, dtype: object"
      ]
     },
     "execution_count": 11,
     "metadata": {},
     "output_type": "execute_result"
    }
   ],
   "source": [
    "df['total_sqft'][df['total_sqft']=='2100 - 2850']"
   ]
  },
  {
   "cell_type": "code",
   "execution_count": 12,
   "metadata": {},
   "outputs": [],
   "source": [
    "df.drop(30,inplace=True)"
   ]
  },
  {
   "cell_type": "code",
   "execution_count": 13,
   "metadata": {},
   "outputs": [
    {
     "name": "stdout",
     "output_type": "stream",
     "text": [
      "could not convert string to float: '3010 - 3410'\n"
     ]
    }
   ],
   "source": [
    "try:    \n",
    "    df['total_sqft']=df['total_sqft'].astype(float)\n",
    "except Exception as e:\n",
    "    print(e)"
   ]
  },
  {
   "cell_type": "code",
   "execution_count": 14,
   "metadata": {},
   "outputs": [
    {
     "name": "stdout",
     "output_type": "stream",
     "text": [
      "could not convert string to float: '3010 - 3410'\n"
     ]
    }
   ],
   "source": [
    "try:    \n",
    "    df['total_sqft']=df['total_sqft'].astype(float)\n",
    "except Exception as e:\n",
    "    print(e)"
   ]
  },
  {
   "cell_type": "code",
   "execution_count": 15,
   "metadata": {},
   "outputs": [
    {
     "data": {
      "text/plain": [
       "56    3010 - 3410\n",
       "Name: total_sqft, dtype: object"
      ]
     },
     "execution_count": 15,
     "metadata": {},
     "output_type": "execute_result"
    }
   ],
   "source": [
    "df['total_sqft'][df['total_sqft']=='3010 - 3410']"
   ]
  },
  {
   "cell_type": "code",
   "execution_count": 16,
   "metadata": {},
   "outputs": [],
   "source": [
    "df.drop(56,inplace=True)"
   ]
  },
  {
   "cell_type": "code",
   "execution_count": 17,
   "metadata": {},
   "outputs": [],
   "source": [
    "def rmtuple(df,x):    \n",
    "    try:    \n",
    "        df[x]=df[x].astype(float)\n",
    "    except Exception as e:\n",
    "        s=e\n",
    "        err=s.__str__()[35:]\n",
    "        index=df[x][df[x]==e].index\n",
    "        df.drop(index,inplace=True)\n",
    "        rmtuple(df,x)\n",
    "    \n"
   ]
  },
  {
   "cell_type": "code",
   "execution_count": 18,
   "metadata": {},
   "outputs": [],
   "source": [
    "#s.__str__()[35:]"
   ]
  },
  {
   "cell_type": "code",
   "execution_count": 19,
   "metadata": {},
   "outputs": [
    {
     "data": {
      "text/plain": [
       "35"
      ]
     },
     "execution_count": 19,
     "metadata": {},
     "output_type": "execute_result"
    }
   ],
   "source": [
    "len('could not convert string to float: ')"
   ]
  },
  {
   "cell_type": "code",
   "execution_count": 20,
   "metadata": {},
   "outputs": [
    {
     "name": "stdout",
     "output_type": "stream",
     "text": [
      "could not convert string to float: '2957 - 3450'\n"
     ]
    }
   ],
   "source": [
    "try:    \n",
    "    df['total_sqft']=df['total_sqft'].astype(float)\n",
    "except Exception as e:\n",
    "    print(e)"
   ]
  },
  {
   "cell_type": "code",
   "execution_count": 21,
   "metadata": {},
   "outputs": [
    {
     "data": {
      "text/plain": [
       "Index([81], dtype='int64')"
      ]
     },
     "execution_count": 21,
     "metadata": {},
     "output_type": "execute_result"
    }
   ],
   "source": [
    "df['total_sqft'][df['total_sqft']=='2957 - 3450'].index\n"
   ]
  },
  {
   "cell_type": "code",
   "execution_count": 22,
   "metadata": {},
   "outputs": [
    {
     "data": {
      "text/plain": [
       "location       object\n",
       "size           object\n",
       "society        object\n",
       "total_sqft     object\n",
       "bath          float64\n",
       "balcony       float64\n",
       "price         float64\n",
       "dtype: object"
      ]
     },
     "execution_count": 22,
     "metadata": {},
     "output_type": "execute_result"
    }
   ],
   "source": [
    "df.dtypes"
   ]
  },
  {
   "cell_type": "code",
   "execution_count": 23,
   "metadata": {},
   "outputs": [],
   "source": [
    "df.to_csv(\"house Pred test.csv\")"
   ]
  },
  {
   "cell_type": "code",
   "execution_count": 24,
   "metadata": {},
   "outputs": [
    {
     "data": {
      "text/plain": [
       "'232342            - 4324'"
      ]
     },
     "execution_count": 24,
     "metadata": {},
     "output_type": "execute_result"
    }
   ],
   "source": [
    "\" 232342            - 4324         \".strip()"
   ]
  },
  {
   "cell_type": "code",
   "execution_count": 25,
   "metadata": {},
   "outputs": [
    {
     "data": {
      "text/plain": [
       "'2957'"
      ]
     },
     "execution_count": 25,
     "metadata": {},
     "output_type": "execute_result"
    }
   ],
   "source": [
    "'2957 - 3450'.split()[0]"
   ]
  },
  {
   "cell_type": "code",
   "execution_count": 26,
   "metadata": {},
   "outputs": [],
   "source": [
    "l=list(df['total_sqft'])\n",
    "len(l)\n",
    "for i in l:\n",
    "    s=i.split()\n",
    "    if len(s)>1:\n",
    "        ind=l.index(i)\n",
    "        l[ind]=s[0]"
   ]
  },
  {
   "cell_type": "code",
   "execution_count": 27,
   "metadata": {},
   "outputs": [],
   "source": [
    "df['total_sqft_copy']=pd.Series(l)"
   ]
  },
  {
   "cell_type": "code",
   "execution_count": 28,
   "metadata": {},
   "outputs": [
    {
     "data": {
      "text/plain": [
       "location            object\n",
       "size                object\n",
       "society             object\n",
       "total_sqft          object\n",
       "bath               float64\n",
       "balcony            float64\n",
       "price              float64\n",
       "total_sqft_copy     object\n",
       "dtype: object"
      ]
     },
     "execution_count": 28,
     "metadata": {},
     "output_type": "execute_result"
    }
   ],
   "source": [
    "df.dtypes"
   ]
  },
  {
   "cell_type": "code",
   "execution_count": 29,
   "metadata": {},
   "outputs": [
    {
     "ename": "ValueError",
     "evalue": "could not convert string to float: '34.46Sq.'",
     "output_type": "error",
     "traceback": [
      "\u001b[1;31m---------------------------------------------------------------------------\u001b[0m",
      "\u001b[1;31mValueError\u001b[0m                                Traceback (most recent call last)",
      "Cell \u001b[1;32mIn[29], line 1\u001b[0m\n\u001b[1;32m----> 1\u001b[0m df[\u001b[38;5;124m'\u001b[39m\u001b[38;5;124mtotal_sqft_copy\u001b[39m\u001b[38;5;124m'\u001b[39m]\u001b[38;5;241m=\u001b[39m\u001b[43mdf\u001b[49m\u001b[43m[\u001b[49m\u001b[38;5;124;43m'\u001b[39;49m\u001b[38;5;124;43mtotal_sqft_copy\u001b[39;49m\u001b[38;5;124;43m'\u001b[39;49m\u001b[43m]\u001b[49m\u001b[38;5;241;43m.\u001b[39;49m\u001b[43mastype\u001b[49m\u001b[43m(\u001b[49m\u001b[38;5;28;43mfloat\u001b[39;49m\u001b[43m)\u001b[49m\n",
      "File \u001b[1;32m~\\AppData\\Local\\Packages\\PythonSoftwareFoundation.Python.3.11_qbz5n2kfra8p0\\LocalCache\\local-packages\\Python311\\site-packages\\pandas\\core\\generic.py:6640\u001b[0m, in \u001b[0;36mNDFrame.astype\u001b[1;34m(self, dtype, copy, errors)\u001b[0m\n\u001b[0;32m   6634\u001b[0m     results \u001b[38;5;241m=\u001b[39m [\n\u001b[0;32m   6635\u001b[0m         ser\u001b[38;5;241m.\u001b[39mastype(dtype, copy\u001b[38;5;241m=\u001b[39mcopy, errors\u001b[38;5;241m=\u001b[39merrors) \u001b[38;5;28;01mfor\u001b[39;00m _, ser \u001b[38;5;129;01min\u001b[39;00m \u001b[38;5;28mself\u001b[39m\u001b[38;5;241m.\u001b[39mitems()\n\u001b[0;32m   6636\u001b[0m     ]\n\u001b[0;32m   6638\u001b[0m \u001b[38;5;28;01melse\u001b[39;00m:\n\u001b[0;32m   6639\u001b[0m     \u001b[38;5;66;03m# else, only a single dtype is given\u001b[39;00m\n\u001b[1;32m-> 6640\u001b[0m     new_data \u001b[38;5;241m=\u001b[39m \u001b[38;5;28;43mself\u001b[39;49m\u001b[38;5;241;43m.\u001b[39;49m\u001b[43m_mgr\u001b[49m\u001b[38;5;241;43m.\u001b[39;49m\u001b[43mastype\u001b[49m\u001b[43m(\u001b[49m\u001b[43mdtype\u001b[49m\u001b[38;5;241;43m=\u001b[39;49m\u001b[43mdtype\u001b[49m\u001b[43m,\u001b[49m\u001b[43m \u001b[49m\u001b[43mcopy\u001b[49m\u001b[38;5;241;43m=\u001b[39;49m\u001b[43mcopy\u001b[49m\u001b[43m,\u001b[49m\u001b[43m \u001b[49m\u001b[43merrors\u001b[49m\u001b[38;5;241;43m=\u001b[39;49m\u001b[43merrors\u001b[49m\u001b[43m)\u001b[49m\n\u001b[0;32m   6641\u001b[0m     res \u001b[38;5;241m=\u001b[39m \u001b[38;5;28mself\u001b[39m\u001b[38;5;241m.\u001b[39m_constructor_from_mgr(new_data, axes\u001b[38;5;241m=\u001b[39mnew_data\u001b[38;5;241m.\u001b[39maxes)\n\u001b[0;32m   6642\u001b[0m     \u001b[38;5;28;01mreturn\u001b[39;00m res\u001b[38;5;241m.\u001b[39m__finalize__(\u001b[38;5;28mself\u001b[39m, method\u001b[38;5;241m=\u001b[39m\u001b[38;5;124m\"\u001b[39m\u001b[38;5;124mastype\u001b[39m\u001b[38;5;124m\"\u001b[39m)\n",
      "File \u001b[1;32m~\\AppData\\Local\\Packages\\PythonSoftwareFoundation.Python.3.11_qbz5n2kfra8p0\\LocalCache\\local-packages\\Python311\\site-packages\\pandas\\core\\internals\\managers.py:430\u001b[0m, in \u001b[0;36mBaseBlockManager.astype\u001b[1;34m(self, dtype, copy, errors)\u001b[0m\n\u001b[0;32m    427\u001b[0m \u001b[38;5;28;01melif\u001b[39;00m using_copy_on_write():\n\u001b[0;32m    428\u001b[0m     copy \u001b[38;5;241m=\u001b[39m \u001b[38;5;28;01mFalse\u001b[39;00m\n\u001b[1;32m--> 430\u001b[0m \u001b[38;5;28;01mreturn\u001b[39;00m \u001b[38;5;28;43mself\u001b[39;49m\u001b[38;5;241;43m.\u001b[39;49m\u001b[43mapply\u001b[49m\u001b[43m(\u001b[49m\n\u001b[0;32m    431\u001b[0m \u001b[43m    \u001b[49m\u001b[38;5;124;43m\"\u001b[39;49m\u001b[38;5;124;43mastype\u001b[39;49m\u001b[38;5;124;43m\"\u001b[39;49m\u001b[43m,\u001b[49m\n\u001b[0;32m    432\u001b[0m \u001b[43m    \u001b[49m\u001b[43mdtype\u001b[49m\u001b[38;5;241;43m=\u001b[39;49m\u001b[43mdtype\u001b[49m\u001b[43m,\u001b[49m\n\u001b[0;32m    433\u001b[0m \u001b[43m    \u001b[49m\u001b[43mcopy\u001b[49m\u001b[38;5;241;43m=\u001b[39;49m\u001b[43mcopy\u001b[49m\u001b[43m,\u001b[49m\n\u001b[0;32m    434\u001b[0m \u001b[43m    \u001b[49m\u001b[43merrors\u001b[49m\u001b[38;5;241;43m=\u001b[39;49m\u001b[43merrors\u001b[49m\u001b[43m,\u001b[49m\n\u001b[0;32m    435\u001b[0m \u001b[43m    \u001b[49m\u001b[43musing_cow\u001b[49m\u001b[38;5;241;43m=\u001b[39;49m\u001b[43musing_copy_on_write\u001b[49m\u001b[43m(\u001b[49m\u001b[43m)\u001b[49m\u001b[43m,\u001b[49m\n\u001b[0;32m    436\u001b[0m \u001b[43m\u001b[49m\u001b[43m)\u001b[49m\n",
      "File \u001b[1;32m~\\AppData\\Local\\Packages\\PythonSoftwareFoundation.Python.3.11_qbz5n2kfra8p0\\LocalCache\\local-packages\\Python311\\site-packages\\pandas\\core\\internals\\managers.py:363\u001b[0m, in \u001b[0;36mBaseBlockManager.apply\u001b[1;34m(self, f, align_keys, **kwargs)\u001b[0m\n\u001b[0;32m    361\u001b[0m         applied \u001b[38;5;241m=\u001b[39m b\u001b[38;5;241m.\u001b[39mapply(f, \u001b[38;5;241m*\u001b[39m\u001b[38;5;241m*\u001b[39mkwargs)\n\u001b[0;32m    362\u001b[0m     \u001b[38;5;28;01melse\u001b[39;00m:\n\u001b[1;32m--> 363\u001b[0m         applied \u001b[38;5;241m=\u001b[39m \u001b[38;5;28;43mgetattr\u001b[39;49m\u001b[43m(\u001b[49m\u001b[43mb\u001b[49m\u001b[43m,\u001b[49m\u001b[43m \u001b[49m\u001b[43mf\u001b[49m\u001b[43m)\u001b[49m\u001b[43m(\u001b[49m\u001b[38;5;241;43m*\u001b[39;49m\u001b[38;5;241;43m*\u001b[39;49m\u001b[43mkwargs\u001b[49m\u001b[43m)\u001b[49m\n\u001b[0;32m    364\u001b[0m     result_blocks \u001b[38;5;241m=\u001b[39m extend_blocks(applied, result_blocks)\n\u001b[0;32m    366\u001b[0m out \u001b[38;5;241m=\u001b[39m \u001b[38;5;28mtype\u001b[39m(\u001b[38;5;28mself\u001b[39m)\u001b[38;5;241m.\u001b[39mfrom_blocks(result_blocks, \u001b[38;5;28mself\u001b[39m\u001b[38;5;241m.\u001b[39maxes)\n",
      "File \u001b[1;32m~\\AppData\\Local\\Packages\\PythonSoftwareFoundation.Python.3.11_qbz5n2kfra8p0\\LocalCache\\local-packages\\Python311\\site-packages\\pandas\\core\\internals\\blocks.py:758\u001b[0m, in \u001b[0;36mBlock.astype\u001b[1;34m(self, dtype, copy, errors, using_cow, squeeze)\u001b[0m\n\u001b[0;32m    755\u001b[0m         \u001b[38;5;28;01mraise\u001b[39;00m \u001b[38;5;167;01mValueError\u001b[39;00m(\u001b[38;5;124m\"\u001b[39m\u001b[38;5;124mCan not squeeze with more than one column.\u001b[39m\u001b[38;5;124m\"\u001b[39m)\n\u001b[0;32m    756\u001b[0m     values \u001b[38;5;241m=\u001b[39m values[\u001b[38;5;241m0\u001b[39m, :]  \u001b[38;5;66;03m# type: ignore[call-overload]\u001b[39;00m\n\u001b[1;32m--> 758\u001b[0m new_values \u001b[38;5;241m=\u001b[39m \u001b[43mastype_array_safe\u001b[49m\u001b[43m(\u001b[49m\u001b[43mvalues\u001b[49m\u001b[43m,\u001b[49m\u001b[43m \u001b[49m\u001b[43mdtype\u001b[49m\u001b[43m,\u001b[49m\u001b[43m \u001b[49m\u001b[43mcopy\u001b[49m\u001b[38;5;241;43m=\u001b[39;49m\u001b[43mcopy\u001b[49m\u001b[43m,\u001b[49m\u001b[43m \u001b[49m\u001b[43merrors\u001b[49m\u001b[38;5;241;43m=\u001b[39;49m\u001b[43merrors\u001b[49m\u001b[43m)\u001b[49m\n\u001b[0;32m    760\u001b[0m new_values \u001b[38;5;241m=\u001b[39m maybe_coerce_values(new_values)\n\u001b[0;32m    762\u001b[0m refs \u001b[38;5;241m=\u001b[39m \u001b[38;5;28;01mNone\u001b[39;00m\n",
      "File \u001b[1;32m~\\AppData\\Local\\Packages\\PythonSoftwareFoundation.Python.3.11_qbz5n2kfra8p0\\LocalCache\\local-packages\\Python311\\site-packages\\pandas\\core\\dtypes\\astype.py:237\u001b[0m, in \u001b[0;36mastype_array_safe\u001b[1;34m(values, dtype, copy, errors)\u001b[0m\n\u001b[0;32m    234\u001b[0m     dtype \u001b[38;5;241m=\u001b[39m dtype\u001b[38;5;241m.\u001b[39mnumpy_dtype\n\u001b[0;32m    236\u001b[0m \u001b[38;5;28;01mtry\u001b[39;00m:\n\u001b[1;32m--> 237\u001b[0m     new_values \u001b[38;5;241m=\u001b[39m \u001b[43mastype_array\u001b[49m\u001b[43m(\u001b[49m\u001b[43mvalues\u001b[49m\u001b[43m,\u001b[49m\u001b[43m \u001b[49m\u001b[43mdtype\u001b[49m\u001b[43m,\u001b[49m\u001b[43m \u001b[49m\u001b[43mcopy\u001b[49m\u001b[38;5;241;43m=\u001b[39;49m\u001b[43mcopy\u001b[49m\u001b[43m)\u001b[49m\n\u001b[0;32m    238\u001b[0m \u001b[38;5;28;01mexcept\u001b[39;00m (\u001b[38;5;167;01mValueError\u001b[39;00m, \u001b[38;5;167;01mTypeError\u001b[39;00m):\n\u001b[0;32m    239\u001b[0m     \u001b[38;5;66;03m# e.g. _astype_nansafe can fail on object-dtype of strings\u001b[39;00m\n\u001b[0;32m    240\u001b[0m     \u001b[38;5;66;03m#  trying to convert to float\u001b[39;00m\n\u001b[0;32m    241\u001b[0m     \u001b[38;5;28;01mif\u001b[39;00m errors \u001b[38;5;241m==\u001b[39m \u001b[38;5;124m\"\u001b[39m\u001b[38;5;124mignore\u001b[39m\u001b[38;5;124m\"\u001b[39m:\n",
      "File \u001b[1;32m~\\AppData\\Local\\Packages\\PythonSoftwareFoundation.Python.3.11_qbz5n2kfra8p0\\LocalCache\\local-packages\\Python311\\site-packages\\pandas\\core\\dtypes\\astype.py:182\u001b[0m, in \u001b[0;36mastype_array\u001b[1;34m(values, dtype, copy)\u001b[0m\n\u001b[0;32m    179\u001b[0m     values \u001b[38;5;241m=\u001b[39m values\u001b[38;5;241m.\u001b[39mastype(dtype, copy\u001b[38;5;241m=\u001b[39mcopy)\n\u001b[0;32m    181\u001b[0m \u001b[38;5;28;01melse\u001b[39;00m:\n\u001b[1;32m--> 182\u001b[0m     values \u001b[38;5;241m=\u001b[39m \u001b[43m_astype_nansafe\u001b[49m\u001b[43m(\u001b[49m\u001b[43mvalues\u001b[49m\u001b[43m,\u001b[49m\u001b[43m \u001b[49m\u001b[43mdtype\u001b[49m\u001b[43m,\u001b[49m\u001b[43m \u001b[49m\u001b[43mcopy\u001b[49m\u001b[38;5;241;43m=\u001b[39;49m\u001b[43mcopy\u001b[49m\u001b[43m)\u001b[49m\n\u001b[0;32m    184\u001b[0m \u001b[38;5;66;03m# in pandas we don't store numpy str dtypes, so convert to object\u001b[39;00m\n\u001b[0;32m    185\u001b[0m \u001b[38;5;28;01mif\u001b[39;00m \u001b[38;5;28misinstance\u001b[39m(dtype, np\u001b[38;5;241m.\u001b[39mdtype) \u001b[38;5;129;01mand\u001b[39;00m \u001b[38;5;28missubclass\u001b[39m(values\u001b[38;5;241m.\u001b[39mdtype\u001b[38;5;241m.\u001b[39mtype, \u001b[38;5;28mstr\u001b[39m):\n",
      "File \u001b[1;32m~\\AppData\\Local\\Packages\\PythonSoftwareFoundation.Python.3.11_qbz5n2kfra8p0\\LocalCache\\local-packages\\Python311\\site-packages\\pandas\\core\\dtypes\\astype.py:133\u001b[0m, in \u001b[0;36m_astype_nansafe\u001b[1;34m(arr, dtype, copy, skipna)\u001b[0m\n\u001b[0;32m    129\u001b[0m     \u001b[38;5;28;01mraise\u001b[39;00m \u001b[38;5;167;01mValueError\u001b[39;00m(msg)\n\u001b[0;32m    131\u001b[0m \u001b[38;5;28;01mif\u001b[39;00m copy \u001b[38;5;129;01mor\u001b[39;00m arr\u001b[38;5;241m.\u001b[39mdtype \u001b[38;5;241m==\u001b[39m \u001b[38;5;28mobject\u001b[39m \u001b[38;5;129;01mor\u001b[39;00m dtype \u001b[38;5;241m==\u001b[39m \u001b[38;5;28mobject\u001b[39m:\n\u001b[0;32m    132\u001b[0m     \u001b[38;5;66;03m# Explicit copy, or required since NumPy can't view from / to object.\u001b[39;00m\n\u001b[1;32m--> 133\u001b[0m     \u001b[38;5;28;01mreturn\u001b[39;00m \u001b[43marr\u001b[49m\u001b[38;5;241;43m.\u001b[39;49m\u001b[43mastype\u001b[49m\u001b[43m(\u001b[49m\u001b[43mdtype\u001b[49m\u001b[43m,\u001b[49m\u001b[43m \u001b[49m\u001b[43mcopy\u001b[49m\u001b[38;5;241;43m=\u001b[39;49m\u001b[38;5;28;43;01mTrue\u001b[39;49;00m\u001b[43m)\u001b[49m\n\u001b[0;32m    135\u001b[0m \u001b[38;5;28;01mreturn\u001b[39;00m arr\u001b[38;5;241m.\u001b[39mastype(dtype, copy\u001b[38;5;241m=\u001b[39mcopy)\n",
      "\u001b[1;31mValueError\u001b[0m: could not convert string to float: '34.46Sq.'"
     ]
    }
   ],
   "source": [
    "df['total_sqft_copy']=df['total_sqft_copy'].astype(float)"
   ]
  },
  {
   "cell_type": "code",
   "execution_count": 30,
   "metadata": {},
   "outputs": [
    {
     "data": {
      "text/html": [
       "<div>\n",
       "<style scoped>\n",
       "    .dataframe tbody tr th:only-of-type {\n",
       "        vertical-align: middle;\n",
       "    }\n",
       "\n",
       "    .dataframe tbody tr th {\n",
       "        vertical-align: top;\n",
       "    }\n",
       "\n",
       "    .dataframe thead th {\n",
       "        text-align: right;\n",
       "    }\n",
       "</style>\n",
       "<table border=\"1\" class=\"dataframe\">\n",
       "  <thead>\n",
       "    <tr style=\"text-align: right;\">\n",
       "      <th></th>\n",
       "      <th>location</th>\n",
       "      <th>size</th>\n",
       "      <th>society</th>\n",
       "      <th>total_sqft</th>\n",
       "      <th>bath</th>\n",
       "      <th>balcony</th>\n",
       "      <th>price</th>\n",
       "      <th>total_sqft_copy</th>\n",
       "    </tr>\n",
       "  </thead>\n",
       "  <tbody>\n",
       "    <tr>\n",
       "      <th>408</th>\n",
       "      <td>Rajaji Nagar</td>\n",
       "      <td>7 BHK</td>\n",
       "      <td>NaN</td>\n",
       "      <td>12000</td>\n",
       "      <td>6.0</td>\n",
       "      <td>3.0</td>\n",
       "      <td>2200.0</td>\n",
       "      <td>34.46Sq.</td>\n",
       "    </tr>\n",
       "  </tbody>\n",
       "</table>\n",
       "</div>"
      ],
      "text/plain": [
       "         location   size society total_sqft  bath  balcony   price  \\\n",
       "408  Rajaji Nagar  7 BHK     NaN      12000   6.0      3.0  2200.0   \n",
       "\n",
       "    total_sqft_copy  \n",
       "408        34.46Sq.  "
      ]
     },
     "execution_count": 30,
     "metadata": {},
     "output_type": "execute_result"
    }
   ],
   "source": [
    "df[df['total_sqft_copy']=='34.46Sq.']"
   ]
  },
  {
   "cell_type": "code",
   "execution_count": 31,
   "metadata": {},
   "outputs": [],
   "source": [
    "df.drop(408,inplace=True)"
   ]
  },
  {
   "cell_type": "code",
   "execution_count": 32,
   "metadata": {},
   "outputs": [],
   "source": [
    "ind=df[df['total_sqft_copy']=='716Sq.'].index\n",
    "df.drop(ind,inplace=True)"
   ]
  },
  {
   "cell_type": "code",
   "execution_count": 33,
   "metadata": {},
   "outputs": [
    {
     "data": {
      "text/html": [
       "<div>\n",
       "<style scoped>\n",
       "    .dataframe tbody tr th:only-of-type {\n",
       "        vertical-align: middle;\n",
       "    }\n",
       "\n",
       "    .dataframe tbody tr th {\n",
       "        vertical-align: top;\n",
       "    }\n",
       "\n",
       "    .dataframe thead th {\n",
       "        text-align: right;\n",
       "    }\n",
       "</style>\n",
       "<table border=\"1\" class=\"dataframe\">\n",
       "  <thead>\n",
       "    <tr style=\"text-align: right;\">\n",
       "      <th></th>\n",
       "      <th>location</th>\n",
       "      <th>size</th>\n",
       "      <th>society</th>\n",
       "      <th>total_sqft</th>\n",
       "      <th>bath</th>\n",
       "      <th>balcony</th>\n",
       "      <th>price</th>\n",
       "      <th>total_sqft_copy</th>\n",
       "    </tr>\n",
       "  </thead>\n",
       "  <tbody>\n",
       "    <tr>\n",
       "      <th>0</th>\n",
       "      <td>Electronic City Phase II</td>\n",
       "      <td>2 BHK</td>\n",
       "      <td>Coomee</td>\n",
       "      <td>1056</td>\n",
       "      <td>2.0</td>\n",
       "      <td>1.0</td>\n",
       "      <td>39.07</td>\n",
       "      <td>1056</td>\n",
       "    </tr>\n",
       "    <tr>\n",
       "      <th>1</th>\n",
       "      <td>Chikka Tirupathi</td>\n",
       "      <td>4 Bedroom</td>\n",
       "      <td>Theanmp</td>\n",
       "      <td>2600</td>\n",
       "      <td>5.0</td>\n",
       "      <td>3.0</td>\n",
       "      <td>120.00</td>\n",
       "      <td>2600</td>\n",
       "    </tr>\n",
       "    <tr>\n",
       "      <th>2</th>\n",
       "      <td>Uttarahalli</td>\n",
       "      <td>3 BHK</td>\n",
       "      <td>NaN</td>\n",
       "      <td>1440</td>\n",
       "      <td>2.0</td>\n",
       "      <td>3.0</td>\n",
       "      <td>62.00</td>\n",
       "      <td>1440</td>\n",
       "    </tr>\n",
       "    <tr>\n",
       "      <th>3</th>\n",
       "      <td>Lingadheeranahalli</td>\n",
       "      <td>3 BHK</td>\n",
       "      <td>Soiewre</td>\n",
       "      <td>1521</td>\n",
       "      <td>3.0</td>\n",
       "      <td>1.0</td>\n",
       "      <td>95.00</td>\n",
       "      <td>1521</td>\n",
       "    </tr>\n",
       "    <tr>\n",
       "      <th>4</th>\n",
       "      <td>Kothanur</td>\n",
       "      <td>2 BHK</td>\n",
       "      <td>NaN</td>\n",
       "      <td>1200</td>\n",
       "      <td>2.0</td>\n",
       "      <td>1.0</td>\n",
       "      <td>51.00</td>\n",
       "      <td>1200</td>\n",
       "    </tr>\n",
       "    <tr>\n",
       "      <th>5</th>\n",
       "      <td>Whitefield</td>\n",
       "      <td>2 BHK</td>\n",
       "      <td>DuenaTa</td>\n",
       "      <td>1170</td>\n",
       "      <td>2.0</td>\n",
       "      <td>1.0</td>\n",
       "      <td>38.00</td>\n",
       "      <td>1170</td>\n",
       "    </tr>\n",
       "    <tr>\n",
       "      <th>6</th>\n",
       "      <td>Old Airport Road</td>\n",
       "      <td>4 BHK</td>\n",
       "      <td>Jaades</td>\n",
       "      <td>2732</td>\n",
       "      <td>4.0</td>\n",
       "      <td>NaN</td>\n",
       "      <td>204.00</td>\n",
       "      <td>2732</td>\n",
       "    </tr>\n",
       "    <tr>\n",
       "      <th>7</th>\n",
       "      <td>Rajaji Nagar</td>\n",
       "      <td>4 BHK</td>\n",
       "      <td>Brway G</td>\n",
       "      <td>3300</td>\n",
       "      <td>4.0</td>\n",
       "      <td>NaN</td>\n",
       "      <td>600.00</td>\n",
       "      <td>3300</td>\n",
       "    </tr>\n",
       "    <tr>\n",
       "      <th>8</th>\n",
       "      <td>Marathahalli</td>\n",
       "      <td>3 BHK</td>\n",
       "      <td>NaN</td>\n",
       "      <td>1310</td>\n",
       "      <td>3.0</td>\n",
       "      <td>1.0</td>\n",
       "      <td>63.25</td>\n",
       "      <td>1310</td>\n",
       "    </tr>\n",
       "    <tr>\n",
       "      <th>9</th>\n",
       "      <td>Gandhi Bazar</td>\n",
       "      <td>6 Bedroom</td>\n",
       "      <td>NaN</td>\n",
       "      <td>1020</td>\n",
       "      <td>6.0</td>\n",
       "      <td>NaN</td>\n",
       "      <td>370.00</td>\n",
       "      <td>1020</td>\n",
       "    </tr>\n",
       "  </tbody>\n",
       "</table>\n",
       "</div>"
      ],
      "text/plain": [
       "                   location       size  society total_sqft  bath  balcony  \\\n",
       "0  Electronic City Phase II      2 BHK  Coomee        1056   2.0      1.0   \n",
       "1          Chikka Tirupathi  4 Bedroom  Theanmp       2600   5.0      3.0   \n",
       "2               Uttarahalli      3 BHK      NaN       1440   2.0      3.0   \n",
       "3        Lingadheeranahalli      3 BHK  Soiewre       1521   3.0      1.0   \n",
       "4                  Kothanur      2 BHK      NaN       1200   2.0      1.0   \n",
       "5                Whitefield      2 BHK  DuenaTa       1170   2.0      1.0   \n",
       "6          Old Airport Road      4 BHK  Jaades        2732   4.0      NaN   \n",
       "7              Rajaji Nagar      4 BHK  Brway G       3300   4.0      NaN   \n",
       "8              Marathahalli      3 BHK      NaN       1310   3.0      1.0   \n",
       "9              Gandhi Bazar  6 Bedroom      NaN       1020   6.0      NaN   \n",
       "\n",
       "    price total_sqft_copy  \n",
       "0   39.07            1056  \n",
       "1  120.00            2600  \n",
       "2   62.00            1440  \n",
       "3   95.00            1521  \n",
       "4   51.00            1200  \n",
       "5   38.00            1170  \n",
       "6  204.00            2732  \n",
       "7  600.00            3300  \n",
       "8   63.25            1310  \n",
       "9  370.00            1020  "
      ]
     },
     "execution_count": 33,
     "metadata": {},
     "output_type": "execute_result"
    }
   ],
   "source": [
    "df.head(10)"
   ]
  },
  {
   "cell_type": "code",
   "execution_count": 34,
   "metadata": {},
   "outputs": [
    {
     "data": {
      "text/plain": [
       "['5.31', 'cres']"
      ]
     },
     "execution_count": 34,
     "metadata": {},
     "output_type": "execute_result"
    }
   ],
   "source": [
    "'5.31Acres'.split('A')"
   ]
  },
  {
   "cell_type": "code",
   "execution_count": 35,
   "metadata": {},
   "outputs": [
    {
     "data": {
      "text/html": [
       "<div>\n",
       "<style scoped>\n",
       "    .dataframe tbody tr th:only-of-type {\n",
       "        vertical-align: middle;\n",
       "    }\n",
       "\n",
       "    .dataframe tbody tr th {\n",
       "        vertical-align: top;\n",
       "    }\n",
       "\n",
       "    .dataframe thead th {\n",
       "        text-align: right;\n",
       "    }\n",
       "</style>\n",
       "<table border=\"1\" class=\"dataframe\">\n",
       "  <thead>\n",
       "    <tr style=\"text-align: right;\">\n",
       "      <th></th>\n",
       "      <th>location</th>\n",
       "      <th>size</th>\n",
       "      <th>society</th>\n",
       "      <th>total_sqft</th>\n",
       "      <th>bath</th>\n",
       "      <th>balcony</th>\n",
       "      <th>price</th>\n",
       "      <th>total_sqft_copy</th>\n",
       "    </tr>\n",
       "  </thead>\n",
       "  <tbody>\n",
       "    <tr>\n",
       "      <th>1003</th>\n",
       "      <td>Harlur</td>\n",
       "      <td>2 BHK</td>\n",
       "      <td>NaN</td>\n",
       "      <td>1033</td>\n",
       "      <td>2.0</td>\n",
       "      <td>2.0</td>\n",
       "      <td>49.00</td>\n",
       "      <td>1611</td>\n",
       "    </tr>\n",
       "    <tr>\n",
       "      <th>1004</th>\n",
       "      <td>ITPL</td>\n",
       "      <td>3 BHK</td>\n",
       "      <td>NaN</td>\n",
       "      <td>1548</td>\n",
       "      <td>3.0</td>\n",
       "      <td>2.0</td>\n",
       "      <td>89.50</td>\n",
       "      <td>1400</td>\n",
       "    </tr>\n",
       "    <tr>\n",
       "      <th>1005</th>\n",
       "      <td>Horamavu Banaswadi</td>\n",
       "      <td>3 BHK</td>\n",
       "      <td>NaN</td>\n",
       "      <td>1611</td>\n",
       "      <td>3.0</td>\n",
       "      <td>3.0</td>\n",
       "      <td>66.00</td>\n",
       "      <td>1485</td>\n",
       "    </tr>\n",
       "    <tr>\n",
       "      <th>1006</th>\n",
       "      <td>Electronic City Phase II</td>\n",
       "      <td>3 BHK</td>\n",
       "      <td>Sryalan</td>\n",
       "      <td>1400</td>\n",
       "      <td>2.0</td>\n",
       "      <td>1.0</td>\n",
       "      <td>40.43</td>\n",
       "      <td>2400</td>\n",
       "    </tr>\n",
       "    <tr>\n",
       "      <th>1007</th>\n",
       "      <td>Vidyaranyapura</td>\n",
       "      <td>3 BHK</td>\n",
       "      <td>Graceik</td>\n",
       "      <td>1485</td>\n",
       "      <td>2.0</td>\n",
       "      <td>2.0</td>\n",
       "      <td>67.00</td>\n",
       "      <td>1025</td>\n",
       "    </tr>\n",
       "    <tr>\n",
       "      <th>1008</th>\n",
       "      <td>Margondanahalli</td>\n",
       "      <td>2 Bedroom</td>\n",
       "      <td>NaN</td>\n",
       "      <td>2400</td>\n",
       "      <td>2.0</td>\n",
       "      <td>1.0</td>\n",
       "      <td>82.00</td>\n",
       "      <td>600</td>\n",
       "    </tr>\n",
       "    <tr>\n",
       "      <th>1009</th>\n",
       "      <td>Pattandur Agrahara</td>\n",
       "      <td>2 BHK</td>\n",
       "      <td>Shvarji</td>\n",
       "      <td>1025</td>\n",
       "      <td>2.0</td>\n",
       "      <td>1.0</td>\n",
       "      <td>44.50</td>\n",
       "      <td>1225</td>\n",
       "    </tr>\n",
       "    <tr>\n",
       "      <th>1010</th>\n",
       "      <td>Thurahalli</td>\n",
       "      <td>4 Bedroom</td>\n",
       "      <td>NaN</td>\n",
       "      <td>600</td>\n",
       "      <td>3.0</td>\n",
       "      <td>2.0</td>\n",
       "      <td>65.00</td>\n",
       "      <td>1256</td>\n",
       "    </tr>\n",
       "    <tr>\n",
       "      <th>1011</th>\n",
       "      <td>Hallehalli</td>\n",
       "      <td>2 BHK</td>\n",
       "      <td>NaN</td>\n",
       "      <td>1225</td>\n",
       "      <td>2.0</td>\n",
       "      <td>NaN</td>\n",
       "      <td>53.00</td>\n",
       "      <td>2268</td>\n",
       "    </tr>\n",
       "    <tr>\n",
       "      <th>1012</th>\n",
       "      <td>5th Phase JP Nagar</td>\n",
       "      <td>2 BHK</td>\n",
       "      <td>NaN</td>\n",
       "      <td>1256</td>\n",
       "      <td>2.0</td>\n",
       "      <td>1.0</td>\n",
       "      <td>62.80</td>\n",
       "      <td>1100</td>\n",
       "    </tr>\n",
       "  </tbody>\n",
       "</table>\n",
       "</div>"
      ],
      "text/plain": [
       "                      location       size  society total_sqft  bath  balcony  \\\n",
       "1003                    Harlur      2 BHK      NaN       1033   2.0      2.0   \n",
       "1004                      ITPL      3 BHK      NaN       1548   3.0      2.0   \n",
       "1005        Horamavu Banaswadi      3 BHK      NaN       1611   3.0      3.0   \n",
       "1006  Electronic City Phase II      3 BHK  Sryalan       1400   2.0      1.0   \n",
       "1007            Vidyaranyapura      3 BHK  Graceik       1485   2.0      2.0   \n",
       "1008           Margondanahalli  2 Bedroom      NaN       2400   2.0      1.0   \n",
       "1009        Pattandur Agrahara      2 BHK  Shvarji       1025   2.0      1.0   \n",
       "1010                Thurahalli  4 Bedroom      NaN        600   3.0      2.0   \n",
       "1011                Hallehalli      2 BHK      NaN       1225   2.0      NaN   \n",
       "1012        5th Phase JP Nagar      2 BHK      NaN       1256   2.0      1.0   \n",
       "\n",
       "      price total_sqft_copy  \n",
       "1003  49.00            1611  \n",
       "1004  89.50            1400  \n",
       "1005  66.00            1485  \n",
       "1006  40.43            2400  \n",
       "1007  67.00            1025  \n",
       "1008  82.00             600  \n",
       "1009  44.50            1225  \n",
       "1010  65.00            1256  \n",
       "1011  53.00            2268  \n",
       "1012  62.80            1100  "
      ]
     },
     "execution_count": 35,
     "metadata": {},
     "output_type": "execute_result"
    }
   ],
   "source": [
    "df[1000:1010]"
   ]
  },
  {
   "cell_type": "code",
   "execution_count": 36,
   "metadata": {},
   "outputs": [
    {
     "name": "stdout",
     "output_type": "stream",
     "text": [
      "130\n"
     ]
    }
   ],
   "source": [
    "count=0\n",
    "for i in df['total_sqft_copy']:\n",
    "    if len(str(i))>5:\n",
    "        count=count+1\n",
    "print(count)"
   ]
  },
  {
   "cell_type": "code",
   "execution_count": 41,
   "metadata": {},
   "outputs": [],
   "source": [
    "df.reset_index(inplace=True,drop=True)"
   ]
  },
  {
   "cell_type": "code",
   "execution_count": 42,
   "metadata": {},
   "outputs": [
    {
     "data": {
      "text/html": [
       "<div>\n",
       "<style scoped>\n",
       "    .dataframe tbody tr th:only-of-type {\n",
       "        vertical-align: middle;\n",
       "    }\n",
       "\n",
       "    .dataframe tbody tr th {\n",
       "        vertical-align: top;\n",
       "    }\n",
       "\n",
       "    .dataframe thead th {\n",
       "        text-align: right;\n",
       "    }\n",
       "</style>\n",
       "<table border=\"1\" class=\"dataframe\">\n",
       "  <thead>\n",
       "    <tr style=\"text-align: right;\">\n",
       "      <th></th>\n",
       "      <th>index</th>\n",
       "      <th>location</th>\n",
       "      <th>size</th>\n",
       "      <th>society</th>\n",
       "      <th>total_sqft</th>\n",
       "      <th>bath</th>\n",
       "      <th>balcony</th>\n",
       "      <th>price</th>\n",
       "      <th>total_sqft_copy</th>\n",
       "    </tr>\n",
       "  </thead>\n",
       "  <tbody>\n",
       "    <tr>\n",
       "      <th>0</th>\n",
       "      <td>0</td>\n",
       "      <td>Electronic City Phase II</td>\n",
       "      <td>2 BHK</td>\n",
       "      <td>Coomee</td>\n",
       "      <td>1056</td>\n",
       "      <td>2.0</td>\n",
       "      <td>1.0</td>\n",
       "      <td>39.07</td>\n",
       "      <td>1056</td>\n",
       "    </tr>\n",
       "    <tr>\n",
       "      <th>1</th>\n",
       "      <td>1</td>\n",
       "      <td>Chikka Tirupathi</td>\n",
       "      <td>4 Bedroom</td>\n",
       "      <td>Theanmp</td>\n",
       "      <td>2600</td>\n",
       "      <td>5.0</td>\n",
       "      <td>3.0</td>\n",
       "      <td>120.00</td>\n",
       "      <td>2600</td>\n",
       "    </tr>\n",
       "    <tr>\n",
       "      <th>2</th>\n",
       "      <td>2</td>\n",
       "      <td>Uttarahalli</td>\n",
       "      <td>3 BHK</td>\n",
       "      <td>NaN</td>\n",
       "      <td>1440</td>\n",
       "      <td>2.0</td>\n",
       "      <td>3.0</td>\n",
       "      <td>62.00</td>\n",
       "      <td>1440</td>\n",
       "    </tr>\n",
       "    <tr>\n",
       "      <th>3</th>\n",
       "      <td>3</td>\n",
       "      <td>Lingadheeranahalli</td>\n",
       "      <td>3 BHK</td>\n",
       "      <td>Soiewre</td>\n",
       "      <td>1521</td>\n",
       "      <td>3.0</td>\n",
       "      <td>1.0</td>\n",
       "      <td>95.00</td>\n",
       "      <td>1521</td>\n",
       "    </tr>\n",
       "    <tr>\n",
       "      <th>4</th>\n",
       "      <td>4</td>\n",
       "      <td>Kothanur</td>\n",
       "      <td>2 BHK</td>\n",
       "      <td>NaN</td>\n",
       "      <td>1200</td>\n",
       "      <td>2.0</td>\n",
       "      <td>1.0</td>\n",
       "      <td>51.00</td>\n",
       "      <td>1200</td>\n",
       "    </tr>\n",
       "  </tbody>\n",
       "</table>\n",
       "</div>"
      ],
      "text/plain": [
       "   index                  location       size  society total_sqft  bath  \\\n",
       "0      0  Electronic City Phase II      2 BHK  Coomee        1056   2.0   \n",
       "1      1          Chikka Tirupathi  4 Bedroom  Theanmp       2600   5.0   \n",
       "2      2               Uttarahalli      3 BHK      NaN       1440   2.0   \n",
       "3      3        Lingadheeranahalli      3 BHK  Soiewre       1521   3.0   \n",
       "4      4                  Kothanur      2 BHK      NaN       1200   2.0   \n",
       "\n",
       "   balcony   price total_sqft_copy  \n",
       "0      1.0   39.07            1056  \n",
       "1      3.0  120.00            2600  \n",
       "2      3.0   62.00            1440  \n",
       "3      1.0   95.00            1521  \n",
       "4      1.0   51.00            1200  "
      ]
     },
     "execution_count": 42,
     "metadata": {},
     "output_type": "execute_result"
    }
   ],
   "source": [
    "df.head()"
   ]
  },
  {
   "cell_type": "code",
   "execution_count": 43,
   "metadata": {},
   "outputs": [
    {
     "data": {
      "text/plain": [
       "(13316, 9)"
      ]
     },
     "execution_count": 43,
     "metadata": {},
     "output_type": "execute_result"
    }
   ],
   "source": [
    "df.shape"
   ]
  },
  {
   "cell_type": "code",
   "execution_count": 44,
   "metadata": {},
   "outputs": [],
   "source": [
    "list_index=[]\n",
    "for i in df['total_sqft_copy']:\n",
    "    if len(str(i))>5:\n",
    "        ind=list(df['total_sqft_copy']).index(i)\n",
    "        list_index.append(ind)"
   ]
  },
  {
   "cell_type": "code",
   "execution_count": 45,
   "metadata": {},
   "outputs": [
    {
     "name": "stdout",
     "output_type": "stream",
     "text": [
      "130\n"
     ]
    }
   ],
   "source": [
    "print(len(list_index))"
   ]
  },
  {
   "cell_type": "code",
   "execution_count": 46,
   "metadata": {},
   "outputs": [],
   "source": [
    "df.drop(list_index,inplace=True)"
   ]
  },
  {
   "cell_type": "code",
   "execution_count": 47,
   "metadata": {},
   "outputs": [
    {
     "data": {
      "text/plain": [
       "(13205, 9)"
      ]
     },
     "execution_count": 47,
     "metadata": {},
     "output_type": "execute_result"
    }
   ],
   "source": [
    "df.shape"
   ]
  },
  {
   "cell_type": "code",
   "execution_count": 48,
   "metadata": {},
   "outputs": [
    {
     "ename": "ValueError",
     "evalue": "could not convert string to float: '45Sq.'",
     "output_type": "error",
     "traceback": [
      "\u001b[1;31m---------------------------------------------------------------------------\u001b[0m",
      "\u001b[1;31mValueError\u001b[0m                                Traceback (most recent call last)",
      "Cell \u001b[1;32mIn[48], line 1\u001b[0m\n\u001b[1;32m----> 1\u001b[0m \u001b[43mdf\u001b[49m\u001b[43m[\u001b[49m\u001b[38;5;124;43m'\u001b[39;49m\u001b[38;5;124;43mtotal_sqft_copy\u001b[39;49m\u001b[38;5;124;43m'\u001b[39;49m\u001b[43m]\u001b[49m\u001b[38;5;241;43m.\u001b[39;49m\u001b[43mastype\u001b[49m\u001b[43m(\u001b[49m\u001b[38;5;28;43mfloat\u001b[39;49m\u001b[43m)\u001b[49m\n",
      "File \u001b[1;32m~\\AppData\\Local\\Packages\\PythonSoftwareFoundation.Python.3.11_qbz5n2kfra8p0\\LocalCache\\local-packages\\Python311\\site-packages\\pandas\\core\\generic.py:6640\u001b[0m, in \u001b[0;36mNDFrame.astype\u001b[1;34m(self, dtype, copy, errors)\u001b[0m\n\u001b[0;32m   6634\u001b[0m     results \u001b[38;5;241m=\u001b[39m [\n\u001b[0;32m   6635\u001b[0m         ser\u001b[38;5;241m.\u001b[39mastype(dtype, copy\u001b[38;5;241m=\u001b[39mcopy, errors\u001b[38;5;241m=\u001b[39merrors) \u001b[38;5;28;01mfor\u001b[39;00m _, ser \u001b[38;5;129;01min\u001b[39;00m \u001b[38;5;28mself\u001b[39m\u001b[38;5;241m.\u001b[39mitems()\n\u001b[0;32m   6636\u001b[0m     ]\n\u001b[0;32m   6638\u001b[0m \u001b[38;5;28;01melse\u001b[39;00m:\n\u001b[0;32m   6639\u001b[0m     \u001b[38;5;66;03m# else, only a single dtype is given\u001b[39;00m\n\u001b[1;32m-> 6640\u001b[0m     new_data \u001b[38;5;241m=\u001b[39m \u001b[38;5;28;43mself\u001b[39;49m\u001b[38;5;241;43m.\u001b[39;49m\u001b[43m_mgr\u001b[49m\u001b[38;5;241;43m.\u001b[39;49m\u001b[43mastype\u001b[49m\u001b[43m(\u001b[49m\u001b[43mdtype\u001b[49m\u001b[38;5;241;43m=\u001b[39;49m\u001b[43mdtype\u001b[49m\u001b[43m,\u001b[49m\u001b[43m \u001b[49m\u001b[43mcopy\u001b[49m\u001b[38;5;241;43m=\u001b[39;49m\u001b[43mcopy\u001b[49m\u001b[43m,\u001b[49m\u001b[43m \u001b[49m\u001b[43merrors\u001b[49m\u001b[38;5;241;43m=\u001b[39;49m\u001b[43merrors\u001b[49m\u001b[43m)\u001b[49m\n\u001b[0;32m   6641\u001b[0m     res \u001b[38;5;241m=\u001b[39m \u001b[38;5;28mself\u001b[39m\u001b[38;5;241m.\u001b[39m_constructor_from_mgr(new_data, axes\u001b[38;5;241m=\u001b[39mnew_data\u001b[38;5;241m.\u001b[39maxes)\n\u001b[0;32m   6642\u001b[0m     \u001b[38;5;28;01mreturn\u001b[39;00m res\u001b[38;5;241m.\u001b[39m__finalize__(\u001b[38;5;28mself\u001b[39m, method\u001b[38;5;241m=\u001b[39m\u001b[38;5;124m\"\u001b[39m\u001b[38;5;124mastype\u001b[39m\u001b[38;5;124m\"\u001b[39m)\n",
      "File \u001b[1;32m~\\AppData\\Local\\Packages\\PythonSoftwareFoundation.Python.3.11_qbz5n2kfra8p0\\LocalCache\\local-packages\\Python311\\site-packages\\pandas\\core\\internals\\managers.py:430\u001b[0m, in \u001b[0;36mBaseBlockManager.astype\u001b[1;34m(self, dtype, copy, errors)\u001b[0m\n\u001b[0;32m    427\u001b[0m \u001b[38;5;28;01melif\u001b[39;00m using_copy_on_write():\n\u001b[0;32m    428\u001b[0m     copy \u001b[38;5;241m=\u001b[39m \u001b[38;5;28;01mFalse\u001b[39;00m\n\u001b[1;32m--> 430\u001b[0m \u001b[38;5;28;01mreturn\u001b[39;00m \u001b[38;5;28;43mself\u001b[39;49m\u001b[38;5;241;43m.\u001b[39;49m\u001b[43mapply\u001b[49m\u001b[43m(\u001b[49m\n\u001b[0;32m    431\u001b[0m \u001b[43m    \u001b[49m\u001b[38;5;124;43m\"\u001b[39;49m\u001b[38;5;124;43mastype\u001b[39;49m\u001b[38;5;124;43m\"\u001b[39;49m\u001b[43m,\u001b[49m\n\u001b[0;32m    432\u001b[0m \u001b[43m    \u001b[49m\u001b[43mdtype\u001b[49m\u001b[38;5;241;43m=\u001b[39;49m\u001b[43mdtype\u001b[49m\u001b[43m,\u001b[49m\n\u001b[0;32m    433\u001b[0m \u001b[43m    \u001b[49m\u001b[43mcopy\u001b[49m\u001b[38;5;241;43m=\u001b[39;49m\u001b[43mcopy\u001b[49m\u001b[43m,\u001b[49m\n\u001b[0;32m    434\u001b[0m \u001b[43m    \u001b[49m\u001b[43merrors\u001b[49m\u001b[38;5;241;43m=\u001b[39;49m\u001b[43merrors\u001b[49m\u001b[43m,\u001b[49m\n\u001b[0;32m    435\u001b[0m \u001b[43m    \u001b[49m\u001b[43musing_cow\u001b[49m\u001b[38;5;241;43m=\u001b[39;49m\u001b[43musing_copy_on_write\u001b[49m\u001b[43m(\u001b[49m\u001b[43m)\u001b[49m\u001b[43m,\u001b[49m\n\u001b[0;32m    436\u001b[0m \u001b[43m\u001b[49m\u001b[43m)\u001b[49m\n",
      "File \u001b[1;32m~\\AppData\\Local\\Packages\\PythonSoftwareFoundation.Python.3.11_qbz5n2kfra8p0\\LocalCache\\local-packages\\Python311\\site-packages\\pandas\\core\\internals\\managers.py:363\u001b[0m, in \u001b[0;36mBaseBlockManager.apply\u001b[1;34m(self, f, align_keys, **kwargs)\u001b[0m\n\u001b[0;32m    361\u001b[0m         applied \u001b[38;5;241m=\u001b[39m b\u001b[38;5;241m.\u001b[39mapply(f, \u001b[38;5;241m*\u001b[39m\u001b[38;5;241m*\u001b[39mkwargs)\n\u001b[0;32m    362\u001b[0m     \u001b[38;5;28;01melse\u001b[39;00m:\n\u001b[1;32m--> 363\u001b[0m         applied \u001b[38;5;241m=\u001b[39m \u001b[38;5;28;43mgetattr\u001b[39;49m\u001b[43m(\u001b[49m\u001b[43mb\u001b[49m\u001b[43m,\u001b[49m\u001b[43m \u001b[49m\u001b[43mf\u001b[49m\u001b[43m)\u001b[49m\u001b[43m(\u001b[49m\u001b[38;5;241;43m*\u001b[39;49m\u001b[38;5;241;43m*\u001b[39;49m\u001b[43mkwargs\u001b[49m\u001b[43m)\u001b[49m\n\u001b[0;32m    364\u001b[0m     result_blocks \u001b[38;5;241m=\u001b[39m extend_blocks(applied, result_blocks)\n\u001b[0;32m    366\u001b[0m out \u001b[38;5;241m=\u001b[39m \u001b[38;5;28mtype\u001b[39m(\u001b[38;5;28mself\u001b[39m)\u001b[38;5;241m.\u001b[39mfrom_blocks(result_blocks, \u001b[38;5;28mself\u001b[39m\u001b[38;5;241m.\u001b[39maxes)\n",
      "File \u001b[1;32m~\\AppData\\Local\\Packages\\PythonSoftwareFoundation.Python.3.11_qbz5n2kfra8p0\\LocalCache\\local-packages\\Python311\\site-packages\\pandas\\core\\internals\\blocks.py:758\u001b[0m, in \u001b[0;36mBlock.astype\u001b[1;34m(self, dtype, copy, errors, using_cow, squeeze)\u001b[0m\n\u001b[0;32m    755\u001b[0m         \u001b[38;5;28;01mraise\u001b[39;00m \u001b[38;5;167;01mValueError\u001b[39;00m(\u001b[38;5;124m\"\u001b[39m\u001b[38;5;124mCan not squeeze with more than one column.\u001b[39m\u001b[38;5;124m\"\u001b[39m)\n\u001b[0;32m    756\u001b[0m     values \u001b[38;5;241m=\u001b[39m values[\u001b[38;5;241m0\u001b[39m, :]  \u001b[38;5;66;03m# type: ignore[call-overload]\u001b[39;00m\n\u001b[1;32m--> 758\u001b[0m new_values \u001b[38;5;241m=\u001b[39m \u001b[43mastype_array_safe\u001b[49m\u001b[43m(\u001b[49m\u001b[43mvalues\u001b[49m\u001b[43m,\u001b[49m\u001b[43m \u001b[49m\u001b[43mdtype\u001b[49m\u001b[43m,\u001b[49m\u001b[43m \u001b[49m\u001b[43mcopy\u001b[49m\u001b[38;5;241;43m=\u001b[39;49m\u001b[43mcopy\u001b[49m\u001b[43m,\u001b[49m\u001b[43m \u001b[49m\u001b[43merrors\u001b[49m\u001b[38;5;241;43m=\u001b[39;49m\u001b[43merrors\u001b[49m\u001b[43m)\u001b[49m\n\u001b[0;32m    760\u001b[0m new_values \u001b[38;5;241m=\u001b[39m maybe_coerce_values(new_values)\n\u001b[0;32m    762\u001b[0m refs \u001b[38;5;241m=\u001b[39m \u001b[38;5;28;01mNone\u001b[39;00m\n",
      "File \u001b[1;32m~\\AppData\\Local\\Packages\\PythonSoftwareFoundation.Python.3.11_qbz5n2kfra8p0\\LocalCache\\local-packages\\Python311\\site-packages\\pandas\\core\\dtypes\\astype.py:237\u001b[0m, in \u001b[0;36mastype_array_safe\u001b[1;34m(values, dtype, copy, errors)\u001b[0m\n\u001b[0;32m    234\u001b[0m     dtype \u001b[38;5;241m=\u001b[39m dtype\u001b[38;5;241m.\u001b[39mnumpy_dtype\n\u001b[0;32m    236\u001b[0m \u001b[38;5;28;01mtry\u001b[39;00m:\n\u001b[1;32m--> 237\u001b[0m     new_values \u001b[38;5;241m=\u001b[39m \u001b[43mastype_array\u001b[49m\u001b[43m(\u001b[49m\u001b[43mvalues\u001b[49m\u001b[43m,\u001b[49m\u001b[43m \u001b[49m\u001b[43mdtype\u001b[49m\u001b[43m,\u001b[49m\u001b[43m \u001b[49m\u001b[43mcopy\u001b[49m\u001b[38;5;241;43m=\u001b[39;49m\u001b[43mcopy\u001b[49m\u001b[43m)\u001b[49m\n\u001b[0;32m    238\u001b[0m \u001b[38;5;28;01mexcept\u001b[39;00m (\u001b[38;5;167;01mValueError\u001b[39;00m, \u001b[38;5;167;01mTypeError\u001b[39;00m):\n\u001b[0;32m    239\u001b[0m     \u001b[38;5;66;03m# e.g. _astype_nansafe can fail on object-dtype of strings\u001b[39;00m\n\u001b[0;32m    240\u001b[0m     \u001b[38;5;66;03m#  trying to convert to float\u001b[39;00m\n\u001b[0;32m    241\u001b[0m     \u001b[38;5;28;01mif\u001b[39;00m errors \u001b[38;5;241m==\u001b[39m \u001b[38;5;124m\"\u001b[39m\u001b[38;5;124mignore\u001b[39m\u001b[38;5;124m\"\u001b[39m:\n",
      "File \u001b[1;32m~\\AppData\\Local\\Packages\\PythonSoftwareFoundation.Python.3.11_qbz5n2kfra8p0\\LocalCache\\local-packages\\Python311\\site-packages\\pandas\\core\\dtypes\\astype.py:182\u001b[0m, in \u001b[0;36mastype_array\u001b[1;34m(values, dtype, copy)\u001b[0m\n\u001b[0;32m    179\u001b[0m     values \u001b[38;5;241m=\u001b[39m values\u001b[38;5;241m.\u001b[39mastype(dtype, copy\u001b[38;5;241m=\u001b[39mcopy)\n\u001b[0;32m    181\u001b[0m \u001b[38;5;28;01melse\u001b[39;00m:\n\u001b[1;32m--> 182\u001b[0m     values \u001b[38;5;241m=\u001b[39m \u001b[43m_astype_nansafe\u001b[49m\u001b[43m(\u001b[49m\u001b[43mvalues\u001b[49m\u001b[43m,\u001b[49m\u001b[43m \u001b[49m\u001b[43mdtype\u001b[49m\u001b[43m,\u001b[49m\u001b[43m \u001b[49m\u001b[43mcopy\u001b[49m\u001b[38;5;241;43m=\u001b[39;49m\u001b[43mcopy\u001b[49m\u001b[43m)\u001b[49m\n\u001b[0;32m    184\u001b[0m \u001b[38;5;66;03m# in pandas we don't store numpy str dtypes, so convert to object\u001b[39;00m\n\u001b[0;32m    185\u001b[0m \u001b[38;5;28;01mif\u001b[39;00m \u001b[38;5;28misinstance\u001b[39m(dtype, np\u001b[38;5;241m.\u001b[39mdtype) \u001b[38;5;129;01mand\u001b[39;00m \u001b[38;5;28missubclass\u001b[39m(values\u001b[38;5;241m.\u001b[39mdtype\u001b[38;5;241m.\u001b[39mtype, \u001b[38;5;28mstr\u001b[39m):\n",
      "File \u001b[1;32m~\\AppData\\Local\\Packages\\PythonSoftwareFoundation.Python.3.11_qbz5n2kfra8p0\\LocalCache\\local-packages\\Python311\\site-packages\\pandas\\core\\dtypes\\astype.py:133\u001b[0m, in \u001b[0;36m_astype_nansafe\u001b[1;34m(arr, dtype, copy, skipna)\u001b[0m\n\u001b[0;32m    129\u001b[0m     \u001b[38;5;28;01mraise\u001b[39;00m \u001b[38;5;167;01mValueError\u001b[39;00m(msg)\n\u001b[0;32m    131\u001b[0m \u001b[38;5;28;01mif\u001b[39;00m copy \u001b[38;5;129;01mor\u001b[39;00m arr\u001b[38;5;241m.\u001b[39mdtype \u001b[38;5;241m==\u001b[39m \u001b[38;5;28mobject\u001b[39m \u001b[38;5;129;01mor\u001b[39;00m dtype \u001b[38;5;241m==\u001b[39m \u001b[38;5;28mobject\u001b[39m:\n\u001b[0;32m    132\u001b[0m     \u001b[38;5;66;03m# Explicit copy, or required since NumPy can't view from / to object.\u001b[39;00m\n\u001b[1;32m--> 133\u001b[0m     \u001b[38;5;28;01mreturn\u001b[39;00m \u001b[43marr\u001b[49m\u001b[38;5;241;43m.\u001b[39;49m\u001b[43mastype\u001b[49m\u001b[43m(\u001b[49m\u001b[43mdtype\u001b[49m\u001b[43m,\u001b[49m\u001b[43m \u001b[49m\u001b[43mcopy\u001b[49m\u001b[38;5;241;43m=\u001b[39;49m\u001b[38;5;28;43;01mTrue\u001b[39;49;00m\u001b[43m)\u001b[49m\n\u001b[0;32m    135\u001b[0m \u001b[38;5;28;01mreturn\u001b[39;00m arr\u001b[38;5;241m.\u001b[39mastype(dtype, copy\u001b[38;5;241m=\u001b[39mcopy)\n",
      "\u001b[1;31mValueError\u001b[0m: could not convert string to float: '45Sq.'"
     ]
    }
   ],
   "source": [
    "df['total_sqft_copy'].astype(float)"
   ]
  },
  {
   "cell_type": "code",
   "execution_count": 49,
   "metadata": {},
   "outputs": [],
   "source": [
    "list_index=[]\n",
    "for i in df['total_sqft_copy']:\n",
    "    if len(str(i))==5:\n",
    "        ind=list(df['total_sqft_copy']).index(i)\n",
    "        list_index.append(ind)"
   ]
  },
  {
   "cell_type": "code",
   "execution_count": 51,
   "metadata": {},
   "outputs": [
    {
     "data": {
      "text/plain": [
       "5"
      ]
     },
     "execution_count": 51,
     "metadata": {},
     "output_type": "execute_result"
    }
   ],
   "source": [
    "len('45Sq.')"
   ]
  },
  {
   "cell_type": "code",
   "execution_count": 52,
   "metadata": {},
   "outputs": [],
   "source": [
    "list_elements=[]\n",
    "for i in list_index:\n",
    "    list_elements.append(list(df['total_sqft_copy'])[i])\n"
   ]
  },
  {
   "cell_type": "code",
   "execution_count": 62,
   "metadata": {},
   "outputs": [
    {
     "data": {
      "text/plain": [
       "['12000',\n",
       " '11890',\n",
       " '12000',\n",
       " '35000',\n",
       " '10961',\n",
       " '14000',\n",
       " '804.1',\n",
       " '52272',\n",
       " '11338',\n",
       " '30000',\n",
       " '12000',\n",
       " '10000',\n",
       " '10000',\n",
       " '910.2',\n",
       " '12000',\n",
       " '42000',\n",
       " '36000',\n",
       " 455,\n",
       " '26136',\n",
       " '11000',\n",
       " '10200',\n",
       " '20000',\n",
       " '11000',\n",
       " '10961',\n",
       " '10000',\n",
       " '10030',\n",
       " '10624',\n",
       " '896.9',\n",
       " '10000',\n",
       " '777.4',\n",
       " 24,\n",
       " '16335',\n",
       " '30400']"
      ]
     },
     "execution_count": 62,
     "metadata": {},
     "output_type": "execute_result"
    }
   ],
   "source": [
    "list_elements"
   ]
  },
  {
   "cell_type": "code",
   "execution_count": 61,
   "metadata": {},
   "outputs": [
    {
     "ename": "ValueError",
     "evalue": "'45Sq.' is not in list",
     "output_type": "error",
     "traceback": [
      "\u001b[1;31m---------------------------------------------------------------------------\u001b[0m",
      "\u001b[1;31mValueError\u001b[0m                                Traceback (most recent call last)",
      "Cell \u001b[1;32mIn[61], line 1\u001b[0m\n\u001b[1;32m----> 1\u001b[0m list_elements[\u001b[43mlist_elements\u001b[49m\u001b[38;5;241;43m.\u001b[39;49m\u001b[43mindex\u001b[49m\u001b[43m(\u001b[49m\u001b[38;5;124;43m'\u001b[39;49m\u001b[38;5;124;43m45Sq.\u001b[39;49m\u001b[38;5;124;43m'\u001b[39;49m\u001b[43m)\u001b[49m]\u001b[38;5;241m=\u001b[39m\u001b[38;5;241m455\u001b[39m\n",
      "\u001b[1;31mValueError\u001b[0m: '45Sq.' is not in list"
     ]
    }
   ],
   "source": [
    "list_elements[list_elements.index('45Sq.')]=455"
   ]
  },
  {
   "cell_type": "code",
   "execution_count": 59,
   "metadata": {},
   "outputs": [
    {
     "name": "stderr",
     "output_type": "stream",
     "text": [
      "C:\\Users\\hp\\AppData\\Local\\Temp\\ipykernel_16056\\3377423334.py:5: SettingWithCopyWarning: \n",
      "A value is trying to be set on a copy of a slice from a DataFrame\n",
      "\n",
      "See the caveats in the documentation: https://pandas.pydata.org/pandas-docs/stable/user_guide/indexing.html#returning-a-view-versus-a-copy\n",
      "  df['total_sqft_copy'][ind]=list_elements[0]\n",
      "C:\\Users\\hp\\AppData\\Local\\Temp\\ipykernel_16056\\3377423334.py:5: SettingWithCopyWarning: \n",
      "A value is trying to be set on a copy of a slice from a DataFrame\n",
      "\n",
      "See the caveats in the documentation: https://pandas.pydata.org/pandas-docs/stable/user_guide/indexing.html#returning-a-view-versus-a-copy\n",
      "  df['total_sqft_copy'][ind]=list_elements[0]\n",
      "C:\\Users\\hp\\AppData\\Local\\Temp\\ipykernel_16056\\3377423334.py:5: SettingWithCopyWarning: \n",
      "A value is trying to be set on a copy of a slice from a DataFrame\n",
      "\n",
      "See the caveats in the documentation: https://pandas.pydata.org/pandas-docs/stable/user_guide/indexing.html#returning-a-view-versus-a-copy\n",
      "  df['total_sqft_copy'][ind]=list_elements[0]\n",
      "C:\\Users\\hp\\AppData\\Local\\Temp\\ipykernel_16056\\3377423334.py:5: SettingWithCopyWarning: \n",
      "A value is trying to be set on a copy of a slice from a DataFrame\n",
      "\n",
      "See the caveats in the documentation: https://pandas.pydata.org/pandas-docs/stable/user_guide/indexing.html#returning-a-view-versus-a-copy\n",
      "  df['total_sqft_copy'][ind]=list_elements[0]\n",
      "C:\\Users\\hp\\AppData\\Local\\Temp\\ipykernel_16056\\3377423334.py:5: SettingWithCopyWarning: \n",
      "A value is trying to be set on a copy of a slice from a DataFrame\n",
      "\n",
      "See the caveats in the documentation: https://pandas.pydata.org/pandas-docs/stable/user_guide/indexing.html#returning-a-view-versus-a-copy\n",
      "  df['total_sqft_copy'][ind]=list_elements[0]\n",
      "C:\\Users\\hp\\AppData\\Local\\Temp\\ipykernel_16056\\3377423334.py:5: SettingWithCopyWarning: \n",
      "A value is trying to be set on a copy of a slice from a DataFrame\n",
      "\n",
      "See the caveats in the documentation: https://pandas.pydata.org/pandas-docs/stable/user_guide/indexing.html#returning-a-view-versus-a-copy\n",
      "  df['total_sqft_copy'][ind]=list_elements[0]\n",
      "C:\\Users\\hp\\AppData\\Local\\Temp\\ipykernel_16056\\3377423334.py:5: SettingWithCopyWarning: \n",
      "A value is trying to be set on a copy of a slice from a DataFrame\n",
      "\n",
      "See the caveats in the documentation: https://pandas.pydata.org/pandas-docs/stable/user_guide/indexing.html#returning-a-view-versus-a-copy\n",
      "  df['total_sqft_copy'][ind]=list_elements[0]\n",
      "C:\\Users\\hp\\AppData\\Local\\Temp\\ipykernel_16056\\3377423334.py:5: SettingWithCopyWarning: \n",
      "A value is trying to be set on a copy of a slice from a DataFrame\n",
      "\n",
      "See the caveats in the documentation: https://pandas.pydata.org/pandas-docs/stable/user_guide/indexing.html#returning-a-view-versus-a-copy\n",
      "  df['total_sqft_copy'][ind]=list_elements[0]\n",
      "C:\\Users\\hp\\AppData\\Local\\Temp\\ipykernel_16056\\3377423334.py:5: SettingWithCopyWarning: \n",
      "A value is trying to be set on a copy of a slice from a DataFrame\n",
      "\n",
      "See the caveats in the documentation: https://pandas.pydata.org/pandas-docs/stable/user_guide/indexing.html#returning-a-view-versus-a-copy\n",
      "  df['total_sqft_copy'][ind]=list_elements[0]\n",
      "C:\\Users\\hp\\AppData\\Local\\Temp\\ipykernel_16056\\3377423334.py:5: SettingWithCopyWarning: \n",
      "A value is trying to be set on a copy of a slice from a DataFrame\n",
      "\n",
      "See the caveats in the documentation: https://pandas.pydata.org/pandas-docs/stable/user_guide/indexing.html#returning-a-view-versus-a-copy\n",
      "  df['total_sqft_copy'][ind]=list_elements[0]\n",
      "C:\\Users\\hp\\AppData\\Local\\Temp\\ipykernel_16056\\3377423334.py:5: SettingWithCopyWarning: \n",
      "A value is trying to be set on a copy of a slice from a DataFrame\n",
      "\n",
      "See the caveats in the documentation: https://pandas.pydata.org/pandas-docs/stable/user_guide/indexing.html#returning-a-view-versus-a-copy\n",
      "  df['total_sqft_copy'][ind]=list_elements[0]\n",
      "C:\\Users\\hp\\AppData\\Local\\Temp\\ipykernel_16056\\3377423334.py:5: SettingWithCopyWarning: \n",
      "A value is trying to be set on a copy of a slice from a DataFrame\n",
      "\n",
      "See the caveats in the documentation: https://pandas.pydata.org/pandas-docs/stable/user_guide/indexing.html#returning-a-view-versus-a-copy\n",
      "  df['total_sqft_copy'][ind]=list_elements[0]\n",
      "C:\\Users\\hp\\AppData\\Local\\Temp\\ipykernel_16056\\3377423334.py:5: SettingWithCopyWarning: \n",
      "A value is trying to be set on a copy of a slice from a DataFrame\n",
      "\n",
      "See the caveats in the documentation: https://pandas.pydata.org/pandas-docs/stable/user_guide/indexing.html#returning-a-view-versus-a-copy\n",
      "  df['total_sqft_copy'][ind]=list_elements[0]\n",
      "C:\\Users\\hp\\AppData\\Local\\Temp\\ipykernel_16056\\3377423334.py:5: SettingWithCopyWarning: \n",
      "A value is trying to be set on a copy of a slice from a DataFrame\n",
      "\n",
      "See the caveats in the documentation: https://pandas.pydata.org/pandas-docs/stable/user_guide/indexing.html#returning-a-view-versus-a-copy\n",
      "  df['total_sqft_copy'][ind]=list_elements[0]\n",
      "C:\\Users\\hp\\AppData\\Local\\Temp\\ipykernel_16056\\3377423334.py:5: SettingWithCopyWarning: \n",
      "A value is trying to be set on a copy of a slice from a DataFrame\n",
      "\n",
      "See the caveats in the documentation: https://pandas.pydata.org/pandas-docs/stable/user_guide/indexing.html#returning-a-view-versus-a-copy\n",
      "  df['total_sqft_copy'][ind]=list_elements[0]\n",
      "C:\\Users\\hp\\AppData\\Local\\Temp\\ipykernel_16056\\3377423334.py:5: SettingWithCopyWarning: \n",
      "A value is trying to be set on a copy of a slice from a DataFrame\n",
      "\n",
      "See the caveats in the documentation: https://pandas.pydata.org/pandas-docs/stable/user_guide/indexing.html#returning-a-view-versus-a-copy\n",
      "  df['total_sqft_copy'][ind]=list_elements[0]\n",
      "C:\\Users\\hp\\AppData\\Local\\Temp\\ipykernel_16056\\3377423334.py:5: SettingWithCopyWarning: \n",
      "A value is trying to be set on a copy of a slice from a DataFrame\n",
      "\n",
      "See the caveats in the documentation: https://pandas.pydata.org/pandas-docs/stable/user_guide/indexing.html#returning-a-view-versus-a-copy\n",
      "  df['total_sqft_copy'][ind]=list_elements[0]\n",
      "C:\\Users\\hp\\AppData\\Local\\Temp\\ipykernel_16056\\3377423334.py:5: SettingWithCopyWarning: \n",
      "A value is trying to be set on a copy of a slice from a DataFrame\n",
      "\n",
      "See the caveats in the documentation: https://pandas.pydata.org/pandas-docs/stable/user_guide/indexing.html#returning-a-view-versus-a-copy\n",
      "  df['total_sqft_copy'][ind]=list_elements[0]\n",
      "C:\\Users\\hp\\AppData\\Local\\Temp\\ipykernel_16056\\3377423334.py:5: SettingWithCopyWarning: \n",
      "A value is trying to be set on a copy of a slice from a DataFrame\n",
      "\n",
      "See the caveats in the documentation: https://pandas.pydata.org/pandas-docs/stable/user_guide/indexing.html#returning-a-view-versus-a-copy\n",
      "  df['total_sqft_copy'][ind]=list_elements[0]\n",
      "C:\\Users\\hp\\AppData\\Local\\Temp\\ipykernel_16056\\3377423334.py:5: SettingWithCopyWarning: \n",
      "A value is trying to be set on a copy of a slice from a DataFrame\n",
      "\n",
      "See the caveats in the documentation: https://pandas.pydata.org/pandas-docs/stable/user_guide/indexing.html#returning-a-view-versus-a-copy\n",
      "  df['total_sqft_copy'][ind]=list_elements[0]\n",
      "C:\\Users\\hp\\AppData\\Local\\Temp\\ipykernel_16056\\3377423334.py:5: SettingWithCopyWarning: \n",
      "A value is trying to be set on a copy of a slice from a DataFrame\n",
      "\n",
      "See the caveats in the documentation: https://pandas.pydata.org/pandas-docs/stable/user_guide/indexing.html#returning-a-view-versus-a-copy\n",
      "  df['total_sqft_copy'][ind]=list_elements[0]\n",
      "C:\\Users\\hp\\AppData\\Local\\Temp\\ipykernel_16056\\3377423334.py:5: SettingWithCopyWarning: \n",
      "A value is trying to be set on a copy of a slice from a DataFrame\n",
      "\n",
      "See the caveats in the documentation: https://pandas.pydata.org/pandas-docs/stable/user_guide/indexing.html#returning-a-view-versus-a-copy\n",
      "  df['total_sqft_copy'][ind]=list_elements[0]\n",
      "C:\\Users\\hp\\AppData\\Local\\Temp\\ipykernel_16056\\3377423334.py:5: SettingWithCopyWarning: \n",
      "A value is trying to be set on a copy of a slice from a DataFrame\n",
      "\n",
      "See the caveats in the documentation: https://pandas.pydata.org/pandas-docs/stable/user_guide/indexing.html#returning-a-view-versus-a-copy\n",
      "  df['total_sqft_copy'][ind]=list_elements[0]\n",
      "C:\\Users\\hp\\AppData\\Local\\Temp\\ipykernel_16056\\3377423334.py:5: SettingWithCopyWarning: \n",
      "A value is trying to be set on a copy of a slice from a DataFrame\n",
      "\n",
      "See the caveats in the documentation: https://pandas.pydata.org/pandas-docs/stable/user_guide/indexing.html#returning-a-view-versus-a-copy\n",
      "  df['total_sqft_copy'][ind]=list_elements[0]\n",
      "C:\\Users\\hp\\AppData\\Local\\Temp\\ipykernel_16056\\3377423334.py:5: SettingWithCopyWarning: \n",
      "A value is trying to be set on a copy of a slice from a DataFrame\n",
      "\n",
      "See the caveats in the documentation: https://pandas.pydata.org/pandas-docs/stable/user_guide/indexing.html#returning-a-view-versus-a-copy\n",
      "  df['total_sqft_copy'][ind]=list_elements[0]\n",
      "C:\\Users\\hp\\AppData\\Local\\Temp\\ipykernel_16056\\3377423334.py:5: SettingWithCopyWarning: \n",
      "A value is trying to be set on a copy of a slice from a DataFrame\n",
      "\n",
      "See the caveats in the documentation: https://pandas.pydata.org/pandas-docs/stable/user_guide/indexing.html#returning-a-view-versus-a-copy\n",
      "  df['total_sqft_copy'][ind]=list_elements[0]\n",
      "C:\\Users\\hp\\AppData\\Local\\Temp\\ipykernel_16056\\3377423334.py:5: SettingWithCopyWarning: \n",
      "A value is trying to be set on a copy of a slice from a DataFrame\n",
      "\n",
      "See the caveats in the documentation: https://pandas.pydata.org/pandas-docs/stable/user_guide/indexing.html#returning-a-view-versus-a-copy\n",
      "  df['total_sqft_copy'][ind]=list_elements[0]\n",
      "C:\\Users\\hp\\AppData\\Local\\Temp\\ipykernel_16056\\3377423334.py:5: SettingWithCopyWarning: \n",
      "A value is trying to be set on a copy of a slice from a DataFrame\n",
      "\n",
      "See the caveats in the documentation: https://pandas.pydata.org/pandas-docs/stable/user_guide/indexing.html#returning-a-view-versus-a-copy\n",
      "  df['total_sqft_copy'][ind]=list_elements[0]\n",
      "C:\\Users\\hp\\AppData\\Local\\Temp\\ipykernel_16056\\3377423334.py:5: SettingWithCopyWarning: \n",
      "A value is trying to be set on a copy of a slice from a DataFrame\n",
      "\n",
      "See the caveats in the documentation: https://pandas.pydata.org/pandas-docs/stable/user_guide/indexing.html#returning-a-view-versus-a-copy\n",
      "  df['total_sqft_copy'][ind]=list_elements[0]\n",
      "C:\\Users\\hp\\AppData\\Local\\Temp\\ipykernel_16056\\3377423334.py:5: SettingWithCopyWarning: \n",
      "A value is trying to be set on a copy of a slice from a DataFrame\n",
      "\n",
      "See the caveats in the documentation: https://pandas.pydata.org/pandas-docs/stable/user_guide/indexing.html#returning-a-view-versus-a-copy\n",
      "  df['total_sqft_copy'][ind]=list_elements[0]\n",
      "C:\\Users\\hp\\AppData\\Local\\Temp\\ipykernel_16056\\3377423334.py:5: SettingWithCopyWarning: \n",
      "A value is trying to be set on a copy of a slice from a DataFrame\n",
      "\n",
      "See the caveats in the documentation: https://pandas.pydata.org/pandas-docs/stable/user_guide/indexing.html#returning-a-view-versus-a-copy\n",
      "  df['total_sqft_copy'][ind]=list_elements[0]\n",
      "C:\\Users\\hp\\AppData\\Local\\Temp\\ipykernel_16056\\3377423334.py:5: SettingWithCopyWarning: \n",
      "A value is trying to be set on a copy of a slice from a DataFrame\n",
      "\n",
      "See the caveats in the documentation: https://pandas.pydata.org/pandas-docs/stable/user_guide/indexing.html#returning-a-view-versus-a-copy\n",
      "  df['total_sqft_copy'][ind]=list_elements[0]\n",
      "C:\\Users\\hp\\AppData\\Local\\Temp\\ipykernel_16056\\3377423334.py:5: SettingWithCopyWarning: \n",
      "A value is trying to be set on a copy of a slice from a DataFrame\n",
      "\n",
      "See the caveats in the documentation: https://pandas.pydata.org/pandas-docs/stable/user_guide/indexing.html#returning-a-view-versus-a-copy\n",
      "  df['total_sqft_copy'][ind]=list_elements[0]\n"
     ]
    }
   ],
   "source": [
    "count=0\n",
    "for i in df['total_sqft_copy']:\n",
    "    if len(str(i))==5:\n",
    "        ind=list(df['total_sqft_copy']).index(i)\n",
    "        df['total_sqft_copy'][ind]=list_elements[0]\n",
    "        count=count+1"
   ]
  },
  {
   "cell_type": "code",
   "execution_count": 63,
   "metadata": {},
   "outputs": [
    {
     "data": {
      "text/html": [
       "<div>\n",
       "<style scoped>\n",
       "    .dataframe tbody tr th:only-of-type {\n",
       "        vertical-align: middle;\n",
       "    }\n",
       "\n",
       "    .dataframe tbody tr th {\n",
       "        vertical-align: top;\n",
       "    }\n",
       "\n",
       "    .dataframe thead th {\n",
       "        text-align: right;\n",
       "    }\n",
       "</style>\n",
       "<table border=\"1\" class=\"dataframe\">\n",
       "  <thead>\n",
       "    <tr style=\"text-align: right;\">\n",
       "      <th></th>\n",
       "      <th>index</th>\n",
       "      <th>location</th>\n",
       "      <th>size</th>\n",
       "      <th>society</th>\n",
       "      <th>total_sqft</th>\n",
       "      <th>bath</th>\n",
       "      <th>balcony</th>\n",
       "      <th>price</th>\n",
       "      <th>total_sqft_copy</th>\n",
       "    </tr>\n",
       "  </thead>\n",
       "  <tbody>\n",
       "    <tr>\n",
       "      <th>5662</th>\n",
       "      <td>5666</td>\n",
       "      <td>Lakkasandra</td>\n",
       "      <td>7 Bedroom</td>\n",
       "      <td>NaN</td>\n",
       "      <td>1500</td>\n",
       "      <td>6.0</td>\n",
       "      <td>0.0</td>\n",
       "      <td>210.0</td>\n",
       "      <td>45Sq.</td>\n",
       "    </tr>\n",
       "  </tbody>\n",
       "</table>\n",
       "</div>"
      ],
      "text/plain": [
       "      index     location       size society total_sqft  bath  balcony  price  \\\n",
       "5662   5666  Lakkasandra  7 Bedroom     NaN       1500   6.0      0.0  210.0   \n",
       "\n",
       "     total_sqft_copy  \n",
       "5662           45Sq.  "
      ]
     },
     "execution_count": 63,
     "metadata": {},
     "output_type": "execute_result"
    }
   ],
   "source": [
    "df[df['total_sqft_copy']=='45Sq.']"
   ]
  },
  {
   "cell_type": "code",
   "execution_count": 64,
   "metadata": {},
   "outputs": [],
   "source": [
    "df.drop(5662,inplace=True)"
   ]
  },
  {
   "cell_type": "code",
   "execution_count": 66,
   "metadata": {},
   "outputs": [
    {
     "ename": "ValueError",
     "evalue": "could not convert string to float: '142.61Sq.'",
     "output_type": "error",
     "traceback": [
      "\u001b[1;31m---------------------------------------------------------------------------\u001b[0m",
      "\u001b[1;31mValueError\u001b[0m                                Traceback (most recent call last)",
      "Cell \u001b[1;32mIn[66], line 1\u001b[0m\n\u001b[1;32m----> 1\u001b[0m \u001b[43mdf\u001b[49m\u001b[43m[\u001b[49m\u001b[38;5;124;43m'\u001b[39;49m\u001b[38;5;124;43mtotal_sqft_copy\u001b[39;49m\u001b[38;5;124;43m'\u001b[39;49m\u001b[43m]\u001b[49m\u001b[38;5;241;43m.\u001b[39;49m\u001b[43mastype\u001b[49m\u001b[43m(\u001b[49m\u001b[38;5;28;43mfloat\u001b[39;49m\u001b[43m)\u001b[49m\n",
      "File \u001b[1;32m~\\AppData\\Local\\Packages\\PythonSoftwareFoundation.Python.3.11_qbz5n2kfra8p0\\LocalCache\\local-packages\\Python311\\site-packages\\pandas\\core\\generic.py:6640\u001b[0m, in \u001b[0;36mNDFrame.astype\u001b[1;34m(self, dtype, copy, errors)\u001b[0m\n\u001b[0;32m   6634\u001b[0m     results \u001b[38;5;241m=\u001b[39m [\n\u001b[0;32m   6635\u001b[0m         ser\u001b[38;5;241m.\u001b[39mastype(dtype, copy\u001b[38;5;241m=\u001b[39mcopy, errors\u001b[38;5;241m=\u001b[39merrors) \u001b[38;5;28;01mfor\u001b[39;00m _, ser \u001b[38;5;129;01min\u001b[39;00m \u001b[38;5;28mself\u001b[39m\u001b[38;5;241m.\u001b[39mitems()\n\u001b[0;32m   6636\u001b[0m     ]\n\u001b[0;32m   6638\u001b[0m \u001b[38;5;28;01melse\u001b[39;00m:\n\u001b[0;32m   6639\u001b[0m     \u001b[38;5;66;03m# else, only a single dtype is given\u001b[39;00m\n\u001b[1;32m-> 6640\u001b[0m     new_data \u001b[38;5;241m=\u001b[39m \u001b[38;5;28;43mself\u001b[39;49m\u001b[38;5;241;43m.\u001b[39;49m\u001b[43m_mgr\u001b[49m\u001b[38;5;241;43m.\u001b[39;49m\u001b[43mastype\u001b[49m\u001b[43m(\u001b[49m\u001b[43mdtype\u001b[49m\u001b[38;5;241;43m=\u001b[39;49m\u001b[43mdtype\u001b[49m\u001b[43m,\u001b[49m\u001b[43m \u001b[49m\u001b[43mcopy\u001b[49m\u001b[38;5;241;43m=\u001b[39;49m\u001b[43mcopy\u001b[49m\u001b[43m,\u001b[49m\u001b[43m \u001b[49m\u001b[43merrors\u001b[49m\u001b[38;5;241;43m=\u001b[39;49m\u001b[43merrors\u001b[49m\u001b[43m)\u001b[49m\n\u001b[0;32m   6641\u001b[0m     res \u001b[38;5;241m=\u001b[39m \u001b[38;5;28mself\u001b[39m\u001b[38;5;241m.\u001b[39m_constructor_from_mgr(new_data, axes\u001b[38;5;241m=\u001b[39mnew_data\u001b[38;5;241m.\u001b[39maxes)\n\u001b[0;32m   6642\u001b[0m     \u001b[38;5;28;01mreturn\u001b[39;00m res\u001b[38;5;241m.\u001b[39m__finalize__(\u001b[38;5;28mself\u001b[39m, method\u001b[38;5;241m=\u001b[39m\u001b[38;5;124m\"\u001b[39m\u001b[38;5;124mastype\u001b[39m\u001b[38;5;124m\"\u001b[39m)\n",
      "File \u001b[1;32m~\\AppData\\Local\\Packages\\PythonSoftwareFoundation.Python.3.11_qbz5n2kfra8p0\\LocalCache\\local-packages\\Python311\\site-packages\\pandas\\core\\internals\\managers.py:430\u001b[0m, in \u001b[0;36mBaseBlockManager.astype\u001b[1;34m(self, dtype, copy, errors)\u001b[0m\n\u001b[0;32m    427\u001b[0m \u001b[38;5;28;01melif\u001b[39;00m using_copy_on_write():\n\u001b[0;32m    428\u001b[0m     copy \u001b[38;5;241m=\u001b[39m \u001b[38;5;28;01mFalse\u001b[39;00m\n\u001b[1;32m--> 430\u001b[0m \u001b[38;5;28;01mreturn\u001b[39;00m \u001b[38;5;28;43mself\u001b[39;49m\u001b[38;5;241;43m.\u001b[39;49m\u001b[43mapply\u001b[49m\u001b[43m(\u001b[49m\n\u001b[0;32m    431\u001b[0m \u001b[43m    \u001b[49m\u001b[38;5;124;43m\"\u001b[39;49m\u001b[38;5;124;43mastype\u001b[39;49m\u001b[38;5;124;43m\"\u001b[39;49m\u001b[43m,\u001b[49m\n\u001b[0;32m    432\u001b[0m \u001b[43m    \u001b[49m\u001b[43mdtype\u001b[49m\u001b[38;5;241;43m=\u001b[39;49m\u001b[43mdtype\u001b[49m\u001b[43m,\u001b[49m\n\u001b[0;32m    433\u001b[0m \u001b[43m    \u001b[49m\u001b[43mcopy\u001b[49m\u001b[38;5;241;43m=\u001b[39;49m\u001b[43mcopy\u001b[49m\u001b[43m,\u001b[49m\n\u001b[0;32m    434\u001b[0m \u001b[43m    \u001b[49m\u001b[43merrors\u001b[49m\u001b[38;5;241;43m=\u001b[39;49m\u001b[43merrors\u001b[49m\u001b[43m,\u001b[49m\n\u001b[0;32m    435\u001b[0m \u001b[43m    \u001b[49m\u001b[43musing_cow\u001b[49m\u001b[38;5;241;43m=\u001b[39;49m\u001b[43musing_copy_on_write\u001b[49m\u001b[43m(\u001b[49m\u001b[43m)\u001b[49m\u001b[43m,\u001b[49m\n\u001b[0;32m    436\u001b[0m \u001b[43m\u001b[49m\u001b[43m)\u001b[49m\n",
      "File \u001b[1;32m~\\AppData\\Local\\Packages\\PythonSoftwareFoundation.Python.3.11_qbz5n2kfra8p0\\LocalCache\\local-packages\\Python311\\site-packages\\pandas\\core\\internals\\managers.py:363\u001b[0m, in \u001b[0;36mBaseBlockManager.apply\u001b[1;34m(self, f, align_keys, **kwargs)\u001b[0m\n\u001b[0;32m    361\u001b[0m         applied \u001b[38;5;241m=\u001b[39m b\u001b[38;5;241m.\u001b[39mapply(f, \u001b[38;5;241m*\u001b[39m\u001b[38;5;241m*\u001b[39mkwargs)\n\u001b[0;32m    362\u001b[0m     \u001b[38;5;28;01melse\u001b[39;00m:\n\u001b[1;32m--> 363\u001b[0m         applied \u001b[38;5;241m=\u001b[39m \u001b[38;5;28;43mgetattr\u001b[39;49m\u001b[43m(\u001b[49m\u001b[43mb\u001b[49m\u001b[43m,\u001b[49m\u001b[43m \u001b[49m\u001b[43mf\u001b[49m\u001b[43m)\u001b[49m\u001b[43m(\u001b[49m\u001b[38;5;241;43m*\u001b[39;49m\u001b[38;5;241;43m*\u001b[39;49m\u001b[43mkwargs\u001b[49m\u001b[43m)\u001b[49m\n\u001b[0;32m    364\u001b[0m     result_blocks \u001b[38;5;241m=\u001b[39m extend_blocks(applied, result_blocks)\n\u001b[0;32m    366\u001b[0m out \u001b[38;5;241m=\u001b[39m \u001b[38;5;28mtype\u001b[39m(\u001b[38;5;28mself\u001b[39m)\u001b[38;5;241m.\u001b[39mfrom_blocks(result_blocks, \u001b[38;5;28mself\u001b[39m\u001b[38;5;241m.\u001b[39maxes)\n",
      "File \u001b[1;32m~\\AppData\\Local\\Packages\\PythonSoftwareFoundation.Python.3.11_qbz5n2kfra8p0\\LocalCache\\local-packages\\Python311\\site-packages\\pandas\\core\\internals\\blocks.py:758\u001b[0m, in \u001b[0;36mBlock.astype\u001b[1;34m(self, dtype, copy, errors, using_cow, squeeze)\u001b[0m\n\u001b[0;32m    755\u001b[0m         \u001b[38;5;28;01mraise\u001b[39;00m \u001b[38;5;167;01mValueError\u001b[39;00m(\u001b[38;5;124m\"\u001b[39m\u001b[38;5;124mCan not squeeze with more than one column.\u001b[39m\u001b[38;5;124m\"\u001b[39m)\n\u001b[0;32m    756\u001b[0m     values \u001b[38;5;241m=\u001b[39m values[\u001b[38;5;241m0\u001b[39m, :]  \u001b[38;5;66;03m# type: ignore[call-overload]\u001b[39;00m\n\u001b[1;32m--> 758\u001b[0m new_values \u001b[38;5;241m=\u001b[39m \u001b[43mastype_array_safe\u001b[49m\u001b[43m(\u001b[49m\u001b[43mvalues\u001b[49m\u001b[43m,\u001b[49m\u001b[43m \u001b[49m\u001b[43mdtype\u001b[49m\u001b[43m,\u001b[49m\u001b[43m \u001b[49m\u001b[43mcopy\u001b[49m\u001b[38;5;241;43m=\u001b[39;49m\u001b[43mcopy\u001b[49m\u001b[43m,\u001b[49m\u001b[43m \u001b[49m\u001b[43merrors\u001b[49m\u001b[38;5;241;43m=\u001b[39;49m\u001b[43merrors\u001b[49m\u001b[43m)\u001b[49m\n\u001b[0;32m    760\u001b[0m new_values \u001b[38;5;241m=\u001b[39m maybe_coerce_values(new_values)\n\u001b[0;32m    762\u001b[0m refs \u001b[38;5;241m=\u001b[39m \u001b[38;5;28;01mNone\u001b[39;00m\n",
      "File \u001b[1;32m~\\AppData\\Local\\Packages\\PythonSoftwareFoundation.Python.3.11_qbz5n2kfra8p0\\LocalCache\\local-packages\\Python311\\site-packages\\pandas\\core\\dtypes\\astype.py:237\u001b[0m, in \u001b[0;36mastype_array_safe\u001b[1;34m(values, dtype, copy, errors)\u001b[0m\n\u001b[0;32m    234\u001b[0m     dtype \u001b[38;5;241m=\u001b[39m dtype\u001b[38;5;241m.\u001b[39mnumpy_dtype\n\u001b[0;32m    236\u001b[0m \u001b[38;5;28;01mtry\u001b[39;00m:\n\u001b[1;32m--> 237\u001b[0m     new_values \u001b[38;5;241m=\u001b[39m \u001b[43mastype_array\u001b[49m\u001b[43m(\u001b[49m\u001b[43mvalues\u001b[49m\u001b[43m,\u001b[49m\u001b[43m \u001b[49m\u001b[43mdtype\u001b[49m\u001b[43m,\u001b[49m\u001b[43m \u001b[49m\u001b[43mcopy\u001b[49m\u001b[38;5;241;43m=\u001b[39;49m\u001b[43mcopy\u001b[49m\u001b[43m)\u001b[49m\n\u001b[0;32m    238\u001b[0m \u001b[38;5;28;01mexcept\u001b[39;00m (\u001b[38;5;167;01mValueError\u001b[39;00m, \u001b[38;5;167;01mTypeError\u001b[39;00m):\n\u001b[0;32m    239\u001b[0m     \u001b[38;5;66;03m# e.g. _astype_nansafe can fail on object-dtype of strings\u001b[39;00m\n\u001b[0;32m    240\u001b[0m     \u001b[38;5;66;03m#  trying to convert to float\u001b[39;00m\n\u001b[0;32m    241\u001b[0m     \u001b[38;5;28;01mif\u001b[39;00m errors \u001b[38;5;241m==\u001b[39m \u001b[38;5;124m\"\u001b[39m\u001b[38;5;124mignore\u001b[39m\u001b[38;5;124m\"\u001b[39m:\n",
      "File \u001b[1;32m~\\AppData\\Local\\Packages\\PythonSoftwareFoundation.Python.3.11_qbz5n2kfra8p0\\LocalCache\\local-packages\\Python311\\site-packages\\pandas\\core\\dtypes\\astype.py:182\u001b[0m, in \u001b[0;36mastype_array\u001b[1;34m(values, dtype, copy)\u001b[0m\n\u001b[0;32m    179\u001b[0m     values \u001b[38;5;241m=\u001b[39m values\u001b[38;5;241m.\u001b[39mastype(dtype, copy\u001b[38;5;241m=\u001b[39mcopy)\n\u001b[0;32m    181\u001b[0m \u001b[38;5;28;01melse\u001b[39;00m:\n\u001b[1;32m--> 182\u001b[0m     values \u001b[38;5;241m=\u001b[39m \u001b[43m_astype_nansafe\u001b[49m\u001b[43m(\u001b[49m\u001b[43mvalues\u001b[49m\u001b[43m,\u001b[49m\u001b[43m \u001b[49m\u001b[43mdtype\u001b[49m\u001b[43m,\u001b[49m\u001b[43m \u001b[49m\u001b[43mcopy\u001b[49m\u001b[38;5;241;43m=\u001b[39;49m\u001b[43mcopy\u001b[49m\u001b[43m)\u001b[49m\n\u001b[0;32m    184\u001b[0m \u001b[38;5;66;03m# in pandas we don't store numpy str dtypes, so convert to object\u001b[39;00m\n\u001b[0;32m    185\u001b[0m \u001b[38;5;28;01mif\u001b[39;00m \u001b[38;5;28misinstance\u001b[39m(dtype, np\u001b[38;5;241m.\u001b[39mdtype) \u001b[38;5;129;01mand\u001b[39;00m \u001b[38;5;28missubclass\u001b[39m(values\u001b[38;5;241m.\u001b[39mdtype\u001b[38;5;241m.\u001b[39mtype, \u001b[38;5;28mstr\u001b[39m):\n",
      "File \u001b[1;32m~\\AppData\\Local\\Packages\\PythonSoftwareFoundation.Python.3.11_qbz5n2kfra8p0\\LocalCache\\local-packages\\Python311\\site-packages\\pandas\\core\\dtypes\\astype.py:133\u001b[0m, in \u001b[0;36m_astype_nansafe\u001b[1;34m(arr, dtype, copy, skipna)\u001b[0m\n\u001b[0;32m    129\u001b[0m     \u001b[38;5;28;01mraise\u001b[39;00m \u001b[38;5;167;01mValueError\u001b[39;00m(msg)\n\u001b[0;32m    131\u001b[0m \u001b[38;5;28;01mif\u001b[39;00m copy \u001b[38;5;129;01mor\u001b[39;00m arr\u001b[38;5;241m.\u001b[39mdtype \u001b[38;5;241m==\u001b[39m \u001b[38;5;28mobject\u001b[39m \u001b[38;5;129;01mor\u001b[39;00m dtype \u001b[38;5;241m==\u001b[39m \u001b[38;5;28mobject\u001b[39m:\n\u001b[0;32m    132\u001b[0m     \u001b[38;5;66;03m# Explicit copy, or required since NumPy can't view from / to object.\u001b[39;00m\n\u001b[1;32m--> 133\u001b[0m     \u001b[38;5;28;01mreturn\u001b[39;00m \u001b[43marr\u001b[49m\u001b[38;5;241;43m.\u001b[39;49m\u001b[43mastype\u001b[49m\u001b[43m(\u001b[49m\u001b[43mdtype\u001b[49m\u001b[43m,\u001b[49m\u001b[43m \u001b[49m\u001b[43mcopy\u001b[49m\u001b[38;5;241;43m=\u001b[39;49m\u001b[38;5;28;43;01mTrue\u001b[39;49;00m\u001b[43m)\u001b[49m\n\u001b[0;32m    135\u001b[0m \u001b[38;5;28;01mreturn\u001b[39;00m arr\u001b[38;5;241m.\u001b[39mastype(dtype, copy\u001b[38;5;241m=\u001b[39mcopy)\n",
      "\u001b[1;31mValueError\u001b[0m: could not convert string to float: '142.61Sq.'"
     ]
    }
   ],
   "source": [
    "df['total_sqft_copy'].astype(float)"
   ]
  },
  {
   "cell_type": "code",
   "execution_count": 76,
   "metadata": {},
   "outputs": [
    {
     "data": {
      "text/plain": [
       "['4342', '', '', '']"
      ]
     },
     "execution_count": 76,
     "metadata": {},
     "output_type": "execute_result"
    }
   ],
   "source": [
    "\"4342hhh\".split('h')"
   ]
  },
  {
   "cell_type": "code",
   "execution_count": 77,
   "metadata": {},
   "outputs": [],
   "source": [
    "list_index=[]\n",
    "for i in df['total_sqft_copy']:\n",
    "    if len(str(i))>5:\n",
    "        ind=list(df['total_sqft_copy']).index(i)\n",
    "        list_index.append(ind)"
   ]
  },
  {
   "cell_type": "code",
   "execution_count": 78,
   "metadata": {},
   "outputs": [
    {
     "data": {
      "text/plain": [
       "[2365,\n",
       " 3138,\n",
       " 6119,\n",
       " 6879,\n",
       " 2365,\n",
       " 7414,\n",
       " 7440,\n",
       " 3138,\n",
       " 9274,\n",
       " 3138,\n",
       " 10235,\n",
       " 10619,\n",
       " 10898,\n",
       " 2365,\n",
       " 10235,\n",
       " 11224,\n",
       " 12090,\n",
       " 9274,\n",
       " 12642]"
      ]
     },
     "execution_count": 78,
     "metadata": {},
     "output_type": "execute_result"
    }
   ],
   "source": [
    "list_index"
   ]
  },
  {
   "cell_type": "code",
   "execution_count": 79,
   "metadata": {},
   "outputs": [],
   "source": [
    "df.drop(list_index,inplace=True)"
   ]
  },
  {
   "cell_type": "code",
   "execution_count": 80,
   "metadata": {},
   "outputs": [],
   "source": [
    "df.reset_index(inplace=True)"
   ]
  },
  {
   "cell_type": "code",
   "execution_count": 81,
   "metadata": {},
   "outputs": [
    {
     "data": {
      "text/plain": [
       "(13191, 10)"
      ]
     },
     "execution_count": 81,
     "metadata": {},
     "output_type": "execute_result"
    }
   ],
   "source": [
    "df.shape"
   ]
  },
  {
   "cell_type": "code",
   "execution_count": null,
   "metadata": {},
   "outputs": [],
   "source": []
  },
  {
   "cell_type": "code",
   "execution_count": 1,
   "metadata": {},
   "outputs": [],
   "source": [
    "import pandas as pd\n",
    "import numpy as np"
   ]
  },
  {
   "cell_type": "code",
   "execution_count": 2,
   "metadata": {},
   "outputs": [],
   "source": [
    "df=pd.read_csv(r\"C:\\Users\\hp\\Downloads\\Bangalore  house data.csv\")"
   ]
  },
  {
   "cell_type": "code",
   "execution_count": 3,
   "metadata": {},
   "outputs": [
    {
     "data": {
      "text/html": [
       "<div>\n",
       "<style scoped>\n",
       "    .dataframe tbody tr th:only-of-type {\n",
       "        vertical-align: middle;\n",
       "    }\n",
       "\n",
       "    .dataframe tbody tr th {\n",
       "        vertical-align: top;\n",
       "    }\n",
       "\n",
       "    .dataframe thead th {\n",
       "        text-align: right;\n",
       "    }\n",
       "</style>\n",
       "<table border=\"1\" class=\"dataframe\">\n",
       "  <thead>\n",
       "    <tr style=\"text-align: right;\">\n",
       "      <th></th>\n",
       "      <th>area_type</th>\n",
       "      <th>availability</th>\n",
       "      <th>location</th>\n",
       "      <th>size</th>\n",
       "      <th>society</th>\n",
       "      <th>total_sqft</th>\n",
       "      <th>bath</th>\n",
       "      <th>balcony</th>\n",
       "      <th>price</th>\n",
       "    </tr>\n",
       "  </thead>\n",
       "  <tbody>\n",
       "    <tr>\n",
       "      <th>0</th>\n",
       "      <td>Super built-up  Area</td>\n",
       "      <td>19-Dec</td>\n",
       "      <td>Electronic City Phase II</td>\n",
       "      <td>2 BHK</td>\n",
       "      <td>Coomee</td>\n",
       "      <td>1056</td>\n",
       "      <td>2.0</td>\n",
       "      <td>1.0</td>\n",
       "      <td>39.07</td>\n",
       "    </tr>\n",
       "    <tr>\n",
       "      <th>1</th>\n",
       "      <td>Plot  Area</td>\n",
       "      <td>Ready To Move</td>\n",
       "      <td>Chikka Tirupathi</td>\n",
       "      <td>4 Bedroom</td>\n",
       "      <td>Theanmp</td>\n",
       "      <td>2600</td>\n",
       "      <td>5.0</td>\n",
       "      <td>3.0</td>\n",
       "      <td>120.00</td>\n",
       "    </tr>\n",
       "    <tr>\n",
       "      <th>2</th>\n",
       "      <td>Built-up  Area</td>\n",
       "      <td>Ready To Move</td>\n",
       "      <td>Uttarahalli</td>\n",
       "      <td>3 BHK</td>\n",
       "      <td>NaN</td>\n",
       "      <td>1440</td>\n",
       "      <td>2.0</td>\n",
       "      <td>3.0</td>\n",
       "      <td>62.00</td>\n",
       "    </tr>\n",
       "    <tr>\n",
       "      <th>3</th>\n",
       "      <td>Super built-up  Area</td>\n",
       "      <td>Ready To Move</td>\n",
       "      <td>Lingadheeranahalli</td>\n",
       "      <td>3 BHK</td>\n",
       "      <td>Soiewre</td>\n",
       "      <td>1521</td>\n",
       "      <td>3.0</td>\n",
       "      <td>1.0</td>\n",
       "      <td>95.00</td>\n",
       "    </tr>\n",
       "    <tr>\n",
       "      <th>4</th>\n",
       "      <td>Super built-up  Area</td>\n",
       "      <td>Ready To Move</td>\n",
       "      <td>Kothanur</td>\n",
       "      <td>2 BHK</td>\n",
       "      <td>NaN</td>\n",
       "      <td>1200</td>\n",
       "      <td>2.0</td>\n",
       "      <td>1.0</td>\n",
       "      <td>51.00</td>\n",
       "    </tr>\n",
       "  </tbody>\n",
       "</table>\n",
       "</div>"
      ],
      "text/plain": [
       "              area_type   availability                  location       size  \\\n",
       "0  Super built-up  Area         19-Dec  Electronic City Phase II      2 BHK   \n",
       "1            Plot  Area  Ready To Move          Chikka Tirupathi  4 Bedroom   \n",
       "2        Built-up  Area  Ready To Move               Uttarahalli      3 BHK   \n",
       "3  Super built-up  Area  Ready To Move        Lingadheeranahalli      3 BHK   \n",
       "4  Super built-up  Area  Ready To Move                  Kothanur      2 BHK   \n",
       "\n",
       "   society total_sqft  bath  balcony   price  \n",
       "0  Coomee        1056   2.0      1.0   39.07  \n",
       "1  Theanmp       2600   5.0      3.0  120.00  \n",
       "2      NaN       1440   2.0      3.0   62.00  \n",
       "3  Soiewre       1521   3.0      1.0   95.00  \n",
       "4      NaN       1200   2.0      1.0   51.00  "
      ]
     },
     "execution_count": 3,
     "metadata": {},
     "output_type": "execute_result"
    }
   ],
   "source": [
    "df.head(5)"
   ]
  },
  {
   "cell_type": "code",
   "execution_count": 4,
   "metadata": {},
   "outputs": [
    {
     "data": {
      "text/plain": [
       "area_type        object\n",
       "availability     object\n",
       "location         object\n",
       "size             object\n",
       "society          object\n",
       "total_sqft       object\n",
       "bath            float64\n",
       "balcony         float64\n",
       "price           float64\n",
       "dtype: object"
      ]
     },
     "execution_count": 4,
     "metadata": {},
     "output_type": "execute_result"
    }
   ],
   "source": [
    "df.dtypes"
   ]
  },
  {
   "cell_type": "code",
   "execution_count": 10,
   "metadata": {},
   "outputs": [
    {
     "data": {
      "text/plain": [
       "Index(['area_type', 'availability', 'location', 'size', 'society',\n",
       "       'total_sqft', 'bath', 'balcony', 'price'],\n",
       "      dtype='object')"
      ]
     },
     "execution_count": 10,
     "metadata": {},
     "output_type": "execute_result"
    }
   ],
   "source": [
    "df.keys()"
   ]
  },
  {
   "cell_type": "code",
   "execution_count": 15,
   "metadata": {},
   "outputs": [],
   "source": [
    "df=df.drop(['area_type', 'availability'],axis=1)"
   ]
  },
  {
   "cell_type": "code",
   "execution_count": 16,
   "metadata": {},
   "outputs": [
    {
     "data": {
      "text/html": [
       "<div>\n",
       "<style scoped>\n",
       "    .dataframe tbody tr th:only-of-type {\n",
       "        vertical-align: middle;\n",
       "    }\n",
       "\n",
       "    .dataframe tbody tr th {\n",
       "        vertical-align: top;\n",
       "    }\n",
       "\n",
       "    .dataframe thead th {\n",
       "        text-align: right;\n",
       "    }\n",
       "</style>\n",
       "<table border=\"1\" class=\"dataframe\">\n",
       "  <thead>\n",
       "    <tr style=\"text-align: right;\">\n",
       "      <th></th>\n",
       "      <th>location</th>\n",
       "      <th>size</th>\n",
       "      <th>society</th>\n",
       "      <th>total_sqft</th>\n",
       "      <th>bath</th>\n",
       "      <th>balcony</th>\n",
       "      <th>price</th>\n",
       "    </tr>\n",
       "  </thead>\n",
       "  <tbody>\n",
       "    <tr>\n",
       "      <th>0</th>\n",
       "      <td>Electronic City Phase II</td>\n",
       "      <td>2 BHK</td>\n",
       "      <td>Coomee</td>\n",
       "      <td>1056</td>\n",
       "      <td>2.0</td>\n",
       "      <td>1.0</td>\n",
       "      <td>39.07</td>\n",
       "    </tr>\n",
       "    <tr>\n",
       "      <th>1</th>\n",
       "      <td>Chikka Tirupathi</td>\n",
       "      <td>4 Bedroom</td>\n",
       "      <td>Theanmp</td>\n",
       "      <td>2600</td>\n",
       "      <td>5.0</td>\n",
       "      <td>3.0</td>\n",
       "      <td>120.00</td>\n",
       "    </tr>\n",
       "    <tr>\n",
       "      <th>2</th>\n",
       "      <td>Uttarahalli</td>\n",
       "      <td>3 BHK</td>\n",
       "      <td>NaN</td>\n",
       "      <td>1440</td>\n",
       "      <td>2.0</td>\n",
       "      <td>3.0</td>\n",
       "      <td>62.00</td>\n",
       "    </tr>\n",
       "  </tbody>\n",
       "</table>\n",
       "</div>"
      ],
      "text/plain": [
       "                   location       size  society total_sqft  bath  balcony  \\\n",
       "0  Electronic City Phase II      2 BHK  Coomee        1056   2.0      1.0   \n",
       "1          Chikka Tirupathi  4 Bedroom  Theanmp       2600   5.0      3.0   \n",
       "2               Uttarahalli      3 BHK      NaN       1440   2.0      3.0   \n",
       "\n",
       "    price  \n",
       "0   39.07  \n",
       "1  120.00  \n",
       "2   62.00  "
      ]
     },
     "execution_count": 16,
     "metadata": {},
     "output_type": "execute_result"
    }
   ],
   "source": [
    "df.head(3)"
   ]
  },
  {
   "cell_type": "code",
   "execution_count": 17,
   "metadata": {},
   "outputs": [
    {
     "data": {
      "text/plain": [
       "location       object\n",
       "size           object\n",
       "society        object\n",
       "total_sqft     object\n",
       "bath          float64\n",
       "balcony       float64\n",
       "price         float64\n",
       "dtype: object"
      ]
     },
     "execution_count": 17,
     "metadata": {},
     "output_type": "execute_result"
    }
   ],
   "source": [
    "df.dtypes"
   ]
  },
  {
   "cell_type": "code",
   "execution_count": 24,
   "metadata": {},
   "outputs": [
    {
     "name": "stdout",
     "output_type": "stream",
     "text": [
      "361\n"
     ]
    }
   ],
   "source": [
    "count=0\n",
    "for i in df['total_sqft']:\n",
    "    if len(i)>=5:\n",
    "        count=count+1\n",
    "print(count)"
   ]
  },
  {
   "cell_type": "code",
   "execution_count": 26,
   "metadata": {},
   "outputs": [
    {
     "name": "stdout",
     "output_type": "stream",
     "text": [
      "could not convert string to float: '2100 - 2850' Handle IT !!\n"
     ]
    }
   ],
   "source": [
    "try:\n",
    "    df['total_sqft'].astype(float)\n",
    "except Exception as e:\n",
    "    print(e,'Handle IT !!')"
   ]
  },
  {
   "cell_type": "code",
   "execution_count": 27,
   "metadata": {},
   "outputs": [],
   "source": [
    "import warnings\n",
    "warnings.filterwarnings('ignore')"
   ]
  },
  {
   "cell_type": "code",
   "execution_count": 45,
   "metadata": {},
   "outputs": [],
   "source": [
    "for i in df['total_sqft']:\n",
    "    if len(i)>=5:\n",
    "        ind=list(df['total_sqft']).index(i)\n",
    "        df['total_sqft'].iloc[ind]=i.split()[0]"
   ]
  },
  {
   "cell_type": "code",
   "execution_count": 46,
   "metadata": {},
   "outputs": [
    {
     "data": {
      "text/html": [
       "<div>\n",
       "<style scoped>\n",
       "    .dataframe tbody tr th:only-of-type {\n",
       "        vertical-align: middle;\n",
       "    }\n",
       "\n",
       "    .dataframe tbody tr th {\n",
       "        vertical-align: top;\n",
       "    }\n",
       "\n",
       "    .dataframe thead th {\n",
       "        text-align: right;\n",
       "    }\n",
       "</style>\n",
       "<table border=\"1\" class=\"dataframe\">\n",
       "  <thead>\n",
       "    <tr style=\"text-align: right;\">\n",
       "      <th></th>\n",
       "      <th>location</th>\n",
       "      <th>size</th>\n",
       "      <th>society</th>\n",
       "      <th>total_sqft</th>\n",
       "      <th>bath</th>\n",
       "      <th>balcony</th>\n",
       "      <th>price</th>\n",
       "    </tr>\n",
       "  </thead>\n",
       "  <tbody>\n",
       "    <tr>\n",
       "      <th>0</th>\n",
       "      <td>Electronic City Phase II</td>\n",
       "      <td>2 BHK</td>\n",
       "      <td>Coomee</td>\n",
       "      <td>1056</td>\n",
       "      <td>2.0</td>\n",
       "      <td>1.0</td>\n",
       "      <td>39.07</td>\n",
       "    </tr>\n",
       "    <tr>\n",
       "      <th>1</th>\n",
       "      <td>Chikka Tirupathi</td>\n",
       "      <td>4 Bedroom</td>\n",
       "      <td>Theanmp</td>\n",
       "      <td>2600</td>\n",
       "      <td>5.0</td>\n",
       "      <td>3.0</td>\n",
       "      <td>120.00</td>\n",
       "    </tr>\n",
       "    <tr>\n",
       "      <th>2</th>\n",
       "      <td>Uttarahalli</td>\n",
       "      <td>3 BHK</td>\n",
       "      <td>NaN</td>\n",
       "      <td>1440</td>\n",
       "      <td>2.0</td>\n",
       "      <td>3.0</td>\n",
       "      <td>62.00</td>\n",
       "    </tr>\n",
       "    <tr>\n",
       "      <th>3</th>\n",
       "      <td>Lingadheeranahalli</td>\n",
       "      <td>3 BHK</td>\n",
       "      <td>Soiewre</td>\n",
       "      <td>1521</td>\n",
       "      <td>3.0</td>\n",
       "      <td>1.0</td>\n",
       "      <td>95.00</td>\n",
       "    </tr>\n",
       "    <tr>\n",
       "      <th>4</th>\n",
       "      <td>Kothanur</td>\n",
       "      <td>2 BHK</td>\n",
       "      <td>NaN</td>\n",
       "      <td>1200</td>\n",
       "      <td>2.0</td>\n",
       "      <td>1.0</td>\n",
       "      <td>51.00</td>\n",
       "    </tr>\n",
       "    <tr>\n",
       "      <th>...</th>\n",
       "      <td>...</td>\n",
       "      <td>...</td>\n",
       "      <td>...</td>\n",
       "      <td>...</td>\n",
       "      <td>...</td>\n",
       "      <td>...</td>\n",
       "      <td>...</td>\n",
       "    </tr>\n",
       "    <tr>\n",
       "      <th>13315</th>\n",
       "      <td>Whitefield</td>\n",
       "      <td>5 Bedroom</td>\n",
       "      <td>ArsiaEx</td>\n",
       "      <td>3453</td>\n",
       "      <td>4.0</td>\n",
       "      <td>0.0</td>\n",
       "      <td>231.00</td>\n",
       "    </tr>\n",
       "    <tr>\n",
       "      <th>13316</th>\n",
       "      <td>Richards Town</td>\n",
       "      <td>4 BHK</td>\n",
       "      <td>NaN</td>\n",
       "      <td>3600</td>\n",
       "      <td>5.0</td>\n",
       "      <td>NaN</td>\n",
       "      <td>400.00</td>\n",
       "    </tr>\n",
       "    <tr>\n",
       "      <th>13317</th>\n",
       "      <td>Raja Rajeshwari Nagar</td>\n",
       "      <td>2 BHK</td>\n",
       "      <td>Mahla T</td>\n",
       "      <td>1141</td>\n",
       "      <td>2.0</td>\n",
       "      <td>1.0</td>\n",
       "      <td>60.00</td>\n",
       "    </tr>\n",
       "    <tr>\n",
       "      <th>13318</th>\n",
       "      <td>Padmanabhanagar</td>\n",
       "      <td>4 BHK</td>\n",
       "      <td>SollyCl</td>\n",
       "      <td>4689</td>\n",
       "      <td>4.0</td>\n",
       "      <td>1.0</td>\n",
       "      <td>488.00</td>\n",
       "    </tr>\n",
       "    <tr>\n",
       "      <th>13319</th>\n",
       "      <td>Doddathoguru</td>\n",
       "      <td>1 BHK</td>\n",
       "      <td>NaN</td>\n",
       "      <td>550</td>\n",
       "      <td>1.0</td>\n",
       "      <td>1.0</td>\n",
       "      <td>17.00</td>\n",
       "    </tr>\n",
       "  </tbody>\n",
       "</table>\n",
       "<p>13320 rows × 7 columns</p>\n",
       "</div>"
      ],
      "text/plain": [
       "                       location       size  society total_sqft  bath  balcony  \\\n",
       "0      Electronic City Phase II      2 BHK  Coomee        1056   2.0      1.0   \n",
       "1              Chikka Tirupathi  4 Bedroom  Theanmp       2600   5.0      3.0   \n",
       "2                   Uttarahalli      3 BHK      NaN       1440   2.0      3.0   \n",
       "3            Lingadheeranahalli      3 BHK  Soiewre       1521   3.0      1.0   \n",
       "4                      Kothanur      2 BHK      NaN       1200   2.0      1.0   \n",
       "...                         ...        ...      ...        ...   ...      ...   \n",
       "13315                Whitefield  5 Bedroom  ArsiaEx       3453   4.0      0.0   \n",
       "13316             Richards Town      4 BHK      NaN       3600   5.0      NaN   \n",
       "13317     Raja Rajeshwari Nagar      2 BHK  Mahla T       1141   2.0      1.0   \n",
       "13318           Padmanabhanagar      4 BHK  SollyCl       4689   4.0      1.0   \n",
       "13319              Doddathoguru      1 BHK      NaN        550   1.0      1.0   \n",
       "\n",
       "        price  \n",
       "0       39.07  \n",
       "1      120.00  \n",
       "2       62.00  \n",
       "3       95.00  \n",
       "4       51.00  \n",
       "...       ...  \n",
       "13315  231.00  \n",
       "13316  400.00  \n",
       "13317   60.00  \n",
       "13318  488.00  \n",
       "13319   17.00  \n",
       "\n",
       "[13320 rows x 7 columns]"
      ]
     },
     "execution_count": 46,
     "metadata": {},
     "output_type": "execute_result"
    }
   ],
   "source": [
    "df"
   ]
  },
  {
   "cell_type": "code",
   "execution_count": 47,
   "metadata": {},
   "outputs": [
    {
     "data": {
      "text/plain": [
       "1"
      ]
     },
     "execution_count": 47,
     "metadata": {},
     "output_type": "execute_result"
    }
   ],
   "source": [
    "list(df['total_sqft']).index(\"2600\")"
   ]
  },
  {
   "cell_type": "code",
   "execution_count": 49,
   "metadata": {},
   "outputs": [
    {
     "name": "stdout",
     "output_type": "stream",
     "text": [
      "165\n"
     ]
    }
   ],
   "source": [
    "count=0\n",
    "list_elements=[]\n",
    "for i in df['total_sqft']:\n",
    "    if len(i)>=5:\n",
    "        list_elements.append(i)\n",
    "        count=count+1\n",
    "print(count)"
   ]
  },
  {
   "cell_type": "code",
   "execution_count": 50,
   "metadata": {},
   "outputs": [
    {
     "data": {
      "text/plain": [
       "['1330.74',\n",
       " '1563.05',\n",
       " '2023.71',\n",
       " '1113.27',\n",
       " '12000',\n",
       " '34.46Sq.',\n",
       " '11890',\n",
       " '1752.12',\n",
       " '12000',\n",
       " '4125Perch',\n",
       " '35000',\n",
       " '1000Sq.',\n",
       " '10961',\n",
       " '1100Sq.',\n",
       " '2112.95',\n",
       " '5.31Acres',\n",
       " '30Acres',\n",
       " '14000',\n",
       " '1558.67',\n",
       " '3467.86',\n",
       " '716Sq.',\n",
       " '547.34',\n",
       " '804.1',\n",
       " '1269.72',\n",
       " '1500Sq.',\n",
       " '142.61Sq.',\n",
       " '1574Sq.',\n",
       " '52272',\n",
       " '2479.13',\n",
       " '2172.65',\n",
       " '581.91',\n",
       " '1005.03',\n",
       " '361.33Sq.',\n",
       " '1752.12',\n",
       " '1452.55',\n",
       " '2249.81',\n",
       " '1776.42',\n",
       " '11338',\n",
       " '30000',\n",
       " '117Sq.',\n",
       " '1452.19',\n",
       " '1419.59',\n",
       " '461.82',\n",
       " '12000',\n",
       " '2249.81',\n",
       " '3040Sq.',\n",
       " '500Sq.',\n",
       " '1020.07',\n",
       " '1451.5',\n",
       " '1584.01',\n",
       " '1205.47',\n",
       " '1689.28',\n",
       " '10000',\n",
       " '1819.18',\n",
       " '167Sq.',\n",
       " '1627.86',\n",
       " '1369.1',\n",
       " '1053.4',\n",
       " '315Sq.',\n",
       " '10000',\n",
       " '1732.46',\n",
       " '910.2',\n",
       " '2006.8',\n",
       " '12000',\n",
       " '42000',\n",
       " '3Cents',\n",
       " '36000',\n",
       " '1113.12',\n",
       " '1548.3',\n",
       " '1525.84',\n",
       " '188.89Sq.',\n",
       " '204Sq.',\n",
       " '45Sq.',\n",
       " '2777.29',\n",
       " '133.3Sq.',\n",
       " '1554.3',\n",
       " '3405.1',\n",
       " '1652.5',\n",
       " '78.03Sq.',\n",
       " '1208.51',\n",
       " '1660.4',\n",
       " '1819.18',\n",
       " '122Sq.',\n",
       " '84.53Sq.',\n",
       " '2.09Acres',\n",
       " '24Guntha',\n",
       " '697Sq.',\n",
       " '1107.83',\n",
       " '1266.67',\n",
       " '1777.26',\n",
       " '142.61Sq.',\n",
       " '1500Cents',\n",
       " '1752.12',\n",
       " '1567.2',\n",
       " '26136',\n",
       " '132Sq.',\n",
       " '1691.2',\n",
       " '11000',\n",
       " '2Acres',\n",
       " '2274.24',\n",
       " '1369.1',\n",
       " '1100Sq.',\n",
       " '947.55',\n",
       " '15Acres',\n",
       " '3301.8',\n",
       " '1.26Acres',\n",
       " '1542.14',\n",
       " '2144.6',\n",
       " '10200',\n",
       " '20000',\n",
       " '2249.81',\n",
       " '1181.7',\n",
       " '11000',\n",
       " '151.11Sq.',\n",
       " '2087.01',\n",
       " '1719.3',\n",
       " '10961',\n",
       " '1234.6',\n",
       " '1763.25',\n",
       " '2087.01',\n",
       " '2249.81',\n",
       " '1Grounds',\n",
       " '2940Sq.',\n",
       " '10000',\n",
       " '45.06Sq.',\n",
       " '10030',\n",
       " '2801.25',\n",
       " '1688.12',\n",
       " '1733.5',\n",
       " '10624',\n",
       " '1777.26',\n",
       " '1.25Acres',\n",
       " '86.72Sq.',\n",
       " '896.9',\n",
       " '1419.59',\n",
       " '10000',\n",
       " '1626.6',\n",
       " '866.28',\n",
       " '1584.01',\n",
       " '1248.52',\n",
       " '1370.07',\n",
       " '777.4',\n",
       " '1752.12',\n",
       " '1777.26',\n",
       " '1139.7',\n",
       " '38Guntha',\n",
       " '1107.83',\n",
       " '6Acres',\n",
       " '2162.03',\n",
       " '2999.97',\n",
       " '1950.2',\n",
       " '2171.66',\n",
       " '120Sq.',\n",
       " '1950.2',\n",
       " '24Sq.',\n",
       " '1623.29',\n",
       " '16335',\n",
       " '2087.01',\n",
       " '142.84Sq.',\n",
       " '300Sq.',\n",
       " '2777.29',\n",
       " '1932.47',\n",
       " '30400',\n",
       " '5665.84',\n",
       " '1331.95']"
      ]
     },
     "execution_count": 50,
     "metadata": {},
     "output_type": "execute_result"
    }
   ],
   "source": [
    "list_elements"
   ]
  },
  {
   "cell_type": "code",
   "execution_count": 56,
   "metadata": {},
   "outputs": [
    {
     "data": {
      "text/plain": [
       "['2.09', 'cres']"
      ]
     },
     "execution_count": 56,
     "metadata": {},
     "output_type": "execute_result"
    }
   ],
   "source": [
    "'2.09Acres'.split(\"A\")"
   ]
  },
  {
   "cell_type": "code",
   "execution_count": 146,
   "metadata": {},
   "outputs": [],
   "source": [
    "# def repcauma(arr):\n",
    "#     temp=None\n",
    "#     uppr=\"abcdefghijklmnopqrstuvwxyz\".upper()\n",
    "#     lowr=\"abcdefghijklmnopqrstuvwxyz\"\n",
    "#     for i in arr:\n",
    "#         if i==\" \":\n",
    "#             sp=arr.split()\n",
    "#             break\n",
    "#         else:\n",
    "#             # for j in range(len(uppr)):\n",
    "#             #     if i==uppr[j] or i==lowr[j]:\n",
    "#             #         temp=i\n",
    "#             #         break\n",
    "#                 # elif i==lowr[j]:\n",
    "#                 #     temp=i\n",
    "#                 #     break\n",
    "#             if i.astype\n",
    "#             sp=arr.split(temp)\n",
    "#     return sp,sp[0]"
   ]
  },
  {
   "cell_type": "code",
   "execution_count": 223,
   "metadata": {},
   "outputs": [],
   "source": [
    "def repcauma(arr):\n",
    "    '''This method is used to separate string from char if it containns number and char both.\n",
    "    Ex:-\n",
    "    repcauma(\"34 gf\")\n",
    "    output-'34'\n",
    "    \n",
    "    \n",
    "    '''\n",
    "    temp=None\n",
    "    uppr=\"abcdefghijklmnopqrstuvwxyz\".upper()\n",
    "    lowr=\"abcdefghijklmnopqrstuvwxyz\"\n",
    "    for i in arr:\n",
    "        if i==\" \":\n",
    "            sp=arr.split()\n",
    "            break\n",
    "        elif i=='.':\n",
    "            pass\n",
    "        else:\n",
    "            # for j in range(len(uppr)):\n",
    "            #     if i==uppr[j] or i==lowr[j]:\n",
    "            #         temp=i\n",
    "            #         break\n",
    "                # elif i==lowr[j]:\n",
    "                #     temp=i\n",
    "                #     break\n",
    "            try:\n",
    "                if type(np.array([i]).astype('float'))==np.ndarray:\n",
    "                    # print(\"haan\")\n",
    "                    pass\n",
    "            except Exception as e:\n",
    "                    temp=i\n",
    "                    # break\n",
    "                    sp=arr.split(temp)\n",
    "                    break\n",
    "    return sp[0]#,sp"
   ]
  },
  {
   "cell_type": "code",
   "execution_count": 224,
   "metadata": {},
   "outputs": [],
   "source": [
    "# def repcauma(arr):\n",
    "#     temp=None\n",
    "#     uppr=\"abcdefghijklmnopqrstuvwxyz\".upper()\n",
    "#     lowr=\"abcdefghijklmnopqrstuvwxyz\"\n",
    "#     float_val=None\n",
    "#     for i in arr:\n",
    "#         if i==\" \":\n",
    "#             sp=arr.split()\n",
    "#             break\n",
    "#         elif i=='.':\n",
    "#             pass\n",
    "#         else:\n",
    "#             # for j in range(len(uppr)):\n",
    "#             #     if i==uppr[j] or i==lowr[j]:\n",
    "#             #         temp=i\n",
    "#             #         break\n",
    "#                 # elif i==lowr[j]:\n",
    "#                 #     temp=i\n",
    "#                 #     break\n",
    "#             try:\n",
    "#                 if type(np.array([i]).astype('float'))==np.ndarray:\n",
    "#                     # print(\"haan\")\n",
    "#                     # float_val=i\n",
    "#                     pass\n",
    "#             except Exception as e:\n",
    "#                     temp=i\n",
    "#                     # break\n",
    "#                     sp=arr.split(temp)\n",
    "#                     break\n",
    "            \n",
    "#     if float_val !=None:\n",
    "#         return float_val\n",
    "#     else:\n",
    "#         return sp[0]"
   ]
  },
  {
   "cell_type": "code",
   "execution_count": 225,
   "metadata": {},
   "outputs": [
    {
     "data": {
      "text/plain": [
       "'34'"
      ]
     },
     "execution_count": 225,
     "metadata": {},
     "output_type": "execute_result"
    }
   ],
   "source": [
    "repcauma(\"34 gf\")"
   ]
  },
  {
   "cell_type": "code",
   "execution_count": 226,
   "metadata": {},
   "outputs": [
    {
     "data": {
      "text/plain": [
       "'543'"
      ]
     },
     "execution_count": 226,
     "metadata": {},
     "output_type": "execute_result"
    }
   ],
   "source": [
    "repcauma(\"543 \")"
   ]
  },
  {
   "cell_type": "code",
   "execution_count": 222,
   "metadata": {},
   "outputs": [
    {
     "data": {
      "text/plain": [
       "'434'"
      ]
     },
     "execution_count": 222,
     "metadata": {},
     "output_type": "execute_result"
    }
   ],
   "source": [
    "repcauma(\"434s\")"
   ]
  },
  {
   "cell_type": "code",
   "execution_count": 196,
   "metadata": {},
   "outputs": [
    {
     "data": {
      "text/plain": [
       "(['142.84', 'S.'], '142.84')"
      ]
     },
     "execution_count": 196,
     "metadata": {},
     "output_type": "execute_result"
    }
   ],
   "source": [
    "repcauma('142.84qS.')"
   ]
  },
  {
   "cell_type": "code",
   "execution_count": 197,
   "metadata": {},
   "outputs": [
    {
     "data": {
      "text/plain": [
       "(['38', 'untha'], '38')"
      ]
     },
     "execution_count": 197,
     "metadata": {},
     "output_type": "execute_result"
    }
   ],
   "source": [
    "repcauma('38Guntha')"
   ]
  },
  {
   "cell_type": "code",
   "execution_count": 200,
   "metadata": {},
   "outputs": [
    {
     "data": {
      "text/plain": [
       "(['324', 'AB'], '324')"
      ]
     },
     "execution_count": 200,
     "metadata": {},
     "output_type": "execute_result"
    }
   ],
   "source": [
    "repcauma(\"324 AB\")"
   ]
  },
  {
   "cell_type": "code",
   "execution_count": 173,
   "metadata": {},
   "outputs": [
    {
     "name": "stdout",
     "output_type": "stream",
     "text": [
      "haan\n"
     ]
    }
   ],
   "source": [
    "if type(np.array(['2']).astype('float'))==np.ndarray:\n",
    "    print(\"haan\")"
   ]
  },
  {
   "cell_type": "code",
   "execution_count": 236,
   "metadata": {},
   "outputs": [
    {
     "name": "stdout",
     "output_type": "stream",
     "text": [
      "cannot access local variable 'sp' where it is not associated with a value\n"
     ]
    }
   ],
   "source": [
    "try:\n",
    "    repcauma('3232')\n",
    "except Exception as e:\n",
    "    print(e)"
   ]
  },
  {
   "cell_type": "code",
   "execution_count": 245,
   "metadata": {},
   "outputs": [],
   "source": [
    "uppr=\"abcdefghijklmnopqrstuvwxyz\".upper()\n",
    "lowr=\"abcdefghijklmnopqrstuvwxyz\""
   ]
  },
  {
   "cell_type": "code",
   "execution_count": 250,
   "metadata": {},
   "outputs": [
    {
     "ename": "UnboundLocalError",
     "evalue": "cannot access local variable 'sp' where it is not associated with a value",
     "output_type": "error",
     "traceback": [
      "\u001b[1;31m---------------------------------------------------------------------------\u001b[0m",
      "\u001b[1;31mUnboundLocalError\u001b[0m                         Traceback (most recent call last)",
      "Cell \u001b[1;32mIn[250], line 2\u001b[0m\n\u001b[0;32m      1\u001b[0m \u001b[38;5;28;01mfor\u001b[39;00m i \u001b[38;5;129;01min\u001b[39;00m df[\u001b[38;5;124m'\u001b[39m\u001b[38;5;124mtotal_sqft\u001b[39m\u001b[38;5;124m'\u001b[39m]:\n\u001b[1;32m----> 2\u001b[0m     df[\u001b[38;5;124m'\u001b[39m\u001b[38;5;124mtotal_sqft\u001b[39m\u001b[38;5;124m'\u001b[39m]\u001b[38;5;241m.\u001b[39miloc[\u001b[38;5;28mlist\u001b[39m(df[\u001b[38;5;124m'\u001b[39m\u001b[38;5;124mtotal_sqft\u001b[39m\u001b[38;5;124m'\u001b[39m])\u001b[38;5;241m.\u001b[39mindex(i)]\u001b[38;5;241m=\u001b[39m\u001b[43mrepcauma\u001b[49m\u001b[43m(\u001b[49m\u001b[43mi\u001b[49m\u001b[43m)\u001b[49m\n",
      "Cell \u001b[1;32mIn[223], line 35\u001b[0m, in \u001b[0;36mrepcauma\u001b[1;34m(arr)\u001b[0m\n\u001b[0;32m     33\u001b[0m                 sp\u001b[38;5;241m=\u001b[39marr\u001b[38;5;241m.\u001b[39msplit(temp)\n\u001b[0;32m     34\u001b[0m                 \u001b[38;5;28;01mbreak\u001b[39;00m\n\u001b[1;32m---> 35\u001b[0m \u001b[38;5;28;01mreturn\u001b[39;00m \u001b[43msp\u001b[49m[\u001b[38;5;241m0\u001b[39m]\n",
      "\u001b[1;31mUnboundLocalError\u001b[0m: cannot access local variable 'sp' where it is not associated with a value"
     ]
    }
   ],
   "source": [
    "for i in df['total_sqft']:\n",
    "    df['total_sqft'].iloc[list(df['total_sqft']).index(i)]=repcauma(i)        "
   ]
  },
  {
   "cell_type": "code",
   "execution_count": 252,
   "metadata": {},
   "outputs": [
    {
     "data": {
      "text/plain": [
       "'4242'"
      ]
     },
     "execution_count": 252,
     "metadata": {},
     "output_type": "execute_result"
    }
   ],
   "source": [
    "repcauma(\"4242 \")"
   ]
  },
  {
   "cell_type": "code",
   "execution_count": 253,
   "metadata": {},
   "outputs": [],
   "source": [
    "df['total_sqft']=df['total_sqft']+\" \""
   ]
  },
  {
   "cell_type": "code",
   "execution_count": 255,
   "metadata": {},
   "outputs": [],
   "source": [
    "for i in df['total_sqft']:\n",
    "    df['total_sqft'].iloc[list(df['total_sqft']).index(i)]=repcauma(i)"
   ]
  },
  {
   "cell_type": "code",
   "execution_count": 257,
   "metadata": {},
   "outputs": [],
   "source": [
    "df['total_sqft']=df['total_sqft'].astype(float)"
   ]
  },
  {
   "cell_type": "code",
   "execution_count": 259,
   "metadata": {},
   "outputs": [
    {
     "data": {
      "text/plain": [
       "location       object\n",
       "size           object\n",
       "society        object\n",
       "total_sqft    float64\n",
       "bath          float64\n",
       "balcony       float64\n",
       "price         float64\n",
       "dtype: object"
      ]
     },
     "execution_count": 259,
     "metadata": {},
     "output_type": "execute_result"
    }
   ],
   "source": [
    "df.dtypes"
   ]
  },
  {
   "cell_type": "markdown",
   "metadata": {},
   "source": [
    "## Handling NaN values"
   ]
  },
  {
   "cell_type": "code",
   "execution_count": 261,
   "metadata": {},
   "outputs": [
    {
     "data": {
      "text/plain": [
       "Index(['location', 'size', 'society', 'total_sqft', 'bath', 'balcony',\n",
       "       'price'],\n",
       "      dtype='object')"
      ]
     },
     "execution_count": 261,
     "metadata": {},
     "output_type": "execute_result"
    }
   ],
   "source": [
    "df.keys()"
   ]
  },
  {
   "cell_type": "code",
   "execution_count": 264,
   "metadata": {},
   "outputs": [
    {
     "data": {
      "text/plain": [
       "location         1\n",
       "size            16\n",
       "society       5502\n",
       "total_sqft       0\n",
       "bath            73\n",
       "balcony        609\n",
       "price            0\n",
       "dtype: int64"
      ]
     },
     "execution_count": 264,
     "metadata": {},
     "output_type": "execute_result"
    }
   ],
   "source": [
    "df.isna().sum()"
   ]
  },
  {
   "cell_type": "code",
   "execution_count": 267,
   "metadata": {},
   "outputs": [
    {
     "data": {
      "text/html": [
       "<div>\n",
       "<style scoped>\n",
       "    .dataframe tbody tr th:only-of-type {\n",
       "        vertical-align: middle;\n",
       "    }\n",
       "\n",
       "    .dataframe tbody tr th {\n",
       "        vertical-align: top;\n",
       "    }\n",
       "\n",
       "    .dataframe thead th {\n",
       "        text-align: right;\n",
       "    }\n",
       "</style>\n",
       "<table border=\"1\" class=\"dataframe\">\n",
       "  <thead>\n",
       "    <tr style=\"text-align: right;\">\n",
       "      <th></th>\n",
       "      <th>location</th>\n",
       "      <th>size</th>\n",
       "      <th>society</th>\n",
       "      <th>total_sqft</th>\n",
       "      <th>bath</th>\n",
       "      <th>balcony</th>\n",
       "      <th>price</th>\n",
       "    </tr>\n",
       "  </thead>\n",
       "  <tbody>\n",
       "    <tr>\n",
       "      <th>568</th>\n",
       "      <td>NaN</td>\n",
       "      <td>3 BHK</td>\n",
       "      <td>Grare S</td>\n",
       "      <td>1600.0</td>\n",
       "      <td>3.0</td>\n",
       "      <td>2.0</td>\n",
       "      <td>86.0</td>\n",
       "    </tr>\n",
       "  </tbody>\n",
       "</table>\n",
       "</div>"
      ],
      "text/plain": [
       "    location   size  society  total_sqft  bath  balcony  price\n",
       "568      NaN  3 BHK  Grare S      1600.0   3.0      2.0   86.0"
      ]
     },
     "execution_count": 267,
     "metadata": {},
     "output_type": "execute_result"
    }
   ],
   "source": [
    "df[df['location'].isna()]"
   ]
  },
  {
   "cell_type": "code",
   "execution_count": 268,
   "metadata": {},
   "outputs": [
    {
     "data": {
      "text/plain": [
       "0    Whitefield\n",
       "Name: location, dtype: object"
      ]
     },
     "execution_count": 268,
     "metadata": {},
     "output_type": "execute_result"
    }
   ],
   "source": [
    "df['location'].mode()"
   ]
  },
  {
   "cell_type": "code",
   "execution_count": 269,
   "metadata": {},
   "outputs": [],
   "source": [
    "df[df['location'].isna()]='Whitefield'"
   ]
  },
  {
   "cell_type": "code",
   "execution_count": 271,
   "metadata": {},
   "outputs": [
    {
     "data": {
      "text/plain": [
       "location         0\n",
       "size            16\n",
       "society       5502\n",
       "total_sqft       0\n",
       "bath            73\n",
       "balcony        609\n",
       "price            0\n",
       "dtype: int64"
      ]
     },
     "execution_count": 271,
     "metadata": {},
     "output_type": "execute_result"
    }
   ],
   "source": [
    "df.isna().sum()"
   ]
  },
  {
   "cell_type": "markdown",
   "metadata": {},
   "source": [
    "### 'location', 'size', 'society' are categorical data"
   ]
  },
  {
   "cell_type": "code",
   "execution_count": 272,
   "metadata": {},
   "outputs": [
    {
     "data": {
      "text/plain": [
       "0    2.0\n",
       "Name: balcony, dtype: object"
      ]
     },
     "execution_count": 272,
     "metadata": {},
     "output_type": "execute_result"
    }
   ],
   "source": [
    "df['balcony'].mode()"
   ]
  },
  {
   "cell_type": "code",
   "execution_count": 275,
   "metadata": {},
   "outputs": [
    {
     "data": {
      "text/plain": [
       "balcony\n",
       "2.0           5112\n",
       "1.0           4897\n",
       "3.0           1672\n",
       "0.0           1029\n",
       "Whitefield       1\n",
       "Name: count, dtype: int64"
      ]
     },
     "execution_count": 275,
     "metadata": {},
     "output_type": "execute_result"
    }
   ],
   "source": [
    "df['balcony'].value_counts()"
   ]
  },
  {
   "cell_type": "code",
   "execution_count": 277,
   "metadata": {},
   "outputs": [
    {
     "data": {
      "text/html": [
       "<div>\n",
       "<style scoped>\n",
       "    .dataframe tbody tr th:only-of-type {\n",
       "        vertical-align: middle;\n",
       "    }\n",
       "\n",
       "    .dataframe tbody tr th {\n",
       "        vertical-align: top;\n",
       "    }\n",
       "\n",
       "    .dataframe thead th {\n",
       "        text-align: right;\n",
       "    }\n",
       "</style>\n",
       "<table border=\"1\" class=\"dataframe\">\n",
       "  <thead>\n",
       "    <tr style=\"text-align: right;\">\n",
       "      <th></th>\n",
       "      <th>location</th>\n",
       "      <th>size</th>\n",
       "      <th>society</th>\n",
       "      <th>total_sqft</th>\n",
       "      <th>bath</th>\n",
       "      <th>balcony</th>\n",
       "      <th>price</th>\n",
       "    </tr>\n",
       "  </thead>\n",
       "  <tbody>\n",
       "    <tr>\n",
       "      <th>0</th>\n",
       "      <td>Electronic City Phase II</td>\n",
       "      <td>2 BHK</td>\n",
       "      <td>Coomee</td>\n",
       "      <td>1056.0</td>\n",
       "      <td>2.0</td>\n",
       "      <td>1.0</td>\n",
       "      <td>39.07</td>\n",
       "    </tr>\n",
       "    <tr>\n",
       "      <th>1</th>\n",
       "      <td>Chikka Tirupathi</td>\n",
       "      <td>4 Bedroom</td>\n",
       "      <td>Theanmp</td>\n",
       "      <td>2600.0</td>\n",
       "      <td>5.0</td>\n",
       "      <td>3.0</td>\n",
       "      <td>120.0</td>\n",
       "    </tr>\n",
       "    <tr>\n",
       "      <th>2</th>\n",
       "      <td>Uttarahalli</td>\n",
       "      <td>3 BHK</td>\n",
       "      <td>NaN</td>\n",
       "      <td>1440.0</td>\n",
       "      <td>2.0</td>\n",
       "      <td>3.0</td>\n",
       "      <td>62.0</td>\n",
       "    </tr>\n",
       "  </tbody>\n",
       "</table>\n",
       "</div>"
      ],
      "text/plain": [
       "                   location       size  society total_sqft bath balcony  price\n",
       "0  Electronic City Phase II      2 BHK  Coomee      1056.0  2.0     1.0  39.07\n",
       "1          Chikka Tirupathi  4 Bedroom  Theanmp     2600.0  5.0     3.0  120.0\n",
       "2               Uttarahalli      3 BHK      NaN     1440.0  2.0     3.0   62.0"
      ]
     },
     "execution_count": 277,
     "metadata": {},
     "output_type": "execute_result"
    }
   ],
   "source": [
    "df.head(3)"
   ]
  },
  {
   "cell_type": "code",
   "execution_count": 279,
   "metadata": {},
   "outputs": [
    {
     "data": {
      "text/plain": [
       "(13320, 7)"
      ]
     },
     "execution_count": 279,
     "metadata": {},
     "output_type": "execute_result"
    }
   ],
   "source": [
    "df.shape"
   ]
  },
  {
   "cell_type": "code",
   "execution_count": 282,
   "metadata": {},
   "outputs": [],
   "source": [
    "df.drop(568,inplace=True)"
   ]
  },
  {
   "cell_type": "code",
   "execution_count": 283,
   "metadata": {},
   "outputs": [
    {
     "data": {
      "text/plain": [
       "(13319, 7)"
      ]
     },
     "execution_count": 283,
     "metadata": {},
     "output_type": "execute_result"
    }
   ],
   "source": [
    "df.shape"
   ]
  },
  {
   "cell_type": "code",
   "execution_count": 284,
   "metadata": {},
   "outputs": [
    {
     "data": {
      "text/html": [
       "<div>\n",
       "<style scoped>\n",
       "    .dataframe tbody tr th:only-of-type {\n",
       "        vertical-align: middle;\n",
       "    }\n",
       "\n",
       "    .dataframe tbody tr th {\n",
       "        vertical-align: top;\n",
       "    }\n",
       "\n",
       "    .dataframe thead th {\n",
       "        text-align: right;\n",
       "    }\n",
       "</style>\n",
       "<table border=\"1\" class=\"dataframe\">\n",
       "  <thead>\n",
       "    <tr style=\"text-align: right;\">\n",
       "      <th></th>\n",
       "      <th>location</th>\n",
       "      <th>size</th>\n",
       "      <th>society</th>\n",
       "      <th>total_sqft</th>\n",
       "      <th>bath</th>\n",
       "      <th>balcony</th>\n",
       "      <th>price</th>\n",
       "    </tr>\n",
       "  </thead>\n",
       "  <tbody>\n",
       "    <tr>\n",
       "      <th>564</th>\n",
       "      <td>Bommasandra</td>\n",
       "      <td>2 BHK</td>\n",
       "      <td>DSoodil</td>\n",
       "      <td>1126.0</td>\n",
       "      <td>2.0</td>\n",
       "      <td>1.0</td>\n",
       "      <td>28.15</td>\n",
       "    </tr>\n",
       "    <tr>\n",
       "      <th>565</th>\n",
       "      <td>Electronics City Phase 1</td>\n",
       "      <td>3 BHK</td>\n",
       "      <td>GaicaVe</td>\n",
       "      <td>1490.0</td>\n",
       "      <td>3.0</td>\n",
       "      <td>1.0</td>\n",
       "      <td>84.0</td>\n",
       "    </tr>\n",
       "    <tr>\n",
       "      <th>566</th>\n",
       "      <td>HRBR Layout</td>\n",
       "      <td>4 Bedroom</td>\n",
       "      <td>NaN</td>\n",
       "      <td>2000.0</td>\n",
       "      <td>4.0</td>\n",
       "      <td>1.0</td>\n",
       "      <td>300.0</td>\n",
       "    </tr>\n",
       "    <tr>\n",
       "      <th>567</th>\n",
       "      <td>Sarjapur  Road</td>\n",
       "      <td>3 BHK</td>\n",
       "      <td>PuineSu</td>\n",
       "      <td>1550.0</td>\n",
       "      <td>3.0</td>\n",
       "      <td>3.0</td>\n",
       "      <td>100.0</td>\n",
       "    </tr>\n",
       "    <tr>\n",
       "      <th>569</th>\n",
       "      <td>Ashwini layout</td>\n",
       "      <td>2 BHK</td>\n",
       "      <td>NaN</td>\n",
       "      <td>1160.0</td>\n",
       "      <td>2.0</td>\n",
       "      <td>1.0</td>\n",
       "      <td>55.0</td>\n",
       "    </tr>\n",
       "  </tbody>\n",
       "</table>\n",
       "</div>"
      ],
      "text/plain": [
       "                     location       size  society total_sqft bath balcony  \\\n",
       "564               Bommasandra      2 BHK  DSoodil     1126.0  2.0     1.0   \n",
       "565  Electronics City Phase 1      3 BHK  GaicaVe     1490.0  3.0     1.0   \n",
       "566               HRBR Layout  4 Bedroom      NaN     2000.0  4.0     1.0   \n",
       "567            Sarjapur  Road      3 BHK  PuineSu     1550.0  3.0     3.0   \n",
       "569            Ashwini layout      2 BHK      NaN     1160.0  2.0     1.0   \n",
       "\n",
       "     price  \n",
       "564  28.15  \n",
       "565   84.0  \n",
       "566  300.0  \n",
       "567  100.0  \n",
       "569   55.0  "
      ]
     },
     "execution_count": 284,
     "metadata": {},
     "output_type": "execute_result"
    }
   ],
   "source": [
    "df.loc[564:569]"
   ]
  },
  {
   "cell_type": "code",
   "execution_count": 285,
   "metadata": {},
   "outputs": [],
   "source": [
    "df.reset_index(inplace= True)"
   ]
  },
  {
   "cell_type": "code",
   "execution_count": 287,
   "metadata": {},
   "outputs": [],
   "source": [
    "df.drop(\"index\",inplace=True,axis=1)"
   ]
  },
  {
   "cell_type": "code",
   "execution_count": 288,
   "metadata": {},
   "outputs": [
    {
     "data": {
      "text/html": [
       "<div>\n",
       "<style scoped>\n",
       "    .dataframe tbody tr th:only-of-type {\n",
       "        vertical-align: middle;\n",
       "    }\n",
       "\n",
       "    .dataframe tbody tr th {\n",
       "        vertical-align: top;\n",
       "    }\n",
       "\n",
       "    .dataframe thead th {\n",
       "        text-align: right;\n",
       "    }\n",
       "</style>\n",
       "<table border=\"1\" class=\"dataframe\">\n",
       "  <thead>\n",
       "    <tr style=\"text-align: right;\">\n",
       "      <th></th>\n",
       "      <th>location</th>\n",
       "      <th>size</th>\n",
       "      <th>society</th>\n",
       "      <th>total_sqft</th>\n",
       "      <th>bath</th>\n",
       "      <th>balcony</th>\n",
       "      <th>price</th>\n",
       "    </tr>\n",
       "  </thead>\n",
       "  <tbody>\n",
       "    <tr>\n",
       "      <th>564</th>\n",
       "      <td>Bommasandra</td>\n",
       "      <td>2 BHK</td>\n",
       "      <td>DSoodil</td>\n",
       "      <td>1126.0</td>\n",
       "      <td>2.0</td>\n",
       "      <td>1.0</td>\n",
       "      <td>28.15</td>\n",
       "    </tr>\n",
       "    <tr>\n",
       "      <th>565</th>\n",
       "      <td>Electronics City Phase 1</td>\n",
       "      <td>3 BHK</td>\n",
       "      <td>GaicaVe</td>\n",
       "      <td>1490.0</td>\n",
       "      <td>3.0</td>\n",
       "      <td>1.0</td>\n",
       "      <td>84.0</td>\n",
       "    </tr>\n",
       "    <tr>\n",
       "      <th>566</th>\n",
       "      <td>HRBR Layout</td>\n",
       "      <td>4 Bedroom</td>\n",
       "      <td>NaN</td>\n",
       "      <td>2000.0</td>\n",
       "      <td>4.0</td>\n",
       "      <td>1.0</td>\n",
       "      <td>300.0</td>\n",
       "    </tr>\n",
       "    <tr>\n",
       "      <th>567</th>\n",
       "      <td>Sarjapur  Road</td>\n",
       "      <td>3 BHK</td>\n",
       "      <td>PuineSu</td>\n",
       "      <td>1550.0</td>\n",
       "      <td>3.0</td>\n",
       "      <td>3.0</td>\n",
       "      <td>100.0</td>\n",
       "    </tr>\n",
       "    <tr>\n",
       "      <th>568</th>\n",
       "      <td>Ashwini layout</td>\n",
       "      <td>2 BHK</td>\n",
       "      <td>NaN</td>\n",
       "      <td>1160.0</td>\n",
       "      <td>2.0</td>\n",
       "      <td>1.0</td>\n",
       "      <td>55.0</td>\n",
       "    </tr>\n",
       "    <tr>\n",
       "      <th>569</th>\n",
       "      <td>Whitefield</td>\n",
       "      <td>4 Bedroom</td>\n",
       "      <td>PrOakSi</td>\n",
       "      <td>4144.0</td>\n",
       "      <td>4.0</td>\n",
       "      <td>3.0</td>\n",
       "      <td>315.0</td>\n",
       "    </tr>\n",
       "  </tbody>\n",
       "</table>\n",
       "</div>"
      ],
      "text/plain": [
       "                     location       size  society total_sqft bath balcony  \\\n",
       "564               Bommasandra      2 BHK  DSoodil     1126.0  2.0     1.0   \n",
       "565  Electronics City Phase 1      3 BHK  GaicaVe     1490.0  3.0     1.0   \n",
       "566               HRBR Layout  4 Bedroom      NaN     2000.0  4.0     1.0   \n",
       "567            Sarjapur  Road      3 BHK  PuineSu     1550.0  3.0     3.0   \n",
       "568            Ashwini layout      2 BHK      NaN     1160.0  2.0     1.0   \n",
       "569                Whitefield  4 Bedroom  PrOakSi     4144.0  4.0     3.0   \n",
       "\n",
       "     price  \n",
       "564  28.15  \n",
       "565   84.0  \n",
       "566  300.0  \n",
       "567  100.0  \n",
       "568   55.0  \n",
       "569  315.0  "
      ]
     },
     "execution_count": 288,
     "metadata": {},
     "output_type": "execute_result"
    }
   ],
   "source": [
    "df.loc[564:569]"
   ]
  },
  {
   "cell_type": "code",
   "execution_count": 289,
   "metadata": {},
   "outputs": [
    {
     "data": {
      "text/plain": [
       "location         0\n",
       "size            16\n",
       "society       5502\n",
       "total_sqft       0\n",
       "bath            73\n",
       "balcony        609\n",
       "price            0\n",
       "dtype: int64"
      ]
     },
     "execution_count": 289,
     "metadata": {},
     "output_type": "execute_result"
    }
   ],
   "source": [
    "df.isna().sum()"
   ]
  },
  {
   "cell_type": "code",
   "execution_count": 297,
   "metadata": {},
   "outputs": [
    {
     "data": {
      "text/plain": [
       "bath\n",
       "2.0     6908\n",
       "3.0     3285\n",
       "4.0     1226\n",
       "1.0      788\n",
       "5.0      524\n",
       "6.0      273\n",
       "7.0      102\n",
       "8.0       64\n",
       "9.0       43\n",
       "10.0      13\n",
       "12.0       7\n",
       "13.0       3\n",
       "11.0       3\n",
       "16.0       2\n",
       "27.0       1\n",
       "40.0       1\n",
       "15.0       1\n",
       "14.0       1\n",
       "18.0       1\n",
       "Name: count, dtype: int64"
      ]
     },
     "execution_count": 297,
     "metadata": {},
     "output_type": "execute_result"
    }
   ],
   "source": [
    "df['bath'].value_counts()"
   ]
  },
  {
   "cell_type": "code",
   "execution_count": 296,
   "metadata": {},
   "outputs": [
    {
     "data": {
      "text/plain": [
       "56       NaN\n",
       "81       NaN\n",
       "224      NaN\n",
       "344      NaN\n",
       "578      NaN\n",
       "        ... \n",
       "11495    NaN\n",
       "11568    NaN\n",
       "12767    NaN\n",
       "12860    NaN\n",
       "13239    NaN\n",
       "Name: bath, Length: 73, dtype: object"
      ]
     },
     "execution_count": 296,
     "metadata": {},
     "output_type": "execute_result"
    }
   ],
   "source": [
    "df['bath'].loc[df['bath'].isna()]"
   ]
  },
  {
   "cell_type": "code",
   "execution_count": 298,
   "metadata": {},
   "outputs": [],
   "source": [
    "df['bath'].loc[df['bath'].isna()]=788"
   ]
  },
  {
   "cell_type": "code",
   "execution_count": 299,
   "metadata": {},
   "outputs": [
    {
     "data": {
      "text/plain": [
       "location         0\n",
       "size            16\n",
       "society       5502\n",
       "total_sqft       0\n",
       "bath             0\n",
       "balcony        609\n",
       "price            0\n",
       "dtype: int64"
      ]
     },
     "execution_count": 299,
     "metadata": {},
     "output_type": "execute_result"
    }
   ],
   "source": [
    "df.isna().sum()"
   ]
  },
  {
   "cell_type": "code",
   "execution_count": 300,
   "metadata": {},
   "outputs": [
    {
     "data": {
      "text/plain": [
       "size\n",
       "2 BHK         5199\n",
       "3 BHK         4309\n",
       "4 Bedroom      826\n",
       "4 BHK          591\n",
       "3 Bedroom      547\n",
       "1 BHK          538\n",
       "2 Bedroom      329\n",
       "5 Bedroom      297\n",
       "6 Bedroom      191\n",
       "1 Bedroom      105\n",
       "8 Bedroom       84\n",
       "7 Bedroom       83\n",
       "5 BHK           59\n",
       "9 Bedroom       46\n",
       "6 BHK           30\n",
       "7 BHK           17\n",
       "1 RK            13\n",
       "10 Bedroom      12\n",
       "9 BHK            8\n",
       "8 BHK            5\n",
       "11 BHK           2\n",
       "11 Bedroom       2\n",
       "10 BHK           2\n",
       "14 BHK           1\n",
       "13 BHK           1\n",
       "12 Bedroom       1\n",
       "27 BHK           1\n",
       "43 Bedroom       1\n",
       "16 BHK           1\n",
       "19 BHK           1\n",
       "18 Bedroom       1\n",
       "Name: count, dtype: int64"
      ]
     },
     "execution_count": 300,
     "metadata": {},
     "output_type": "execute_result"
    }
   ],
   "source": [
    "df['size'].value_counts()"
   ]
  },
  {
   "cell_type": "code",
   "execution_count": 302,
   "metadata": {},
   "outputs": [],
   "source": [
    "df['size'].loc[df['size'].isna()]='1 Bedroom'"
   ]
  },
  {
   "cell_type": "code",
   "execution_count": 303,
   "metadata": {},
   "outputs": [
    {
     "data": {
      "text/plain": [
       "location         0\n",
       "size             0\n",
       "society       5502\n",
       "total_sqft       0\n",
       "bath             0\n",
       "balcony        609\n",
       "price            0\n",
       "dtype: int64"
      ]
     },
     "execution_count": 303,
     "metadata": {},
     "output_type": "execute_result"
    }
   ],
   "source": [
    "df.isna().sum()"
   ]
  },
  {
   "cell_type": "code",
   "execution_count": 310,
   "metadata": {},
   "outputs": [
    {
     "data": {
      "text/html": [
       "<div>\n",
       "<style scoped>\n",
       "    .dataframe tbody tr th:only-of-type {\n",
       "        vertical-align: middle;\n",
       "    }\n",
       "\n",
       "    .dataframe tbody tr th {\n",
       "        vertical-align: top;\n",
       "    }\n",
       "\n",
       "    .dataframe thead th {\n",
       "        text-align: right;\n",
       "    }\n",
       "</style>\n",
       "<table border=\"1\" class=\"dataframe\">\n",
       "  <thead>\n",
       "    <tr style=\"text-align: right;\">\n",
       "      <th></th>\n",
       "      <th>location</th>\n",
       "      <th>size</th>\n",
       "      <th>society</th>\n",
       "      <th>total_sqft</th>\n",
       "      <th>bath</th>\n",
       "      <th>balcony</th>\n",
       "      <th>price</th>\n",
       "    </tr>\n",
       "  </thead>\n",
       "  <tbody>\n",
       "    <tr>\n",
       "      <th>0</th>\n",
       "      <td>Electronic City Phase II</td>\n",
       "      <td>2 BHK</td>\n",
       "      <td>Coomee</td>\n",
       "      <td>1056.0</td>\n",
       "      <td>2.0</td>\n",
       "      <td>1.0</td>\n",
       "      <td>39.07</td>\n",
       "    </tr>\n",
       "    <tr>\n",
       "      <th>1</th>\n",
       "      <td>Chikka Tirupathi</td>\n",
       "      <td>4 Bedroom</td>\n",
       "      <td>Theanmp</td>\n",
       "      <td>2600.0</td>\n",
       "      <td>5.0</td>\n",
       "      <td>3.0</td>\n",
       "      <td>120.0</td>\n",
       "    </tr>\n",
       "    <tr>\n",
       "      <th>2</th>\n",
       "      <td>Uttarahalli</td>\n",
       "      <td>3 BHK</td>\n",
       "      <td>NaN</td>\n",
       "      <td>1440.0</td>\n",
       "      <td>2.0</td>\n",
       "      <td>3.0</td>\n",
       "      <td>62.0</td>\n",
       "    </tr>\n",
       "    <tr>\n",
       "      <th>3</th>\n",
       "      <td>Lingadheeranahalli</td>\n",
       "      <td>3 BHK</td>\n",
       "      <td>Soiewre</td>\n",
       "      <td>1521.0</td>\n",
       "      <td>3.0</td>\n",
       "      <td>1.0</td>\n",
       "      <td>95.0</td>\n",
       "    </tr>\n",
       "    <tr>\n",
       "      <th>4</th>\n",
       "      <td>Kothanur</td>\n",
       "      <td>2 BHK</td>\n",
       "      <td>NaN</td>\n",
       "      <td>1200.0</td>\n",
       "      <td>2.0</td>\n",
       "      <td>1.0</td>\n",
       "      <td>51.0</td>\n",
       "    </tr>\n",
       "  </tbody>\n",
       "</table>\n",
       "</div>"
      ],
      "text/plain": [
       "                   location       size  society total_sqft bath balcony  price\n",
       "0  Electronic City Phase II      2 BHK  Coomee      1056.0  2.0     1.0  39.07\n",
       "1          Chikka Tirupathi  4 Bedroom  Theanmp     2600.0  5.0     3.0  120.0\n",
       "2               Uttarahalli      3 BHK      NaN     1440.0  2.0     3.0   62.0\n",
       "3        Lingadheeranahalli      3 BHK  Soiewre     1521.0  3.0     1.0   95.0\n",
       "4                  Kothanur      2 BHK      NaN     1200.0  2.0     1.0   51.0"
      ]
     },
     "execution_count": 310,
     "metadata": {},
     "output_type": "execute_result"
    }
   ],
   "source": [
    "df.head()"
   ]
  },
  {
   "cell_type": "code",
   "execution_count": 312,
   "metadata": {},
   "outputs": [],
   "source": [
    "df[['total_sqft','bath','balcony','price']]=df[['total_sqft','bath','balcony','price']].astype(float)"
   ]
  },
  {
   "cell_type": "code",
   "execution_count": 313,
   "metadata": {},
   "outputs": [
    {
     "data": {
      "text/plain": [
       "location       object\n",
       "size           object\n",
       "society        object\n",
       "total_sqft    float64\n",
       "bath          float64\n",
       "balcony       float64\n",
       "price         float64\n",
       "dtype: object"
      ]
     },
     "execution_count": 313,
     "metadata": {},
     "output_type": "execute_result"
    }
   ],
   "source": [
    "df.dtypes"
   ]
  },
  {
   "cell_type": "code",
   "execution_count": 314,
   "metadata": {},
   "outputs": [
    {
     "data": {
      "text/plain": [
       "Index(['location', 'size', 'society', 'total_sqft', 'bath', 'balcony',\n",
       "       'price'],\n",
       "      dtype='object')"
      ]
     },
     "execution_count": 314,
     "metadata": {},
     "output_type": "execute_result"
    }
   ],
   "source": [
    "df.keys()"
   ]
  },
  {
   "cell_type": "markdown",
   "metadata": {},
   "source": [
    "### We have to fill society and balcony but we have to encode society beacuse balcony is float"
   ]
  },
  {
   "cell_type": "code",
   "execution_count": 315,
   "metadata": {},
   "outputs": [
    {
     "data": {
      "text/plain": [
       "location         0\n",
       "size             0\n",
       "society       5502\n",
       "total_sqft       0\n",
       "bath             0\n",
       "balcony        609\n",
       "price            0\n",
       "dtype: int64"
      ]
     },
     "execution_count": 315,
     "metadata": {},
     "output_type": "execute_result"
    }
   ],
   "source": [
    "df.isna().sum()"
   ]
  },
  {
   "cell_type": "code",
   "execution_count": 317,
   "metadata": {},
   "outputs": [
    {
     "data": {
      "text/plain": [
       "balcony\n",
       "2.0    5112\n",
       "1.0    4897\n",
       "3.0    1672\n",
       "0.0    1029\n",
       "Name: count, dtype: int64"
      ]
     },
     "execution_count": 317,
     "metadata": {},
     "output_type": "execute_result"
    }
   ],
   "source": [
    "df['balcony'].value_counts() # give 306 values to 3.0 and 303 vlues to 0.0"
   ]
  },
  {
   "cell_type": "code",
   "execution_count": 343,
   "metadata": {},
   "outputs": [],
   "source": [
    "ind_306=df['balcony'].loc[df['balcony'].isna()][0:306].index"
   ]
  },
  {
   "cell_type": "code",
   "execution_count": 344,
   "metadata": {},
   "outputs": [],
   "source": [
    "ind_303=df['balcony'].loc[df['balcony'].isna()][306:609].index"
   ]
  },
  {
   "cell_type": "code",
   "execution_count": 342,
   "metadata": {},
   "outputs": [
    {
     "data": {
      "text/plain": [
       "nan"
      ]
     },
     "execution_count": 342,
     "metadata": {},
     "output_type": "execute_result"
    }
   ],
   "source": [
    "df['balcony'].iloc[6214]"
   ]
  },
  {
   "cell_type": "code",
   "execution_count": 334,
   "metadata": {},
   "outputs": [
    {
     "data": {
      "text/plain": [
       "location         0\n",
       "size             0\n",
       "society       5502\n",
       "total_sqft       0\n",
       "bath             0\n",
       "balcony        609\n",
       "price            0\n",
       "dtype: int64"
      ]
     },
     "execution_count": 334,
     "metadata": {},
     "output_type": "execute_result"
    }
   ],
   "source": [
    "df.isna().sum()"
   ]
  },
  {
   "cell_type": "code",
   "execution_count": 335,
   "metadata": {},
   "outputs": [
    {
     "data": {
      "text/plain": [
       "location       object\n",
       "size           object\n",
       "society        object\n",
       "total_sqft    float64\n",
       "bath          float64\n",
       "balcony       float64\n",
       "price         float64\n",
       "dtype: object"
      ]
     },
     "execution_count": 335,
     "metadata": {},
     "output_type": "execute_result"
    }
   ],
   "source": [
    "df.dtypes"
   ]
  },
  {
   "cell_type": "code",
   "execution_count": 345,
   "metadata": {},
   "outputs": [],
   "source": [
    "for i in ind_306:\n",
    "    df['balcony'].iloc[i]=3.0\n",
    "for i in ind_303:\n",
    "    df['balcony'].iloc[i]=0.0"
   ]
  },
  {
   "cell_type": "code",
   "execution_count": 346,
   "metadata": {},
   "outputs": [
    {
     "data": {
      "text/plain": [
       "location         0\n",
       "size             0\n",
       "society       5502\n",
       "total_sqft       0\n",
       "bath             0\n",
       "balcony          0\n",
       "price            0\n",
       "dtype: int64"
      ]
     },
     "execution_count": 346,
     "metadata": {},
     "output_type": "execute_result"
    }
   ],
   "source": [
    "df.isna().sum()"
   ]
  },
  {
   "cell_type": "code",
   "execution_count": 347,
   "metadata": {},
   "outputs": [
    {
     "data": {
      "text/plain": [
       "society\n",
       "GrrvaGr    80\n",
       "PrarePa    76\n",
       "Prtates    59\n",
       "Sryalan    59\n",
       "GMown E    56\n",
       "           ..\n",
       "Sants A     1\n",
       "BDlexHo     1\n",
       "Shine S     1\n",
       "Pelle P     1\n",
       "RSntsAp     1\n",
       "Name: count, Length: 2688, dtype: int64"
      ]
     },
     "execution_count": 347,
     "metadata": {},
     "output_type": "execute_result"
    }
   ],
   "source": [
    "df['society'].value_counts()"
   ]
  },
  {
   "cell_type": "code",
   "execution_count": 350,
   "metadata": {},
   "outputs": [
    {
     "data": {
      "text/plain": [
       "location       object\n",
       "size           object\n",
       "society        object\n",
       "total_sqft    float64\n",
       "bath          float64\n",
       "balcony       float64\n",
       "price         float64\n",
       "dtype: object"
      ]
     },
     "execution_count": 350,
     "metadata": {},
     "output_type": "execute_result"
    }
   ],
   "source": [
    "df.dtypes"
   ]
  },
  {
   "cell_type": "markdown",
   "metadata": {},
   "source": [
    "##  dropping society"
   ]
  },
  {
   "cell_type": "code",
   "execution_count": 351,
   "metadata": {},
   "outputs": [
    {
     "data": {
      "text/html": [
       "<div>\n",
       "<style scoped>\n",
       "    .dataframe tbody tr th:only-of-type {\n",
       "        vertical-align: middle;\n",
       "    }\n",
       "\n",
       "    .dataframe tbody tr th {\n",
       "        vertical-align: top;\n",
       "    }\n",
       "\n",
       "    .dataframe thead th {\n",
       "        text-align: right;\n",
       "    }\n",
       "</style>\n",
       "<table border=\"1\" class=\"dataframe\">\n",
       "  <thead>\n",
       "    <tr style=\"text-align: right;\">\n",
       "      <th></th>\n",
       "      <th>location</th>\n",
       "      <th>size</th>\n",
       "      <th>society</th>\n",
       "    </tr>\n",
       "  </thead>\n",
       "  <tbody>\n",
       "    <tr>\n",
       "      <th>0</th>\n",
       "      <td>Electronic City Phase II</td>\n",
       "      <td>2 BHK</td>\n",
       "      <td>Coomee</td>\n",
       "    </tr>\n",
       "    <tr>\n",
       "      <th>1</th>\n",
       "      <td>Chikka Tirupathi</td>\n",
       "      <td>4 Bedroom</td>\n",
       "      <td>Theanmp</td>\n",
       "    </tr>\n",
       "    <tr>\n",
       "      <th>2</th>\n",
       "      <td>Uttarahalli</td>\n",
       "      <td>3 BHK</td>\n",
       "      <td>NaN</td>\n",
       "    </tr>\n",
       "    <tr>\n",
       "      <th>3</th>\n",
       "      <td>Lingadheeranahalli</td>\n",
       "      <td>3 BHK</td>\n",
       "      <td>Soiewre</td>\n",
       "    </tr>\n",
       "    <tr>\n",
       "      <th>4</th>\n",
       "      <td>Kothanur</td>\n",
       "      <td>2 BHK</td>\n",
       "      <td>NaN</td>\n",
       "    </tr>\n",
       "    <tr>\n",
       "      <th>...</th>\n",
       "      <td>...</td>\n",
       "      <td>...</td>\n",
       "      <td>...</td>\n",
       "    </tr>\n",
       "    <tr>\n",
       "      <th>13314</th>\n",
       "      <td>Whitefield</td>\n",
       "      <td>5 Bedroom</td>\n",
       "      <td>ArsiaEx</td>\n",
       "    </tr>\n",
       "    <tr>\n",
       "      <th>13315</th>\n",
       "      <td>Richards Town</td>\n",
       "      <td>4 BHK</td>\n",
       "      <td>NaN</td>\n",
       "    </tr>\n",
       "    <tr>\n",
       "      <th>13316</th>\n",
       "      <td>Raja Rajeshwari Nagar</td>\n",
       "      <td>2 BHK</td>\n",
       "      <td>Mahla T</td>\n",
       "    </tr>\n",
       "    <tr>\n",
       "      <th>13317</th>\n",
       "      <td>Padmanabhanagar</td>\n",
       "      <td>4 BHK</td>\n",
       "      <td>SollyCl</td>\n",
       "    </tr>\n",
       "    <tr>\n",
       "      <th>13318</th>\n",
       "      <td>Doddathoguru</td>\n",
       "      <td>1 BHK</td>\n",
       "      <td>NaN</td>\n",
       "    </tr>\n",
       "  </tbody>\n",
       "</table>\n",
       "<p>13319 rows × 3 columns</p>\n",
       "</div>"
      ],
      "text/plain": [
       "                       location       size  society\n",
       "0      Electronic City Phase II      2 BHK  Coomee \n",
       "1              Chikka Tirupathi  4 Bedroom  Theanmp\n",
       "2                   Uttarahalli      3 BHK      NaN\n",
       "3            Lingadheeranahalli      3 BHK  Soiewre\n",
       "4                      Kothanur      2 BHK      NaN\n",
       "...                         ...        ...      ...\n",
       "13314                Whitefield  5 Bedroom  ArsiaEx\n",
       "13315             Richards Town      4 BHK      NaN\n",
       "13316     Raja Rajeshwari Nagar      2 BHK  Mahla T\n",
       "13317           Padmanabhanagar      4 BHK  SollyCl\n",
       "13318              Doddathoguru      1 BHK      NaN\n",
       "\n",
       "[13319 rows x 3 columns]"
      ]
     },
     "execution_count": 351,
     "metadata": {},
     "output_type": "execute_result"
    }
   ],
   "source": [
    "df[['location','size','society']]"
   ]
  },
  {
   "cell_type": "code",
   "execution_count": 353,
   "metadata": {},
   "outputs": [],
   "source": [
    "df.drop(\"society\",axis=1,inplace=True)"
   ]
  },
  {
   "cell_type": "code",
   "execution_count": 354,
   "metadata": {},
   "outputs": [
    {
     "data": {
      "text/plain": [
       "location\n",
       "Whitefield                        540\n",
       "Sarjapur  Road                    399\n",
       "Electronic City                   302\n",
       "Kanakpura Road                    273\n",
       "Thanisandra                       234\n",
       "                                 ... \n",
       "Bapuji Layout                       1\n",
       "1st Stage Radha Krishna Layout      1\n",
       "BEML Layout 5th stage               1\n",
       "singapura paradise                  1\n",
       "Abshot Layout                       1\n",
       "Name: count, Length: 1305, dtype: int64"
      ]
     },
     "execution_count": 354,
     "metadata": {},
     "output_type": "execute_result"
    }
   ],
   "source": [
    "df['location'].value_counts()"
   ]
  },
  {
   "cell_type": "code",
   "execution_count": 355,
   "metadata": {},
   "outputs": [
    {
     "data": {
      "text/plain": [
       "location       object\n",
       "size           object\n",
       "total_sqft    float64\n",
       "bath          float64\n",
       "balcony       float64\n",
       "price         float64\n",
       "dtype: object"
      ]
     },
     "execution_count": 355,
     "metadata": {},
     "output_type": "execute_result"
    }
   ],
   "source": [
    "df.dtypes"
   ]
  },
  {
   "cell_type": "code",
   "execution_count": 356,
   "metadata": {},
   "outputs": [
    {
     "data": {
      "text/plain": [
       "location      0\n",
       "size          0\n",
       "total_sqft    0\n",
       "bath          0\n",
       "balcony       0\n",
       "price         0\n",
       "dtype: int64"
      ]
     },
     "execution_count": 356,
     "metadata": {},
     "output_type": "execute_result"
    }
   ],
   "source": [
    "df.isna().sum()"
   ]
  },
  {
   "cell_type": "markdown",
   "metadata": {},
   "source": [
    "## Encoding phase of location and size"
   ]
  },
  {
   "cell_type": "code",
   "execution_count": 358,
   "metadata": {},
   "outputs": [
    {
     "data": {
      "text/html": [
       "<div>\n",
       "<style scoped>\n",
       "    .dataframe tbody tr th:only-of-type {\n",
       "        vertical-align: middle;\n",
       "    }\n",
       "\n",
       "    .dataframe tbody tr th {\n",
       "        vertical-align: top;\n",
       "    }\n",
       "\n",
       "    .dataframe thead th {\n",
       "        text-align: right;\n",
       "    }\n",
       "</style>\n",
       "<table border=\"1\" class=\"dataframe\">\n",
       "  <thead>\n",
       "    <tr style=\"text-align: right;\">\n",
       "      <th></th>\n",
       "      <th>location</th>\n",
       "      <th>size</th>\n",
       "    </tr>\n",
       "  </thead>\n",
       "  <tbody>\n",
       "    <tr>\n",
       "      <th>0</th>\n",
       "      <td>Electronic City Phase II</td>\n",
       "      <td>2 BHK</td>\n",
       "    </tr>\n",
       "    <tr>\n",
       "      <th>1</th>\n",
       "      <td>Chikka Tirupathi</td>\n",
       "      <td>4 Bedroom</td>\n",
       "    </tr>\n",
       "    <tr>\n",
       "      <th>2</th>\n",
       "      <td>Uttarahalli</td>\n",
       "      <td>3 BHK</td>\n",
       "    </tr>\n",
       "    <tr>\n",
       "      <th>3</th>\n",
       "      <td>Lingadheeranahalli</td>\n",
       "      <td>3 BHK</td>\n",
       "    </tr>\n",
       "    <tr>\n",
       "      <th>4</th>\n",
       "      <td>Kothanur</td>\n",
       "      <td>2 BHK</td>\n",
       "    </tr>\n",
       "    <tr>\n",
       "      <th>...</th>\n",
       "      <td>...</td>\n",
       "      <td>...</td>\n",
       "    </tr>\n",
       "    <tr>\n",
       "      <th>13314</th>\n",
       "      <td>Whitefield</td>\n",
       "      <td>5 Bedroom</td>\n",
       "    </tr>\n",
       "    <tr>\n",
       "      <th>13315</th>\n",
       "      <td>Richards Town</td>\n",
       "      <td>4 BHK</td>\n",
       "    </tr>\n",
       "    <tr>\n",
       "      <th>13316</th>\n",
       "      <td>Raja Rajeshwari Nagar</td>\n",
       "      <td>2 BHK</td>\n",
       "    </tr>\n",
       "    <tr>\n",
       "      <th>13317</th>\n",
       "      <td>Padmanabhanagar</td>\n",
       "      <td>4 BHK</td>\n",
       "    </tr>\n",
       "    <tr>\n",
       "      <th>13318</th>\n",
       "      <td>Doddathoguru</td>\n",
       "      <td>1 BHK</td>\n",
       "    </tr>\n",
       "  </tbody>\n",
       "</table>\n",
       "<p>13319 rows × 2 columns</p>\n",
       "</div>"
      ],
      "text/plain": [
       "                       location       size\n",
       "0      Electronic City Phase II      2 BHK\n",
       "1              Chikka Tirupathi  4 Bedroom\n",
       "2                   Uttarahalli      3 BHK\n",
       "3            Lingadheeranahalli      3 BHK\n",
       "4                      Kothanur      2 BHK\n",
       "...                         ...        ...\n",
       "13314                Whitefield  5 Bedroom\n",
       "13315             Richards Town      4 BHK\n",
       "13316     Raja Rajeshwari Nagar      2 BHK\n",
       "13317           Padmanabhanagar      4 BHK\n",
       "13318              Doddathoguru      1 BHK\n",
       "\n",
       "[13319 rows x 2 columns]"
      ]
     },
     "execution_count": 358,
     "metadata": {},
     "output_type": "execute_result"
    }
   ],
   "source": [
    "df[['location','size']]"
   ]
  },
  {
   "cell_type": "code",
   "execution_count": 359,
   "metadata": {},
   "outputs": [
    {
     "data": {
      "text/plain": [
       "size\n",
       "2 BHK         5199\n",
       "3 BHK         4309\n",
       "4 Bedroom      826\n",
       "4 BHK          591\n",
       "3 Bedroom      547\n",
       "1 BHK          538\n",
       "2 Bedroom      329\n",
       "5 Bedroom      297\n",
       "6 Bedroom      191\n",
       "1 Bedroom      121\n",
       "8 Bedroom       84\n",
       "7 Bedroom       83\n",
       "5 BHK           59\n",
       "9 Bedroom       46\n",
       "6 BHK           30\n",
       "7 BHK           17\n",
       "1 RK            13\n",
       "10 Bedroom      12\n",
       "9 BHK            8\n",
       "8 BHK            5\n",
       "11 BHK           2\n",
       "11 Bedroom       2\n",
       "10 BHK           2\n",
       "14 BHK           1\n",
       "13 BHK           1\n",
       "12 Bedroom       1\n",
       "27 BHK           1\n",
       "43 Bedroom       1\n",
       "16 BHK           1\n",
       "19 BHK           1\n",
       "18 Bedroom       1\n",
       "Name: count, dtype: int64"
      ]
     },
     "execution_count": 359,
     "metadata": {},
     "output_type": "execute_result"
    }
   ],
   "source": [
    "df['size'].value_counts()"
   ]
  },
  {
   "cell_type": "code",
   "execution_count": 366,
   "metadata": {},
   "outputs": [],
   "source": [
    "from sklearn.preprocessing import OneHotEncoder\n",
    "encoder=OneHotEncoder()\n",
    "d=encoder.fit_transform(df[['size']]).toarray()"
   ]
  },
  {
   "cell_type": "code",
   "execution_count": 370,
   "metadata": {},
   "outputs": [
    {
     "data": {
      "text/plain": [
       "Index(['size_1 BHK', 'size_1 Bedroom', 'size_1 RK', 'size_10 BHK',\n",
       "       'size_10 Bedroom', 'size_11 BHK', 'size_11 Bedroom', 'size_12 Bedroom',\n",
       "       'size_13 BHK', 'size_14 BHK', 'size_16 BHK', 'size_18 Bedroom',\n",
       "       'size_19 BHK', 'size_2 BHK', 'size_2 Bedroom', 'size_27 BHK',\n",
       "       'size_3 BHK', 'size_3 Bedroom', 'size_4 BHK', 'size_4 Bedroom',\n",
       "       'size_43 Bedroom', 'size_5 BHK', 'size_5 Bedroom', 'size_6 BHK',\n",
       "       'size_6 Bedroom', 'size_7 BHK', 'size_7 Bedroom', 'size_8 BHK',\n",
       "       'size_8 Bedroom', 'size_9 BHK', 'size_9 Bedroom'],\n",
       "      dtype='object')"
      ]
     },
     "execution_count": 370,
     "metadata": {},
     "output_type": "execute_result"
    }
   ],
   "source": [
    "pd.DataFrame(data=d,columns=encoder.get_feature_names_out()).columns"
   ]
  },
  {
   "cell_type": "code",
   "execution_count": 372,
   "metadata": {},
   "outputs": [],
   "source": [
    "df.to_csv(\"updated_bang_data.csv\")"
   ]
  },
  {
   "cell_type": "code",
   "execution_count": 1,
   "metadata": {},
   "outputs": [],
   "source": [
    "import pandas as pd\n",
    "import numpy as np\n",
    "import matplotlib.pyplot as plt\n",
    "import seaborn as sb"
   ]
  },
  {
   "cell_type": "code",
   "execution_count": 2,
   "metadata": {},
   "outputs": [],
   "source": [
    "df=pd.read_csv(r\"C:\\Users\\hp\\Desktop\\CODING\\Machine Learning\\ML_module_2\\Mini_Project\\updated_bang_data.csv\")"
   ]
  },
  {
   "cell_type": "code",
   "execution_count": 4,
   "metadata": {},
   "outputs": [],
   "source": [
    "df.drop(\"Unnamed: 0\",inplace=True,axis=1)"
   ]
  },
  {
   "cell_type": "code",
   "execution_count": 5,
   "metadata": {},
   "outputs": [
    {
     "data": {
      "text/html": [
       "<div>\n",
       "<style scoped>\n",
       "    .dataframe tbody tr th:only-of-type {\n",
       "        vertical-align: middle;\n",
       "    }\n",
       "\n",
       "    .dataframe tbody tr th {\n",
       "        vertical-align: top;\n",
       "    }\n",
       "\n",
       "    .dataframe thead th {\n",
       "        text-align: right;\n",
       "    }\n",
       "</style>\n",
       "<table border=\"1\" class=\"dataframe\">\n",
       "  <thead>\n",
       "    <tr style=\"text-align: right;\">\n",
       "      <th></th>\n",
       "      <th>location</th>\n",
       "      <th>size</th>\n",
       "      <th>total_sqft</th>\n",
       "      <th>bath</th>\n",
       "      <th>balcony</th>\n",
       "      <th>price</th>\n",
       "    </tr>\n",
       "  </thead>\n",
       "  <tbody>\n",
       "    <tr>\n",
       "      <th>0</th>\n",
       "      <td>Electronic City Phase II</td>\n",
       "      <td>2 BHK</td>\n",
       "      <td>1056.0</td>\n",
       "      <td>2.0</td>\n",
       "      <td>1.0</td>\n",
       "      <td>39.07</td>\n",
       "    </tr>\n",
       "    <tr>\n",
       "      <th>1</th>\n",
       "      <td>Chikka Tirupathi</td>\n",
       "      <td>4 Bedroom</td>\n",
       "      <td>2600.0</td>\n",
       "      <td>5.0</td>\n",
       "      <td>3.0</td>\n",
       "      <td>120.00</td>\n",
       "    </tr>\n",
       "    <tr>\n",
       "      <th>2</th>\n",
       "      <td>Uttarahalli</td>\n",
       "      <td>3 BHK</td>\n",
       "      <td>1440.0</td>\n",
       "      <td>2.0</td>\n",
       "      <td>3.0</td>\n",
       "      <td>62.00</td>\n",
       "    </tr>\n",
       "  </tbody>\n",
       "</table>\n",
       "</div>"
      ],
      "text/plain": [
       "                   location       size  total_sqft  bath  balcony   price\n",
       "0  Electronic City Phase II      2 BHK      1056.0   2.0      1.0   39.07\n",
       "1          Chikka Tirupathi  4 Bedroom      2600.0   5.0      3.0  120.00\n",
       "2               Uttarahalli      3 BHK      1440.0   2.0      3.0   62.00"
      ]
     },
     "execution_count": 5,
     "metadata": {},
     "output_type": "execute_result"
    }
   ],
   "source": [
    "df.head(3)"
   ]
  },
  {
   "cell_type": "code",
   "execution_count": 26,
   "metadata": {},
   "outputs": [
    {
     "data": {
      "text/plain": [
       "location\n",
       "Whitefield                        540\n",
       "Sarjapur  Road                    399\n",
       "Electronic City                   302\n",
       "Kanakpura Road                    273\n",
       "Thanisandra                       234\n",
       "                                 ... \n",
       "Bapuji Layout                       1\n",
       "1st Stage Radha Krishna Layout      1\n",
       "BEML Layout 5th stage               1\n",
       "singapura paradise                  1\n",
       "Abshot Layout                       1\n",
       "Name: count, Length: 1305, dtype: int64"
      ]
     },
     "execution_count": 26,
     "metadata": {},
     "output_type": "execute_result"
    }
   ],
   "source": [
    "df['location'].values\n",
    "df['location'].value_counts()"
   ]
  },
  {
   "cell_type": "code",
   "execution_count": 15,
   "metadata": {},
   "outputs": [],
   "source": [
    "from sklearn.preprocessing import LabelEncoder\n",
    "encoder=LabelEncoder()\n",
    "d=encoder.fit_transform(df['location'].value_counts())"
   ]
  },
  {
   "cell_type": "code",
   "execution_count": 16,
   "metadata": {},
   "outputs": [
    {
     "data": {
      "text/plain": [
       "(13319, 6)"
      ]
     },
     "execution_count": 16,
     "metadata": {},
     "output_type": "execute_result"
    }
   ],
   "source": [
    "df.shape"
   ]
  },
  {
   "cell_type": "code",
   "execution_count": 17,
   "metadata": {},
   "outputs": [
    {
     "data": {
      "text/plain": [
       "1305"
      ]
     },
     "execution_count": 17,
     "metadata": {},
     "output_type": "execute_result"
    }
   ],
   "source": [
    "len(d)"
   ]
  },
  {
   "cell_type": "code",
   "execution_count": 30,
   "metadata": {},
   "outputs": [],
   "source": [
    "df_location=pd.DataFrame(data=d,columns=[\"location encode\"])\n",
    "df_location['location']=pd.DataFrame(data=df['location'].values)"
   ]
  },
  {
   "cell_type": "code",
   "execution_count": 31,
   "metadata": {},
   "outputs": [
    {
     "data": {
      "text/html": [
       "<div>\n",
       "<style scoped>\n",
       "    .dataframe tbody tr th:only-of-type {\n",
       "        vertical-align: middle;\n",
       "    }\n",
       "\n",
       "    .dataframe tbody tr th {\n",
       "        vertical-align: top;\n",
       "    }\n",
       "\n",
       "    .dataframe thead th {\n",
       "        text-align: right;\n",
       "    }\n",
       "</style>\n",
       "<table border=\"1\" class=\"dataframe\">\n",
       "  <thead>\n",
       "    <tr style=\"text-align: right;\">\n",
       "      <th></th>\n",
       "      <th>location encode</th>\n",
       "      <th>location</th>\n",
       "    </tr>\n",
       "  </thead>\n",
       "  <tbody>\n",
       "    <tr>\n",
       "      <th>0</th>\n",
       "      <td>90</td>\n",
       "      <td>Electronic City Phase II</td>\n",
       "    </tr>\n",
       "    <tr>\n",
       "      <th>1</th>\n",
       "      <td>89</td>\n",
       "      <td>Chikka Tirupathi</td>\n",
       "    </tr>\n",
       "    <tr>\n",
       "      <th>2</th>\n",
       "      <td>88</td>\n",
       "      <td>Uttarahalli</td>\n",
       "    </tr>\n",
       "    <tr>\n",
       "      <th>3</th>\n",
       "      <td>87</td>\n",
       "      <td>Lingadheeranahalli</td>\n",
       "    </tr>\n",
       "    <tr>\n",
       "      <th>4</th>\n",
       "      <td>86</td>\n",
       "      <td>Kothanur</td>\n",
       "    </tr>\n",
       "    <tr>\n",
       "      <th>...</th>\n",
       "      <td>...</td>\n",
       "      <td>...</td>\n",
       "    </tr>\n",
       "    <tr>\n",
       "      <th>1300</th>\n",
       "      <td>0</td>\n",
       "      <td>Kalkere</td>\n",
       "    </tr>\n",
       "    <tr>\n",
       "      <th>1301</th>\n",
       "      <td>0</td>\n",
       "      <td>Old Airport Road</td>\n",
       "    </tr>\n",
       "    <tr>\n",
       "      <th>1302</th>\n",
       "      <td>0</td>\n",
       "      <td>Gollahalli</td>\n",
       "    </tr>\n",
       "    <tr>\n",
       "      <th>1303</th>\n",
       "      <td>0</td>\n",
       "      <td>Sonnenahalli</td>\n",
       "    </tr>\n",
       "    <tr>\n",
       "      <th>1304</th>\n",
       "      <td>0</td>\n",
       "      <td>Begur</td>\n",
       "    </tr>\n",
       "  </tbody>\n",
       "</table>\n",
       "<p>1305 rows × 2 columns</p>\n",
       "</div>"
      ],
      "text/plain": [
       "      location encode                  location\n",
       "0                  90  Electronic City Phase II\n",
       "1                  89          Chikka Tirupathi\n",
       "2                  88               Uttarahalli\n",
       "3                  87        Lingadheeranahalli\n",
       "4                  86                  Kothanur\n",
       "...               ...                       ...\n",
       "1300                0                   Kalkere\n",
       "1301                0          Old Airport Road\n",
       "1302                0                Gollahalli\n",
       "1303                0              Sonnenahalli\n",
       "1304                0                     Begur\n",
       "\n",
       "[1305 rows x 2 columns]"
      ]
     },
     "execution_count": 31,
     "metadata": {},
     "output_type": "execute_result"
    }
   ],
   "source": [
    "df_location"
   ]
  },
  {
   "cell_type": "code",
   "execution_count": 85,
   "metadata": {},
   "outputs": [
    {
     "data": {
      "text/plain": [
       "location\n",
       "Whitefield                        540\n",
       "Sarjapur  Road                    399\n",
       "Electronic City                   302\n",
       "Kanakpura Road                    273\n",
       "Thanisandra                       234\n",
       "                                 ... \n",
       "Bapuji Layout                       1\n",
       "1st Stage Radha Krishna Layout      1\n",
       "BEML Layout 5th stage               1\n",
       "singapura paradise                  1\n",
       "Abshot Layout                       1\n",
       "Name: count, Length: 1305, dtype: int64"
      ]
     },
     "execution_count": 85,
     "metadata": {},
     "output_type": "execute_result"
    }
   ],
   "source": [
    "df['location'].value_counts()"
   ]
  },
  {
   "cell_type": "code",
   "execution_count": 83,
   "metadata": {},
   "outputs": [
    {
     "data": {
      "text/html": [
       "<div>\n",
       "<style scoped>\n",
       "    .dataframe tbody tr th:only-of-type {\n",
       "        vertical-align: middle;\n",
       "    }\n",
       "\n",
       "    .dataframe tbody tr th {\n",
       "        vertical-align: top;\n",
       "    }\n",
       "\n",
       "    .dataframe thead th {\n",
       "        text-align: right;\n",
       "    }\n",
       "</style>\n",
       "<table border=\"1\" class=\"dataframe\">\n",
       "  <thead>\n",
       "    <tr style=\"text-align: right;\">\n",
       "      <th></th>\n",
       "      <th>location</th>\n",
       "      <th>size</th>\n",
       "      <th>total_sqft</th>\n",
       "      <th>bath</th>\n",
       "      <th>balcony</th>\n",
       "      <th>price</th>\n",
       "    </tr>\n",
       "  </thead>\n",
       "  <tbody>\n",
       "    <tr>\n",
       "      <th>0</th>\n",
       "      <td>Electronic City Phase II</td>\n",
       "      <td>2 BHK</td>\n",
       "      <td>1056.0</td>\n",
       "      <td>2.0</td>\n",
       "      <td>1.0</td>\n",
       "      <td>39.07</td>\n",
       "    </tr>\n",
       "    <tr>\n",
       "      <th>1</th>\n",
       "      <td>Chikka Tirupathi</td>\n",
       "      <td>4 Bedroom</td>\n",
       "      <td>2600.0</td>\n",
       "      <td>5.0</td>\n",
       "      <td>3.0</td>\n",
       "      <td>120.00</td>\n",
       "    </tr>\n",
       "    <tr>\n",
       "      <th>2</th>\n",
       "      <td>Uttarahalli</td>\n",
       "      <td>3 BHK</td>\n",
       "      <td>1440.0</td>\n",
       "      <td>2.0</td>\n",
       "      <td>3.0</td>\n",
       "      <td>62.00</td>\n",
       "    </tr>\n",
       "  </tbody>\n",
       "</table>\n",
       "</div>"
      ],
      "text/plain": [
       "                   location       size  total_sqft  bath  balcony   price\n",
       "0  Electronic City Phase II      2 BHK      1056.0   2.0      1.0   39.07\n",
       "1          Chikka Tirupathi  4 Bedroom      2600.0   5.0      3.0  120.00\n",
       "2               Uttarahalli      3 BHK      1440.0   2.0      3.0   62.00"
      ]
     },
     "execution_count": 83,
     "metadata": {},
     "output_type": "execute_result"
    }
   ],
   "source": [
    "df.head(3)"
   ]
  },
  {
   "cell_type": "code",
   "execution_count": 86,
   "metadata": {},
   "outputs": [],
   "source": [
    "df['location_encode']=df['location'].map(df['location'].value_counts())"
   ]
  },
  {
   "cell_type": "code",
   "execution_count": 87,
   "metadata": {},
   "outputs": [
    {
     "data": {
      "text/html": [
       "<div>\n",
       "<style scoped>\n",
       "    .dataframe tbody tr th:only-of-type {\n",
       "        vertical-align: middle;\n",
       "    }\n",
       "\n",
       "    .dataframe tbody tr th {\n",
       "        vertical-align: top;\n",
       "    }\n",
       "\n",
       "    .dataframe thead th {\n",
       "        text-align: right;\n",
       "    }\n",
       "</style>\n",
       "<table border=\"1\" class=\"dataframe\">\n",
       "  <thead>\n",
       "    <tr style=\"text-align: right;\">\n",
       "      <th></th>\n",
       "      <th>location</th>\n",
       "      <th>size</th>\n",
       "      <th>total_sqft</th>\n",
       "      <th>bath</th>\n",
       "      <th>balcony</th>\n",
       "      <th>price</th>\n",
       "      <th>location_encode</th>\n",
       "    </tr>\n",
       "  </thead>\n",
       "  <tbody>\n",
       "    <tr>\n",
       "      <th>0</th>\n",
       "      <td>Electronic City Phase II</td>\n",
       "      <td>2 BHK</td>\n",
       "      <td>1056.0</td>\n",
       "      <td>2.0</td>\n",
       "      <td>1.0</td>\n",
       "      <td>39.07</td>\n",
       "      <td>132</td>\n",
       "    </tr>\n",
       "    <tr>\n",
       "      <th>1</th>\n",
       "      <td>Chikka Tirupathi</td>\n",
       "      <td>4 Bedroom</td>\n",
       "      <td>2600.0</td>\n",
       "      <td>5.0</td>\n",
       "      <td>3.0</td>\n",
       "      <td>120.00</td>\n",
       "      <td>17</td>\n",
       "    </tr>\n",
       "    <tr>\n",
       "      <th>2</th>\n",
       "      <td>Uttarahalli</td>\n",
       "      <td>3 BHK</td>\n",
       "      <td>1440.0</td>\n",
       "      <td>2.0</td>\n",
       "      <td>3.0</td>\n",
       "      <td>62.00</td>\n",
       "      <td>186</td>\n",
       "    </tr>\n",
       "    <tr>\n",
       "      <th>3</th>\n",
       "      <td>Lingadheeranahalli</td>\n",
       "      <td>3 BHK</td>\n",
       "      <td>1521.0</td>\n",
       "      <td>3.0</td>\n",
       "      <td>1.0</td>\n",
       "      <td>95.00</td>\n",
       "      <td>23</td>\n",
       "    </tr>\n",
       "    <tr>\n",
       "      <th>4</th>\n",
       "      <td>Kothanur</td>\n",
       "      <td>2 BHK</td>\n",
       "      <td>1200.0</td>\n",
       "      <td>2.0</td>\n",
       "      <td>1.0</td>\n",
       "      <td>51.00</td>\n",
       "      <td>66</td>\n",
       "    </tr>\n",
       "  </tbody>\n",
       "</table>\n",
       "</div>"
      ],
      "text/plain": [
       "                   location       size  total_sqft  bath  balcony   price  \\\n",
       "0  Electronic City Phase II      2 BHK      1056.0   2.0      1.0   39.07   \n",
       "1          Chikka Tirupathi  4 Bedroom      2600.0   5.0      3.0  120.00   \n",
       "2               Uttarahalli      3 BHK      1440.0   2.0      3.0   62.00   \n",
       "3        Lingadheeranahalli      3 BHK      1521.0   3.0      1.0   95.00   \n",
       "4                  Kothanur      2 BHK      1200.0   2.0      1.0   51.00   \n",
       "\n",
       "   location_encode  \n",
       "0              132  \n",
       "1               17  \n",
       "2              186  \n",
       "3               23  \n",
       "4               66  "
      ]
     },
     "execution_count": 87,
     "metadata": {},
     "output_type": "execute_result"
    }
   ],
   "source": [
    "df.head()"
   ]
  },
  {
   "cell_type": "code",
   "execution_count": 90,
   "metadata": {},
   "outputs": [
    {
     "data": {
      "text/plain": [
       "size\n",
       "2 BHK         5199\n",
       "3 BHK         4309\n",
       "4 Bedroom      826\n",
       "4 BHK          591\n",
       "3 Bedroom      547\n",
       "1 BHK          538\n",
       "2 Bedroom      329\n",
       "5 Bedroom      297\n",
       "6 Bedroom      191\n",
       "1 Bedroom      121\n",
       "8 Bedroom       84\n",
       "7 Bedroom       83\n",
       "5 BHK           59\n",
       "9 Bedroom       46\n",
       "6 BHK           30\n",
       "7 BHK           17\n",
       "1 RK            13\n",
       "10 Bedroom      12\n",
       "9 BHK            8\n",
       "8 BHK            5\n",
       "11 BHK           2\n",
       "11 Bedroom       2\n",
       "10 BHK           2\n",
       "14 BHK           1\n",
       "13 BHK           1\n",
       "12 Bedroom       1\n",
       "27 BHK           1\n",
       "43 Bedroom       1\n",
       "16 BHK           1\n",
       "19 BHK           1\n",
       "18 Bedroom       1\n",
       "Name: count, dtype: int64"
      ]
     },
     "execution_count": 90,
     "metadata": {},
     "output_type": "execute_result"
    }
   ],
   "source": [
    "df['size'].value_counts()"
   ]
  },
  {
   "cell_type": "code",
   "execution_count": 91,
   "metadata": {},
   "outputs": [],
   "source": [
    "df['size_encode']=df['size'].map(df['size'].value_counts())"
   ]
  },
  {
   "cell_type": "code",
   "execution_count": 92,
   "metadata": {},
   "outputs": [
    {
     "data": {
      "text/html": [
       "<div>\n",
       "<style scoped>\n",
       "    .dataframe tbody tr th:only-of-type {\n",
       "        vertical-align: middle;\n",
       "    }\n",
       "\n",
       "    .dataframe tbody tr th {\n",
       "        vertical-align: top;\n",
       "    }\n",
       "\n",
       "    .dataframe thead th {\n",
       "        text-align: right;\n",
       "    }\n",
       "</style>\n",
       "<table border=\"1\" class=\"dataframe\">\n",
       "  <thead>\n",
       "    <tr style=\"text-align: right;\">\n",
       "      <th></th>\n",
       "      <th>location</th>\n",
       "      <th>size</th>\n",
       "      <th>total_sqft</th>\n",
       "      <th>bath</th>\n",
       "      <th>balcony</th>\n",
       "      <th>price</th>\n",
       "      <th>location_encode</th>\n",
       "      <th>size_encode</th>\n",
       "    </tr>\n",
       "  </thead>\n",
       "  <tbody>\n",
       "    <tr>\n",
       "      <th>0</th>\n",
       "      <td>Electronic City Phase II</td>\n",
       "      <td>2 BHK</td>\n",
       "      <td>1056.0</td>\n",
       "      <td>2.0</td>\n",
       "      <td>1.0</td>\n",
       "      <td>39.07</td>\n",
       "      <td>132</td>\n",
       "      <td>5199</td>\n",
       "    </tr>\n",
       "    <tr>\n",
       "      <th>1</th>\n",
       "      <td>Chikka Tirupathi</td>\n",
       "      <td>4 Bedroom</td>\n",
       "      <td>2600.0</td>\n",
       "      <td>5.0</td>\n",
       "      <td>3.0</td>\n",
       "      <td>120.00</td>\n",
       "      <td>17</td>\n",
       "      <td>826</td>\n",
       "    </tr>\n",
       "    <tr>\n",
       "      <th>2</th>\n",
       "      <td>Uttarahalli</td>\n",
       "      <td>3 BHK</td>\n",
       "      <td>1440.0</td>\n",
       "      <td>2.0</td>\n",
       "      <td>3.0</td>\n",
       "      <td>62.00</td>\n",
       "      <td>186</td>\n",
       "      <td>4309</td>\n",
       "    </tr>\n",
       "  </tbody>\n",
       "</table>\n",
       "</div>"
      ],
      "text/plain": [
       "                   location       size  total_sqft  bath  balcony   price  \\\n",
       "0  Electronic City Phase II      2 BHK      1056.0   2.0      1.0   39.07   \n",
       "1          Chikka Tirupathi  4 Bedroom      2600.0   5.0      3.0  120.00   \n",
       "2               Uttarahalli      3 BHK      1440.0   2.0      3.0   62.00   \n",
       "\n",
       "   location_encode  size_encode  \n",
       "0              132         5199  \n",
       "1               17          826  \n",
       "2              186         4309  "
      ]
     },
     "execution_count": 92,
     "metadata": {},
     "output_type": "execute_result"
    }
   ],
   "source": [
    "df.head(3)"
   ]
  },
  {
   "cell_type": "code",
   "execution_count": 132,
   "metadata": {},
   "outputs": [],
   "source": [
    "location_index=df['location_encode'][df['location_encode']<20].index\n",
    "location_index\n",
    "random_loc=[]\n",
    "for i in range(0,len(location_index)):\n",
    "    random_loc.append(df['location'].iloc[location_index[i]])"
   ]
  },
  {
   "cell_type": "markdown",
   "metadata": {},
   "source": [
    "### Use random function for random location"
   ]
  },
  {
   "cell_type": "code",
   "execution_count": 135,
   "metadata": {},
   "outputs": [
    {
     "data": {
      "text/plain": [
       "'Venkatapura'"
      ]
     },
     "execution_count": 135,
     "metadata": {},
     "output_type": "execute_result"
    }
   ],
   "source": [
    "np.random.choice(random_loc)"
   ]
  },
  {
   "cell_type": "code",
   "execution_count": null,
   "metadata": {},
   "outputs": [],
   "source": [
    "location_dict=df[['location','location_encode']].to_dict(\"split\")['data'] # imppppppp"
   ]
  },
  {
   "cell_type": "code",
   "execution_count": 165,
   "metadata": {},
   "outputs": [
    {
     "name": "stdout",
     "output_type": "stream",
     "text": [
      "6\n"
     ]
    }
   ],
   "source": [
    "for i in range(len(location_dict)):\n",
    "    if location_dict[i][0]=='Venkatapura':\n",
    "        break\n",
    "        print(\"break ho ya mai\")\n",
    "a=location_dict[i][1]\n",
    "print(a)# impppppp"
   ]
  },
  {
   "cell_type": "code",
   "execution_count": null,
   "metadata": {},
   "outputs": [],
   "source": [
    "location_dict=df[['location','location_encode']].to_dict(\"split\")['data'] # imppppppp\n",
    "size_dict=df[['size','size_encode']].to_dict(\"split\")['data'] # imppppppppppppppp\n"
   ]
  },
  {
   "cell_type": "code",
   "execution_count": 164,
   "metadata": {},
   "outputs": [],
   "source": [
    "size_dict=df[['size','size_encode']].to_dict(\"split\")['data'] # imppppppppppppppp"
   ]
  },
  {
   "cell_type": "code",
   "execution_count": 155,
   "metadata": {},
   "outputs": [
    {
     "data": {
      "text/plain": [
       "[['2 BHK', 5199],\n",
       " ['4 Bedroom', 826],\n",
       " ['3 BHK', 4309],\n",
       " ['3 BHK', 4309],\n",
       " ['2 BHK', 5199],\n",
       " ['2 BHK', 5199],\n",
       " ['4 BHK', 591],\n",
       " ['4 BHK', 591],\n",
       " ['3 BHK', 4309],\n",
       " ['6 Bedroom', 191],\n",
       " ['3 BHK', 4309],\n",
       " ['4 Bedroom', 826],\n",
       " ['2 BHK', 5199],\n",
       " ['2 BHK', 5199],\n",
       " ['3 Bedroom', 547],\n",
       " ['2 BHK', 5199],\n",
       " ['3 BHK', 4309],\n",
       " ['3 BHK', 4309],\n",
       " ['3 BHK', 4309],\n",
       " ['2 BHK', 5199],\n",
       " ['1 BHK', 538],\n",
       " ['3 BHK', 4309],\n",
       " ['4 Bedroom', 826],\n",
       " ['3 BHK', 4309],\n",
       " ['1 RK', 13],\n",
       " ['3 BHK', 4309],\n",
       " ['2 BHK', 5199],\n",
       " ['3 BHK', 4309],\n",
       " ['2 BHK', 5199],\n",
       " ['3 BHK', 4309],\n",
       " ['4 BHK', 591],\n",
       " ['3 BHK', 4309],\n",
       " ['3 BHK', 4309],\n",
       " ['3 BHK', 4309],\n",
       " ['3 BHK', 4309],\n",
       " ['2 BHK', 5199],\n",
       " ['2 BHK', 5199],\n",
       " ['3 BHK', 4309],\n",
       " ['3 BHK', 4309],\n",
       " ['2 BHK', 5199],\n",
       " ['2 BHK', 5199],\n",
       " ['3 BHK', 4309],\n",
       " ['1 BHK', 538],\n",
       " ['1 Bedroom', 121],\n",
       " ['2 BHK', 5199],\n",
       " ['8 Bedroom', 84],\n",
       " ['2 BHK', 5199],\n",
       " ['2 BHK', 5199],\n",
       " ['2 Bedroom', 329],\n",
       " ['2 BHK', 5199],\n",
       " ['2 BHK', 5199],\n",
       " ['3 BHK', 4309],\n",
       " ['3 BHK', 4309],\n",
       " ['2 BHK', 5199],\n",
       " ['3 BHK', 4309],\n",
       " ['2 BHK', 5199],\n",
       " ['4 Bedroom', 826],\n",
       " ['2 BHK', 5199],\n",
       " ['6 Bedroom', 191],\n",
       " ['2 BHK', 5199],\n",
       " ['3 Bedroom', 547],\n",
       " ['2 BHK', 5199],\n",
       " ['4 Bedroom', 826],\n",
       " ['2 BHK', 5199],\n",
       " ['8 Bedroom', 84],\n",
       " ['2 BHK', 5199],\n",
       " ['2 BHK', 5199],\n",
       " ['2 BHK', 5199],\n",
       " ['8 Bedroom', 84],\n",
       " ['2 BHK', 5199],\n",
       " ['3 Bedroom', 547],\n",
       " ['2 BHK', 5199],\n",
       " ['3 BHK', 4309],\n",
       " ['2 BHK', 5199],\n",
       " ['3 BHK', 4309],\n",
       " ['2 BHK', 5199],\n",
       " ['2 BHK', 5199],\n",
       " ['3 BHK', 4309],\n",
       " ['2 BHK', 5199],\n",
       " ['6 Bedroom', 191],\n",
       " ['3 BHK', 4309],\n",
       " ['4 Bedroom', 826],\n",
       " ['2 BHK', 5199],\n",
       " ['3 BHK', 4309],\n",
       " ['3 BHK', 4309],\n",
       " ['6 Bedroom', 191],\n",
       " ['3 BHK', 4309],\n",
       " ['2 BHK', 5199],\n",
       " ['2 BHK', 5199],\n",
       " ['6 Bedroom', 191],\n",
       " ['2 BHK', 5199],\n",
       " ['2 BHK', 5199],\n",
       " ['3 BHK', 4309],\n",
       " ['4 Bedroom', 826],\n",
       " ['2 BHK', 5199],\n",
       " ['3 BHK', 4309],\n",
       " ['4 Bedroom', 826],\n",
       " ['3 BHK', 4309],\n",
       " ['2 BHK', 5199],\n",
       " ['3 Bedroom', 547],\n",
       " ['3 BHK', 4309],\n",
       " ['2 BHK', 5199],\n",
       " ['3 Bedroom', 547],\n",
       " ['2 BHK', 5199],\n",
       " ['2 BHK', 5199],\n",
       " ['2 BHK', 5199],\n",
       " ['3 BHK', 4309],\n",
       " ['3 BHK', 4309],\n",
       " ['2 BHK', 5199],\n",
       " ['2 BHK', 5199],\n",
       " ['3 BHK', 4309],\n",
       " ['3 BHK', 4309],\n",
       " ['2 BHK', 5199],\n",
       " ['3 BHK', 4309],\n",
       " ['4 Bedroom', 826],\n",
       " ['3 Bedroom', 547],\n",
       " ['3 BHK', 4309],\n",
       " ['3 BHK', 4309],\n",
       " ['2 BHK', 5199],\n",
       " ['2 Bedroom', 329],\n",
       " ['3 BHK', 4309],\n",
       " ['3 BHK', 4309],\n",
       " ['4 BHK', 591],\n",
       " ['4 BHK', 591],\n",
       " ['3 BHK', 4309],\n",
       " ['2 BHK', 5199],\n",
       " ['3 BHK', 4309],\n",
       " ['2 BHK', 5199],\n",
       " ['2 BHK', 5199],\n",
       " ['7 Bedroom', 83],\n",
       " ['3 BHK', 4309],\n",
       " ['3 Bedroom', 547],\n",
       " ['2 BHK', 5199],\n",
       " ['4 Bedroom', 826],\n",
       " ['3 BHK', 4309],\n",
       " ['2 BHK', 5199],\n",
       " ['2 BHK', 5199],\n",
       " ['2 BHK', 5199],\n",
       " ['3 BHK', 4309],\n",
       " ['3 BHK', 4309],\n",
       " ['8 Bedroom', 84],\n",
       " ['5 BHK', 59],\n",
       " ['3 BHK', 4309],\n",
       " ['2 BHK', 5199],\n",
       " ['2 BHK', 5199],\n",
       " ['7 BHK', 17],\n",
       " ['3 BHK', 4309],\n",
       " ['2 BHK', 5199],\n",
       " ['3 BHK', 4309],\n",
       " ['6 Bedroom', 191],\n",
       " ['3 BHK', 4309],\n",
       " ['2 BHK', 5199],\n",
       " ['3 BHK', 4309],\n",
       " ['3 BHK', 4309],\n",
       " ['2 BHK', 5199],\n",
       " ['2 BHK', 5199],\n",
       " ['2 BHK', 5199],\n",
       " ['3 BHK', 4309],\n",
       " ['3 BHK', 4309],\n",
       " ['4 Bedroom', 826],\n",
       " ['3 BHK', 4309],\n",
       " ['2 BHK', 5199],\n",
       " ['3 BHK', 4309],\n",
       " ['4 Bedroom', 826],\n",
       " ['3 BHK', 4309],\n",
       " ['2 BHK', 5199],\n",
       " ['3 BHK', 4309],\n",
       " ['3 BHK', 4309],\n",
       " ['2 BHK', 5199],\n",
       " ['3 BHK', 4309],\n",
       " ['6 BHK', 30],\n",
       " ['1 BHK', 538],\n",
       " ['2 BHK', 5199],\n",
       " ['3 BHK', 4309],\n",
       " ['3 BHK', 4309],\n",
       " ['3 Bedroom', 547],\n",
       " ['5 Bedroom', 297],\n",
       " ['1 Bedroom', 121],\n",
       " ['1 BHK', 538],\n",
       " ['2 BHK', 5199],\n",
       " ['2 BHK', 5199],\n",
       " ['3 BHK', 4309],\n",
       " ['3 BHK', 4309],\n",
       " ['3 BHK', 4309],\n",
       " ['2 BHK', 5199],\n",
       " ['3 Bedroom', 547],\n",
       " ['2 BHK', 5199],\n",
       " ['2 BHK', 5199],\n",
       " ['2 BHK', 5199],\n",
       " ['2 BHK', 5199],\n",
       " ['4 Bedroom', 826],\n",
       " ['3 BHK', 4309],\n",
       " ['4 Bedroom', 826],\n",
       " ['7 Bedroom', 83],\n",
       " ['2 BHK', 5199],\n",
       " ['2 BHK', 5199],\n",
       " ['2 BHK', 5199],\n",
       " ['3 Bedroom', 547],\n",
       " ['3 BHK', 4309],\n",
       " ['2 BHK', 5199],\n",
       " ['2 BHK', 5199],\n",
       " ['3 BHK', 4309],\n",
       " ['2 BHK', 5199],\n",
       " ['2 BHK', 5199],\n",
       " ['3 BHK', 4309],\n",
       " ['3 BHK', 4309],\n",
       " ['3 BHK', 4309],\n",
       " ['2 BHK', 5199],\n",
       " ['2 BHK', 5199],\n",
       " ['4 Bedroom', 826],\n",
       " ['4 BHK', 591],\n",
       " ['3 BHK', 4309],\n",
       " ['3 BHK', 4309],\n",
       " ['3 BHK', 4309],\n",
       " ['3 BHK', 4309],\n",
       " ['2 BHK', 5199],\n",
       " ['6 Bedroom', 191],\n",
       " ['1 BHK', 538],\n",
       " ['3 BHK', 4309],\n",
       " ['3 BHK', 4309],\n",
       " ['3 BHK', 4309],\n",
       " ['3 BHK', 4309],\n",
       " ['4 BHK', 591],\n",
       " ['2 BHK', 5199],\n",
       " ['3 BHK', 4309],\n",
       " ['3 BHK', 4309],\n",
       " ['2 BHK', 5199],\n",
       " ['2 Bedroom', 329],\n",
       " ['3 BHK', 4309],\n",
       " ['2 BHK', 5199],\n",
       " ['2 BHK', 5199],\n",
       " ['2 BHK', 5199],\n",
       " ['2 BHK', 5199],\n",
       " ['2 BHK', 5199],\n",
       " ['2 BHK', 5199],\n",
       " ['3 BHK', 4309],\n",
       " ['2 BHK', 5199],\n",
       " ['3 BHK', 4309],\n",
       " ['5 Bedroom', 297],\n",
       " ['2 BHK', 5199],\n",
       " ['1 BHK', 538],\n",
       " ['8 Bedroom', 84],\n",
       " ['1 BHK', 538],\n",
       " ['3 BHK', 4309],\n",
       " ['2 BHK', 5199],\n",
       " ['3 Bedroom', 547],\n",
       " ['2 BHK', 5199],\n",
       " ['3 BHK', 4309],\n",
       " ['3 Bedroom', 547],\n",
       " ['3 BHK', 4309],\n",
       " ['2 BHK', 5199],\n",
       " ['2 BHK', 5199],\n",
       " ['2 BHK', 5199],\n",
       " ['2 BHK', 5199],\n",
       " ['2 Bedroom', 329],\n",
       " ['4 Bedroom', 826],\n",
       " ['2 BHK', 5199],\n",
       " ['2 BHK', 5199],\n",
       " ['5 Bedroom', 297],\n",
       " ['3 BHK', 4309],\n",
       " ['4 Bedroom', 826],\n",
       " ['3 BHK', 4309],\n",
       " ['2 BHK', 5199],\n",
       " ['2 BHK', 5199],\n",
       " ['2 BHK', 5199],\n",
       " ['4 Bedroom', 826],\n",
       " ['3 BHK', 4309],\n",
       " ['3 BHK', 4309],\n",
       " ['2 BHK', 5199],\n",
       " ['3 BHK', 4309],\n",
       " ['2 BHK', 5199],\n",
       " ['3 BHK', 4309],\n",
       " ['2 BHK', 5199],\n",
       " ['2 Bedroom', 329],\n",
       " ['3 BHK', 4309],\n",
       " ['3 BHK', 4309],\n",
       " ['2 BHK', 5199],\n",
       " ['4 Bedroom', 826],\n",
       " ['3 BHK', 4309],\n",
       " ['3 BHK', 4309],\n",
       " ['2 BHK', 5199],\n",
       " ['3 BHK', 4309],\n",
       " ['6 Bedroom', 191],\n",
       " ['3 BHK', 4309],\n",
       " ['3 BHK', 4309],\n",
       " ['3 BHK', 4309],\n",
       " ['2 BHK', 5199],\n",
       " ['3 BHK', 4309],\n",
       " ['2 BHK', 5199],\n",
       " ['2 BHK', 5199],\n",
       " ['2 BHK', 5199],\n",
       " ['2 BHK', 5199],\n",
       " ['2 BHK', 5199],\n",
       " ['2 BHK', 5199],\n",
       " ['2 BHK', 5199],\n",
       " ['2 BHK', 5199],\n",
       " ['3 Bedroom', 547],\n",
       " ['2 BHK', 5199],\n",
       " ['4 BHK', 591],\n",
       " ['3 Bedroom', 547],\n",
       " ['4 BHK', 591],\n",
       " ['2 BHK', 5199],\n",
       " ['3 BHK', 4309],\n",
       " ['3 BHK', 4309],\n",
       " ['3 BHK', 4309],\n",
       " ['2 BHK', 5199],\n",
       " ['1 BHK', 538],\n",
       " ['3 BHK', 4309],\n",
       " ['4 BHK', 591],\n",
       " ['3 BHK', 4309],\n",
       " ['2 BHK', 5199],\n",
       " ['3 BHK', 4309],\n",
       " ['2 BHK', 5199],\n",
       " ['3 BHK', 4309],\n",
       " ['2 BHK', 5199],\n",
       " ['5 Bedroom', 297],\n",
       " ['2 BHK', 5199],\n",
       " ['2 BHK', 5199],\n",
       " ['2 BHK', 5199],\n",
       " ['2 BHK', 5199],\n",
       " ['2 BHK', 5199],\n",
       " ['2 BHK', 5199],\n",
       " ['2 Bedroom', 329],\n",
       " ['4 Bedroom', 826],\n",
       " ['3 BHK', 4309],\n",
       " ['4 Bedroom', 826],\n",
       " ['3 BHK', 4309],\n",
       " ['2 BHK', 5199],\n",
       " ['2 BHK', 5199],\n",
       " ['3 BHK', 4309],\n",
       " ['3 BHK', 4309],\n",
       " ['2 BHK', 5199],\n",
       " ['4 Bedroom', 826],\n",
       " ['2 BHK', 5199],\n",
       " ['3 BHK', 4309],\n",
       " ['2 BHK', 5199],\n",
       " ['2 BHK', 5199],\n",
       " ['4 BHK', 591],\n",
       " ['3 BHK', 4309],\n",
       " ['2 Bedroom', 329],\n",
       " ['2 BHK', 5199],\n",
       " ['2 BHK', 5199],\n",
       " ['2 BHK', 5199],\n",
       " ['3 BHK', 4309],\n",
       " ['1 BHK', 538],\n",
       " ['2 BHK', 5199],\n",
       " ['3 Bedroom', 547],\n",
       " ['3 BHK', 4309],\n",
       " ['3 BHK', 4309],\n",
       " ['3 Bedroom', 547],\n",
       " ['2 BHK', 5199],\n",
       " ['2 BHK', 5199],\n",
       " ['3 BHK', 4309],\n",
       " ['2 BHK', 5199],\n",
       " ['1 BHK', 538],\n",
       " ['3 Bedroom', 547],\n",
       " ['3 BHK', 4309],\n",
       " ['2 BHK', 5199],\n",
       " ['4 BHK', 591],\n",
       " ['2 BHK', 5199],\n",
       " ['2 BHK', 5199],\n",
       " ['3 BHK', 4309],\n",
       " ['4 Bedroom', 826],\n",
       " ['1 BHK', 538],\n",
       " ['2 BHK', 5199],\n",
       " ['1 BHK', 538],\n",
       " ['2 BHK', 5199],\n",
       " ['2 BHK', 5199],\n",
       " ['2 BHK', 5199],\n",
       " ['2 BHK', 5199],\n",
       " ['4 BHK', 591],\n",
       " ['2 BHK', 5199],\n",
       " ['2 BHK', 5199],\n",
       " ['3 BHK', 4309],\n",
       " ['2 BHK', 5199],\n",
       " ['3 BHK', 4309],\n",
       " ['3 BHK', 4309],\n",
       " ['1 BHK', 538],\n",
       " ['3 BHK', 4309],\n",
       " ['3 BHK', 4309],\n",
       " ['3 BHK', 4309],\n",
       " ['2 BHK', 5199],\n",
       " ['2 Bedroom', 329],\n",
       " ['2 BHK', 5199],\n",
       " ['2 BHK', 5199],\n",
       " ['2 BHK', 5199],\n",
       " ['3 BHK', 4309],\n",
       " ['3 BHK', 4309],\n",
       " ['3 BHK', 4309],\n",
       " ['2 BHK', 5199],\n",
       " ['2 BHK', 5199],\n",
       " ['2 BHK', 5199],\n",
       " ['3 BHK', 4309],\n",
       " ['2 BHK', 5199],\n",
       " ['2 BHK', 5199],\n",
       " ['2 BHK', 5199],\n",
       " ['2 BHK', 5199],\n",
       " ['6 BHK', 30],\n",
       " ['2 BHK', 5199],\n",
       " ['3 BHK', 4309],\n",
       " ['3 BHK', 4309],\n",
       " ['4 BHK', 591],\n",
       " ['2 Bedroom', 329],\n",
       " ['4 BHK', 591],\n",
       " ['2 BHK', 5199],\n",
       " ['2 Bedroom', 329],\n",
       " ['4 Bedroom', 826],\n",
       " ['3 BHK', 4309],\n",
       " ['7 BHK', 17],\n",
       " ['2 Bedroom', 329],\n",
       " ['1 BHK', 538],\n",
       " ['2 BHK', 5199],\n",
       " ['2 BHK', 5199],\n",
       " ['6 Bedroom', 191],\n",
       " ['3 BHK', 4309],\n",
       " ['3 BHK', 4309],\n",
       " ['2 BHK', 5199],\n",
       " ['3 Bedroom', 547],\n",
       " ['2 Bedroom', 329],\n",
       " ['2 BHK', 5199],\n",
       " ['2 Bedroom', 329],\n",
       " ['3 BHK', 4309],\n",
       " ['2 BHK', 5199],\n",
       " ['2 BHK', 5199],\n",
       " ['2 BHK', 5199],\n",
       " ['6 Bedroom', 191],\n",
       " ['3 BHK', 4309],\n",
       " ['2 BHK', 5199],\n",
       " ['2 BHK', 5199],\n",
       " ['3 BHK', 4309],\n",
       " ['2 BHK', 5199],\n",
       " ['2 BHK', 5199],\n",
       " ['2 BHK', 5199],\n",
       " ['2 BHK', 5199],\n",
       " ['8 Bedroom', 84],\n",
       " ['3 BHK', 4309],\n",
       " ['3 BHK', 4309],\n",
       " ['3 BHK', 4309],\n",
       " ['2 BHK', 5199],\n",
       " ['3 Bedroom', 547],\n",
       " ['4 Bedroom', 826],\n",
       " ['2 BHK', 5199],\n",
       " ['3 BHK', 4309],\n",
       " ['3 BHK', 4309],\n",
       " ['3 BHK', 4309],\n",
       " ['2 BHK', 5199],\n",
       " ['3 BHK', 4309],\n",
       " ['1 BHK', 538],\n",
       " ['3 BHK', 4309],\n",
       " ['3 BHK', 4309],\n",
       " ['2 BHK', 5199],\n",
       " ['3 Bedroom', 547],\n",
       " ['2 BHK', 5199],\n",
       " ['4 Bedroom', 826],\n",
       " ['2 BHK', 5199],\n",
       " ['4 Bedroom', 826],\n",
       " ['3 BHK', 4309],\n",
       " ['3 BHK', 4309],\n",
       " ['2 BHK', 5199],\n",
       " ['11 BHK', 2],\n",
       " ['3 BHK', 4309],\n",
       " ['3 BHK', 4309],\n",
       " ['2 BHK', 5199],\n",
       " ['2 BHK', 5199],\n",
       " ['2 BHK', 5199],\n",
       " ['2 BHK', 5199],\n",
       " ['3 BHK', 4309],\n",
       " ['3 BHK', 4309],\n",
       " ['2 BHK', 5199],\n",
       " ['4 Bedroom', 826],\n",
       " ['2 Bedroom', 329],\n",
       " ['2 BHK', 5199],\n",
       " ['4 BHK', 591],\n",
       " ['2 BHK', 5199],\n",
       " ['2 BHK', 5199],\n",
       " ['2 BHK', 5199],\n",
       " ['2 BHK', 5199],\n",
       " ['4 BHK', 591],\n",
       " ['2 BHK', 5199],\n",
       " ['2 BHK', 5199],\n",
       " ['4 BHK', 591],\n",
       " ['4 Bedroom', 826],\n",
       " ['5 Bedroom', 297],\n",
       " ['5 Bedroom', 297],\n",
       " ['3 BHK', 4309],\n",
       " ['4 BHK', 591],\n",
       " ['4 Bedroom', 826],\n",
       " ['2 BHK', 5199],\n",
       " ['2 BHK', 5199],\n",
       " ['3 BHK', 4309],\n",
       " ['5 BHK', 59],\n",
       " ['3 Bedroom', 547],\n",
       " ['2 BHK', 5199],\n",
       " ['2 BHK', 5199],\n",
       " ['2 BHK', 5199],\n",
       " ['2 BHK', 5199],\n",
       " ['2 BHK', 5199],\n",
       " ['2 BHK', 5199],\n",
       " ['3 BHK', 4309],\n",
       " ['2 BHK', 5199],\n",
       " ['2 Bedroom', 329],\n",
       " ['3 BHK', 4309],\n",
       " ['3 BHK', 4309],\n",
       " ['3 BHK', 4309],\n",
       " ['1 BHK', 538],\n",
       " ['2 BHK', 5199],\n",
       " ['2 BHK', 5199],\n",
       " ['2 BHK', 5199],\n",
       " ['2 BHK', 5199],\n",
       " ['2 BHK', 5199],\n",
       " ['4 Bedroom', 826],\n",
       " ['1 Bedroom', 121],\n",
       " ['2 BHK', 5199],\n",
       " ['4 Bedroom', 826],\n",
       " ['4 Bedroom', 826],\n",
       " ['4 BHK', 591],\n",
       " ['4 BHK', 591],\n",
       " ['3 BHK', 4309],\n",
       " ['4 Bedroom', 826],\n",
       " ['3 BHK', 4309],\n",
       " ['3 BHK', 4309],\n",
       " ['2 BHK', 5199],\n",
       " ['3 BHK', 4309],\n",
       " ['2 BHK', 5199],\n",
       " ['4 BHK', 591],\n",
       " ['2 BHK', 5199],\n",
       " ['1 BHK', 538],\n",
       " ['2 BHK', 5199],\n",
       " ['4 BHK', 591],\n",
       " ['3 BHK', 4309],\n",
       " ['2 BHK', 5199],\n",
       " ['2 BHK', 5199],\n",
       " ['2 BHK', 5199],\n",
       " ['3 BHK', 4309],\n",
       " ['3 BHK', 4309],\n",
       " ['3 BHK', 4309],\n",
       " ['2 BHK', 5199],\n",
       " ['3 BHK', 4309],\n",
       " ['9 BHK', 8],\n",
       " ['5 Bedroom', 297],\n",
       " ['2 BHK', 5199],\n",
       " ['3 BHK', 4309],\n",
       " ['3 BHK', 4309],\n",
       " ['3 BHK', 4309],\n",
       " ['3 Bedroom', 547],\n",
       " ['3 Bedroom', 547],\n",
       " ['2 BHK', 5199],\n",
       " ['5 BHK', 59],\n",
       " ['3 BHK', 4309],\n",
       " ['2 BHK', 5199],\n",
       " ['3 BHK', 4309],\n",
       " ['2 BHK', 5199],\n",
       " ['2 BHK', 5199],\n",
       " ['3 BHK', 4309],\n",
       " ['6 Bedroom', 191],\n",
       " ['2 Bedroom', 329],\n",
       " ['2 BHK', 5199],\n",
       " ['1 BHK', 538],\n",
       " ['2 BHK', 5199],\n",
       " ['4 Bedroom', 826],\n",
       " ['2 BHK', 5199],\n",
       " ['1 BHK', 538],\n",
       " ['2 BHK', 5199],\n",
       " ['3 BHK', 4309],\n",
       " ['2 BHK', 5199],\n",
       " ['3 BHK', 4309],\n",
       " ['4 Bedroom', 826],\n",
       " ['3 BHK', 4309],\n",
       " ['2 BHK', 5199],\n",
       " ['4 Bedroom', 826],\n",
       " ['3 BHK', 4309],\n",
       " ['2 BHK', 5199],\n",
       " ['4 Bedroom', 826],\n",
       " ['3 BHK', 4309],\n",
       " ['3 BHK', 4309],\n",
       " ['2 BHK', 5199],\n",
       " ['2 Bedroom', 329],\n",
       " ['3 BHK', 4309],\n",
       " ['1 Bedroom', 121],\n",
       " ['2 BHK', 5199],\n",
       " ['1 Bedroom', 121],\n",
       " ['1 BHK', 538],\n",
       " ['3 BHK', 4309],\n",
       " ['3 BHK', 4309],\n",
       " ['2 BHK', 5199],\n",
       " ['2 BHK', 5199],\n",
       " ['2 BHK', 5199],\n",
       " ['2 BHK', 5199],\n",
       " ['2 BHK', 5199],\n",
       " ['3 BHK', 4309],\n",
       " ['3 BHK', 4309],\n",
       " ['2 Bedroom', 329],\n",
       " ['1 BHK', 538],\n",
       " ['2 BHK', 5199],\n",
       " ['3 BHK', 4309],\n",
       " ['2 BHK', 5199],\n",
       " ['3 BHK', 4309],\n",
       " ['3 BHK', 4309],\n",
       " ['3 BHK', 4309],\n",
       " ['3 BHK', 4309],\n",
       " ['1 BHK', 538],\n",
       " ['1 BHK', 538],\n",
       " ['3 Bedroom', 547],\n",
       " ['3 BHK', 4309],\n",
       " ['7 BHK', 17],\n",
       " ['2 BHK', 5199],\n",
       " ['2 BHK', 5199],\n",
       " ['3 BHK', 4309],\n",
       " ['4 BHK', 591],\n",
       " ['4 Bedroom', 826],\n",
       " ['2 BHK', 5199],\n",
       " ['2 BHK', 5199],\n",
       " ['2 BHK', 5199],\n",
       " ['5 Bedroom', 297],\n",
       " ['6 Bedroom', 191],\n",
       " ['2 BHK', 5199],\n",
       " ['4 Bedroom', 826],\n",
       " ['4 BHK', 591],\n",
       " ['3 BHK', 4309],\n",
       " ['3 BHK', 4309],\n",
       " ['2 BHK', 5199],\n",
       " ['3 BHK', 4309],\n",
       " ['1 BHK', 538],\n",
       " ['3 BHK', 4309],\n",
       " ['3 BHK', 4309],\n",
       " ['3 BHK', 4309],\n",
       " ['2 BHK', 5199],\n",
       " ['2 BHK', 5199],\n",
       " ['3 BHK', 4309],\n",
       " ['2 Bedroom', 329],\n",
       " ['3 BHK', 4309],\n",
       " ['2 BHK', 5199],\n",
       " ['1 BHK', 538],\n",
       " ['4 BHK', 591],\n",
       " ['2 BHK', 5199],\n",
       " ['3 BHK', 4309],\n",
       " ['3 BHK', 4309],\n",
       " ['6 BHK', 30],\n",
       " ['4 BHK', 591],\n",
       " ['2 BHK', 5199],\n",
       " ['3 Bedroom', 547],\n",
       " ['2 BHK', 5199],\n",
       " ['1 BHK', 538],\n",
       " ['2 BHK', 5199],\n",
       " ['2 BHK', 5199],\n",
       " ['3 BHK', 4309],\n",
       " ['2 BHK', 5199],\n",
       " ['9 Bedroom', 46],\n",
       " ['3 BHK', 4309],\n",
       " ['2 BHK', 5199],\n",
       " ['3 BHK', 4309],\n",
       " ['3 BHK', 4309],\n",
       " ['2 BHK', 5199],\n",
       " ['3 BHK', 4309],\n",
       " ['3 BHK', 4309],\n",
       " ['4 BHK', 591],\n",
       " ['3 BHK', 4309],\n",
       " ['2 BHK', 5199],\n",
       " ['2 BHK', 5199],\n",
       " ['3 BHK', 4309],\n",
       " ['2 BHK', 5199],\n",
       " ['2 BHK', 5199],\n",
       " ['4 Bedroom', 826],\n",
       " ['3 BHK', 4309],\n",
       " ['3 BHK', 4309],\n",
       " ['2 BHK', 5199],\n",
       " ['2 BHK', 5199],\n",
       " ['3 BHK', 4309],\n",
       " ['5 BHK', 59],\n",
       " ['3 Bedroom', 547],\n",
       " ['3 BHK', 4309],\n",
       " ['4 Bedroom', 826],\n",
       " ['3 BHK', 4309],\n",
       " ['3 BHK', 4309],\n",
       " ['2 BHK', 5199],\n",
       " ['1 Bedroom', 121],\n",
       " ['7 Bedroom', 83],\n",
       " ['3 BHK', 4309],\n",
       " ['5 Bedroom', 297],\n",
       " ['3 BHK', 4309],\n",
       " ['4 Bedroom', 826],\n",
       " ['2 BHK', 5199],\n",
       " ['3 BHK', 4309],\n",
       " ['3 BHK', 4309],\n",
       " ['3 Bedroom', 547],\n",
       " ['2 BHK', 5199],\n",
       " ['3 BHK', 4309],\n",
       " ['3 BHK', 4309],\n",
       " ['4 BHK', 591],\n",
       " ['4 Bedroom', 826],\n",
       " ['2 BHK', 5199],\n",
       " ['2 Bedroom', 329],\n",
       " ['3 BHK', 4309],\n",
       " ['2 BHK', 5199],\n",
       " ['3 BHK', 4309],\n",
       " ['2 BHK', 5199],\n",
       " ['3 Bedroom', 547],\n",
       " ['2 BHK', 5199],\n",
       " ['3 Bedroom', 547],\n",
       " ['2 BHK', 5199],\n",
       " ['2 BHK', 5199],\n",
       " ['5 BHK', 59],\n",
       " ['3 BHK', 4309],\n",
       " ['3 Bedroom', 547],\n",
       " ['2 BHK', 5199],\n",
       " ['3 Bedroom', 547],\n",
       " ['3 BHK', 4309],\n",
       " ['2 BHK', 5199],\n",
       " ['2 BHK', 5199],\n",
       " ['2 BHK', 5199],\n",
       " ['2 BHK', 5199],\n",
       " ['3 BHK', 4309],\n",
       " ['3 BHK', 4309],\n",
       " ['3 BHK', 4309],\n",
       " ['3 BHK', 4309],\n",
       " ['3 BHK', 4309],\n",
       " ['2 BHK', 5199],\n",
       " ['2 BHK', 5199],\n",
       " ['3 BHK', 4309],\n",
       " ['3 BHK', 4309],\n",
       " ['3 BHK', 4309],\n",
       " ['2 BHK', 5199],\n",
       " ['2 BHK', 5199],\n",
       " ['3 BHK', 4309],\n",
       " ['4 Bedroom', 826],\n",
       " ['3 BHK', 4309],\n",
       " ['5 Bedroom', 297],\n",
       " ['4 Bedroom', 826],\n",
       " ['2 BHK', 5199],\n",
       " ['2 BHK', 5199],\n",
       " ['2 BHK', 5199],\n",
       " ['3 BHK', 4309],\n",
       " ['2 BHK', 5199],\n",
       " ['2 BHK', 5199],\n",
       " ['2 BHK', 5199],\n",
       " ['4 BHK', 591],\n",
       " ['2 BHK', 5199],\n",
       " ['3 BHK', 4309],\n",
       " ['3 BHK', 4309],\n",
       " ['2 BHK', 5199],\n",
       " ['1 BHK', 538],\n",
       " ['2 BHK', 5199],\n",
       " ['4 BHK', 591],\n",
       " ['2 BHK', 5199],\n",
       " ['2 BHK', 5199],\n",
       " ['2 BHK', 5199],\n",
       " ['1 Bedroom', 121],\n",
       " ['2 BHK', 5199],\n",
       " ['4 Bedroom', 826],\n",
       " ['3 BHK', 4309],\n",
       " ['2 BHK', 5199],\n",
       " ['2 BHK', 5199],\n",
       " ['4 BHK', 591],\n",
       " ['2 BHK', 5199],\n",
       " ['3 BHK', 4309],\n",
       " ['2 BHK', 5199],\n",
       " ['5 Bedroom', 297],\n",
       " ['2 BHK', 5199],\n",
       " ['4 Bedroom', 826],\n",
       " ['2 BHK', 5199],\n",
       " ['2 BHK', 5199],\n",
       " ['2 BHK', 5199],\n",
       " ['1 BHK', 538],\n",
       " ['2 BHK', 5199],\n",
       " ['3 BHK', 4309],\n",
       " ['2 BHK', 5199],\n",
       " ['5 Bedroom', 297],\n",
       " ['3 BHK', 4309],\n",
       " ['2 BHK', 5199],\n",
       " ['9 Bedroom', 46],\n",
       " ['2 BHK', 5199],\n",
       " ['2 BHK', 5199],\n",
       " ['3 BHK', 4309],\n",
       " ['2 BHK', 5199],\n",
       " ['1 BHK', 538],\n",
       " ['3 BHK', 4309],\n",
       " ['2 BHK', 5199],\n",
       " ['3 BHK', 4309],\n",
       " ['3 BHK', 4309],\n",
       " ['2 BHK', 5199],\n",
       " ['2 BHK', 5199],\n",
       " ['1 RK', 13],\n",
       " ['6 Bedroom', 191],\n",
       " ['3 BHK', 4309],\n",
       " ['3 BHK', 4309],\n",
       " ['2 BHK', 5199],\n",
       " ['4 BHK', 591],\n",
       " ['4 Bedroom', 826],\n",
       " ['6 Bedroom', 191],\n",
       " ['3 BHK', 4309],\n",
       " ['2 BHK', 5199],\n",
       " ['2 BHK', 5199],\n",
       " ['2 BHK', 5199],\n",
       " ['7 Bedroom', 83],\n",
       " ['3 BHK', 4309],\n",
       " ['2 BHK', 5199],\n",
       " ['2 BHK', 5199],\n",
       " ['2 BHK', 5199],\n",
       " ['3 BHK', 4309],\n",
       " ['3 BHK', 4309],\n",
       " ['4 BHK', 591],\n",
       " ['2 BHK', 5199],\n",
       " ['2 BHK', 5199],\n",
       " ['2 BHK', 5199],\n",
       " ['3 BHK', 4309],\n",
       " ['2 BHK', 5199],\n",
       " ['4 Bedroom', 826],\n",
       " ['3 BHK', 4309],\n",
       " ['3 BHK', 4309],\n",
       " ['4 Bedroom', 826],\n",
       " ['4 BHK', 591],\n",
       " ['2 BHK', 5199],\n",
       " ['2 BHK', 5199],\n",
       " ['2 BHK', 5199],\n",
       " ['2 BHK', 5199],\n",
       " ['1 BHK', 538],\n",
       " ['2 BHK', 5199],\n",
       " ['3 BHK', 4309],\n",
       " ['4 BHK', 591],\n",
       " ['3 BHK', 4309],\n",
       " ['3 BHK', 4309],\n",
       " ['2 BHK', 5199],\n",
       " ['4 BHK', 591],\n",
       " ['2 BHK', 5199],\n",
       " ['4 BHK', 591],\n",
       " ['3 BHK', 4309],\n",
       " ['3 BHK', 4309],\n",
       " ['3 BHK', 4309],\n",
       " ['1 BHK', 538],\n",
       " ['2 BHK', 5199],\n",
       " ['2 BHK', 5199],\n",
       " ['3 BHK', 4309],\n",
       " ['2 BHK', 5199],\n",
       " ['2 BHK', 5199],\n",
       " ['2 BHK', 5199],\n",
       " ['2 BHK', 5199],\n",
       " ['2 BHK', 5199],\n",
       " ['6 Bedroom', 191],\n",
       " ['2 Bedroom', 329],\n",
       " ['3 BHK', 4309],\n",
       " ['2 BHK', 5199],\n",
       " ['3 BHK', 4309],\n",
       " ['2 BHK', 5199],\n",
       " ['2 BHK', 5199],\n",
       " ['4 Bedroom', 826],\n",
       " ['3 BHK', 4309],\n",
       " ['3 BHK', 4309],\n",
       " ['3 BHK', 4309],\n",
       " ['3 BHK', 4309],\n",
       " ['2 BHK', 5199],\n",
       " ['3 BHK', 4309],\n",
       " ['3 BHK', 4309],\n",
       " ['2 BHK', 5199],\n",
       " ['3 BHK', 4309],\n",
       " ['4 Bedroom', 826],\n",
       " ['3 BHK', 4309],\n",
       " ['8 Bedroom', 84],\n",
       " ['2 BHK', 5199],\n",
       " ['2 BHK', 5199],\n",
       " ['6 Bedroom', 191],\n",
       " ['4 Bedroom', 826],\n",
       " ['2 BHK', 5199],\n",
       " ['2 BHK', 5199],\n",
       " ['2 BHK', 5199],\n",
       " ['2 BHK', 5199],\n",
       " ['5 Bedroom', 297],\n",
       " ['2 BHK', 5199],\n",
       " ['2 BHK', 5199],\n",
       " ['2 BHK', 5199],\n",
       " ['2 BHK', 5199],\n",
       " ['3 BHK', 4309],\n",
       " ['2 BHK', 5199],\n",
       " ['2 BHK', 5199],\n",
       " ['2 BHK', 5199],\n",
       " ['3 BHK', 4309],\n",
       " ['3 BHK', 4309],\n",
       " ['3 BHK', 4309],\n",
       " ['3 BHK', 4309],\n",
       " ['3 BHK', 4309],\n",
       " ['3 BHK', 4309],\n",
       " ['2 BHK', 5199],\n",
       " ['1 BHK', 538],\n",
       " ['3 BHK', 4309],\n",
       " ['3 Bedroom', 547],\n",
       " ['7 Bedroom', 83],\n",
       " ['1 BHK', 538],\n",
       " ['2 BHK', 5199],\n",
       " ['5 Bedroom', 297],\n",
       " ['5 Bedroom', 297],\n",
       " ['3 BHK', 4309],\n",
       " ['2 BHK', 5199],\n",
       " ['3 Bedroom', 547],\n",
       " ['2 BHK', 5199],\n",
       " ['2 BHK', 5199],\n",
       " ['2 BHK', 5199],\n",
       " ['2 BHK', 5199],\n",
       " ['2 BHK', 5199],\n",
       " ['1 Bedroom', 121],\n",
       " ['3 BHK', 4309],\n",
       " ['2 BHK', 5199],\n",
       " ['3 BHK', 4309],\n",
       " ['2 BHK', 5199],\n",
       " ['3 BHK', 4309],\n",
       " ['1 BHK', 538],\n",
       " ['1 BHK', 538],\n",
       " ['1 BHK', 538],\n",
       " ['2 Bedroom', 329],\n",
       " ['2 Bedroom', 329],\n",
       " ['3 Bedroom', 547],\n",
       " ['2 BHK', 5199],\n",
       " ['4 Bedroom', 826],\n",
       " ['3 BHK', 4309],\n",
       " ['2 BHK', 5199],\n",
       " ['2 BHK', 5199],\n",
       " ['2 BHK', 5199],\n",
       " ['3 BHK', 4309],\n",
       " ['2 BHK', 5199],\n",
       " ['1 BHK', 538],\n",
       " ['2 BHK', 5199],\n",
       " ['3 BHK', 4309],\n",
       " ['3 BHK', 4309],\n",
       " ['2 BHK', 5199],\n",
       " ['4 Bedroom', 826],\n",
       " ['3 BHK', 4309],\n",
       " ['3 BHK', 4309],\n",
       " ['3 BHK', 4309],\n",
       " ['2 BHK', 5199],\n",
       " ['5 BHK', 59],\n",
       " ['2 Bedroom', 329],\n",
       " ['2 BHK', 5199],\n",
       " ['2 BHK', 5199],\n",
       " ['3 BHK', 4309],\n",
       " ['3 BHK', 4309],\n",
       " ['3 BHK', 4309],\n",
       " ['4 BHK', 591],\n",
       " ['4 BHK', 591],\n",
       " ['3 BHK', 4309],\n",
       " ['9 Bedroom', 46],\n",
       " ['5 Bedroom', 297],\n",
       " ['3 BHK', 4309],\n",
       " ['4 Bedroom', 826],\n",
       " ['1 BHK', 538],\n",
       " ['2 BHK', 5199],\n",
       " ['2 BHK', 5199],\n",
       " ['2 BHK', 5199],\n",
       " ['4 Bedroom', 826],\n",
       " ['2 BHK', 5199],\n",
       " ['4 Bedroom', 826],\n",
       " ['3 BHK', 4309],\n",
       " ['4 BHK', 591],\n",
       " ['3 Bedroom', 547],\n",
       " ['3 BHK', 4309],\n",
       " ['4 Bedroom', 826],\n",
       " ['3 BHK', 4309],\n",
       " ['3 BHK', 4309],\n",
       " ['4 Bedroom', 826],\n",
       " ['2 BHK', 5199],\n",
       " ['2 BHK', 5199],\n",
       " ['1 BHK', 538],\n",
       " ['3 BHK', 4309],\n",
       " ['3 Bedroom', 547],\n",
       " ['2 BHK', 5199],\n",
       " ['3 BHK', 4309],\n",
       " ['2 BHK', 5199],\n",
       " ['3 BHK', 4309],\n",
       " ['3 BHK', 4309],\n",
       " ['2 BHK', 5199],\n",
       " ['2 BHK', 5199],\n",
       " ['3 BHK', 4309],\n",
       " ['1 BHK', 538],\n",
       " ['3 BHK', 4309],\n",
       " ['2 BHK', 5199],\n",
       " ['2 BHK', 5199],\n",
       " ['2 BHK', 5199],\n",
       " ['2 BHK', 5199],\n",
       " ['6 Bedroom', 191],\n",
       " ['5 Bedroom', 297],\n",
       " ['2 BHK', 5199],\n",
       " ['2 BHK', 5199],\n",
       " ['2 BHK', 5199],\n",
       " ['3 BHK', 4309],\n",
       " ['2 BHK', 5199],\n",
       " ['3 BHK', 4309],\n",
       " ['2 BHK', 5199],\n",
       " ['2 BHK', 5199],\n",
       " ['3 BHK', 4309],\n",
       " ['3 BHK', 4309],\n",
       " ['2 BHK', 5199],\n",
       " ['2 BHK', 5199],\n",
       " ['1 BHK', 538],\n",
       " ['8 Bedroom', 84],\n",
       " ['4 Bedroom', 826],\n",
       " ['1 BHK', 538],\n",
       " ['2 BHK', 5199],\n",
       " ['2 BHK', 5199],\n",
       " ['1 Bedroom', 121],\n",
       " ['3 Bedroom', 547],\n",
       " ['2 BHK', 5199],\n",
       " ['3 BHK', 4309],\n",
       " ['1 BHK', 538],\n",
       " ...]"
      ]
     },
     "execution_count": 155,
     "metadata": {},
     "output_type": "execute_result"
    }
   ],
   "source": [
    "size_dict"
   ]
  },
  {
   "cell_type": "code",
   "execution_count": 166,
   "metadata": {},
   "outputs": [
    {
     "data": {
      "text/html": [
       "<div>\n",
       "<style scoped>\n",
       "    .dataframe tbody tr th:only-of-type {\n",
       "        vertical-align: middle;\n",
       "    }\n",
       "\n",
       "    .dataframe tbody tr th {\n",
       "        vertical-align: top;\n",
       "    }\n",
       "\n",
       "    .dataframe thead th {\n",
       "        text-align: right;\n",
       "    }\n",
       "</style>\n",
       "<table border=\"1\" class=\"dataframe\">\n",
       "  <thead>\n",
       "    <tr style=\"text-align: right;\">\n",
       "      <th></th>\n",
       "      <th>location</th>\n",
       "      <th>size</th>\n",
       "      <th>total_sqft</th>\n",
       "      <th>bath</th>\n",
       "      <th>balcony</th>\n",
       "      <th>price</th>\n",
       "      <th>location_encode</th>\n",
       "      <th>size_encode</th>\n",
       "    </tr>\n",
       "  </thead>\n",
       "  <tbody>\n",
       "    <tr>\n",
       "      <th>0</th>\n",
       "      <td>Electronic City Phase II</td>\n",
       "      <td>2 BHK</td>\n",
       "      <td>1056.0</td>\n",
       "      <td>2.0</td>\n",
       "      <td>1.0</td>\n",
       "      <td>39.07</td>\n",
       "      <td>132</td>\n",
       "      <td>5199</td>\n",
       "    </tr>\n",
       "    <tr>\n",
       "      <th>1</th>\n",
       "      <td>Chikka Tirupathi</td>\n",
       "      <td>4 Bedroom</td>\n",
       "      <td>2600.0</td>\n",
       "      <td>5.0</td>\n",
       "      <td>3.0</td>\n",
       "      <td>120.00</td>\n",
       "      <td>17</td>\n",
       "      <td>826</td>\n",
       "    </tr>\n",
       "    <tr>\n",
       "      <th>2</th>\n",
       "      <td>Uttarahalli</td>\n",
       "      <td>3 BHK</td>\n",
       "      <td>1440.0</td>\n",
       "      <td>2.0</td>\n",
       "      <td>3.0</td>\n",
       "      <td>62.00</td>\n",
       "      <td>186</td>\n",
       "      <td>4309</td>\n",
       "    </tr>\n",
       "  </tbody>\n",
       "</table>\n",
       "</div>"
      ],
      "text/plain": [
       "                   location       size  total_sqft  bath  balcony   price  \\\n",
       "0  Electronic City Phase II      2 BHK      1056.0   2.0      1.0   39.07   \n",
       "1          Chikka Tirupathi  4 Bedroom      2600.0   5.0      3.0  120.00   \n",
       "2               Uttarahalli      3 BHK      1440.0   2.0      3.0   62.00   \n",
       "\n",
       "   location_encode  size_encode  \n",
       "0              132         5199  \n",
       "1               17          826  \n",
       "2              186         4309  "
      ]
     },
     "execution_count": 166,
     "metadata": {},
     "output_type": "execute_result"
    }
   ],
   "source": [
    "df.head(3)"
   ]
  },
  {
   "cell_type": "code",
   "execution_count": 167,
   "metadata": {},
   "outputs": [],
   "source": [
    "df.drop([\"location\",\"size\"],axis=1,inplace=True)"
   ]
  },
  {
   "cell_type": "code",
   "execution_count": 169,
   "metadata": {},
   "outputs": [],
   "source": [
    "df.head(3)\n",
    "df.to_csv(\"final_dataset_house price.csv\")"
   ]
  },
  {
   "cell_type": "code",
   "execution_count": 175,
   "metadata": {},
   "outputs": [
    {
     "data": {
      "text/plain": [
       "(13319, 6)"
      ]
     },
     "execution_count": 175,
     "metadata": {},
     "output_type": "execute_result"
    }
   ],
   "source": [
    "df.shape"
   ]
  },
  {
   "cell_type": "code",
   "execution_count": 178,
   "metadata": {},
   "outputs": [
    {
     "data": {
      "text/plain": [
       "665.95"
      ]
     },
     "execution_count": 178,
     "metadata": {},
     "output_type": "execute_result"
    }
   ],
   "source": [
    "13319*0.05"
   ]
  },
  {
   "cell_type": "markdown",
   "metadata": {},
   "source": [
    "# End of EDA and start of MODEL MAKING"
   ]
  },
  {
   "cell_type": "code",
   "execution_count": 171,
   "metadata": {},
   "outputs": [
    {
     "data": {
      "text/plain": [
       "total_sqft         float64\n",
       "bath               float64\n",
       "balcony            float64\n",
       "price              float64\n",
       "location_encode      int64\n",
       "size_encode          int64\n",
       "dtype: object"
      ]
     },
     "execution_count": 171,
     "metadata": {},
     "output_type": "execute_result"
    }
   ],
   "source": [
    "df.dtypes"
   ]
  },
  {
   "cell_type": "code",
   "execution_count": 172,
   "metadata": {},
   "outputs": [
    {
     "data": {
      "text/plain": [
       "Index(['total_sqft', 'bath', 'balcony', 'price', 'location_encode',\n",
       "       'size_encode'],\n",
       "      dtype='object')"
      ]
     },
     "execution_count": 172,
     "metadata": {},
     "output_type": "execute_result"
    }
   ],
   "source": [
    "df.keys()"
   ]
  },
  {
   "cell_type": "code",
   "execution_count": 173,
   "metadata": {},
   "outputs": [],
   "source": [
    "x=df[['total_sqft', 'bath', 'balcony', 'location_encode','size_encode']]\n",
    "y=df['price']"
   ]
  },
  {
   "cell_type": "code",
   "execution_count": 174,
   "metadata": {},
   "outputs": [],
   "source": [
    "from sklearn.model_selection import train_test_split"
   ]
  },
  {
   "cell_type": "code",
   "execution_count": 179,
   "metadata": {},
   "outputs": [],
   "source": [
    "x_train,x_test,y_train,y_test=train_test_split(x,y,test_size=0.05,random_state=42)"
   ]
  },
  {
   "cell_type": "code",
   "execution_count": 180,
   "metadata": {},
   "outputs": [
    {
     "data": {
      "text/plain": [
       "((12653, 5), (666, 5), (12653,), (666,))"
      ]
     },
     "execution_count": 180,
     "metadata": {},
     "output_type": "execute_result"
    }
   ],
   "source": [
    "x_train.shape,x_test.shape,y_train.shape,y_test.shape"
   ]
  },
  {
   "cell_type": "code",
   "execution_count": 182,
   "metadata": {},
   "outputs": [],
   "source": [
    "from sklearn.preprocessing import StandardScaler\n",
    "scaler=StandardScaler()\n",
    "x_train_scaled=scaler.fit_transform(x_train)\n",
    "x_test_scaled=scaler.transform(x_test)"
   ]
  },
  {
   "cell_type": "code",
   "execution_count": 185,
   "metadata": {},
   "outputs": [
    {
     "name": "stdout",
     "output_type": "stream",
     "text": [
      "R2Score -  23.47156623270097 %\n"
     ]
    },
    {
     "name": "stderr",
     "output_type": "stream",
     "text": [
      "C:\\Users\\hp\\AppData\\Local\\Packages\\PythonSoftwareFoundation.Python.3.11_qbz5n2kfra8p0\\LocalCache\\local-packages\\Python311\\site-packages\\sklearn\\base.py:486: UserWarning: X has feature names, but LinearRegression was fitted without feature names\n",
      "  warnings.warn(\n"
     ]
    }
   ],
   "source": [
    "from sklearn.linear_model import LinearRegression,Ridge,Lasso,ElasticNet\n",
    "from sklearn.model_selection import GridSearchCV\n",
    "from sklearn.metrics import r2_score\n",
    "regressor=LinearRegression()\n",
    "regressor.fit(x_train_scaled,y_train)\n",
    "y_pred=regressor.predict(x_test)\n",
    "print(\"R2Score - \",abs(r2_score(y_pred,y_test))*1000,\"%\")"
   ]
  },
  {
   "cell_type": "code",
   "execution_count": 189,
   "metadata": {},
   "outputs": [
    {
     "name": "stdout",
     "output_type": "stream",
     "text": [
      "R2Score Ridge-  23.48227172879458 %\n"
     ]
    },
    {
     "name": "stderr",
     "output_type": "stream",
     "text": [
      "C:\\Users\\hp\\AppData\\Local\\Packages\\PythonSoftwareFoundation.Python.3.11_qbz5n2kfra8p0\\LocalCache\\local-packages\\Python311\\site-packages\\sklearn\\base.py:486: UserWarning: X has feature names, but Ridge was fitted without feature names\n",
      "  warnings.warn(\n"
     ]
    }
   ],
   "source": [
    "ridge=Ridge()\n",
    "ridge.fit(x_train_scaled,y_train)\n",
    "y_pred=ridge.predict(x_test)\n",
    "print(\"R2Score Ridge- \",abs(r2_score(y_pred,y_test))*1000,\"%\")"
   ]
  },
  {
   "cell_type": "code",
   "execution_count": 190,
   "metadata": {},
   "outputs": [
    {
     "name": "stdout",
     "output_type": "stream",
     "text": [
      "R2Score Lasso -  17.95964852067189 %\n"
     ]
    },
    {
     "name": "stderr",
     "output_type": "stream",
     "text": [
      "C:\\Users\\hp\\AppData\\Local\\Packages\\PythonSoftwareFoundation.Python.3.11_qbz5n2kfra8p0\\LocalCache\\local-packages\\Python311\\site-packages\\sklearn\\base.py:486: UserWarning: X has feature names, but Lasso was fitted without feature names\n",
      "  warnings.warn(\n"
     ]
    }
   ],
   "source": [
    "lasso=Lasso()\n",
    "lasso.fit(x_train_scaled,y_train)\n",
    "y_pred=lasso.predict(x_test)\n",
    "print(\"R2Score Lasso - \",abs(r2_score(y_pred,y_test))*1000,\"%\")"
   ]
  },
  {
   "cell_type": "code",
   "execution_count": 191,
   "metadata": {},
   "outputs": [
    {
     "name": "stdout",
     "output_type": "stream",
     "text": [
      "R2Score ElasticNet -  72.91966471858524 %\n"
     ]
    },
    {
     "name": "stderr",
     "output_type": "stream",
     "text": [
      "C:\\Users\\hp\\AppData\\Local\\Packages\\PythonSoftwareFoundation.Python.3.11_qbz5n2kfra8p0\\LocalCache\\local-packages\\Python311\\site-packages\\sklearn\\base.py:486: UserWarning: X has feature names, but ElasticNet was fitted without feature names\n",
      "  warnings.warn(\n"
     ]
    }
   ],
   "source": [
    "elastic=ElasticNet()\n",
    "elastic.fit(x_train_scaled,y_train)\n",
    "y_pred=elastic.predict(x_test)\n",
    "print(\"R2Score ElasticNet - \",abs(r2_score(y_pred,y_test))*1000,\"%\")"
   ]
  },
  {
   "cell_type": "code",
   "execution_count": 192,
   "metadata": {},
   "outputs": [],
   "source": [
    "import pickle\n",
    "pickle.dump(scaler,open(\"House Price scaler.pkl\",\"wb\"))\n",
    "pickle.dump(elastic,open(\"House Prize model.pkl\",\"wb\"))"
   ]
  },
  {
   "cell_type": "markdown",
   "metadata": {},
   "source": [
    "# model trianed"
   ]
  },
  {
   "cell_type": "code",
   "execution_count": 196,
   "metadata": {},
   "outputs": [
    {
     "name": "stderr",
     "output_type": "stream",
     "text": [
      "C:\\Users\\hp\\AppData\\Local\\Packages\\PythonSoftwareFoundation.Python.3.11_qbz5n2kfra8p0\\LocalCache\\local-packages\\Python311\\site-packages\\sklearn\\base.py:493: UserWarning: X does not have valid feature names, but StandardScaler was fitted with feature names\n",
      "  warnings.warn(\n"
     ]
    },
    {
     "data": {
      "text/plain": [
       "array([204.77632428])"
      ]
     },
     "execution_count": 196,
     "metadata": {},
     "output_type": "execute_result"
    }
   ],
   "source": [
    "values=[[2600,5,3,17,826]]\n",
    "abc=scaler.transform(values)\n",
    "elastic.predict(abc)"
   ]
  },
  {
   "cell_type": "code",
   "execution_count": 193,
   "metadata": {},
   "outputs": [
    {
     "data": {
      "text/html": [
       "<div>\n",
       "<style scoped>\n",
       "    .dataframe tbody tr th:only-of-type {\n",
       "        vertical-align: middle;\n",
       "    }\n",
       "\n",
       "    .dataframe tbody tr th {\n",
       "        vertical-align: top;\n",
       "    }\n",
       "\n",
       "    .dataframe thead th {\n",
       "        text-align: right;\n",
       "    }\n",
       "</style>\n",
       "<table border=\"1\" class=\"dataframe\">\n",
       "  <thead>\n",
       "    <tr style=\"text-align: right;\">\n",
       "      <th></th>\n",
       "      <th>total_sqft</th>\n",
       "      <th>bath</th>\n",
       "      <th>balcony</th>\n",
       "      <th>price</th>\n",
       "      <th>location_encode</th>\n",
       "      <th>size_encode</th>\n",
       "    </tr>\n",
       "  </thead>\n",
       "  <tbody>\n",
       "    <tr>\n",
       "      <th>0</th>\n",
       "      <td>1056.0</td>\n",
       "      <td>2.0</td>\n",
       "      <td>1.0</td>\n",
       "      <td>39.07</td>\n",
       "      <td>132</td>\n",
       "      <td>5199</td>\n",
       "    </tr>\n",
       "    <tr>\n",
       "      <th>1</th>\n",
       "      <td>2600.0</td>\n",
       "      <td>5.0</td>\n",
       "      <td>3.0</td>\n",
       "      <td>120.00</td>\n",
       "      <td>17</td>\n",
       "      <td>826</td>\n",
       "    </tr>\n",
       "    <tr>\n",
       "      <th>2</th>\n",
       "      <td>1440.0</td>\n",
       "      <td>2.0</td>\n",
       "      <td>3.0</td>\n",
       "      <td>62.00</td>\n",
       "      <td>186</td>\n",
       "      <td>4309</td>\n",
       "    </tr>\n",
       "  </tbody>\n",
       "</table>\n",
       "</div>"
      ],
      "text/plain": [
       "   total_sqft  bath  balcony   price  location_encode  size_encode\n",
       "0      1056.0   2.0      1.0   39.07              132         5199\n",
       "1      2600.0   5.0      3.0  120.00               17          826\n",
       "2      1440.0   2.0      3.0   62.00              186         4309"
      ]
     },
     "execution_count": 193,
     "metadata": {},
     "output_type": "execute_result"
    }
   ],
   "source": [
    "df.head(3)"
   ]
  },
  {
   "cell_type": "code",
   "execution_count": 1,
   "metadata": {},
   "outputs": [],
   "source": [
    "import pandas as pd\n",
    "import numpy as np"
   ]
  },
  {
   "cell_type": "code",
   "execution_count": 198,
   "metadata": {},
   "outputs": [],
   "source": [
    "data=pd.read_csv(r\"C:\\Users\\hp\\Downloads\\Bangalore  house data.csv\")"
   ]
  },
  {
   "cell_type": "code",
   "execution_count": 200,
   "metadata": {},
   "outputs": [
    {
     "data": {
      "text/plain": [
       "Index(['area_type', 'availability', 'location', 'size', 'society',\n",
       "       'total_sqft', 'bath', 'balcony', 'price'],\n",
       "      dtype='object')"
      ]
     },
     "execution_count": 200,
     "metadata": {},
     "output_type": "execute_result"
    }
   ],
   "source": [
    "data.keys()"
   ]
  },
  {
   "cell_type": "code",
   "execution_count": 205,
   "metadata": {},
   "outputs": [
    {
     "data": {
      "text/plain": [
       "array([['Electronic City Phase II', '2 BHK'],\n",
       "       ['Chikka Tirupathi', '4 Bedroom'],\n",
       "       ['Uttarahalli', '3 BHK'],\n",
       "       ...,\n",
       "       ['Raja Rajeshwari Nagar', '2 BHK'],\n",
       "       ['Padmanabhanagar', '4 BHK'],\n",
       "       ['Doddathoguru', '1 BHK']], dtype=object)"
      ]
     },
     "execution_count": 205,
     "metadata": {},
     "output_type": "execute_result"
    }
   ],
   "source": [
    "data[['location', 'size']].values #location and size"
   ]
  },
  {
   "cell_type": "code",
   "execution_count": 209,
   "metadata": {},
   "outputs": [
    {
     "ename": "TypeError",
     "evalue": "list.count() takes exactly one argument (0 given)",
     "output_type": "error",
     "traceback": [
      "\u001b[1;31m---------------------------------------------------------------------------\u001b[0m",
      "\u001b[1;31mTypeError\u001b[0m                                 Traceback (most recent call last)",
      "Cell \u001b[1;32mIn[209], line 1\u001b[0m\n\u001b[1;32m----> 1\u001b[0m \u001b[43mlocation_dict\u001b[49m\u001b[38;5;241;43m.\u001b[39;49m\u001b[43mcount\u001b[49m\u001b[43m(\u001b[49m\u001b[43m)\u001b[49m\n",
      "\u001b[1;31mTypeError\u001b[0m: list.count() takes exactly one argument (0 given)"
     ]
    }
   ],
   "source": [
    "location_dict.count()"
   ]
  },
  {
   "cell_type": "code",
   "execution_count": 212,
   "metadata": {},
   "outputs": [
    {
     "data": {
      "text/plain": [
       "array(['Electronic City Phase II', 'Chikka Tirupathi', 'Uttarahalli', ...,\n",
       "       '12th cross srinivas nagar banshankari 3rd stage',\n",
       "       'Havanur extension', 'Abshot Layout'], dtype=object)"
      ]
     },
     "execution_count": 212,
     "metadata": {},
     "output_type": "execute_result"
    }
   ],
   "source": [
    "data['location'].unique()"
   ]
  },
  {
   "cell_type": "code",
   "execution_count": 2,
   "metadata": {},
   "outputs": [],
   "source": [
    "df_final=pd.read_csv(r\"C:\\Users\\hp\\Desktop\\CODING\\Machine Learning\\ML_module_2\\Mini_Project\\final_dataset_house price.csv\")"
   ]
  },
  {
   "cell_type": "code",
   "execution_count": 8,
   "metadata": {},
   "outputs": [],
   "source": [
    "df=pd.read_csv(r\"C:\\Users\\hp\\Desktop\\CODING\\Machine Learning\\ML_module_2\\Mini_Project\\house Pred test.csv\")"
   ]
  },
  {
   "cell_type": "code",
   "execution_count": 9,
   "metadata": {},
   "outputs": [
    {
     "data": {
      "text/html": [
       "<div>\n",
       "<style scoped>\n",
       "    .dataframe tbody tr th:only-of-type {\n",
       "        vertical-align: middle;\n",
       "    }\n",
       "\n",
       "    .dataframe tbody tr th {\n",
       "        vertical-align: top;\n",
       "    }\n",
       "\n",
       "    .dataframe thead th {\n",
       "        text-align: right;\n",
       "    }\n",
       "</style>\n",
       "<table border=\"1\" class=\"dataframe\">\n",
       "  <thead>\n",
       "    <tr style=\"text-align: right;\">\n",
       "      <th></th>\n",
       "      <th>Unnamed: 0</th>\n",
       "      <th>location</th>\n",
       "      <th>size</th>\n",
       "      <th>society</th>\n",
       "      <th>total_sqft</th>\n",
       "      <th>bath</th>\n",
       "      <th>balcony</th>\n",
       "      <th>price</th>\n",
       "    </tr>\n",
       "  </thead>\n",
       "  <tbody>\n",
       "    <tr>\n",
       "      <th>0</th>\n",
       "      <td>0</td>\n",
       "      <td>Electronic City Phase II</td>\n",
       "      <td>2 BHK</td>\n",
       "      <td>Coomee</td>\n",
       "      <td>1056</td>\n",
       "      <td>2.0</td>\n",
       "      <td>1.0</td>\n",
       "      <td>39.07</td>\n",
       "    </tr>\n",
       "    <tr>\n",
       "      <th>1</th>\n",
       "      <td>1</td>\n",
       "      <td>Chikka Tirupathi</td>\n",
       "      <td>4 Bedroom</td>\n",
       "      <td>Theanmp</td>\n",
       "      <td>2600</td>\n",
       "      <td>5.0</td>\n",
       "      <td>3.0</td>\n",
       "      <td>120.00</td>\n",
       "    </tr>\n",
       "    <tr>\n",
       "      <th>2</th>\n",
       "      <td>2</td>\n",
       "      <td>Uttarahalli</td>\n",
       "      <td>3 BHK</td>\n",
       "      <td>NaN</td>\n",
       "      <td>1440</td>\n",
       "      <td>2.0</td>\n",
       "      <td>3.0</td>\n",
       "      <td>62.00</td>\n",
       "    </tr>\n",
       "  </tbody>\n",
       "</table>\n",
       "</div>"
      ],
      "text/plain": [
       "   Unnamed: 0                  location       size  society total_sqft  bath  \\\n",
       "0           0  Electronic City Phase II      2 BHK  Coomee        1056   2.0   \n",
       "1           1          Chikka Tirupathi  4 Bedroom  Theanmp       2600   5.0   \n",
       "2           2               Uttarahalli      3 BHK      NaN       1440   2.0   \n",
       "\n",
       "   balcony   price  \n",
       "0      1.0   39.07  \n",
       "1      3.0  120.00  \n",
       "2      3.0   62.00  "
      ]
     },
     "execution_count": 9,
     "metadata": {},
     "output_type": "execute_result"
    }
   ],
   "source": [
    "df.head(3)"
   ]
  },
  {
   "cell_type": "code",
   "execution_count": 14,
   "metadata": {},
   "outputs": [
    {
     "data": {
      "text/html": [
       "<div>\n",
       "<style scoped>\n",
       "    .dataframe tbody tr th:only-of-type {\n",
       "        vertical-align: middle;\n",
       "    }\n",
       "\n",
       "    .dataframe tbody tr th {\n",
       "        vertical-align: top;\n",
       "    }\n",
       "\n",
       "    .dataframe thead th {\n",
       "        text-align: right;\n",
       "    }\n",
       "</style>\n",
       "<table border=\"1\" class=\"dataframe\">\n",
       "  <thead>\n",
       "    <tr style=\"text-align: right;\">\n",
       "      <th></th>\n",
       "      <th>Unnamed: 0</th>\n",
       "      <th>total_sqft</th>\n",
       "      <th>bath</th>\n",
       "      <th>balcony</th>\n",
       "      <th>price</th>\n",
       "      <th>location_encode</th>\n",
       "      <th>size_encode</th>\n",
       "      <th>location</th>\n",
       "      <th>size</th>\n",
       "    </tr>\n",
       "  </thead>\n",
       "  <tbody>\n",
       "    <tr>\n",
       "      <th>0</th>\n",
       "      <td>0</td>\n",
       "      <td>1056.0</td>\n",
       "      <td>2.0</td>\n",
       "      <td>1.0</td>\n",
       "      <td>39.07</td>\n",
       "      <td>132</td>\n",
       "      <td>5199</td>\n",
       "      <td>Electronic City Phase II</td>\n",
       "      <td>2 BHK</td>\n",
       "    </tr>\n",
       "    <tr>\n",
       "      <th>1</th>\n",
       "      <td>1</td>\n",
       "      <td>2600.0</td>\n",
       "      <td>5.0</td>\n",
       "      <td>3.0</td>\n",
       "      <td>120.00</td>\n",
       "      <td>17</td>\n",
       "      <td>826</td>\n",
       "      <td>Chikka Tirupathi</td>\n",
       "      <td>4 Bedroom</td>\n",
       "    </tr>\n",
       "    <tr>\n",
       "      <th>2</th>\n",
       "      <td>2</td>\n",
       "      <td>1440.0</td>\n",
       "      <td>2.0</td>\n",
       "      <td>3.0</td>\n",
       "      <td>62.00</td>\n",
       "      <td>186</td>\n",
       "      <td>4309</td>\n",
       "      <td>Uttarahalli</td>\n",
       "      <td>3 BHK</td>\n",
       "    </tr>\n",
       "  </tbody>\n",
       "</table>\n",
       "</div>"
      ],
      "text/plain": [
       "   Unnamed: 0  total_sqft  bath  balcony   price  location_encode  \\\n",
       "0           0      1056.0   2.0      1.0   39.07              132   \n",
       "1           1      2600.0   5.0      3.0  120.00               17   \n",
       "2           2      1440.0   2.0      3.0   62.00              186   \n",
       "\n",
       "   size_encode                  location       size  \n",
       "0         5199  Electronic City Phase II      2 BHK  \n",
       "1          826          Chikka Tirupathi  4 Bedroom  \n",
       "2         4309               Uttarahalli      3 BHK  "
      ]
     },
     "execution_count": 14,
     "metadata": {},
     "output_type": "execute_result"
    }
   ],
   "source": [
    "df_final.head(3)"
   ]
  },
  {
   "cell_type": "code",
   "execution_count": 13,
   "metadata": {},
   "outputs": [],
   "source": [
    "df_final['size']=df['size']"
   ]
  },
  {
   "cell_type": "code",
   "execution_count": 15,
   "metadata": {},
   "outputs": [],
   "source": [
    "location_dict=df_final[['location','location_encode']].to_dict(\"split\")['data'] # imppppppp\n",
    "size_dict=df_final[['size','size_encode']].to_dict(\"split\")['data'] # imppppppppppppppp"
   ]
  },
  {
   "cell_type": "code",
   "execution_count": 20,
   "metadata": {},
   "outputs": [
    {
     "data": {
      "text/plain": [
       "array(['Electronic City Phase II', 'Chikka Tirupathi', 'Uttarahalli', ...,\n",
       "       '12th cross srinivas nagar banshankari 3rd stage',\n",
       "       'Havanur extension', 'Abshot Layout'], dtype=object)"
      ]
     },
     "execution_count": 20,
     "metadata": {},
     "output_type": "execute_result"
    }
   ],
   "source": [
    "df['location'].unique()"
   ]
  },
  {
   "cell_type": "code",
   "execution_count": 28,
   "metadata": {},
   "outputs": [
    {
     "data": {
      "text/plain": [
       "591"
      ]
     },
     "execution_count": 28,
     "metadata": {},
     "output_type": "execute_result"
    }
   ],
   "source": [
    "a=\"Venkatapura\"\n",
    "list(df['location']).index(a)"
   ]
  },
  {
   "cell_type": "code",
   "execution_count": 30,
   "metadata": {},
   "outputs": [
    {
     "data": {
      "text/plain": [
       "array(['2 BHK', '4 Bedroom', '3 BHK', '4 BHK', '6 Bedroom', '3 Bedroom',\n",
       "       '1 BHK', '1 RK', '1 Bedroom', '8 Bedroom', '2 Bedroom',\n",
       "       '7 Bedroom', '5 BHK', '7 BHK', '6 BHK', '5 Bedroom', '11 BHK',\n",
       "       '9 BHK', nan, '9 Bedroom', '27 BHK', '10 Bedroom', '11 Bedroom',\n",
       "       '10 BHK', '19 BHK', '16 BHK', '43 Bedroom', '14 BHK', '8 BHK',\n",
       "       '12 Bedroom', '13 BHK', '18 Bedroom'], dtype=object)"
      ]
     },
     "execution_count": 30,
     "metadata": {},
     "output_type": "execute_result"
    }
   ],
   "source": [
    "df['size'].unique()"
   ]
  },
  {
   "cell_type": "code",
   "execution_count": 43,
   "metadata": {},
   "outputs": [
    {
     "name": "stdout",
     "output_type": "stream",
     "text": [
      "['<option>2 BHK</option>', '<option>4 Bedroom</option>', '<option>3 BHK</option>', '<option>4 BHK</option>', '<option>6 Bedroom</option>', '<option>3 Bedroom</option>', '<option>1 BHK</option>', '<option>1 RK</option>', '<option>1 Bedroom</option>', '<option>8 Bedroom</option>', '<option>2 Bedroom</option>', '<option>7 Bedroom</option>', '<option>5 BHK</option>', '<option>7 BHK</option>', '<option>6 BHK</option>', '<option>5 Bedroom</option>', '<option>11 BHK</option>', '<option>9 BHK</option>', '<option>nan</option>', '<option>9 Bedroom</option>', '<option>27 BHK</option>', '<option>10 Bedroom</option>', '<option>11 Bedroom</option>', '<option>10 BHK</option>', '<option>19 BHK</option>', '<option>16 BHK</option>', '<option>43 Bedroom</option>', '<option>14 BHK</option>', '<option>8 BHK</option>', '<option>12 Bedroom</option>', '<option>13 BHK</option>', '<option>18 Bedroom</option>']\n"
     ]
    }
   ],
   "source": [
    "a='<option>{}</option>'\n",
    "a1=None\n",
    "l1=[]\n",
    "for i in df['size'].unique():\n",
    "    a1=a.format(i)\n",
    "    l1.append(a1)\n",
    "\n",
    "print(l1)"
   ]
  },
  {
   "cell_type": "code",
   "execution_count": 45,
   "metadata": {},
   "outputs": [
    {
     "data": {
      "text/plain": [
       "['<option>2 BHK</option>',\n",
       " '<option>4 Bedroom</option>',\n",
       " '<option>3 BHK</option>',\n",
       " '<option>4 BHK</option>',\n",
       " '<option>6 Bedroom</option>',\n",
       " '<option>3 Bedroom</option>',\n",
       " '<option>1 BHK</option>',\n",
       " '<option>1 RK</option>',\n",
       " '<option>1 Bedroom</option>',\n",
       " '<option>8 Bedroom</option>',\n",
       " '<option>2 Bedroom</option>',\n",
       " '<option>7 Bedroom</option>',\n",
       " '<option>5 BHK</option>',\n",
       " '<option>7 BHK</option>',\n",
       " '<option>6 BHK</option>',\n",
       " '<option>5 Bedroom</option>',\n",
       " '<option>11 BHK</option>',\n",
       " '<option>9 BHK</option>',\n",
       " '<option>nan</option>',\n",
       " '<option>9 Bedroom</option>',\n",
       " '<option>27 BHK</option>',\n",
       " '<option>10 Bedroom</option>',\n",
       " '<option>11 Bedroom</option>',\n",
       " '<option>10 BHK</option>',\n",
       " '<option>19 BHK</option>',\n",
       " '<option>16 BHK</option>',\n",
       " '<option>43 Bedroom</option>',\n",
       " '<option>14 BHK</option>',\n",
       " '<option>8 BHK</option>',\n",
       " '<option>12 Bedroom</option>',\n",
       " '<option>13 BHK</option>',\n",
       " '<option>18 Bedroom</option>']"
      ]
     },
     "execution_count": 45,
     "metadata": {},
     "output_type": "execute_result"
    }
   ],
   "source": [
    "l1"
   ]
  },
  {
   "cell_type": "code",
   "execution_count": 46,
   "metadata": {},
   "outputs": [
    {
     "name": "stdout",
     "output_type": "stream",
     "text": [
      "['<option>Electronic City Phase II</option>', '<option>Chikka Tirupathi</option>', '<option>Uttarahalli</option>', '<option>Lingadheeranahalli</option>', '<option>Kothanur</option>', '<option>Whitefield</option>', '<option>Old Airport Road</option>', '<option>Rajaji Nagar</option>', '<option>Marathahalli</option>', '<option>Gandhi Bazar</option>', '<option>7th Phase JP Nagar</option>', '<option>Gottigere</option>', '<option>Sarjapur</option>', '<option>Mysore Road</option>', '<option>Bisuvanahalli</option>', '<option>Raja Rajeshwari Nagar</option>', '<option>Ramakrishnappa Layout</option>', '<option>Manayata Tech Park</option>', '<option>Kengeri</option>', '<option>Binny Pete</option>', '<option>Thanisandra</option>', '<option>Bellandur</option>', '<option> Thanisandra</option>', '<option>Mangammanapalya</option>', '<option>Electronic City</option>', '<option>Ramagondanahalli</option>', '<option>Hebbal</option>', '<option>Kasturi Nagar</option>', '<option>Kanakpura Road</option>', '<option>Electronics City Phase 1</option>', '<option>Kundalahalli</option>', '<option>Chikkalasandra</option>', '<option>Murugeshpalya</option>', '<option>Sarjapur  Road</option>', '<option>Ganga Nagar</option>', '<option>Yelahanka</option>', '<option>HSR Layout</option>', '<option>Doddathoguru</option>', '<option>KR Puram</option>', '<option>Himagiri Meadows</option>', '<option>Adarsh Nagar</option>', '<option>Bhoganhalli</option>', '<option>Lakshminarayana Pura</option>', '<option>Begur Road</option>', '<option>Govindaraja Nagar Ward</option>', '<option>Tharabanahalli</option>', '<option>Varthur</option>', '<option>Bommanahalli</option>', '<option>Gunjur</option>', '<option>Devarachikkanahalli</option>', '<option>Double Road</option>', '<option>Hegde Nagar</option>', '<option>Haralur Road</option>', '<option>Hennur Road</option>', '<option>Kothannur</option>', '<option>Kalena Agrahara</option>', '<option>Cholanayakanahalli</option>', '<option>Kaval Byrasandra</option>', '<option>ISRO Layout</option>', '<option>Kodanda Reddy Layout</option>', '<option>Garudachar Palya</option>', '<option>EPIP Zone</option>', '<option>Dasanapura</option>', '<option>Kasavanhalli</option>', '<option>Sanjay nagar</option>', '<option> Mysore Highway</option>', '<option>Domlur</option>', '<option>Sarjapura - Attibele Road</option>', '<option>Devasthanagalu</option>', '<option>T Dasarahalli</option>', '<option>Yeshwanthpur</option>', '<option>Chandapura</option>', '<option>Green View Layout</option>', '<option>Shantiniketan Layout</option>', '<option>Peenya</option>', '<option>Nagarbhavi</option>', '<option>Jalahalli West</option>', '<option>Devanahalli</option>', '<option>Lakshmiamma Garden</option>', '<option>Byatarayanapura</option>', '<option>Ramamurthy Nagar</option>', '<option>Malleshwaram</option>', '<option>Akshaya Nagar</option>', '<option>Shampura</option>', '<option>Kadugodi</option>', '<option>LB Shastri Nagar</option>', '<option>Vajarahalli</option>', '<option>Hormavu</option>', '<option>Vishwapriya Layout</option>', '<option>Ramaswamy Palya - Kammanahalli Main Road</option>', '<option>Kudlu Gate</option>', '<option>8th Phase JP Nagar</option>', '<option>Bommasandra Industrial Area</option>', '<option>Chandra Layout</option>', '<option>Anandapura</option>', '<option>Vishveshwarya Layout</option>', '<option>Kengeri Satellite Town</option>', '<option>Basavanapura</option>', '<option>Dinnur</option>', '<option>Kannamangala</option>', '<option> Devarachikkanahalli</option>', '<option>Sanjeevini Nagar</option>', '<option>Hulimavu</option>', '<option>Mahalakshmi Layout</option>', '<option>Yarandahalli</option>', '<option>Hosa Road</option>', '<option>Keshava Nagar</option>', '<option>RMV Extension</option>', '<option>Tejaswini Nagar</option>', '<option>Jai Bheema Nagar</option>', '<option>Kothnur Narayanapura</option>', '<option>Attibele</option>', '<option>CV Raman Nagar</option>', '<option>CHIKKATIRUPATHI</option>', '<option>Kumaraswami Layout</option>', '<option>Nagavara</option>', '<option>Hebbal Kempapura</option>', '<option>Vijayanagar</option>', '<option>8th block Koramangala</option>', '<option>Jakkuru Layout</option>', '<option>Pattandur Agrahara</option>', '<option>Ejipura</option>', '<option>MS Pallya</option>', '<option>Nagasandra</option>', '<option>Langford Town</option>', '<option>Kogilu</option>', '<option>Panathur</option>', '<option>Nagondanahalli</option>', '<option>Padmanabhanagar</option>', '<option>1st Block Jayanagar</option>', '<option>Kammasandra</option>', '<option>Off Sarjapur Road, </option>', '<option>Tala Cauvery Layout</option>', '<option>Dasarahalli</option>', '<option>Magadi Road</option>', '<option>Ngef Layout</option>', '<option>Koramangala</option>', '<option>Lakshminarayanapura, Electronic City Phase 2</option>', '<option>Muthurayya Swamy Layout</option>', '<option>Dommasandra</option>', '<option>Budigere</option>', '<option>Dodda Nekkundi Extension</option>', '<option>Mylasandra</option>', '<option>Kalyan nagar</option>', '<option>Dr Shivarama Karantha Nagar</option>', '<option>Bank Of Baroda Colony</option>', '<option>Kullappa Colony</option>', '<option>Mukkutam Nagar</option>', '<option>Ashwath Nagar</option>', '<option>Ncpr Industrial Layout</option>', '<option>Meenakunte</option>', '<option>OMBR Layout</option>', '<option>Anand Nagar</option>', '<option>Shree Ananth Nagar Layout</option>', '<option>Kundalahalli Colony</option>', '<option>Horamavu Agara</option>', '<option>MCECHS  layout</option>', '<option>Coffee Board Layout</option>', '<option>Ambedkar Nagar</option>', '<option>KUDLU MAIN ROAD</option>', '<option>Geleyara Balaga Layout</option>', '<option>Talaghattapura</option>', '<option>Sundara Nagar</option>', '<option>Balagere</option>', '<option>Jigani</option>', '<option>Gollarapalya Hosahalli</option>', '<option>Srirampura</option>', '<option>Old Madras Road</option>', '<option>Kaggadasapura</option>', '<option>Silver Springs Layout</option>', '<option>9th Phase JP Nagar</option>', '<option>Jakkur</option>', '<option>TC Palaya</option>', '<option>Maruthi Sevanagar</option>', '<option>RMV 2nd Stage</option>', '<option>Giri Nagar</option>', '<option>Singasandra</option>', '<option>AECS Layout</option>', '<option>Mallasandra</option>', '<option>Begur</option>', '<option>JP Nagar</option>', '<option>Sunder Ram Shetty Nagar</option>', '<option>Malleshpalya</option>', '<option>Kodathi</option>', '<option>Munnekollal</option>', '<option>Motappa Layout</option>', '<option>Akshaya Vana</option>', '<option>Kaggalipura</option>', '<option>Basavanna Nagar</option>', '<option>6th Phase JP Nagar</option>', '<option>Ulsoor</option>', '<option>Thigalarapalya</option>', '<option>Somasundara Palya</option>', '<option>T.C PALYA</option>', '<option>Muneshwara Nagar</option>', '<option>Basaveshwara Nagar</option>', '<option>Bull Temple Road</option>', '<option>Bommasandra</option>', '<option>Prashanth Nagar</option>', '<option>Suragajakkanahalli</option>', '<option>Ardendale</option>', '<option>Harlur</option>', '<option>Sampigehalli</option>', '<option>RMV</option>', '<option>Banashankari3rd stage bigbazar</option>', '<option>Bagalur Main Road</option>', '<option>Kodihalli</option>', '<option>Narayanapura</option>', '<option>Binny Mills Employees Colony</option>', '<option>Bannerghatta Road</option>', '<option>Hennur</option>', '<option>5th Phase JP Nagar</option>', '<option>Kodigehaali</option>', '<option>Gopalapura</option>', '<option>Billekahalli</option>', '<option>Jalahalli</option>', '<option>Mahadevpura</option>', '<option>Anekal</option>', '<option>Hoodi Circle, </option>', '<option>Sompura</option>', '<option>Ashirvad Colony</option>', '<option>Dodda Nekkundi</option>', '<option>K N Extension</option>', '<option>Hosur Road</option>', '<option>Battarahalli</option>', '<option>Gokula Extension</option>', '<option>Kamakshipalya</option>', '<option>Sultan Palaya</option>', '<option>Sanne Amanikere</option>', '<option>Amco Colony</option>', '<option>Ambalipura</option>', '<option>Hoodi</option>', '<option>Samethanahalli</option>', '<option>Brookefield</option>', '<option>Yelenahalli</option>', '<option>Richmond Town</option>', '<option>Suddaguntepalya</option>', '<option>Udayapur Village</option>', '<option>Vittasandra</option>', '<option>Thippasandra</option>', '<option>Chikkabidarakallu</option>', '<option>1 Giri Nagar</option>', '<option>Hoysalanagar</option>', '<option>Defence Colony</option>', '<option>2nd Stage Nagarbhavi</option>', '<option>Vidyaranyapura</option>', '<option>Amruthahalli</option>', '<option>ITI Employees Layout</option>', '<option>Kodigehalli</option>', '<option>Patelappa Layout</option>', '<option>Ring Road Nagarbhavi</option>', '<option>NS Palya</option>', '<option>Subramanyapura</option>', '<option>Basavangudi</option>', '<option>Kenchenahalli</option>', '<option>3rd Block Hrbr Layout</option>', '<option>Bank Avenue</option>', '<option>Surabhi Layout</option>', '<option>Banjara Layout</option>', '<option>Omkar Nagar</option>', '<option>Kereguddadahalli</option>', '<option>Maragondanahalli</option>', '<option>Silk Board</option>', '<option>Kada Agrahara</option>', '<option>Kambipura</option>', '<option>BHEL Layout</option>', '<option>Medahalli</option>', '<option>Banashankari Stage III</option>', '<option>Kashi Nagar</option>', '<option>Sector 7 HSR Layout</option>', '<option>Yemlur, Old Airport Road, </option>', '<option>VHBCS Layout</option>', '<option>Ittamadu</option>', '<option>Rajiv Nagar</option>', '<option>Gattahalli</option>', '<option>Arekere</option>', '<option>Ramanjaneyanagar</option>', '<option>Mico Layout</option>', '<option>7th Block Jayanagar</option>', '<option>2nd Phase JP Nagar</option>', '<option>Kammanahalli</option>', '<option>K G Colony</option>', '<option>Banashankari</option>', '<option>Herohalli</option>', '<option>Chikkabanavar</option>', '<option>HRBR Layout</option>', '<option>nan</option>', '<option>Ashwini layout</option>', '<option>Marathalli bridge</option>', '<option>Dooravani Nagar</option>', '<option>JCR Layout</option>', '<option>Nehru Nagar</option>', '<option>Kanakapura</option>', '<option>Papareddipalya</option>', '<option>Venkatapura</option>', '<option>Sneha Colony</option>', '<option>Konanakunte</option>', '<option>Hosapalya</option>', '<option>Doddagubbi</option>', '<option>Sector 6 HSR Layout</option>', '<option>Margondanahalli</option>', '<option>ITI Layout</option>', '<option>R.T. Nagar</option>', '<option>Tumkur Road</option>', '<option>Vasanthapura</option>', '<option>Hosahalli</option>', '<option>GM Palaya</option>', '<option>near Ramanashree California resort</option>', '<option>6th block banashankari 3rd stage, 100 feet ORR</option>', '<option>Jalahalli East</option>', '<option>Poornapragna Housing Society Layout</option>', '<option>Hosakerehalli</option>', '<option>Huskur</option>', '<option>Indira Nagar</option>', '<option>Shanthala Nagar</option>', '<option>Teachers Colony</option>', '<option>Bettahalsoor</option>', '<option>Srinivasa Nagar</option>', '<option>Sulthangunta</option>', '<option>Byrathi Village</option>', '<option>Kodichikkanahalli</option>', '<option>Ambedkar Colony</option>', '<option>Varthur Road</option>', '<option>Anjappa Layout</option>', '<option>Avalahalli</option>', '<option>Prakruthi Nagar</option>', '<option>Sadaramangala</option>', '<option>Anjanapura</option>', '<option>Abbigere</option>', '<option>Tindlu</option>', '<option>B Narayanapura</option>', '<option>Green Garden Layout</option>', '<option>Gubbalala</option>', '<option>Dairy Circle</option>', '<option>Parappana Agrahara</option>', '<option>Jeevan bima nagar</option>', '<option>Narayana Nagar 1st Block</option>', '<option>KSRTC Layout</option>', '<option>P&T Colony</option>', '<option>Cunningham Road</option>', '<option>New Gurappana Palya</option>', '<option>Chelekare</option>', '<option>Palanahalli</option>', '<option>Vadarpalya</option>', '<option>Kudlu</option>', '<option>Shivanagar</option>', '<option>V.V Puram</option>', '<option>Sector 3 HSR Layout</option>', '<option>Banashankari Stage VI</option>', '<option>HMT Layout</option>', '<option>Basavanagara</option>', '<option>Cox Town</option>', '<option>Kalasipalya</option>', '<option>Kathriguppe</option>', '<option>HBR Layout</option>', '<option>4 Bedroom Farm House in Bagalur</option>', '<option>Yelahanka New Town</option>', '<option>Sahakara Nagar</option>', '<option>manyata park</option>', '<option>Rachenahalli</option>', '<option>Belathur</option>', '<option>Sadashiva Nagar</option>', '<option>Yelachenahalli</option>', '<option>Shirdi Sai Layout</option>', '<option>Kodbisanhalli</option>', '<option>Sathya Sai Layout</option>', '<option>Indiranagar HAL 2nd Stage</option>', '<option>Vishwanatha Nagenahalli</option>', '<option>Singapura Village</option>', '<option>Bendiganahalli</option>', '<option>Hosakerehalli Layout</option>', '<option>Hennagara</option>', '<option>Ferrar Nagar</option>', '<option>Green Glen Layout</option>', '<option>BAGUR</option>', '<option>Thubarahalli</option>', '<option>M.G Road</option>', '<option>Naganathapura</option>', '<option>Horamavu Banaswadi</option>', '<option>1st Phase JP Nagar</option>', '<option>Kaverappa Layout</option>', '<option>NGR Layout</option>', '<option>Divya Unnathi Layout</option>', '<option>Vasantha Vallabha Nagar</option>', '<option>sapthagiri Layout</option>', '<option>Seegehalli</option>', '<option>BEML Layout</option>', '<option>Alur</option>', '<option>Devarabisanahalli</option>', '<option>NRI Layout</option>', '<option>Sidedahalli</option>', '<option>Dwarka Nagar</option>', '<option>ITPL</option>', '<option>Thurahalli</option>', '<option>Hallehalli</option>', '<option>Kattigenahalli</option>', '<option>Marathi Layout</option>', '<option>Weavers Colony</option>', '<option>Raghavendra Nagar</option>', '<option>KR Layout</option>', '<option>Babusapalaya</option>', '<option>Nagappa Reddy Layout</option>', '<option>Kempapura</option>', '<option>BTM 1st Stage</option>', '<option>Kariyammana Agrahara</option>', '<option>Hessarghatta</option>', '<option>Binnamangala</option>', '<option>Suraksha Nagar</option>', '<option>Lakshmi Layout</option>', '<option>Iblur Village</option>', '<option>Kadugondanahalli</option>', '<option>Basava Nagar</option>', '<option>2nd Block Hrbr Layout</option>', '<option>Ananth Nagar</option>', '<option>Canara Bank Layout</option>', '<option>Narasapura</option>', '<option>Manjunath Nagar</option>', '<option>Basapura</option>', '<option>Channasandra</option>', '<option>Singena Agrahara</option>', '<option>Sector 1 HSR Layout</option>', '<option>Mango Garden Layout</option>', '<option>Kacharakanahalli</option>', '<option>Bidere Agarahara, Behind Safal market</option>', '<option>Grihalakshmi Layout</option>', '<option>Gopalkrishna Nagar</option>', '<option>Choodasandra</option>', '<option>Sai Gardens</option>', '<option>Dodda Kempaiah Layout</option>', '<option>Hanumanth Nagar</option>', '<option>Kaikondrahalli</option>', '<option>Hunasamaranahalli</option>', '<option>RWF West Colony</option>', '<option>Bileshivale</option>', '<option>Neeladri Nagar</option>', '<option>Frazer Town</option>', '<option>Williams Town</option>', '<option>Jaya Nagar East</option>', '<option>Iggalur</option>', '<option>Cooke Town</option>', '<option>Doddakallasandra</option>', '<option>Chokkanahalli</option>', '<option>Chikkaballapur</option>', '<option>Chamrajpet</option>', '<option>VGP Layout</option>', '<option>Classic Paradise Layout</option>', '<option>Byappanahalli</option>', '<option>Vasanth nagar</option>', '<option>Rayasandra</option>', '<option>Kalkere</option>', '<option>T.C. Palya</option>', '<option>Siddapura</option>', '<option>Makali</option>', '<option>Vibuthipura</option>', '<option>5th Block Hbr Layout</option>', '<option>Pai Layout</option>', '<option>Defence Layout</option>', '<option>Roopena Agrahara</option>', '<option>Banashankari Stage V</option>', '<option>Coconut Garden</option>', '<option>Gollahalli</option>', '<option>Sonnenahalli</option>', '<option>D Souza Layout</option>', '<option>ECC Road, Whitefield, </option>', '<option>Seetharampalya</option>', '<option>Rukmaiah Layout</option>', '<option>Devanahalli Int. Airport</option>', '<option>Puttanahalli</option>', '<option>Benson Town</option>', '<option>Devasandra Extension</option>', '<option>2nd Phase Judicial Layout</option>', '<option>1st Block HRBR Layout</option>', '<option>Sarjapur Road, </option>', '<option>Byadarahalli</option>', '<option>Poorna Pragna Layout</option>', '<option>Judicial Layout</option>', '<option>Varthur Road, </option>', '<option>Chikka Banaswadi</option>', '<option>Outer Ring Road East</option>', '<option>Kavika Layout</option>', '<option>Vinayaka Nagar</option>', '<option>Banashankari Stage II</option>', '<option>Hennur Busstop</option>', '<option>GB Palya</option>', '<option>AMS Layout</option>', '<option>9th Block Jayanagar</option>', '<option>Karuna Nagar</option>', '<option>Ashwathnagar</option>', '<option>Gaurava Nagar</option>', '<option>Kengeri Satellite Town ( BDA SITE)</option>', '<option>AGS Layout</option>', '<option>Srinagar</option>', '<option>Brigade Road</option>', '<option>Bannerghatta</option>', '<option>Maruthi HBCS Layout</option>', '<option>Devanahalli Road</option>', '<option>Green Woods Layout</option>', '<option>Craig Park Layout</option>', '<option>Immadihalli</option>', '<option>Banagiri Nagar</option>', '<option>Hiremath Layout</option>', '<option>Jnanabharathi Layout</option>', '<option>Chikkasandra</option>', '<option>Bharath Housing Society Layout</option>', '<option>3rd Block Jayanagar</option>', '<option>Manjunatha Layout</option>', '<option>Konanakunte Cross</option>', '<option>Abbaiah Reddy Layout</option>', '<option>Tavarekere</option>', '<option>Thirumenahalli</option>', '<option>KPC Layout</option>', '<option>HOSUR MAIN ROAD</option>', '<option>Nandi Durga Road</option>', '<option>Kumara Park</option>', '<option>Daadys Gaarden Layout</option>', '<option>Maruthi Nagar</option>', '<option>Marsur</option>', '<option>Kallumantapa</option>', '<option>Malimakanapura</option>', '<option>Rustam Bagh Layout</option>', '<option>New Thippasandra</option>', '<option>Garden Layout</option>', '<option>Viswapriyanagar.begur Road.bommanahalli.</option>', '<option>T K Reddy Layout</option>', '<option>Kumbena Agrahara</option>', '<option>Pai layout , Mahadevapura</option>', '<option>frazertown</option>', '<option>Akshayanagara East</option>', '<option>Doddanekundi</option>', '<option>Venkatadri Layout</option>', '<option>Bommenahalli</option>', '<option>Mahaganapathy Nagar</option>', '<option>Andrahalli</option>', '<option>Vittal Nagar</option>', '<option>2Electronic City Phase II</option>', '<option>3rd Block Banashankari</option>', '<option>Bhuvaneshwari Nagar</option>', '<option>Kadarenahalli</option>', '<option>Laggere</option>', '<option>Victoria Layout</option>', '<option>Prithvi Layout</option>', '<option>Subramanyanagar</option>', '<option>1 Ramamurthy Nagar</option>', '<option>5th Stage BEML Layout</option>', '<option>IVC Road</option>', '<option>Jaya Mahal layout</option>', '<option>BSM Extension</option>', '<option>Vijinapura</option>', '<option>Banaswadi</option>', '<option>P&T Layout</option>', '<option>Byrasandra</option>', '<option>SBM Colony</option>', '<option>Veerannapalya</option>', '<option>Chowdeshwari Layout</option>', '<option>Mathikere Extension</option>', '<option>Sector 2 HSR Layout</option>', '<option>Anantapura</option>', '<option>Shivaji Nagar</option>', '<option>Badavala Nagar</option>', '<option>4th Block Koramangala</option>', '<option>Belatur</option>', '<option>Lalbagh Road</option>', '<option>Kamakya Layout</option>', '<option>Vignana Nagar</option>', '<option>Nallurhalli</option>', '<option>Chinnapanahalli</option>', '<option>Lingarajapuram</option>', '<option>3rd Block HBR Layout</option>', '<option>Laxmi Sagar Layout</option>', '<option>Nelamangala</option>', '<option>Nagavarapalya</option>', '<option>Hongasandra</option>', '<option>Harappanahalli</option>', '<option>BTM Layout</option>', '<option>Chennammana Kere</option>', '<option>Kanaka Nagar</option>', '<option>Tasker Town</option>', '<option>Govindpura</option>', '<option>NR Colony</option>', '<option>Agara Village</option>', '<option>Shettigere</option>', '<option>Kenchanehalli R R Nagar</option>', '<option>BEL Road</option>', '<option>Byagadadhenahalli</option>', '<option>Doddabommasandra</option>', '<option>Maruthi Layout</option>', '<option>Sree Narayana Nagar</option>', '<option>Tunganagara</option>', '<option>BTM 2nd Stage</option>', '<option>Remco Bhel Layout</option>', '<option>Chokkasandra</option>', '<option>Panduranga Nagar</option>', '<option>Sri Venkateshpura Layout</option>', '<option>Jakkur Plantation</option>', '<option>Sir M V Nagar</option>', '<option>Bikasipura</option>', '<option>Basaveshwara Nagar Yelahanka</option>', '<option>1st Block Koramangala</option>', '<option>Hoskote</option>', '<option>Attiguppe</option>', '<option>Srirampuram</option>', '<option>Yemlur</option>', '<option>Race Course Road</option>', '<option>Gkvk Layout</option>', \"<option>St. John's Road</option>\", '<option>Doopanahalli</option>', '<option>Doddaballapur</option>', '<option>Sathanur</option>', '<option>Ramamohanapuram</option>', '<option>kanakapura road</option>', '<option>Kaveri Nagar</option>', '<option>Sundar Ram Shetty Nagar</option>', '<option>Kirloskar layout, Basaveshwarnagar</option>', '<option>Alfa Garden Layout</option>', '<option>Gowdanapalya</option>', '<option>Hoodi Layout</option>', '<option>Gaundanapalya</option>', '<option>Arasanakunte</option>', '<option>5th block Koramangala</option>', '<option>JakkurYelahanka</option>', '<option>Gunjur Palya</option>', '<option>Upkar Layout</option>', '<option>Sunkadakatte</option>', '<option>Someshwara Layout</option>', '<option>Kathreguppe</option>', '<option>Channasandra Layout</option>', '<option>HAL 3rd Stage</option>', '<option>Doctors Layout</option>', '<option>Austin Town</option>', '<option>Rajagopala Nagar</option>', '<option>Vishwapriya Nagar</option>', '<option>Sarakki Nagar</option>', '<option>Bahubali Nagar</option>', '<option>Lottegolla Halli</option>', '<option>Nandini Layout</option>', '<option>Vibhutipura Extension</option>', '<option>B Channasandra</option>', '<option>Dollars Colony</option>', '<option>Arehalli</option>', '<option>Cambridge  road</option>', '<option>Hennur Gardens</option>', '<option>Thyagaraja Nagar</option>', '<option>Howthinarayanappa Garden</option>', '<option>Bharathi Nagar</option>', '<option>SRINIVASAPURA</option>', '<option>Cambridge Layout</option>', '<option> ittamadu</option>', '<option>Doddakannelli</option>', '<option>Pulkeshi Nagar</option>', '<option>Thanisandra Main Road, </option>', '<option>Jayanagar</option>', '<option> Bhoganhalli</option>', '<option>Kumbalgodu</option>', '<option>banashankari stage iii sa</option>', '<option>Amruthnagar</option>', '<option>Palace Guttahalli</option>', '<option>Akshya Nagar</option>', '<option> Anekal</option>', '<option>BCC Layout</option>', '<option>Mathikere</option>', '<option>Friends Colony</option>', '<option>Doddabidrakallu</option>', '<option>Sri Balaji Krupa Layout</option>', '<option>Bidadi</option>', '<option>Sampige Layout</option>', '<option>Virgonagar</option>', '<option>Dodsworth Layout</option>', '<option>Kudlu Village, </option>', '<option>Rajiv Gandhi Nagar</option>', '<option>Kurubarahalli</option>', '<option>Sector 4 HSR Layout</option>', '<option>Bhagyalakshmi Avenue</option>', '<option>Kengeri Hobli</option>', '<option>Vyalikaval</option>', '<option>Banaswadi, </option>', '<option>Balaji Gardens Layout</option>', '<option>Thavarekere</option>', '<option>HAL 2nd Stage</option>', '<option> Devarabeesana Halli</option>', '<option> Rachenahalli</option>', '<option>Tippenahalli</option>', '<option>Prestige Sunrise</option>', '<option>1st Stage Indira Nagar</option>', '<option>Srigandada Kaval</option>', '<option>Viswajit Layout</option>', '<option>Adityanagar</option>', '<option>BDS Layout</option>', '<option>Shanthi Layout</option>', '<option>Esther Enclave Layout</option>', '<option>Volagerekallahalli</option>', '<option>Keerthi Layout</option>', '<option>Ganga Nagar Extension</option>', '<option>Shikaripalya</option>', '<option>Huttanahalli</option>', '<option>Reliable Woods Layout</option>', '<option>4th T block Jayanagar</option>', '<option>Nayandanahalli</option>', '<option>Hagadur</option>', '<option>Popular Colony</option>', '<option>Soundarya Layout</option>', '<option>Banashankari 6th Stage ,Subramanyapura</option>', '<option>Amarjyothi Colony</option>', '<option>Pattanagere</option>', '<option>Dollars Layout</option>', '<option>Chikkabettahalli</option>', '<option>Bhuvaneswari Nagar</option>', '<option>Varanasi</option>', '<option>Gopal Reddy Layout</option>', '<option>sankeswari</option>', '<option>T c palya</option>', '<option>Govindraja Nagar</option>', '<option>Virat Nagar</option>', '<option>Chennammanakere Achukattu</option>', '<option>Maragondana Halli, kr puram, old madras road</option>', '<option>Dhanalakshmi Layout</option>', '<option>Jp nagar 8th Phase .</option>', '<option>Nobo Nagar</option>', '<option>Kanakapura Road</option>', '<option>Kadubeesanahalli</option>', '<option>J P Nagar 7th Phase Ramayya City</option>', '<option>Green Domain Layout</option>', '<option>Cleveland Town</option>', '<option>Syndicate Bank Colony</option>', '<option>Off Sarjapur road, </option>', '<option>M C Layout</option>', '<option>Nanjappa Layout</option>', '<option>Dodda Banaswadi</option>', '<option>BEL Layout</option>', '<option>Sri Kanteshwara Nagar</option>', '<option>Bellari Road</option>', '<option>Jyothi Nagar</option>', '<option>Tata Nagar</option>', '<option>RK Layout 2nd Stage</option>', '<option>Tirumanahalli</option>', '<option>Raghuvanahalli</option>', '<option>Geddalahalli</option>', '<option>Brindavan Nagar</option>', '<option>Mariyannapalya</option>', '<option>Palace Road</option>', '<option>Pulikeshi Nagar</option>', '<option>Domlur Layout</option>', '<option>Vijaya Bank Layout</option>', '<option>Narayanappa Layout</option>', '<option>1Hanuman Nagar</option>', '<option>Wilson Garden</option>', '<option>Kumbhena Agrahara</option>', '<option>Challaghatta</option>', '<option>Nyanappana Halli</option>', '<option>Indira Nagar 3rd Stage</option>', '<option>KR Garden</option>', '<option>Kanakadasa Layout</option>', '<option>Mallathahalli</option>', '<option>Jayamahal Extension</option>', '<option>Laxminarayana Layout</option>', '<option>Sahyadri Layout</option>', '<option>Mathikere SBM colony</option>', '<option>white field,kadugodi</option>', '<option>Bagalur</option>', '<option>Vinayak Nagar</option>', '<option>P Krishnappa Layout</option>', '<option>Crimson Layout</option>', '<option>Hanumantha Nagar</option>', '<option>Bagalakunte</option>', '<option>Lavelle Road</option>', '<option>Goraguntepalya</option>', '<option>Rajankunte</option>', '<option>6th Block Rajaji Nagar</option>', '<option>MLA Layout</option>', '<option>Koramangala Industrial Layout</option>', '<option>Kyalasanahalli</option>', '<option>Nagadevanahalli</option>', '<option>Madiwala</option>', '<option>Rajarajeshwari Nagara</option>', '<option>Celebrity Paradise Layout</option>', '<option>St Thomas Town</option>', '<option>Ckikkakammana Halli</option>', '<option>Banashankari 2nd Stage</option>', '<option>Munivenkatppa Layout</option>', '<option>Kamala Nagar</option>', '<option>Kumarapalli</option>', '<option>Marenahalli</option>', '<option>Nagawara Junction</option>', '<option>Maithri Layout</option>', '<option>Raja Rajeshwari Nagar 5th Stage</option>', '<option>Nanjappa Garden</option>', '<option>Vayunandana Layout</option>', '<option>Geetanjali Layout</option>', '<option>Kenchenhalli</option>', '<option>EPIP AREA, WHITEFIELD</option>', '<option>1st Stage Domlur</option>', '<option>RMV extension stage 2, rmv extension</option>', '<option>Kalhalli</option>', '<option>Hadosiddapura</option>', '<option>Vijaya Bank Colony</option>', '<option>Lakkasandra</option>', '<option>JP Nagar 8th Phase, </option>', '<option>Kachanayakanahalli</option>', '<option>Nagaraja Garden</option>', '<option>1 Annasandrapalya</option>', '<option>6th block Koramangala</option>', '<option>JP nagar 9th Phase, </option>', '<option>4th Block Jayanagar</option>', '<option>Kuvempu Nagar</option>', '<option>Karnataka Shabarimala</option>', '<option>Canara Bank Colony</option>', '<option>Hanumagiri</option>', '<option>Seshadripuram</option>', '<option>Akshayanagara West</option>', '<option>Prasanth Extension</option>', '<option>Chikkathoguru</option>', '<option>Anand nagar</option>', '<option>West of Chord Road</option>', '<option>Junnasandra</option>', '<option>Handenahalli</option>', '<option>manyata tech park</option>', '<option>Sarvabhouma Nagar</option>', '<option>SMV layout</option>', '<option>CQAL LAYOUT C BLOCK</option>', '<option>Near Electronic City, </option>', '<option>Banashankari stage 2</option>', '<option>Doddanakundi Industrial Area 2</option>', '<option>OLd Gurappanapalya</option>', '<option>Chikkadunnasandra</option>', '<option>Indranagar  100ft road defence colony</option>', '<option>Wajid layout thanisandra</option>', '<option>Achins Road</option>', '<option>Uvce Layout</option>', '<option>Gattigere</option>', '<option>Cottonpet</option>', '<option>singapura paradise</option>', '<option>Kannur</option>', '<option>Sampangi Rama Nagar</option>', '<option>BEML Layout 5th stage</option>', '<option>Pragathi Nagar</option>', '<option>Ramesh Nagar</option>', '<option>A Narayanapura</option>', '<option>Amblipura</option>', '<option>Rajarajeshwari nagar</option>', '<option>Rajarajeshwarinagar</option>', '<option>Jinkethimmanahalli</option>', '<option>Vimanapura</option>', '<option>1st Stage Radha Krishna Layout</option>', '<option>Bapuji Layout</option>', '<option>Vasantapura main road</option>', '<option>CQAL Layout</option>', '<option>Venugopal Reddy Layout</option>', '<option>Lake City</option>', '<option>Lakshmipura</option>', '<option>Old Town</option>', '<option>Okalipura</option>', '<option>Maruthi Extension</option>', '<option>Vidyapeeta</option>', '<option>Meenakshi Layout</option>', '<option>S R Layout</option>', '<option>GD Layout</option>', '<option>Kithaganur</option>', '<option>Shirdi Sai Nagar</option>', '<option>JP Nagar 7th Phase, </option>', '<option>J C Nagar</option>', '<option>Sadduguntepalya</option>', '<option>Doddakammanahalli</option>', '<option>Bidrahalli</option>', '<option>Medi Agrahara</option>', '<option>whitefiled</option>', '<option>Subbannaiah Palya</option>', '<option>N R Layout</option>', '<option>Richards Town</option>', '<option>Manorayana Palya</option>', '<option>Madanayakahalli</option>', '<option>Mahalakshmi Puram</option>', '<option>Jaladarsini Layout</option>', '<option>Attur Layout</option>', '<option>Brooke Bond First Cross</option>', '<option>Glass Factory Layout</option>', '<option>Milk Colony</option>', '<option>Basnashankari,6th stage,</option>', '<option>Near ullas theater</option>', '<option>Chikkakannalli</option>', '<option>Yeshwanthpur Industrial Suburb</option>', '<option>Nandi Hills</option>', '<option>Thanisandra main road</option>', '<option>Saptagiri Layout</option>', '<option>Doddabanahalli</option>', '<option> Electronic City</option>', '<option>Vijayabank bank layout</option>', '<option>D Group Employees Layout</option>', '<option>Hosahalli Extension</option>', '<option>1Channasandra</option>', '<option>Whitefield, </option>', '<option>Kempegowda Nagar</option>', '<option>Vaderahalli</option>', '<option>4th Phase JP Nagar</option>', '<option>K R C kothanur</option>', '<option>2nd Block Jayanagar</option>', '<option>Singanayakanahalli</option>', '<option>Udaya Nagar</option>', '<option> Whitefield</option>', '<option>Vaishnavi Layout</option>', '<option>Housing Board Layout Vijay Nagar</option>', '<option>Thomas Town</option>', '<option>Manganahalli</option>', '<option>Indra Nagar</option>', '<option>t.c palya</option>', '<option>Ilyas Nagar</option>', '<option>3rd Phase JP Nagar</option>', '<option>kanakapura main road</option>', '<option>Reliaable Tranquil Layout</option>', '<option>Mailasandra</option>', '<option>Basvasamithi Layout Vidyaranyapura</option>', '<option>8th Block Jayanagar</option>', '<option>Atmananda Colony</option>', '<option>Baba Nagar</option>', '<option>Badrappa Layout</option>', '<option>Lal Bahadur Shastri Nagar</option>', '<option>Puttappa Layout</option>', '<option>Ananthanagar Phase 1,Electronic City , phase 2</option>', '<option>Bethel Nagar</option>', '<option>Kirloskar Layout</option>', '<option>tc.palya</option>', '<option>Dollar Scheme Colony</option>', '<option>Omarbagh Layout</option>', '<option>anjananager magdi road</option>', '<option>Kodipalya</option>', '<option>Aishwarya Crystal Layout</option>', '<option>DUO Layout</option>', '<option>Srinivas Colony</option>', '<option>Moodalapalya</option>', '<option>Gokaula Extension</option>', '<option>Subash Nagar</option>', '<option>RTO ullalu</option>', '<option>Carmelaram</option>', '<option>Hennur Bande</option>', '<option>ravindra nagar, T.dasarahalli peenya</option>', '<option>1st Block BEL Layout</option>', '<option>Prakruthi Township</option>', '<option>Bennigana Halli</option>', '<option>Seethappa Layout</option>', '<option>Langford Gardens</option>', '<option>Bellandur, </option>', '<option>Marasandra</option>', '<option>Kalkere Channasandra</option>', '<option>Shakthi Nagar</option>', '<option>Ullal Uppanagar</option>', '<option> south</option>', '<option>Rainbow Drive</option>', '<option>3rd Block Koramangala</option>', '<option>Jakkasandra Extension</option>', '<option>Ganesha Block</option>', '<option>Malur Hosur Road</option>', '<option>Lakshmipura Vidyaanyapura</option>', '<option>Hegganahalli</option>', '<option>Rajanna Layout</option>', '<option>Nagarbhavi  BDA Complex</option>', '<option>Gidada Konnenahalli</option>', '<option>Rahat Bagh</option>', '<option>Escorts Colony</option>', '<option>asha township, off hennur road</option>', '<option>1A Block Koramangala</option>', '<option>Near International Airport</option>', '<option>NTI Layout</option>', '<option>Fraser town</option>', '<option>Dasappa Layout</option>', '<option>Sonam Layout</option>', '<option>CR Layout</option>', '<option>BTM 4th Stage</option>', '<option>Arekempanahalli</option>', '<option>Chamundi Nagar</option>', '<option>MRCR Layout</option>', '<option>Shettihalli</option>', '<option>Gangondanahalli</option>', '<option>Ullal Road</option>', '<option>Hullahalli</option>', '<option>Jagajyothi layout</option>', '<option>Lakkasandra Extension</option>', '<option>Krishna Reddy Layout</option>', '<option>Kuvempu Layout</option>', '<option>Chickpet</option>', '<option>T G extension</option>', '<option>2nd Block Koramangala</option>', '<option>Devi Nagar</option>', '<option>GKW Layout</option>', '<option>Gandhi Nagar</option>', '<option>Jnana Ganga Nagar</option>', '<option>rr nagar</option>', '<option>Harohalli</option>', '<option>Stage-4 Bommanahalli</option>', '<option>Venkateshpuram</option>', '<option>Judicial Layout, Kanakapura Road, </option>', '<option>Mullur</option>', '<option>J.P.nagar 6th Phase.Sarakki Nagar</option>', '<option>Doddabele</option>', '<option>Sadahalli</option>', '<option>Sathya Layout</option>', '<option>5 Bedroom Farm House in Lakshmipura</option>', '<option>Shanti Nagar</option>', '<option>2nd Stage Arekere Mico Layout</option>', '<option>Jayamahal</option>', '<option>Veer Sandra</option>', '<option>Chennappa Layout</option>', '<option>RMV Extension Stage 2</option>', '<option>Sadanand Nagar</option>', '<option>Whietfield, </option>', '<option>BTM Layout 1stage 9th Main</option>', '<option>Lavakusha Nagar</option>', '<option>Vittal Mallya Road</option>', '<option>Dena Bank Colony</option>', '<option>Kadabagere</option>', '<option>1st Block HBR Layout</option>', '<option>High grounds</option>', '<option>Kothnoor Dinne</option>', '<option>Guddadahalli</option>', '<option>Vasanthpura</option>', '<option>Kasthuri Nagar East Of NGEF</option>', '<option>Chikka Gowdanapalya.</option>', '<option>TR Mill Road, Chamarajpet</option>', '<option>Nirman Layout</option>', '<option>Chokkahalli</option>', '<option>Telecom Layout</option>', '<option>Vikram Nagar</option>', '<option>Virupakshapura</option>', '<option>Muthyala Nagar</option>', '<option>Nrupathunga Nagar</option>', '<option>Coconut Grove Layout</option>', '<option>Amrita Nagar</option>', '<option>RR Layout</option>', '<option>Billapura</option>', '<option>KHB Colony Extension</option>', '<option>Anjana Nagar</option>', '<option>Subramanya Nagar</option>', '<option>Janatha Colony</option>', '<option>Veersandra</option>', '<option>Harsha Layout</option>', '<option>Tigalarpalya</option>', '<option>2nd Block Bel Layout</option>', '<option>sarjapura main road</option>', '<option>Anekal - Hosur Road</option>', '<option>Ramamurthy Nagar Extension</option>', '<option>2nd phase jp nagar, jp nagar</option>', '<option>BEML Layout 5th Stage</option>', '<option>Manonarayanapalya</option>', '<option>M V Extenstion</option>', '<option>Kamdhenu Nagar</option>', '<option>Ganganahalli</option>', '<option>Narayanappa Garden</option>', '<option>Rest House Road</option>', '<option>Ex-Servicemen Colony Dinnur Main Road R.T.Nagar</option>', '<option>Vijay Nagar</option>', '<option>CMH Road</option>', '<option>Ankappa Layout</option>', '<option>Neelasandra</option>', '<option>Yediyur</option>', '<option>Upadhyaya Layout</option>', '<option>bsk 6th stage 2ad block near sri conversation hall</option>', '<option>Annapoorneshwari Layout, JP nagar 7th phase</option>', '<option>Mudalpalaya</option>', '<option>elachenahalli</option>', '<option>B K Nagar</option>', '<option>Vivek Nagar</option>', '<option> Basavangudi</option>', '<option>Banashankari 6th stage , 2nd block</option>', '<option>KG Halli</option>', '<option>Cubbon Road</option>', '<option>Veerabhadra Nagar</option>', '<option>Vidhyanagar Cross</option>', '<option>6th Block Jayanagar</option>', '<option>Punappa Layout</option>', '<option>Pampa Extension</option>', '<option> Sector 1 HSR Layout</option>', '<option>Basaveswarnagar</option>', '<option>Jaymahal Road</option>', '<option>Nagarbhavi Garden Villas Layout</option>', '<option>Agrahara Dasarahalli</option>', '<option>T R Mill Road</option>', '<option>Indira Nagar Stage 2</option>', '<option>Hommadevanahalli</option>', '<option>BTM Layout 2nd Stage 1st Phase</option>', '<option>T C Palya main Road</option>', '<option>1 Immadihalli</option>', '<option>Navodaya Nagar</option>', '<option>Guni Agrahara</option>', '<option>Shankarapuram</option>', '<option>Shetty Halli</option>', '<option>AGB Layout</option>', '<option>Bilal Nagar</option>', '<option>Krishna Nagar</option>', '<option>Kanakapura Main Road</option>', '<option>Suryanagar</option>', '<option>Duvasapalya</option>', '<option>BCMC Layout</option>', '<option>Kengeri Satellite Town Stage II</option>', '<option>Church Street</option>', '<option>Uday Nagar</option>', '<option>Chaitanya Ananya</option>', '<option>Nagashetty Halli</option>', '<option>Byrasandra Extension</option>', '<option>Sri Sai Layout</option>', '<option>Devara Jeevanahalli</option>', '<option>SK Garden</option>', '<option>PNS Layout</option>', '<option>Electronic city Phase 1, </option>', '<option> Banaswadi</option>', '<option>Naidu Layout</option>', '<option>Sugama Layout</option>', '<option>Behind Don Bosco Church</option>', '<option>Anugrah Layout</option>', '<option>Bandepalya</option>', '<option>poornaprajna layout</option>', '<option>Annapurneshwari Nagar</option>', '<option>Somanna Garden</option>', '<option>RPC layout</option>', '<option>HSR Layout 7th sector, </option>', '<option>Bettadasanapura</option>', '<option>Gulimangala</option>', '<option>Addischetan Layout</option>', '<option>Konena Agrahara</option>', '<option>Raghavendra Layout</option>', '<option>Varsova Layout</option>', '<option>Bhattarahalli</option>', '<option>Bande Nallasandra</option>', '<option>HAL Layout</option>', '<option>Vidya Nagar</option>', '<option>Shingapura</option>', '<option>SHANTHINAGAR</option>', '<option>Jay an agar 4 T Block</option>', '<option>Satyasaibaba Layout</option>', '<option>Queens Road</option>', '<option>Koppa</option>', '<option>RR Nagar</option>', '<option>Jagadish Nagar</option>', '<option>3rd Phase Iti Layout</option>', '<option>Ananthapura, T C palaya Main Road</option>', '<option>Phase 1 Kammasandra</option>', '<option>Deepanjali Nagar</option>', '<option>SARJAPUR BAGALUR ROAD</option>', '<option>B Y Raveshwara Nagar</option>', '<option>KEB Colony</option>', '<option>HOSUR RMAIN ROAD</option>', '<option>Konappana Agrahara</option>', '<option>Rajasree Layout</option>', '<option>Vinayaka Layout</option>', '<option>Thirumalashettyhally</option>', '<option>Bharathnagar</option>', '<option>5th Block Jayanagar</option>', '<option>Jayanagar, </option>', '<option>Asthagrama Layout</option>', '<option>Rajarajesheari nagar</option>', '<option>Millers Road</option>', '<option>2nd Block Hbr Layout</option>', '<option>Madavara</option>', '<option>Dwaraka Nagar</option>', '<option>Garebhavipalya</option>', '<option>Neelamangala</option>', '<option>Banashankari 6th Stage</option>', '<option>Brindavan Layout</option>', '<option>Chambenahalli</option>', '<option>cooketown</option>', '<option>Kathriguppe IV Phase</option>', '<option>Ramchandrapuram</option>', '<option>1Hoysalanagar</option>', '<option>PC Palaya</option>', '<option>Soppahalli</option>', '<option>Aavalahalli</option>', '<option>Jayanti Nagar</option>', '<option>Virudhu Nagar</option>', '<option>kamanahalli main road</option>', '<option>7th Block Koramangala</option>', '<option>Prakash Nagar</option>', '<option>Bharat Nagar</option>', '<option>Ramanashree Enclave</option>', '<option>Yelahanka,MVIT college</option>', '<option>Chikku Lakshmaiah Layout</option>', '<option>Gnana Bharathi</option>', '<option>Pillahalli</option>', '<option>Ashok Nagar</option>', '<option>Gollarahatti</option>', '<option>Venkateswara Nagar</option>', '<option>Chikkagubbi</option>', '<option>Banashankari 2 nd Stage</option>', '<option>Kammagondahalli</option>', '<option>Nanjappa Layout Vidyaranyapura</option>', '<option>Rammana Layout</option>', '<option>Rajapura</option>', '<option>Raja Rajeshwari Nagara</option>', '<option>Govindapura</option>', '<option>Thirupalya</option>', '<option>Off Bannergatta road</option>', '<option>Hoskote near</option>', '<option>Haralur Road, </option>', '<option>Adugodi</option>', '<option>RK Colony</option>', '<option>2 Bedroom Furnished Farm House in Kolar Road</option>', '<option>kg halli jalhalli west</option>', '<option>Vasatha Vallbha Nagar</option>', '<option>BAGUR ROAD</option>', '<option>Balepet</option>', '<option>Annasandrapalya</option>', '<option>RMC YARD</option>', '<option>Panathur Road, </option>', '<option>Shanthi Pura</option>', '<option>Viviani Road</option>', '<option>Sampangirama Nagar</option>', '<option>Doctor Layout Rayasandra</option>', '<option>Anwar Layout</option>', '<option>Pillanna Gardens</option>', '<option>AECS LAYOUT A-BLOCK Singasandra</option>', '<option>Banashankari Stage I</option>', '<option>4th Block HBR Layout</option>', '<option>Michael Palaya</option>', '<option>RBI Layout</option>', '<option>Akash Nagar</option>', '<option>Shauhardha Layout</option>', '<option>Bhoopsandra</option>', '<option>Electronic city phase 1, </option>', '<option>Anathanagar</option>', '<option>vinayakanagar</option>', '<option>Jaraganahalli Jp Nagar Post</option>', '<option>adigondanhalli</option>', '<option>Off Bannergatta Road</option>', '<option>Kanakapura  Rod</option>', '<option>Richmond Road</option>', '<option>Postal Colony</option>', '<option>MEI layout, Bagalgunte</option>', '<option>Jeevanhalli</option>', '<option>Gubbi Cross, Hennur Main Road</option>', '<option>Sabari Nagar</option>', '<option>Ashraya Layout</option>', '<option>Arishinakunte</option>', '<option>Infantry Road</option>', '<option>Whitefield ECC Road</option>', '<option>Maruthi nagar kogilu</option>', '<option>Ayappa Nagar</option>', '<option>Billamaranahalli</option>', '<option>Prasanti Nagar</option>', '<option>Banasawadi, </option>', '<option>Sunkan palya</option>', '<option>Gayathri Nagar</option>', '<option>Old Mangammanapalya Road</option>', '<option>1Kasavanhalli</option>', '<option>Kanakapura Road, </option>', '<option>Hal old airport road</option>', '<option>arudi</option>', '<option>Anantapuram</option>', '<option>Javarandoddi</option>', '<option>Vijaypura</option>', '<option>Bapuji Nagar</option>', '<option>Amam Enclave Layout</option>', '<option>Allalasandra</option>', '<option>Ramanagara Channapatna</option>', '<option>Maheswari Nagar</option>', '<option>Hsr layout sector3</option>', '<option>Thyagraj Nagar</option>', '<option>Banagirinagar</option>', '<option>Medaralli</option>', '<option>Versova Layout</option>', '<option>Chikkajala</option>', '<option>Udayagiri</option>', '<option>pavitra paradise</option>', '<option>kadubisnahalli</option>', '<option>Rahmath Nagar</option>', '<option>Chikkanahalli</option>', '<option>Halanayakanahalli</option>', '<option>Park View Layout</option>', '<option>Xavier Layout</option>', '<option>Air View Colony</option>', '<option>akshaya nagar t c palya</option>', '<option>mvj engineering college</option>', '<option>Raja Rajashweri Nagar</option>', '<option>basaveshwarnagar</option>', '<option>Banashankari 3rd stage, Vivekanandanagar</option>', '<option>Annaiah Reddy Layout</option>', '<option>manyata</option>', '<option>LIC Colony</option>', '<option>Mallappa Layout</option>', '<option>3rd Stage Raja Rajeshwari Nagar</option>', '<option>Dominic Layout</option>', '<option>KAMAKIYA</option>', '<option>Wheelers Road</option>', '<option>MM Layout</option>', '<option>Devarabeesana Halli</option>', '<option>beml layout, basaveshwara nagar</option>', '<option>Sadhguru Layout</option>', '<option>Chikbasavanapura</option>', '<option>Electronic City Phase 1, </option>', '<option>Chuchangatta Colony</option>', '<option>Hanuman Nagar</option>', '<option>Kengeri Satellite Town KHB Apartment</option>', '<option>Subhash Nagar</option>', '<option>Jogupalya</option>', '<option>Doddanakunte</option>', '<option>Duddanahalli</option>', '<option>Beml layout, Rajarajeshwari nagar</option>', '<option>Gulakamale</option>', '<option>Jakkasandra</option>', '<option>Chellikere</option>', '<option>Zuzuvadi</option>', '<option>Kanakapura main  Road</option>', '<option>Masjid e Alkareem</option>', '<option>Sindhi Colony</option>', '<option>Kanakapur main road</option>', '<option>Prasanna layout Herohalli</option>', '<option>Sarvobhogam Nagar</option>', '<option>Pattegarhpalya</option>', '<option>Tilak Nagar</option>', '<option>12th cross srinivas nagar banshankari 3rd stage</option>', '<option>Havanur extension</option>', '<option>Abshot Layout</option>']\n"
     ]
    }
   ],
   "source": [
    "a='<option>{}</option>'\n",
    "a1=None\n",
    "l1=[]\n",
    "for i in df['location'].unique():\n",
    "    a1=a.format(i)\n",
    "    l1.append(a1)\n",
    "\n",
    "print(l1)"
   ]
  },
  {
   "cell_type": "code",
   "execution_count": 60,
   "metadata": {},
   "outputs": [
    {
     "data": {
      "text/plain": [
       "['<option>Electronic City Phase II</option>',\n",
       " '<option>Chikka Tirupathi</option>',\n",
       " '<option>Uttarahalli</option>',\n",
       " '<option>Lingadheeranahalli</option>',\n",
       " '<option>Kothanur</option>',\n",
       " '<option>Whitefield</option>',\n",
       " '<option>Old Airport Road</option>',\n",
       " '<option>Rajaji Nagar</option>',\n",
       " '<option>Marathahalli</option>',\n",
       " '<option>Gandhi Bazar</option>',\n",
       " '<option>7th Phase JP Nagar</option>',\n",
       " '<option>Gottigere</option>',\n",
       " '<option>Sarjapur</option>',\n",
       " '<option>Mysore Road</option>',\n",
       " '<option>Bisuvanahalli</option>',\n",
       " '<option>Raja Rajeshwari Nagar</option>',\n",
       " '<option>Ramakrishnappa Layout</option>',\n",
       " '<option>Manayata Tech Park</option>',\n",
       " '<option>Kengeri</option>',\n",
       " '<option>Binny Pete</option>',\n",
       " '<option>Thanisandra</option>',\n",
       " '<option>Bellandur</option>',\n",
       " '<option> Thanisandra</option>',\n",
       " '<option>Mangammanapalya</option>',\n",
       " '<option>Electronic City</option>',\n",
       " '<option>Ramagondanahalli</option>',\n",
       " '<option>Hebbal</option>',\n",
       " '<option>Kasturi Nagar</option>',\n",
       " '<option>Kanakpura Road</option>',\n",
       " '<option>Electronics City Phase 1</option>',\n",
       " '<option>Kundalahalli</option>',\n",
       " '<option>Chikkalasandra</option>',\n",
       " '<option>Murugeshpalya</option>',\n",
       " '<option>Sarjapur  Road</option>',\n",
       " '<option>Ganga Nagar</option>',\n",
       " '<option>Yelahanka</option>',\n",
       " '<option>HSR Layout</option>',\n",
       " '<option>Doddathoguru</option>',\n",
       " '<option>KR Puram</option>',\n",
       " '<option>Himagiri Meadows</option>',\n",
       " '<option>Adarsh Nagar</option>',\n",
       " '<option>Bhoganhalli</option>',\n",
       " '<option>Lakshminarayana Pura</option>',\n",
       " '<option>Begur Road</option>',\n",
       " '<option>Govindaraja Nagar Ward</option>',\n",
       " '<option>Tharabanahalli</option>',\n",
       " '<option>Varthur</option>',\n",
       " '<option>Bommanahalli</option>',\n",
       " '<option>Gunjur</option>',\n",
       " '<option>Devarachikkanahalli</option>',\n",
       " '<option>Double Road</option>',\n",
       " '<option>Hegde Nagar</option>',\n",
       " '<option>Haralur Road</option>',\n",
       " '<option>Hennur Road</option>',\n",
       " '<option>Kothannur</option>',\n",
       " '<option>Kalena Agrahara</option>',\n",
       " '<option>Cholanayakanahalli</option>',\n",
       " '<option>Kaval Byrasandra</option>',\n",
       " '<option>ISRO Layout</option>',\n",
       " '<option>Kodanda Reddy Layout</option>',\n",
       " '<option>Garudachar Palya</option>',\n",
       " '<option>EPIP Zone</option>',\n",
       " '<option>Dasanapura</option>',\n",
       " '<option>Kasavanhalli</option>',\n",
       " '<option>Sanjay nagar</option>',\n",
       " '<option> Mysore Highway</option>',\n",
       " '<option>Domlur</option>',\n",
       " '<option>Sarjapura - Attibele Road</option>',\n",
       " '<option>Devasthanagalu</option>',\n",
       " '<option>T Dasarahalli</option>',\n",
       " '<option>Yeshwanthpur</option>',\n",
       " '<option>Chandapura</option>',\n",
       " '<option>Green View Layout</option>',\n",
       " '<option>Shantiniketan Layout</option>',\n",
       " '<option>Peenya</option>',\n",
       " '<option>Nagarbhavi</option>',\n",
       " '<option>Jalahalli West</option>',\n",
       " '<option>Devanahalli</option>',\n",
       " '<option>Lakshmiamma Garden</option>',\n",
       " '<option>Byatarayanapura</option>',\n",
       " '<option>Ramamurthy Nagar</option>',\n",
       " '<option>Malleshwaram</option>',\n",
       " '<option>Akshaya Nagar</option>',\n",
       " '<option>Shampura</option>',\n",
       " '<option>Kadugodi</option>',\n",
       " '<option>LB Shastri Nagar</option>',\n",
       " '<option>Vajarahalli</option>',\n",
       " '<option>Hormavu</option>',\n",
       " '<option>Vishwapriya Layout</option>',\n",
       " '<option>Ramaswamy Palya - Kammanahalli Main Road</option>',\n",
       " '<option>Kudlu Gate</option>',\n",
       " '<option>8th Phase JP Nagar</option>',\n",
       " '<option>Bommasandra Industrial Area</option>',\n",
       " '<option>Chandra Layout</option>',\n",
       " '<option>Anandapura</option>',\n",
       " '<option>Vishveshwarya Layout</option>',\n",
       " '<option>Kengeri Satellite Town</option>',\n",
       " '<option>Basavanapura</option>',\n",
       " '<option>Dinnur</option>',\n",
       " '<option>Kannamangala</option>',\n",
       " '<option> Devarachikkanahalli</option>',\n",
       " '<option>Sanjeevini Nagar</option>',\n",
       " '<option>Hulimavu</option>',\n",
       " '<option>Mahalakshmi Layout</option>',\n",
       " '<option>Yarandahalli</option>',\n",
       " '<option>Hosa Road</option>',\n",
       " '<option>Keshava Nagar</option>',\n",
       " '<option>RMV Extension</option>',\n",
       " '<option>Tejaswini Nagar</option>',\n",
       " '<option>Jai Bheema Nagar</option>',\n",
       " '<option>Kothnur Narayanapura</option>',\n",
       " '<option>Attibele</option>',\n",
       " '<option>CV Raman Nagar</option>',\n",
       " '<option>CHIKKATIRUPATHI</option>',\n",
       " '<option>Kumaraswami Layout</option>',\n",
       " '<option>Nagavara</option>',\n",
       " '<option>Hebbal Kempapura</option>',\n",
       " '<option>Vijayanagar</option>',\n",
       " '<option>8th block Koramangala</option>',\n",
       " '<option>Jakkuru Layout</option>',\n",
       " '<option>Pattandur Agrahara</option>',\n",
       " '<option>Ejipura</option>',\n",
       " '<option>MS Pallya</option>',\n",
       " '<option>Nagasandra</option>',\n",
       " '<option>Langford Town</option>',\n",
       " '<option>Kogilu</option>',\n",
       " '<option>Panathur</option>',\n",
       " '<option>Nagondanahalli</option>',\n",
       " '<option>Padmanabhanagar</option>',\n",
       " '<option>1st Block Jayanagar</option>',\n",
       " '<option>Kammasandra</option>',\n",
       " '<option>Off Sarjapur Road, </option>',\n",
       " '<option>Tala Cauvery Layout</option>',\n",
       " '<option>Dasarahalli</option>',\n",
       " '<option>Magadi Road</option>',\n",
       " '<option>Ngef Layout</option>',\n",
       " '<option>Koramangala</option>',\n",
       " '<option>Lakshminarayanapura, Electronic City Phase 2</option>',\n",
       " '<option>Muthurayya Swamy Layout</option>',\n",
       " '<option>Dommasandra</option>',\n",
       " '<option>Budigere</option>',\n",
       " '<option>Dodda Nekkundi Extension</option>',\n",
       " '<option>Mylasandra</option>',\n",
       " '<option>Kalyan nagar</option>',\n",
       " '<option>Dr Shivarama Karantha Nagar</option>',\n",
       " '<option>Bank Of Baroda Colony</option>',\n",
       " '<option>Kullappa Colony</option>',\n",
       " '<option>Mukkutam Nagar</option>',\n",
       " '<option>Ashwath Nagar</option>',\n",
       " '<option>Ncpr Industrial Layout</option>',\n",
       " '<option>Meenakunte</option>',\n",
       " '<option>OMBR Layout</option>',\n",
       " '<option>Anand Nagar</option>',\n",
       " '<option>Shree Ananth Nagar Layout</option>',\n",
       " '<option>Kundalahalli Colony</option>',\n",
       " '<option>Horamavu Agara</option>',\n",
       " '<option>MCECHS  layout</option>',\n",
       " '<option>Coffee Board Layout</option>',\n",
       " '<option>Ambedkar Nagar</option>',\n",
       " '<option>KUDLU MAIN ROAD</option>',\n",
       " '<option>Geleyara Balaga Layout</option>',\n",
       " '<option>Talaghattapura</option>',\n",
       " '<option>Sundara Nagar</option>',\n",
       " '<option>Balagere</option>',\n",
       " '<option>Jigani</option>',\n",
       " '<option>Gollarapalya Hosahalli</option>',\n",
       " '<option>Srirampura</option>',\n",
       " '<option>Old Madras Road</option>',\n",
       " '<option>Kaggadasapura</option>',\n",
       " '<option>Silver Springs Layout</option>',\n",
       " '<option>9th Phase JP Nagar</option>',\n",
       " '<option>Jakkur</option>',\n",
       " '<option>TC Palaya</option>',\n",
       " '<option>Maruthi Sevanagar</option>',\n",
       " '<option>RMV 2nd Stage</option>',\n",
       " '<option>Giri Nagar</option>',\n",
       " '<option>Singasandra</option>',\n",
       " '<option>AECS Layout</option>',\n",
       " '<option>Mallasandra</option>',\n",
       " '<option>Begur</option>',\n",
       " '<option>JP Nagar</option>',\n",
       " '<option>Sunder Ram Shetty Nagar</option>',\n",
       " '<option>Malleshpalya</option>',\n",
       " '<option>Kodathi</option>',\n",
       " '<option>Munnekollal</option>',\n",
       " '<option>Motappa Layout</option>',\n",
       " '<option>Akshaya Vana</option>',\n",
       " '<option>Kaggalipura</option>',\n",
       " '<option>Basavanna Nagar</option>',\n",
       " '<option>6th Phase JP Nagar</option>',\n",
       " '<option>Ulsoor</option>',\n",
       " '<option>Thigalarapalya</option>',\n",
       " '<option>Somasundara Palya</option>',\n",
       " '<option>T.C PALYA</option>',\n",
       " '<option>Muneshwara Nagar</option>',\n",
       " '<option>Basaveshwara Nagar</option>',\n",
       " '<option>Bull Temple Road</option>',\n",
       " '<option>Bommasandra</option>',\n",
       " '<option>Prashanth Nagar</option>',\n",
       " '<option>Suragajakkanahalli</option>',\n",
       " '<option>Ardendale</option>',\n",
       " '<option>Harlur</option>',\n",
       " '<option>Sampigehalli</option>',\n",
       " '<option>RMV</option>',\n",
       " '<option>Banashankari3rd stage bigbazar</option>',\n",
       " '<option>Bagalur Main Road</option>',\n",
       " '<option>Kodihalli</option>',\n",
       " '<option>Narayanapura</option>',\n",
       " '<option>Binny Mills Employees Colony</option>',\n",
       " '<option>Bannerghatta Road</option>',\n",
       " '<option>Hennur</option>',\n",
       " '<option>5th Phase JP Nagar</option>',\n",
       " '<option>Kodigehaali</option>',\n",
       " '<option>Gopalapura</option>',\n",
       " '<option>Billekahalli</option>',\n",
       " '<option>Jalahalli</option>',\n",
       " '<option>Mahadevpura</option>',\n",
       " '<option>Anekal</option>',\n",
       " '<option>Hoodi Circle, </option>',\n",
       " '<option>Sompura</option>',\n",
       " '<option>Ashirvad Colony</option>',\n",
       " '<option>Dodda Nekkundi</option>',\n",
       " '<option>K N Extension</option>',\n",
       " '<option>Hosur Road</option>',\n",
       " '<option>Battarahalli</option>',\n",
       " '<option>Gokula Extension</option>',\n",
       " '<option>Kamakshipalya</option>',\n",
       " '<option>Sultan Palaya</option>',\n",
       " '<option>Sanne Amanikere</option>',\n",
       " '<option>Amco Colony</option>',\n",
       " '<option>Ambalipura</option>',\n",
       " '<option>Hoodi</option>',\n",
       " '<option>Samethanahalli</option>',\n",
       " '<option>Brookefield</option>',\n",
       " '<option>Yelenahalli</option>',\n",
       " '<option>Richmond Town</option>',\n",
       " '<option>Suddaguntepalya</option>',\n",
       " '<option>Udayapur Village</option>',\n",
       " '<option>Vittasandra</option>',\n",
       " '<option>Thippasandra</option>',\n",
       " '<option>Chikkabidarakallu</option>',\n",
       " '<option>1 Giri Nagar</option>',\n",
       " '<option>Hoysalanagar</option>',\n",
       " '<option>Defence Colony</option>',\n",
       " '<option>2nd Stage Nagarbhavi</option>',\n",
       " '<option>Vidyaranyapura</option>',\n",
       " '<option>Amruthahalli</option>',\n",
       " '<option>ITI Employees Layout</option>',\n",
       " '<option>Kodigehalli</option>',\n",
       " '<option>Patelappa Layout</option>',\n",
       " '<option>Ring Road Nagarbhavi</option>',\n",
       " '<option>NS Palya</option>',\n",
       " '<option>Subramanyapura</option>',\n",
       " '<option>Basavangudi</option>',\n",
       " '<option>Kenchenahalli</option>',\n",
       " '<option>3rd Block Hrbr Layout</option>',\n",
       " '<option>Bank Avenue</option>',\n",
       " '<option>Surabhi Layout</option>',\n",
       " '<option>Banjara Layout</option>',\n",
       " '<option>Omkar Nagar</option>',\n",
       " '<option>Kereguddadahalli</option>',\n",
       " '<option>Maragondanahalli</option>',\n",
       " '<option>Silk Board</option>',\n",
       " '<option>Kada Agrahara</option>',\n",
       " '<option>Kambipura</option>',\n",
       " '<option>BHEL Layout</option>',\n",
       " '<option>Medahalli</option>',\n",
       " '<option>Banashankari Stage III</option>',\n",
       " '<option>Kashi Nagar</option>',\n",
       " '<option>Sector 7 HSR Layout</option>',\n",
       " '<option>Yemlur, Old Airport Road, </option>',\n",
       " '<option>VHBCS Layout</option>',\n",
       " '<option>Ittamadu</option>',\n",
       " '<option>Rajiv Nagar</option>',\n",
       " '<option>Gattahalli</option>',\n",
       " '<option>Arekere</option>',\n",
       " '<option>Ramanjaneyanagar</option>',\n",
       " '<option>Mico Layout</option>',\n",
       " '<option>7th Block Jayanagar</option>',\n",
       " '<option>2nd Phase JP Nagar</option>',\n",
       " '<option>Kammanahalli</option>',\n",
       " '<option>K G Colony</option>',\n",
       " '<option>Banashankari</option>',\n",
       " '<option>Herohalli</option>',\n",
       " '<option>Chikkabanavar</option>',\n",
       " '<option>HRBR Layout</option>',\n",
       " '<option>nan</option>',\n",
       " '<option>Ashwini layout</option>',\n",
       " '<option>Marathalli bridge</option>',\n",
       " '<option>Dooravani Nagar</option>',\n",
       " '<option>JCR Layout</option>',\n",
       " '<option>Nehru Nagar</option>',\n",
       " '<option>Kanakapura</option>',\n",
       " '<option>Papareddipalya</option>',\n",
       " '<option>Venkatapura</option>',\n",
       " '<option>Sneha Colony</option>',\n",
       " '<option>Konanakunte</option>',\n",
       " '<option>Hosapalya</option>',\n",
       " '<option>Doddagubbi</option>',\n",
       " '<option>Sector 6 HSR Layout</option>',\n",
       " '<option>Margondanahalli</option>',\n",
       " '<option>ITI Layout</option>',\n",
       " '<option>R.T. Nagar</option>',\n",
       " '<option>Tumkur Road</option>',\n",
       " '<option>Vasanthapura</option>',\n",
       " '<option>Hosahalli</option>',\n",
       " '<option>GM Palaya</option>',\n",
       " '<option>near Ramanashree California resort</option>',\n",
       " '<option>6th block banashankari 3rd stage, 100 feet ORR</option>',\n",
       " '<option>Jalahalli East</option>',\n",
       " '<option>Poornapragna Housing Society Layout</option>',\n",
       " '<option>Hosakerehalli</option>',\n",
       " '<option>Huskur</option>',\n",
       " '<option>Indira Nagar</option>',\n",
       " '<option>Shanthala Nagar</option>',\n",
       " '<option>Teachers Colony</option>',\n",
       " '<option>Bettahalsoor</option>',\n",
       " '<option>Srinivasa Nagar</option>',\n",
       " '<option>Sulthangunta</option>',\n",
       " '<option>Byrathi Village</option>',\n",
       " '<option>Kodichikkanahalli</option>',\n",
       " '<option>Ambedkar Colony</option>',\n",
       " '<option>Varthur Road</option>',\n",
       " '<option>Anjappa Layout</option>',\n",
       " '<option>Avalahalli</option>',\n",
       " '<option>Prakruthi Nagar</option>',\n",
       " '<option>Sadaramangala</option>',\n",
       " '<option>Anjanapura</option>',\n",
       " '<option>Abbigere</option>',\n",
       " '<option>Tindlu</option>',\n",
       " '<option>B Narayanapura</option>',\n",
       " '<option>Green Garden Layout</option>',\n",
       " '<option>Gubbalala</option>',\n",
       " '<option>Dairy Circle</option>',\n",
       " '<option>Parappana Agrahara</option>',\n",
       " '<option>Jeevan bima nagar</option>',\n",
       " '<option>Narayana Nagar 1st Block</option>',\n",
       " '<option>KSRTC Layout</option>',\n",
       " '<option>P&T Colony</option>',\n",
       " '<option>Cunningham Road</option>',\n",
       " '<option>New Gurappana Palya</option>',\n",
       " '<option>Chelekare</option>',\n",
       " '<option>Palanahalli</option>',\n",
       " '<option>Vadarpalya</option>',\n",
       " '<option>Kudlu</option>',\n",
       " '<option>Shivanagar</option>',\n",
       " '<option>V.V Puram</option>',\n",
       " '<option>Sector 3 HSR Layout</option>',\n",
       " '<option>Banashankari Stage VI</option>',\n",
       " '<option>HMT Layout</option>',\n",
       " '<option>Basavanagara</option>',\n",
       " '<option>Cox Town</option>',\n",
       " '<option>Kalasipalya</option>',\n",
       " '<option>Kathriguppe</option>',\n",
       " '<option>HBR Layout</option>',\n",
       " '<option>4 Bedroom Farm House in Bagalur</option>',\n",
       " '<option>Yelahanka New Town</option>',\n",
       " '<option>Sahakara Nagar</option>',\n",
       " '<option>manyata park</option>',\n",
       " '<option>Rachenahalli</option>',\n",
       " '<option>Belathur</option>',\n",
       " '<option>Sadashiva Nagar</option>',\n",
       " '<option>Yelachenahalli</option>',\n",
       " '<option>Shirdi Sai Layout</option>',\n",
       " '<option>Kodbisanhalli</option>',\n",
       " '<option>Sathya Sai Layout</option>',\n",
       " '<option>Indiranagar HAL 2nd Stage</option>',\n",
       " '<option>Vishwanatha Nagenahalli</option>',\n",
       " '<option>Singapura Village</option>',\n",
       " '<option>Bendiganahalli</option>',\n",
       " '<option>Hosakerehalli Layout</option>',\n",
       " '<option>Hennagara</option>',\n",
       " '<option>Ferrar Nagar</option>',\n",
       " '<option>Green Glen Layout</option>',\n",
       " '<option>BAGUR</option>',\n",
       " '<option>Thubarahalli</option>',\n",
       " '<option>M.G Road</option>',\n",
       " '<option>Naganathapura</option>',\n",
       " '<option>Horamavu Banaswadi</option>',\n",
       " '<option>1st Phase JP Nagar</option>',\n",
       " '<option>Kaverappa Layout</option>',\n",
       " '<option>NGR Layout</option>',\n",
       " '<option>Divya Unnathi Layout</option>',\n",
       " '<option>Vasantha Vallabha Nagar</option>',\n",
       " '<option>sapthagiri Layout</option>',\n",
       " '<option>Seegehalli</option>',\n",
       " '<option>BEML Layout</option>',\n",
       " '<option>Alur</option>',\n",
       " '<option>Devarabisanahalli</option>',\n",
       " '<option>NRI Layout</option>',\n",
       " '<option>Sidedahalli</option>',\n",
       " '<option>Dwarka Nagar</option>',\n",
       " '<option>ITPL</option>',\n",
       " '<option>Thurahalli</option>',\n",
       " '<option>Hallehalli</option>',\n",
       " '<option>Kattigenahalli</option>',\n",
       " '<option>Marathi Layout</option>',\n",
       " '<option>Weavers Colony</option>',\n",
       " '<option>Raghavendra Nagar</option>',\n",
       " '<option>KR Layout</option>',\n",
       " '<option>Babusapalaya</option>',\n",
       " '<option>Nagappa Reddy Layout</option>',\n",
       " '<option>Kempapura</option>',\n",
       " '<option>BTM 1st Stage</option>',\n",
       " '<option>Kariyammana Agrahara</option>',\n",
       " '<option>Hessarghatta</option>',\n",
       " '<option>Binnamangala</option>',\n",
       " '<option>Suraksha Nagar</option>',\n",
       " '<option>Lakshmi Layout</option>',\n",
       " '<option>Iblur Village</option>',\n",
       " '<option>Kadugondanahalli</option>',\n",
       " '<option>Basava Nagar</option>',\n",
       " '<option>2nd Block Hrbr Layout</option>',\n",
       " '<option>Ananth Nagar</option>',\n",
       " '<option>Canara Bank Layout</option>',\n",
       " '<option>Narasapura</option>',\n",
       " '<option>Manjunath Nagar</option>',\n",
       " '<option>Basapura</option>',\n",
       " '<option>Channasandra</option>',\n",
       " '<option>Singena Agrahara</option>',\n",
       " '<option>Sector 1 HSR Layout</option>',\n",
       " '<option>Mango Garden Layout</option>',\n",
       " '<option>Kacharakanahalli</option>',\n",
       " '<option>Bidere Agarahara, Behind Safal market</option>',\n",
       " '<option>Grihalakshmi Layout</option>',\n",
       " '<option>Gopalkrishna Nagar</option>',\n",
       " '<option>Choodasandra</option>',\n",
       " '<option>Sai Gardens</option>',\n",
       " '<option>Dodda Kempaiah Layout</option>',\n",
       " '<option>Hanumanth Nagar</option>',\n",
       " '<option>Kaikondrahalli</option>',\n",
       " '<option>Hunasamaranahalli</option>',\n",
       " '<option>RWF West Colony</option>',\n",
       " '<option>Bileshivale</option>',\n",
       " '<option>Neeladri Nagar</option>',\n",
       " '<option>Frazer Town</option>',\n",
       " '<option>Williams Town</option>',\n",
       " '<option>Jaya Nagar East</option>',\n",
       " '<option>Iggalur</option>',\n",
       " '<option>Cooke Town</option>',\n",
       " '<option>Doddakallasandra</option>',\n",
       " '<option>Chokkanahalli</option>',\n",
       " '<option>Chikkaballapur</option>',\n",
       " '<option>Chamrajpet</option>',\n",
       " '<option>VGP Layout</option>',\n",
       " '<option>Classic Paradise Layout</option>',\n",
       " '<option>Byappanahalli</option>',\n",
       " '<option>Vasanth nagar</option>',\n",
       " '<option>Rayasandra</option>',\n",
       " '<option>Kalkere</option>',\n",
       " '<option>T.C. Palya</option>',\n",
       " '<option>Siddapura</option>',\n",
       " '<option>Makali</option>',\n",
       " '<option>Vibuthipura</option>',\n",
       " '<option>5th Block Hbr Layout</option>',\n",
       " '<option>Pai Layout</option>',\n",
       " '<option>Defence Layout</option>',\n",
       " '<option>Roopena Agrahara</option>',\n",
       " '<option>Banashankari Stage V</option>',\n",
       " '<option>Coconut Garden</option>',\n",
       " '<option>Gollahalli</option>',\n",
       " '<option>Sonnenahalli</option>',\n",
       " '<option>D Souza Layout</option>',\n",
       " '<option>ECC Road, Whitefield, </option>',\n",
       " '<option>Seetharampalya</option>',\n",
       " '<option>Rukmaiah Layout</option>',\n",
       " '<option>Devanahalli Int. Airport</option>',\n",
       " '<option>Puttanahalli</option>',\n",
       " '<option>Benson Town</option>',\n",
       " '<option>Devasandra Extension</option>',\n",
       " '<option>2nd Phase Judicial Layout</option>',\n",
       " '<option>1st Block HRBR Layout</option>',\n",
       " '<option>Sarjapur Road, </option>',\n",
       " '<option>Byadarahalli</option>',\n",
       " '<option>Poorna Pragna Layout</option>',\n",
       " '<option>Judicial Layout</option>',\n",
       " '<option>Varthur Road, </option>',\n",
       " '<option>Chikka Banaswadi</option>',\n",
       " '<option>Outer Ring Road East</option>',\n",
       " '<option>Kavika Layout</option>',\n",
       " '<option>Vinayaka Nagar</option>',\n",
       " '<option>Banashankari Stage II</option>',\n",
       " '<option>Hennur Busstop</option>',\n",
       " '<option>GB Palya</option>',\n",
       " '<option>AMS Layout</option>',\n",
       " '<option>9th Block Jayanagar</option>',\n",
       " '<option>Karuna Nagar</option>',\n",
       " '<option>Ashwathnagar</option>',\n",
       " '<option>Gaurava Nagar</option>',\n",
       " '<option>Kengeri Satellite Town ( BDA SITE)</option>',\n",
       " '<option>AGS Layout</option>',\n",
       " '<option>Srinagar</option>',\n",
       " '<option>Brigade Road</option>',\n",
       " '<option>Bannerghatta</option>',\n",
       " '<option>Maruthi HBCS Layout</option>',\n",
       " '<option>Devanahalli Road</option>',\n",
       " '<option>Green Woods Layout</option>',\n",
       " '<option>Craig Park Layout</option>',\n",
       " '<option>Immadihalli</option>',\n",
       " '<option>Banagiri Nagar</option>',\n",
       " '<option>Hiremath Layout</option>',\n",
       " '<option>Jnanabharathi Layout</option>',\n",
       " '<option>Chikkasandra</option>',\n",
       " '<option>Bharath Housing Society Layout</option>',\n",
       " '<option>3rd Block Jayanagar</option>',\n",
       " '<option>Manjunatha Layout</option>',\n",
       " '<option>Konanakunte Cross</option>',\n",
       " '<option>Abbaiah Reddy Layout</option>',\n",
       " '<option>Tavarekere</option>',\n",
       " '<option>Thirumenahalli</option>',\n",
       " '<option>KPC Layout</option>',\n",
       " '<option>HOSUR MAIN ROAD</option>',\n",
       " '<option>Nandi Durga Road</option>',\n",
       " '<option>Kumara Park</option>',\n",
       " '<option>Daadys Gaarden Layout</option>',\n",
       " '<option>Maruthi Nagar</option>',\n",
       " '<option>Marsur</option>',\n",
       " '<option>Kallumantapa</option>',\n",
       " '<option>Malimakanapura</option>',\n",
       " '<option>Rustam Bagh Layout</option>',\n",
       " '<option>New Thippasandra</option>',\n",
       " '<option>Garden Layout</option>',\n",
       " '<option>Viswapriyanagar.begur Road.bommanahalli.</option>',\n",
       " '<option>T K Reddy Layout</option>',\n",
       " '<option>Kumbena Agrahara</option>',\n",
       " '<option>Pai layout , Mahadevapura</option>',\n",
       " '<option>frazertown</option>',\n",
       " '<option>Akshayanagara East</option>',\n",
       " '<option>Doddanekundi</option>',\n",
       " '<option>Venkatadri Layout</option>',\n",
       " '<option>Bommenahalli</option>',\n",
       " '<option>Mahaganapathy Nagar</option>',\n",
       " '<option>Andrahalli</option>',\n",
       " '<option>Vittal Nagar</option>',\n",
       " '<option>2Electronic City Phase II</option>',\n",
       " '<option>3rd Block Banashankari</option>',\n",
       " '<option>Bhuvaneshwari Nagar</option>',\n",
       " '<option>Kadarenahalli</option>',\n",
       " '<option>Laggere</option>',\n",
       " '<option>Victoria Layout</option>',\n",
       " '<option>Prithvi Layout</option>',\n",
       " '<option>Subramanyanagar</option>',\n",
       " '<option>1 Ramamurthy Nagar</option>',\n",
       " '<option>5th Stage BEML Layout</option>',\n",
       " '<option>IVC Road</option>',\n",
       " '<option>Jaya Mahal layout</option>',\n",
       " '<option>BSM Extension</option>',\n",
       " '<option>Vijinapura</option>',\n",
       " '<option>Banaswadi</option>',\n",
       " '<option>P&T Layout</option>',\n",
       " '<option>Byrasandra</option>',\n",
       " '<option>SBM Colony</option>',\n",
       " '<option>Veerannapalya</option>',\n",
       " '<option>Chowdeshwari Layout</option>',\n",
       " '<option>Mathikere Extension</option>',\n",
       " '<option>Sector 2 HSR Layout</option>',\n",
       " '<option>Anantapura</option>',\n",
       " '<option>Shivaji Nagar</option>',\n",
       " '<option>Badavala Nagar</option>',\n",
       " '<option>4th Block Koramangala</option>',\n",
       " '<option>Belatur</option>',\n",
       " '<option>Lalbagh Road</option>',\n",
       " '<option>Kamakya Layout</option>',\n",
       " '<option>Vignana Nagar</option>',\n",
       " '<option>Nallurhalli</option>',\n",
       " '<option>Chinnapanahalli</option>',\n",
       " '<option>Lingarajapuram</option>',\n",
       " '<option>3rd Block HBR Layout</option>',\n",
       " '<option>Laxmi Sagar Layout</option>',\n",
       " '<option>Nelamangala</option>',\n",
       " '<option>Nagavarapalya</option>',\n",
       " '<option>Hongasandra</option>',\n",
       " '<option>Harappanahalli</option>',\n",
       " '<option>BTM Layout</option>',\n",
       " '<option>Chennammana Kere</option>',\n",
       " '<option>Kanaka Nagar</option>',\n",
       " '<option>Tasker Town</option>',\n",
       " '<option>Govindpura</option>',\n",
       " '<option>NR Colony</option>',\n",
       " '<option>Agara Village</option>',\n",
       " '<option>Shettigere</option>',\n",
       " '<option>Kenchanehalli R R Nagar</option>',\n",
       " '<option>BEL Road</option>',\n",
       " '<option>Byagadadhenahalli</option>',\n",
       " '<option>Doddabommasandra</option>',\n",
       " '<option>Maruthi Layout</option>',\n",
       " '<option>Sree Narayana Nagar</option>',\n",
       " '<option>Tunganagara</option>',\n",
       " '<option>BTM 2nd Stage</option>',\n",
       " '<option>Remco Bhel Layout</option>',\n",
       " '<option>Chokkasandra</option>',\n",
       " '<option>Panduranga Nagar</option>',\n",
       " '<option>Sri Venkateshpura Layout</option>',\n",
       " '<option>Jakkur Plantation</option>',\n",
       " '<option>Sir M V Nagar</option>',\n",
       " '<option>Bikasipura</option>',\n",
       " '<option>Basaveshwara Nagar Yelahanka</option>',\n",
       " '<option>1st Block Koramangala</option>',\n",
       " '<option>Hoskote</option>',\n",
       " '<option>Attiguppe</option>',\n",
       " '<option>Srirampuram</option>',\n",
       " '<option>Yemlur</option>',\n",
       " '<option>Race Course Road</option>',\n",
       " '<option>Gkvk Layout</option>',\n",
       " \"<option>St. John's Road</option>\",\n",
       " '<option>Doopanahalli</option>',\n",
       " '<option>Doddaballapur</option>',\n",
       " '<option>Sathanur</option>',\n",
       " '<option>Ramamohanapuram</option>',\n",
       " '<option>kanakapura road</option>',\n",
       " '<option>Kaveri Nagar</option>',\n",
       " '<option>Sundar Ram Shetty Nagar</option>',\n",
       " '<option>Kirloskar layout, Basaveshwarnagar</option>',\n",
       " '<option>Alfa Garden Layout</option>',\n",
       " '<option>Gowdanapalya</option>',\n",
       " '<option>Hoodi Layout</option>',\n",
       " '<option>Gaundanapalya</option>',\n",
       " '<option>Arasanakunte</option>',\n",
       " '<option>5th block Koramangala</option>',\n",
       " '<option>JakkurYelahanka</option>',\n",
       " '<option>Gunjur Palya</option>',\n",
       " '<option>Upkar Layout</option>',\n",
       " '<option>Sunkadakatte</option>',\n",
       " '<option>Someshwara Layout</option>',\n",
       " '<option>Kathreguppe</option>',\n",
       " '<option>Channasandra Layout</option>',\n",
       " '<option>HAL 3rd Stage</option>',\n",
       " '<option>Doctors Layout</option>',\n",
       " '<option>Austin Town</option>',\n",
       " '<option>Rajagopala Nagar</option>',\n",
       " '<option>Vishwapriya Nagar</option>',\n",
       " '<option>Sarakki Nagar</option>',\n",
       " '<option>Bahubali Nagar</option>',\n",
       " '<option>Lottegolla Halli</option>',\n",
       " '<option>Nandini Layout</option>',\n",
       " '<option>Vibhutipura Extension</option>',\n",
       " '<option>B Channasandra</option>',\n",
       " '<option>Dollars Colony</option>',\n",
       " '<option>Arehalli</option>',\n",
       " '<option>Cambridge  road</option>',\n",
       " '<option>Hennur Gardens</option>',\n",
       " '<option>Thyagaraja Nagar</option>',\n",
       " '<option>Howthinarayanappa Garden</option>',\n",
       " '<option>Bharathi Nagar</option>',\n",
       " '<option>SRINIVASAPURA</option>',\n",
       " '<option>Cambridge Layout</option>',\n",
       " '<option> ittamadu</option>',\n",
       " '<option>Doddakannelli</option>',\n",
       " '<option>Pulkeshi Nagar</option>',\n",
       " '<option>Thanisandra Main Road, </option>',\n",
       " '<option>Jayanagar</option>',\n",
       " '<option> Bhoganhalli</option>',\n",
       " '<option>Kumbalgodu</option>',\n",
       " '<option>banashankari stage iii sa</option>',\n",
       " '<option>Amruthnagar</option>',\n",
       " '<option>Palace Guttahalli</option>',\n",
       " '<option>Akshya Nagar</option>',\n",
       " '<option> Anekal</option>',\n",
       " '<option>BCC Layout</option>',\n",
       " '<option>Mathikere</option>',\n",
       " '<option>Friends Colony</option>',\n",
       " '<option>Doddabidrakallu</option>',\n",
       " '<option>Sri Balaji Krupa Layout</option>',\n",
       " '<option>Bidadi</option>',\n",
       " '<option>Sampige Layout</option>',\n",
       " '<option>Virgonagar</option>',\n",
       " '<option>Dodsworth Layout</option>',\n",
       " '<option>Kudlu Village, </option>',\n",
       " '<option>Rajiv Gandhi Nagar</option>',\n",
       " '<option>Kurubarahalli</option>',\n",
       " '<option>Sector 4 HSR Layout</option>',\n",
       " '<option>Bhagyalakshmi Avenue</option>',\n",
       " '<option>Kengeri Hobli</option>',\n",
       " '<option>Vyalikaval</option>',\n",
       " '<option>Banaswadi, </option>',\n",
       " '<option>Balaji Gardens Layout</option>',\n",
       " '<option>Thavarekere</option>',\n",
       " '<option>HAL 2nd Stage</option>',\n",
       " '<option> Devarabeesana Halli</option>',\n",
       " '<option> Rachenahalli</option>',\n",
       " '<option>Tippenahalli</option>',\n",
       " '<option>Prestige Sunrise</option>',\n",
       " '<option>1st Stage Indira Nagar</option>',\n",
       " '<option>Srigandada Kaval</option>',\n",
       " '<option>Viswajit Layout</option>',\n",
       " '<option>Adityanagar</option>',\n",
       " '<option>BDS Layout</option>',\n",
       " '<option>Shanthi Layout</option>',\n",
       " '<option>Esther Enclave Layout</option>',\n",
       " '<option>Volagerekallahalli</option>',\n",
       " '<option>Keerthi Layout</option>',\n",
       " '<option>Ganga Nagar Extension</option>',\n",
       " '<option>Shikaripalya</option>',\n",
       " '<option>Huttanahalli</option>',\n",
       " '<option>Reliable Woods Layout</option>',\n",
       " '<option>4th T block Jayanagar</option>',\n",
       " '<option>Nayandanahalli</option>',\n",
       " '<option>Hagadur</option>',\n",
       " '<option>Popular Colony</option>',\n",
       " '<option>Soundarya Layout</option>',\n",
       " '<option>Banashankari 6th Stage ,Subramanyapura</option>',\n",
       " '<option>Amarjyothi Colony</option>',\n",
       " '<option>Pattanagere</option>',\n",
       " '<option>Dollars Layout</option>',\n",
       " '<option>Chikkabettahalli</option>',\n",
       " '<option>Bhuvaneswari Nagar</option>',\n",
       " '<option>Varanasi</option>',\n",
       " '<option>Gopal Reddy Layout</option>',\n",
       " '<option>sankeswari</option>',\n",
       " '<option>T c palya</option>',\n",
       " '<option>Govindraja Nagar</option>',\n",
       " '<option>Virat Nagar</option>',\n",
       " '<option>Chennammanakere Achukattu</option>',\n",
       " '<option>Maragondana Halli, kr puram, old madras road</option>',\n",
       " '<option>Dhanalakshmi Layout</option>',\n",
       " '<option>Jp nagar 8th Phase .</option>',\n",
       " '<option>Nobo Nagar</option>',\n",
       " '<option>Kanakapura Road</option>',\n",
       " '<option>Kadubeesanahalli</option>',\n",
       " '<option>J P Nagar 7th Phase Ramayya City</option>',\n",
       " '<option>Green Domain Layout</option>',\n",
       " '<option>Cleveland Town</option>',\n",
       " '<option>Syndicate Bank Colony</option>',\n",
       " '<option>Off Sarjapur road, </option>',\n",
       " '<option>M C Layout</option>',\n",
       " '<option>Nanjappa Layout</option>',\n",
       " '<option>Dodda Banaswadi</option>',\n",
       " '<option>BEL Layout</option>',\n",
       " '<option>Sri Kanteshwara Nagar</option>',\n",
       " '<option>Bellari Road</option>',\n",
       " '<option>Jyothi Nagar</option>',\n",
       " '<option>Tata Nagar</option>',\n",
       " '<option>RK Layout 2nd Stage</option>',\n",
       " '<option>Tirumanahalli</option>',\n",
       " '<option>Raghuvanahalli</option>',\n",
       " '<option>Geddalahalli</option>',\n",
       " '<option>Brindavan Nagar</option>',\n",
       " '<option>Mariyannapalya</option>',\n",
       " '<option>Palace Road</option>',\n",
       " '<option>Pulikeshi Nagar</option>',\n",
       " '<option>Domlur Layout</option>',\n",
       " '<option>Vijaya Bank Layout</option>',\n",
       " '<option>Narayanappa Layout</option>',\n",
       " '<option>1Hanuman Nagar</option>',\n",
       " '<option>Wilson Garden</option>',\n",
       " '<option>Kumbhena Agrahara</option>',\n",
       " '<option>Challaghatta</option>',\n",
       " '<option>Nyanappana Halli</option>',\n",
       " '<option>Indira Nagar 3rd Stage</option>',\n",
       " '<option>KR Garden</option>',\n",
       " '<option>Kanakadasa Layout</option>',\n",
       " '<option>Mallathahalli</option>',\n",
       " '<option>Jayamahal Extension</option>',\n",
       " '<option>Laxminarayana Layout</option>',\n",
       " '<option>Sahyadri Layout</option>',\n",
       " '<option>Mathikere SBM colony</option>',\n",
       " '<option>white field,kadugodi</option>',\n",
       " '<option>Bagalur</option>',\n",
       " '<option>Vinayak Nagar</option>',\n",
       " '<option>P Krishnappa Layout</option>',\n",
       " '<option>Crimson Layout</option>',\n",
       " '<option>Hanumantha Nagar</option>',\n",
       " '<option>Bagalakunte</option>',\n",
       " '<option>Lavelle Road</option>',\n",
       " '<option>Goraguntepalya</option>',\n",
       " '<option>Rajankunte</option>',\n",
       " '<option>6th Block Rajaji Nagar</option>',\n",
       " '<option>MLA Layout</option>',\n",
       " '<option>Koramangala Industrial Layout</option>',\n",
       " '<option>Kyalasanahalli</option>',\n",
       " '<option>Nagadevanahalli</option>',\n",
       " '<option>Madiwala</option>',\n",
       " '<option>Rajarajeshwari Nagara</option>',\n",
       " '<option>Celebrity Paradise Layout</option>',\n",
       " '<option>St Thomas Town</option>',\n",
       " '<option>Ckikkakammana Halli</option>',\n",
       " '<option>Banashankari 2nd Stage</option>',\n",
       " '<option>Munivenkatppa Layout</option>',\n",
       " '<option>Kamala Nagar</option>',\n",
       " '<option>Kumarapalli</option>',\n",
       " '<option>Marenahalli</option>',\n",
       " '<option>Nagawara Junction</option>',\n",
       " '<option>Maithri Layout</option>',\n",
       " '<option>Raja Rajeshwari Nagar 5th Stage</option>',\n",
       " '<option>Nanjappa Garden</option>',\n",
       " '<option>Vayunandana Layout</option>',\n",
       " '<option>Geetanjali Layout</option>',\n",
       " '<option>Kenchenhalli</option>',\n",
       " '<option>EPIP AREA, WHITEFIELD</option>',\n",
       " '<option>1st Stage Domlur</option>',\n",
       " '<option>RMV extension stage 2, rmv extension</option>',\n",
       " '<option>Kalhalli</option>',\n",
       " '<option>Hadosiddapura</option>',\n",
       " '<option>Vijaya Bank Colony</option>',\n",
       " '<option>Lakkasandra</option>',\n",
       " '<option>JP Nagar 8th Phase, </option>',\n",
       " '<option>Kachanayakanahalli</option>',\n",
       " '<option>Nagaraja Garden</option>',\n",
       " '<option>1 Annasandrapalya</option>',\n",
       " '<option>6th block Koramangala</option>',\n",
       " '<option>JP nagar 9th Phase, </option>',\n",
       " '<option>4th Block Jayanagar</option>',\n",
       " '<option>Kuvempu Nagar</option>',\n",
       " '<option>Karnataka Shabarimala</option>',\n",
       " '<option>Canara Bank Colony</option>',\n",
       " '<option>Hanumagiri</option>',\n",
       " '<option>Seshadripuram</option>',\n",
       " '<option>Akshayanagara West</option>',\n",
       " '<option>Prasanth Extension</option>',\n",
       " '<option>Chikkathoguru</option>',\n",
       " '<option>Anand nagar</option>',\n",
       " '<option>West of Chord Road</option>',\n",
       " '<option>Junnasandra</option>',\n",
       " '<option>Handenahalli</option>',\n",
       " '<option>manyata tech park</option>',\n",
       " '<option>Sarvabhouma Nagar</option>',\n",
       " '<option>SMV layout</option>',\n",
       " '<option>CQAL LAYOUT C BLOCK</option>',\n",
       " '<option>Near Electronic City, </option>',\n",
       " '<option>Banashankari stage 2</option>',\n",
       " '<option>Doddanakundi Industrial Area 2</option>',\n",
       " '<option>OLd Gurappanapalya</option>',\n",
       " '<option>Chikkadunnasandra</option>',\n",
       " '<option>Indranagar  100ft road defence colony</option>',\n",
       " '<option>Wajid layout thanisandra</option>',\n",
       " '<option>Achins Road</option>',\n",
       " '<option>Uvce Layout</option>',\n",
       " '<option>Gattigere</option>',\n",
       " '<option>Cottonpet</option>',\n",
       " '<option>singapura paradise</option>',\n",
       " '<option>Kannur</option>',\n",
       " '<option>Sampangi Rama Nagar</option>',\n",
       " '<option>BEML Layout 5th stage</option>',\n",
       " '<option>Pragathi Nagar</option>',\n",
       " '<option>Ramesh Nagar</option>',\n",
       " '<option>A Narayanapura</option>',\n",
       " '<option>Amblipura</option>',\n",
       " '<option>Rajarajeshwari nagar</option>',\n",
       " '<option>Rajarajeshwarinagar</option>',\n",
       " '<option>Jinkethimmanahalli</option>',\n",
       " '<option>Vimanapura</option>',\n",
       " '<option>1st Stage Radha Krishna Layout</option>',\n",
       " '<option>Bapuji Layout</option>',\n",
       " '<option>Vasantapura main road</option>',\n",
       " '<option>CQAL Layout</option>',\n",
       " '<option>Venugopal Reddy Layout</option>',\n",
       " '<option>Lake City</option>',\n",
       " '<option>Lakshmipura</option>',\n",
       " '<option>Old Town</option>',\n",
       " '<option>Okalipura</option>',\n",
       " '<option>Maruthi Extension</option>',\n",
       " '<option>Vidyapeeta</option>',\n",
       " '<option>Meenakshi Layout</option>',\n",
       " '<option>S R Layout</option>',\n",
       " '<option>GD Layout</option>',\n",
       " '<option>Kithaganur</option>',\n",
       " '<option>Shirdi Sai Nagar</option>',\n",
       " '<option>JP Nagar 7th Phase, </option>',\n",
       " '<option>J C Nagar</option>',\n",
       " '<option>Sadduguntepalya</option>',\n",
       " '<option>Doddakammanahalli</option>',\n",
       " '<option>Bidrahalli</option>',\n",
       " '<option>Medi Agrahara</option>',\n",
       " '<option>whitefiled</option>',\n",
       " '<option>Subbannaiah Palya</option>',\n",
       " '<option>N R Layout</option>',\n",
       " '<option>Richards Town</option>',\n",
       " '<option>Manorayana Palya</option>',\n",
       " '<option>Madanayakahalli</option>',\n",
       " '<option>Mahalakshmi Puram</option>',\n",
       " '<option>Jaladarsini Layout</option>',\n",
       " '<option>Attur Layout</option>',\n",
       " '<option>Brooke Bond First Cross</option>',\n",
       " '<option>Glass Factory Layout</option>',\n",
       " '<option>Milk Colony</option>',\n",
       " '<option>Basnashankari,6th stage,</option>',\n",
       " '<option>Near ullas theater</option>',\n",
       " '<option>Chikkakannalli</option>',\n",
       " '<option>Yeshwanthpur Industrial Suburb</option>',\n",
       " '<option>Nandi Hills</option>',\n",
       " '<option>Thanisandra main road</option>',\n",
       " '<option>Saptagiri Layout</option>',\n",
       " '<option>Doddabanahalli</option>',\n",
       " '<option> Electronic City</option>',\n",
       " '<option>Vijayabank bank layout</option>',\n",
       " '<option>D Group Employees Layout</option>',\n",
       " '<option>Hosahalli Extension</option>',\n",
       " '<option>1Channasandra</option>',\n",
       " '<option>Whitefield, </option>',\n",
       " '<option>Kempegowda Nagar</option>',\n",
       " '<option>Vaderahalli</option>',\n",
       " '<option>4th Phase JP Nagar</option>',\n",
       " '<option>K R C kothanur</option>',\n",
       " '<option>2nd Block Jayanagar</option>',\n",
       " '<option>Singanayakanahalli</option>',\n",
       " '<option>Udaya Nagar</option>',\n",
       " '<option> Whitefield</option>',\n",
       " '<option>Vaishnavi Layout</option>',\n",
       " '<option>Housing Board Layout Vijay Nagar</option>',\n",
       " '<option>Thomas Town</option>',\n",
       " '<option>Manganahalli</option>',\n",
       " '<option>Indra Nagar</option>',\n",
       " '<option>t.c palya</option>',\n",
       " '<option>Ilyas Nagar</option>',\n",
       " '<option>3rd Phase JP Nagar</option>',\n",
       " '<option>kanakapura main road</option>',\n",
       " '<option>Reliaable Tranquil Layout</option>',\n",
       " '<option>Mailasandra</option>',\n",
       " '<option>Basvasamithi Layout Vidyaranyapura</option>',\n",
       " '<option>8th Block Jayanagar</option>',\n",
       " '<option>Atmananda Colony</option>',\n",
       " '<option>Baba Nagar</option>',\n",
       " '<option>Badrappa Layout</option>',\n",
       " '<option>Lal Bahadur Shastri Nagar</option>',\n",
       " '<option>Puttappa Layout</option>',\n",
       " '<option>Ananthanagar Phase 1,Electronic City , phase 2</option>',\n",
       " '<option>Bethel Nagar</option>',\n",
       " '<option>Kirloskar Layout</option>',\n",
       " '<option>tc.palya</option>',\n",
       " '<option>Dollar Scheme Colony</option>',\n",
       " '<option>Omarbagh Layout</option>',\n",
       " '<option>anjananager magdi road</option>',\n",
       " '<option>Kodipalya</option>',\n",
       " '<option>Aishwarya Crystal Layout</option>',\n",
       " '<option>DUO Layout</option>',\n",
       " '<option>Srinivas Colony</option>',\n",
       " '<option>Moodalapalya</option>',\n",
       " '<option>Gokaula Extension</option>',\n",
       " '<option>Subash Nagar</option>',\n",
       " '<option>RTO ullalu</option>',\n",
       " '<option>Carmelaram</option>',\n",
       " '<option>Hennur Bande</option>',\n",
       " '<option>ravindra nagar, T.dasarahalli peenya</option>',\n",
       " '<option>1st Block BEL Layout</option>',\n",
       " '<option>Prakruthi Township</option>',\n",
       " '<option>Bennigana Halli</option>',\n",
       " '<option>Seethappa Layout</option>',\n",
       " '<option>Langford Gardens</option>',\n",
       " '<option>Bellandur, </option>',\n",
       " '<option>Marasandra</option>',\n",
       " '<option>Kalkere Channasandra</option>',\n",
       " '<option>Shakthi Nagar</option>',\n",
       " '<option>Ullal Uppanagar</option>',\n",
       " '<option> south</option>',\n",
       " '<option>Rainbow Drive</option>',\n",
       " '<option>3rd Block Koramangala</option>',\n",
       " '<option>Jakkasandra Extension</option>',\n",
       " '<option>Ganesha Block</option>',\n",
       " '<option>Malur Hosur Road</option>',\n",
       " '<option>Lakshmipura Vidyaanyapura</option>',\n",
       " '<option>Hegganahalli</option>',\n",
       " '<option>Rajanna Layout</option>',\n",
       " '<option>Nagarbhavi  BDA Complex</option>',\n",
       " '<option>Gidada Konnenahalli</option>',\n",
       " '<option>Rahat Bagh</option>',\n",
       " '<option>Escorts Colony</option>',\n",
       " '<option>asha township, off hennur road</option>',\n",
       " '<option>1A Block Koramangala</option>',\n",
       " '<option>Near International Airport</option>',\n",
       " '<option>NTI Layout</option>',\n",
       " '<option>Fraser town</option>',\n",
       " '<option>Dasappa Layout</option>',\n",
       " '<option>Sonam Layout</option>',\n",
       " '<option>CR Layout</option>',\n",
       " '<option>BTM 4th Stage</option>',\n",
       " '<option>Arekempanahalli</option>',\n",
       " '<option>Chamundi Nagar</option>',\n",
       " '<option>MRCR Layout</option>',\n",
       " '<option>Shettihalli</option>',\n",
       " '<option>Gangondanahalli</option>',\n",
       " '<option>Ullal Road</option>',\n",
       " '<option>Hullahalli</option>',\n",
       " '<option>Jagajyothi layout</option>',\n",
       " '<option>Lakkasandra Extension</option>',\n",
       " '<option>Krishna Reddy Layout</option>',\n",
       " '<option>Kuvempu Layout</option>',\n",
       " '<option>Chickpet</option>',\n",
       " '<option>T G extension</option>',\n",
       " '<option>2nd Block Koramangala</option>',\n",
       " '<option>Devi Nagar</option>',\n",
       " '<option>GKW Layout</option>',\n",
       " '<option>Gandhi Nagar</option>',\n",
       " '<option>Jnana Ganga Nagar</option>',\n",
       " '<option>rr nagar</option>',\n",
       " '<option>Harohalli</option>',\n",
       " '<option>Stage-4 Bommanahalli</option>',\n",
       " '<option>Venkateshpuram</option>',\n",
       " '<option>Judicial Layout, Kanakapura Road, </option>',\n",
       " '<option>Mullur</option>',\n",
       " '<option>J.P.nagar 6th Phase.Sarakki Nagar</option>',\n",
       " '<option>Doddabele</option>',\n",
       " '<option>Sadahalli</option>',\n",
       " '<option>Sathya Layout</option>',\n",
       " '<option>5 Bedroom Farm House in Lakshmipura</option>',\n",
       " '<option>Shanti Nagar</option>',\n",
       " '<option>2nd Stage Arekere Mico Layout</option>',\n",
       " '<option>Jayamahal</option>',\n",
       " '<option>Veer Sandra</option>',\n",
       " '<option>Chennappa Layout</option>',\n",
       " '<option>RMV Extension Stage 2</option>',\n",
       " ...]"
      ]
     },
     "execution_count": 60,
     "metadata": {},
     "output_type": "execute_result"
    }
   ],
   "source": [
    "l1"
   ]
  },
  {
   "cell_type": "code",
   "execution_count": 1,
   "metadata": {},
   "outputs": [
    {
     "ename": "FileNotFoundError",
     "evalue": "[Errno 2] No such file or directory: 'Models/House Prize model.pkl'",
     "output_type": "error",
     "traceback": [
      "\u001b[1;31m---------------------------------------------------------------------------\u001b[0m",
      "\u001b[1;31mFileNotFoundError\u001b[0m                         Traceback (most recent call last)",
      "Cell \u001b[1;32mIn[1], line 4\u001b[0m\n\u001b[0;32m      1\u001b[0m \u001b[38;5;28;01mfrom\u001b[39;00m \u001b[38;5;21;01mflask\u001b[39;00m \u001b[38;5;28;01mimport\u001b[39;00m Flask,render_template,request\n\u001b[0;32m      2\u001b[0m \u001b[38;5;28;01mimport\u001b[39;00m \u001b[38;5;21;01mpickle\u001b[39;00m\n\u001b[1;32m----> 4\u001b[0m elasticnet\u001b[38;5;241m=\u001b[39mpickle\u001b[38;5;241m.\u001b[39mload(\u001b[38;5;28;43mopen\u001b[39;49m\u001b[43m(\u001b[49m\u001b[38;5;124;43m\"\u001b[39;49m\u001b[38;5;124;43mModels/House Prize model.pkl\u001b[39;49m\u001b[38;5;124;43m\"\u001b[39;49m\u001b[43m,\u001b[49m\u001b[38;5;124;43m'\u001b[39;49m\u001b[38;5;124;43mrb\u001b[39;49m\u001b[38;5;124;43m'\u001b[39;49m\u001b[43m)\u001b[49m)\n\u001b[0;32m      5\u001b[0m scaler\u001b[38;5;241m=\u001b[39mpickle\u001b[38;5;241m.\u001b[39mload(\u001b[38;5;28mopen\u001b[39m(\u001b[38;5;124m\"\u001b[39m\u001b[38;5;124mModels/House Price scaler.pkl\u001b[39m\u001b[38;5;124m\"\u001b[39m,\u001b[38;5;124m'\u001b[39m\u001b[38;5;124mrb\u001b[39m\u001b[38;5;124m'\u001b[39m))\n",
      "File \u001b[1;32m~\\AppData\\Local\\Packages\\PythonSoftwareFoundation.Python.3.11_qbz5n2kfra8p0\\LocalCache\\local-packages\\Python311\\site-packages\\IPython\\core\\interactiveshell.py:284\u001b[0m, in \u001b[0;36m_modified_open\u001b[1;34m(file, *args, **kwargs)\u001b[0m\n\u001b[0;32m    277\u001b[0m \u001b[38;5;28;01mif\u001b[39;00m file \u001b[38;5;129;01min\u001b[39;00m {\u001b[38;5;241m0\u001b[39m, \u001b[38;5;241m1\u001b[39m, \u001b[38;5;241m2\u001b[39m}:\n\u001b[0;32m    278\u001b[0m     \u001b[38;5;28;01mraise\u001b[39;00m \u001b[38;5;167;01mValueError\u001b[39;00m(\n\u001b[0;32m    279\u001b[0m         \u001b[38;5;124mf\u001b[39m\u001b[38;5;124m\"\u001b[39m\u001b[38;5;124mIPython won\u001b[39m\u001b[38;5;124m'\u001b[39m\u001b[38;5;124mt let you open fd=\u001b[39m\u001b[38;5;132;01m{\u001b[39;00mfile\u001b[38;5;132;01m}\u001b[39;00m\u001b[38;5;124m by default \u001b[39m\u001b[38;5;124m\"\u001b[39m\n\u001b[0;32m    280\u001b[0m         \u001b[38;5;124m\"\u001b[39m\u001b[38;5;124mas it is likely to crash IPython. If you know what you are doing, \u001b[39m\u001b[38;5;124m\"\u001b[39m\n\u001b[0;32m    281\u001b[0m         \u001b[38;5;124m\"\u001b[39m\u001b[38;5;124myou can use builtins\u001b[39m\u001b[38;5;124m'\u001b[39m\u001b[38;5;124m open.\u001b[39m\u001b[38;5;124m\"\u001b[39m\n\u001b[0;32m    282\u001b[0m     )\n\u001b[1;32m--> 284\u001b[0m \u001b[38;5;28;01mreturn\u001b[39;00m \u001b[43mio_open\u001b[49m\u001b[43m(\u001b[49m\u001b[43mfile\u001b[49m\u001b[43m,\u001b[49m\u001b[43m \u001b[49m\u001b[38;5;241;43m*\u001b[39;49m\u001b[43margs\u001b[49m\u001b[43m,\u001b[49m\u001b[43m \u001b[49m\u001b[38;5;241;43m*\u001b[39;49m\u001b[38;5;241;43m*\u001b[39;49m\u001b[43mkwargs\u001b[49m\u001b[43m)\u001b[49m\n",
      "\u001b[1;31mFileNotFoundError\u001b[0m: [Errno 2] No such file or directory: 'Models/House Prize model.pkl'"
     ]
    }
   ],
   "source": [
    "from flask import Flask,render_template,request\n",
    "import pickle\n",
    "\n",
    "elasticnet=pickle.load(open(\"Models/House Prize model.pkl\",'rb'))\n",
    "scaler=pickle.load(open(\"Models/House Price scaler.pkl\",'rb'))\n"
   ]
  },
  {
   "cell_type": "code",
   "execution_count": 2,
   "metadata": {},
   "outputs": [],
   "source": [
    "import os\n"
   ]
  },
  {
   "cell_type": "code",
   "execution_count": 7,
   "metadata": {},
   "outputs": [],
   "source": [
    "elastic=pickle.load(open(\"Models\\model.pkl\",\"rb\"))"
   ]
  },
  {
   "cell_type": "code",
   "execution_count": 3,
   "metadata": {},
   "outputs": [
    {
     "data": {
      "text/plain": [
       "2"
      ]
     },
     "execution_count": 3,
     "metadata": {},
     "output_type": "execute_result"
    }
   ],
   "source": [
    "b=1\n",
    "c=2\n",
    "d=3\n",
    "a=(b,c,d)\n",
    "a[b]"
   ]
  },
  {
   "cell_type": "code",
   "execution_count": 5,
   "metadata": {},
   "outputs": [],
   "source": [
    "import pandas as pd"
   ]
  },
  {
   "cell_type": "code",
   "execution_count": 7,
   "metadata": {},
   "outputs": [],
   "source": [
    "df=pd.read_csv(r\"C:\\Users\\hp\\Desktop\\CODING\\Machine Learning\\ML_module_2\\Mini_Project\\EDA\\updated_bang_data.csv\")"
   ]
  },
  {
   "cell_type": "code",
   "execution_count": 8,
   "metadata": {},
   "outputs": [
    {
     "data": {
      "text/html": [
       "<div>\n",
       "<style scoped>\n",
       "    .dataframe tbody tr th:only-of-type {\n",
       "        vertical-align: middle;\n",
       "    }\n",
       "\n",
       "    .dataframe tbody tr th {\n",
       "        vertical-align: top;\n",
       "    }\n",
       "\n",
       "    .dataframe thead th {\n",
       "        text-align: right;\n",
       "    }\n",
       "</style>\n",
       "<table border=\"1\" class=\"dataframe\">\n",
       "  <thead>\n",
       "    <tr style=\"text-align: right;\">\n",
       "      <th></th>\n",
       "      <th>Unnamed: 0</th>\n",
       "      <th>location</th>\n",
       "      <th>size</th>\n",
       "      <th>total_sqft</th>\n",
       "      <th>bath</th>\n",
       "      <th>balcony</th>\n",
       "      <th>price</th>\n",
       "    </tr>\n",
       "  </thead>\n",
       "  <tbody>\n",
       "    <tr>\n",
       "      <th>0</th>\n",
       "      <td>0</td>\n",
       "      <td>Electronic City Phase II</td>\n",
       "      <td>2 BHK</td>\n",
       "      <td>1056.0</td>\n",
       "      <td>2.0</td>\n",
       "      <td>1.0</td>\n",
       "      <td>39.07</td>\n",
       "    </tr>\n",
       "    <tr>\n",
       "      <th>1</th>\n",
       "      <td>1</td>\n",
       "      <td>Chikka Tirupathi</td>\n",
       "      <td>4 Bedroom</td>\n",
       "      <td>2600.0</td>\n",
       "      <td>5.0</td>\n",
       "      <td>3.0</td>\n",
       "      <td>120.00</td>\n",
       "    </tr>\n",
       "    <tr>\n",
       "      <th>2</th>\n",
       "      <td>2</td>\n",
       "      <td>Uttarahalli</td>\n",
       "      <td>3 BHK</td>\n",
       "      <td>1440.0</td>\n",
       "      <td>2.0</td>\n",
       "      <td>3.0</td>\n",
       "      <td>62.00</td>\n",
       "    </tr>\n",
       "  </tbody>\n",
       "</table>\n",
       "</div>"
      ],
      "text/plain": [
       "   Unnamed: 0                  location       size  total_sqft  bath  balcony  \\\n",
       "0           0  Electronic City Phase II      2 BHK      1056.0   2.0      1.0   \n",
       "1           1          Chikka Tirupathi  4 Bedroom      2600.0   5.0      3.0   \n",
       "2           2               Uttarahalli      3 BHK      1440.0   2.0      3.0   \n",
       "\n",
       "    price  \n",
       "0   39.07  \n",
       "1  120.00  \n",
       "2   62.00  "
      ]
     },
     "execution_count": 8,
     "metadata": {},
     "output_type": "execute_result"
    }
   ],
   "source": [
    "df.head(3)"
   ]
  },
  {
   "cell_type": "code",
   "execution_count": 9,
   "metadata": {},
   "outputs": [
    {
     "data": {
      "text/plain": [
       "Unnamed: 0    0\n",
       "location      0\n",
       "size          0\n",
       "total_sqft    0\n",
       "bath          0\n",
       "balcony       0\n",
       "price         0\n",
       "dtype: int64"
      ]
     },
     "execution_count": 9,
     "metadata": {},
     "output_type": "execute_result"
    }
   ],
   "source": [
    "df.isna().sum()"
   ]
  },
  {
   "cell_type": "code",
   "execution_count": 10,
   "metadata": {},
   "outputs": [
    {
     "data": {
      "text/plain": [
       "Unnamed: 0      int64\n",
       "location       object\n",
       "size           object\n",
       "total_sqft    float64\n",
       "bath          float64\n",
       "balcony       float64\n",
       "price         float64\n",
       "dtype: object"
      ]
     },
     "execution_count": 10,
     "metadata": {},
     "output_type": "execute_result"
    }
   ],
   "source": [
    "df.dtypes"
   ]
  },
  {
   "cell_type": "code",
   "execution_count": 14,
   "metadata": {},
   "outputs": [
    {
     "data": {
      "text/html": [
       "<div>\n",
       "<style scoped>\n",
       "    .dataframe tbody tr th:only-of-type {\n",
       "        vertical-align: middle;\n",
       "    }\n",
       "\n",
       "    .dataframe tbody tr th {\n",
       "        vertical-align: top;\n",
       "    }\n",
       "\n",
       "    .dataframe thead th {\n",
       "        text-align: right;\n",
       "    }\n",
       "</style>\n",
       "<table border=\"1\" class=\"dataframe\">\n",
       "  <thead>\n",
       "    <tr style=\"text-align: right;\">\n",
       "      <th></th>\n",
       "      <th>Unnamed: 0</th>\n",
       "      <th>total_sqft</th>\n",
       "      <th>bath</th>\n",
       "      <th>balcony</th>\n",
       "      <th>price</th>\n",
       "      <th>location_encode</th>\n",
       "      <th>size_encode</th>\n",
       "    </tr>\n",
       "  </thead>\n",
       "  <tbody>\n",
       "    <tr>\n",
       "      <th>0</th>\n",
       "      <td>0</td>\n",
       "      <td>1056.0</td>\n",
       "      <td>2.0</td>\n",
       "      <td>1.0</td>\n",
       "      <td>39.07</td>\n",
       "      <td>132</td>\n",
       "      <td>5199</td>\n",
       "    </tr>\n",
       "    <tr>\n",
       "      <th>1</th>\n",
       "      <td>1</td>\n",
       "      <td>2600.0</td>\n",
       "      <td>5.0</td>\n",
       "      <td>3.0</td>\n",
       "      <td>120.00</td>\n",
       "      <td>17</td>\n",
       "      <td>826</td>\n",
       "    </tr>\n",
       "    <tr>\n",
       "      <th>2</th>\n",
       "      <td>2</td>\n",
       "      <td>1440.0</td>\n",
       "      <td>2.0</td>\n",
       "      <td>3.0</td>\n",
       "      <td>62.00</td>\n",
       "      <td>186</td>\n",
       "      <td>4309</td>\n",
       "    </tr>\n",
       "  </tbody>\n",
       "</table>\n",
       "</div>"
      ],
      "text/plain": [
       "   Unnamed: 0  total_sqft  bath  balcony   price  location_encode  size_encode\n",
       "0           0      1056.0   2.0      1.0   39.07              132         5199\n",
       "1           1      2600.0   5.0      3.0  120.00               17          826\n",
       "2           2      1440.0   2.0      3.0   62.00              186         4309"
      ]
     },
     "execution_count": 14,
     "metadata": {},
     "output_type": "execute_result"
    }
   ],
   "source": [
    "df_final=pd.read_csv(r\"C:\\Users\\hp\\Desktop\\CODING\\Machine Learning\\ML_module_2\\Mini_Project\\EDA\\final_dataset_house price.csv\")\n",
    "df_final.head(3)"
   ]
  },
  {
   "cell_type": "code",
   "execution_count": 16,
   "metadata": {},
   "outputs": [],
   "source": [
    "df['location_encode']=df_final['location_encode']\n",
    "df['size_encode']=df_final['size_encode']\n"
   ]
  },
  {
   "cell_type": "code",
   "execution_count": 17,
   "metadata": {},
   "outputs": [],
   "source": [
    "df.to_csv(\"dfwith encode.csv\")"
   ]
  },
  {
   "cell_type": "code",
   "execution_count": 18,
   "metadata": {},
   "outputs": [
    {
     "data": {
      "text/html": [
       "<div>\n",
       "<style scoped>\n",
       "    .dataframe tbody tr th:only-of-type {\n",
       "        vertical-align: middle;\n",
       "    }\n",
       "\n",
       "    .dataframe tbody tr th {\n",
       "        vertical-align: top;\n",
       "    }\n",
       "\n",
       "    .dataframe thead th {\n",
       "        text-align: right;\n",
       "    }\n",
       "</style>\n",
       "<table border=\"1\" class=\"dataframe\">\n",
       "  <thead>\n",
       "    <tr style=\"text-align: right;\">\n",
       "      <th></th>\n",
       "      <th>Unnamed: 0</th>\n",
       "      <th>location</th>\n",
       "      <th>size</th>\n",
       "      <th>total_sqft</th>\n",
       "      <th>bath</th>\n",
       "      <th>balcony</th>\n",
       "      <th>price</th>\n",
       "      <th>location_encode</th>\n",
       "      <th>size_encode</th>\n",
       "    </tr>\n",
       "  </thead>\n",
       "  <tbody>\n",
       "    <tr>\n",
       "      <th>0</th>\n",
       "      <td>0</td>\n",
       "      <td>Electronic City Phase II</td>\n",
       "      <td>2 BHK</td>\n",
       "      <td>1056.0</td>\n",
       "      <td>2.0</td>\n",
       "      <td>1.0</td>\n",
       "      <td>39.07</td>\n",
       "      <td>132</td>\n",
       "      <td>5199</td>\n",
       "    </tr>\n",
       "    <tr>\n",
       "      <th>1</th>\n",
       "      <td>1</td>\n",
       "      <td>Chikka Tirupathi</td>\n",
       "      <td>4 Bedroom</td>\n",
       "      <td>2600.0</td>\n",
       "      <td>5.0</td>\n",
       "      <td>3.0</td>\n",
       "      <td>120.00</td>\n",
       "      <td>17</td>\n",
       "      <td>826</td>\n",
       "    </tr>\n",
       "    <tr>\n",
       "      <th>2</th>\n",
       "      <td>2</td>\n",
       "      <td>Uttarahalli</td>\n",
       "      <td>3 BHK</td>\n",
       "      <td>1440.0</td>\n",
       "      <td>2.0</td>\n",
       "      <td>3.0</td>\n",
       "      <td>62.00</td>\n",
       "      <td>186</td>\n",
       "      <td>4309</td>\n",
       "    </tr>\n",
       "  </tbody>\n",
       "</table>\n",
       "</div>"
      ],
      "text/plain": [
       "   Unnamed: 0                  location       size  total_sqft  bath  balcony  \\\n",
       "0           0  Electronic City Phase II      2 BHK      1056.0   2.0      1.0   \n",
       "1           1          Chikka Tirupathi  4 Bedroom      2600.0   5.0      3.0   \n",
       "2           2               Uttarahalli      3 BHK      1440.0   2.0      3.0   \n",
       "\n",
       "    price  location_encode  size_encode  \n",
       "0   39.07              132         5199  \n",
       "1  120.00               17          826  \n",
       "2   62.00              186         4309  "
      ]
     },
     "execution_count": 18,
     "metadata": {},
     "output_type": "execute_result"
    }
   ],
   "source": [
    "df.head(3)"
   ]
  },
  {
   "cell_type": "code",
   "execution_count": 19,
   "metadata": {},
   "outputs": [
    {
     "data": {
      "text/plain": [
       "Unnamed: 0         0\n",
       "location           0\n",
       "size               0\n",
       "total_sqft         0\n",
       "bath               0\n",
       "balcony            0\n",
       "price              0\n",
       "location_encode    0\n",
       "size_encode        0\n",
       "dtype: int64"
      ]
     },
     "execution_count": 19,
     "metadata": {},
     "output_type": "execute_result"
    }
   ],
   "source": [
    "df.isna().sum()"
   ]
  },
  {
   "cell_type": "code",
   "execution_count": 20,
   "metadata": {},
   "outputs": [],
   "source": [
    "# Get absolute path\n",
    "# base_dir = os.path.dirname(os.path.abspath(__file__))\n",
    "# model_path = os.path.join(base_dir, \"Models\", \"model.pkl\")\n",
    "# scaler_path = os.path.join(base_dir, \"Models\", \"scaler.pkl\")\n",
    "\n",
    "# Load files\n",
    "# elastic = pickle.load(open(model_path, \"rb\"))\n",
    "# scaler = pickle.load(open(scaler_path, \"rb\"))\n",
    "# print(base_dir)\n",
    "# print(model_path)\n",
    "# print(scaler_path)"
   ]
  },
  {
   "cell_type": "code",
   "execution_count": 21,
   "metadata": {},
   "outputs": [
    {
     "data": {
      "text/plain": [
       "23.03"
      ]
     },
     "execution_count": 21,
     "metadata": {},
     "output_type": "execute_result"
    }
   ],
   "source": [
    "float(23.03)"
   ]
  },
  {
   "cell_type": "code",
   "execution_count": 22,
   "metadata": {},
   "outputs": [
    {
     "data": {
      "text/html": [
       "<div>\n",
       "<style scoped>\n",
       "    .dataframe tbody tr th:only-of-type {\n",
       "        vertical-align: middle;\n",
       "    }\n",
       "\n",
       "    .dataframe tbody tr th {\n",
       "        vertical-align: top;\n",
       "    }\n",
       "\n",
       "    .dataframe thead th {\n",
       "        text-align: right;\n",
       "    }\n",
       "</style>\n",
       "<table border=\"1\" class=\"dataframe\">\n",
       "  <thead>\n",
       "    <tr style=\"text-align: right;\">\n",
       "      <th></th>\n",
       "      <th>Unnamed: 0</th>\n",
       "      <th>location</th>\n",
       "      <th>size</th>\n",
       "      <th>total_sqft</th>\n",
       "      <th>bath</th>\n",
       "      <th>balcony</th>\n",
       "      <th>price</th>\n",
       "      <th>location_encode</th>\n",
       "      <th>size_encode</th>\n",
       "    </tr>\n",
       "  </thead>\n",
       "  <tbody>\n",
       "    <tr>\n",
       "      <th>0</th>\n",
       "      <td>0</td>\n",
       "      <td>Electronic City Phase II</td>\n",
       "      <td>2 BHK</td>\n",
       "      <td>1056.0</td>\n",
       "      <td>2.0</td>\n",
       "      <td>1.0</td>\n",
       "      <td>39.07</td>\n",
       "      <td>132</td>\n",
       "      <td>5199</td>\n",
       "    </tr>\n",
       "    <tr>\n",
       "      <th>1</th>\n",
       "      <td>1</td>\n",
       "      <td>Chikka Tirupathi</td>\n",
       "      <td>4 Bedroom</td>\n",
       "      <td>2600.0</td>\n",
       "      <td>5.0</td>\n",
       "      <td>3.0</td>\n",
       "      <td>120.00</td>\n",
       "      <td>17</td>\n",
       "      <td>826</td>\n",
       "    </tr>\n",
       "    <tr>\n",
       "      <th>2</th>\n",
       "      <td>2</td>\n",
       "      <td>Uttarahalli</td>\n",
       "      <td>3 BHK</td>\n",
       "      <td>1440.0</td>\n",
       "      <td>2.0</td>\n",
       "      <td>3.0</td>\n",
       "      <td>62.00</td>\n",
       "      <td>186</td>\n",
       "      <td>4309</td>\n",
       "    </tr>\n",
       "  </tbody>\n",
       "</table>\n",
       "</div>"
      ],
      "text/plain": [
       "   Unnamed: 0                  location       size  total_sqft  bath  balcony  \\\n",
       "0           0  Electronic City Phase II      2 BHK      1056.0   2.0      1.0   \n",
       "1           1          Chikka Tirupathi  4 Bedroom      2600.0   5.0      3.0   \n",
       "2           2               Uttarahalli      3 BHK      1440.0   2.0      3.0   \n",
       "\n",
       "    price  location_encode  size_encode  \n",
       "0   39.07              132         5199  \n",
       "1  120.00               17          826  \n",
       "2   62.00              186         4309  "
      ]
     },
     "execution_count": 22,
     "metadata": {},
     "output_type": "execute_result"
    }
   ],
   "source": [
    "df.head(3)"
   ]
  },
  {
   "cell_type": "code",
   "execution_count": 23,
   "metadata": {},
   "outputs": [],
   "source": [
    "location_dict=df[['location','location_encode']].to_dict(\"split\")['data'] # imppppppp\n",
    "size_dict=df[['size','size_encode']].to_dict(\"split\")['data'] # imppppppppppppppp"
   ]
  },
  {
   "cell_type": "code",
   "execution_count": 25,
   "metadata": {},
   "outputs": [
    {
     "data": {
      "text/plain": [
       "(['Electronic City Phase II', 132], ['2 BHK', 5199])"
      ]
     },
     "execution_count": 25,
     "metadata": {},
     "output_type": "execute_result"
    }
   ],
   "source": [
    "location_dict[0],size_dict[0]"
   ]
  },
  {
   "cell_type": "code",
   "execution_count": null,
   "metadata": {},
   "outputs": [],
   "source": [
    "s=\"Abshot Layout\"\n",
    "for i in location_dict:\n",
    "    if i[0]==s:\n",
    "        break\n",
    "    s=i[1]"
   ]
  },
  {
   "cell_type": "code",
   "execution_count": 28,
   "metadata": {},
   "outputs": [],
   "source": [
    "for i in size_dict:\n",
    "    if i[0]=='2 BHK':\n",
    "        break\n",
    "    size_encode=i[1]"
   ]
  },
  {
   "cell_type": "code",
   "execution_count": 29,
   "metadata": {},
   "outputs": [
    {
     "data": {
      "text/plain": [
       "5199"
      ]
     },
     "execution_count": 29,
     "metadata": {},
     "output_type": "execute_result"
    }
   ],
   "source": [
    "size_encode"
   ]
  },
  {
   "cell_type": "code",
   "execution_count": null,
   "metadata": {},
   "outputs": [],
   "source": []
  },
  {
   "cell_type": "code",
   "execution_count": null,
   "metadata": {},
   "outputs": [],
   "source": []
  }
 ],
 "metadata": {
  "kernelspec": {
   "display_name": "Python 3",
   "language": "python",
   "name": "python3"
  },
  "language_info": {
   "codemirror_mode": {
    "name": "ipython",
    "version": 3
   },
   "file_extension": ".py",
   "mimetype": "text/x-python",
   "name": "python",
   "nbconvert_exporter": "python",
   "pygments_lexer": "ipython3",
   "version": "3.11.9"
  }
 },
 "nbformat": 4,
 "nbformat_minor": 2
}
